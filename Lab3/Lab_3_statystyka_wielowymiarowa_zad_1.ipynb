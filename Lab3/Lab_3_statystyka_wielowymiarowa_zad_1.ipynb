{
  "cells": [
    {
      "cell_type": "markdown",
      "metadata": {
        "id": "CDGQKi5Yknea"
      },
      "source": [
        "# **Biblioteki**"
      ]
    },
    {
      "cell_type": "code",
      "execution_count": 1,
      "metadata": {
        "id": "qhg-VaUHvmhS"
      },
      "outputs": [],
      "source": [
        "import pandas as pd\n",
        "import numpy as np\n",
        "import seaborn as sns\n",
        "import matplotlib.pyplot as plt\n",
        "import pingouin as pg\n",
        "\n",
        "from factor_analyzer.factor_analyzer import calculate_bartlett_sphericity\n",
        "from factor_analyzer.factor_analyzer import calculate_kmo\n",
        "from factor_analyzer import FactorAnalyzer"
      ]
    },
    {
      "cell_type": "markdown",
      "metadata": {
        "id": "7QInhJROl4lp"
      },
      "source": [
        "# **Przygotowanie danych**"
      ]
    },
    {
      "cell_type": "markdown",
      "metadata": {
        "id": "xI4okC9pCEoQ"
      },
      "source": [
        "Inspiracja do zadania pochodzi ze sttony Kaggle: https://www.kaggle.com/code/ipravin/factor-analysis-and-linear-programming/notebook"
      ]
    },
    {
      "cell_type": "markdown",
      "metadata": {
        "id": "V_6omBgMCgzh"
      },
      "source": [
        "**Jakie czynniki wpływają na satsysfakcję klienta ?**\n",
        "\n",
        "Dane dotyczą ocen poszczególnych czynników wpływających na satysfakcję klienta z usługi - skala oceny w każdym przypadku była taka sama (1-10)."
      ]
    },
    {
      "cell_type": "markdown",
      "metadata": {
        "id": "CDNzA-8DRrs0"
      },
      "source": [
        "**Dane:**\n",
        "\n",
        "ProdQual - jakość produktu,\n",
        "\n",
        "Ecom - e-commerce (handel elektroniczny),\n",
        "\n",
        "TechSup - pomoc techniczna,\n",
        "\n",
        "CompRes - rozstrzygnięcia reklamacji,\n",
        "\n",
        "Advertising\t- reklama,\n",
        "\n",
        "ProdLine - produkcja,\n",
        "  \n",
        "SalesFImage\t- wizerunek sprzedawcy,\n",
        "    \n",
        "ComPricing\t- konkurencyjność ceny,\n",
        "    \n",
        "WartyClaim - gwarancja i reklamacja,\n",
        "    \n",
        "OrdBilling - zamówienia i rachunki,\n",
        "      \n",
        "DelSpeed\t- szybkość dostawy,\n",
        "        \n",
        "Satisfaction - satysfakcja."
      ]
    },
    {
      "cell_type": "code",
      "execution_count": 2,
      "metadata": {
        "colab": {
          "base_uri": "https://localhost:8080/",
          "height": 423
        },
        "id": "ZvITvfgTGvrW",
        "outputId": "7ce461a1-c19b-422c-b72f-d2cb6acabe00"
      },
      "outputs": [
        {
          "data": {
            "text/html": [
              "<div>\n",
              "<style scoped>\n",
              "    .dataframe tbody tr th:only-of-type {\n",
              "        vertical-align: middle;\n",
              "    }\n",
              "\n",
              "    .dataframe tbody tr th {\n",
              "        vertical-align: top;\n",
              "    }\n",
              "\n",
              "    .dataframe thead th {\n",
              "        text-align: right;\n",
              "    }\n",
              "</style>\n",
              "<table border=\"1\" class=\"dataframe\">\n",
              "  <thead>\n",
              "    <tr style=\"text-align: right;\">\n",
              "      <th></th>\n",
              "      <th>ID</th>\n",
              "      <th>ProdQual</th>\n",
              "      <th>Ecom</th>\n",
              "      <th>TechSup</th>\n",
              "      <th>CompRes</th>\n",
              "      <th>Advertising</th>\n",
              "      <th>ProdLine</th>\n",
              "      <th>SalesFImage</th>\n",
              "      <th>ComPricing</th>\n",
              "      <th>WartyClaim</th>\n",
              "      <th>OrdBilling</th>\n",
              "      <th>DelSpeed</th>\n",
              "      <th>Satisfaction</th>\n",
              "    </tr>\n",
              "  </thead>\n",
              "  <tbody>\n",
              "    <tr>\n",
              "      <th>0</th>\n",
              "      <td>1</td>\n",
              "      <td>8.5</td>\n",
              "      <td>3.9</td>\n",
              "      <td>2.5</td>\n",
              "      <td>5.9</td>\n",
              "      <td>4.8</td>\n",
              "      <td>4.9</td>\n",
              "      <td>6.0</td>\n",
              "      <td>6.8</td>\n",
              "      <td>4.7</td>\n",
              "      <td>5.0</td>\n",
              "      <td>3.7</td>\n",
              "      <td>8.2</td>\n",
              "    </tr>\n",
              "    <tr>\n",
              "      <th>1</th>\n",
              "      <td>2</td>\n",
              "      <td>8.2</td>\n",
              "      <td>2.7</td>\n",
              "      <td>5.1</td>\n",
              "      <td>7.2</td>\n",
              "      <td>3.4</td>\n",
              "      <td>7.9</td>\n",
              "      <td>3.1</td>\n",
              "      <td>5.3</td>\n",
              "      <td>5.5</td>\n",
              "      <td>3.9</td>\n",
              "      <td>4.9</td>\n",
              "      <td>5.7</td>\n",
              "    </tr>\n",
              "    <tr>\n",
              "      <th>2</th>\n",
              "      <td>3</td>\n",
              "      <td>9.2</td>\n",
              "      <td>3.4</td>\n",
              "      <td>5.6</td>\n",
              "      <td>5.6</td>\n",
              "      <td>5.4</td>\n",
              "      <td>7.4</td>\n",
              "      <td>5.8</td>\n",
              "      <td>4.5</td>\n",
              "      <td>6.2</td>\n",
              "      <td>5.4</td>\n",
              "      <td>4.5</td>\n",
              "      <td>8.9</td>\n",
              "    </tr>\n",
              "    <tr>\n",
              "      <th>3</th>\n",
              "      <td>4</td>\n",
              "      <td>6.4</td>\n",
              "      <td>3.3</td>\n",
              "      <td>7.0</td>\n",
              "      <td>3.7</td>\n",
              "      <td>4.7</td>\n",
              "      <td>4.7</td>\n",
              "      <td>4.5</td>\n",
              "      <td>8.8</td>\n",
              "      <td>7.0</td>\n",
              "      <td>4.3</td>\n",
              "      <td>3.0</td>\n",
              "      <td>4.8</td>\n",
              "    </tr>\n",
              "    <tr>\n",
              "      <th>4</th>\n",
              "      <td>5</td>\n",
              "      <td>9.0</td>\n",
              "      <td>3.4</td>\n",
              "      <td>5.2</td>\n",
              "      <td>4.6</td>\n",
              "      <td>2.2</td>\n",
              "      <td>6.0</td>\n",
              "      <td>4.5</td>\n",
              "      <td>6.8</td>\n",
              "      <td>6.1</td>\n",
              "      <td>4.5</td>\n",
              "      <td>3.5</td>\n",
              "      <td>7.1</td>\n",
              "    </tr>\n",
              "    <tr>\n",
              "      <th>...</th>\n",
              "      <td>...</td>\n",
              "      <td>...</td>\n",
              "      <td>...</td>\n",
              "      <td>...</td>\n",
              "      <td>...</td>\n",
              "      <td>...</td>\n",
              "      <td>...</td>\n",
              "      <td>...</td>\n",
              "      <td>...</td>\n",
              "      <td>...</td>\n",
              "      <td>...</td>\n",
              "      <td>...</td>\n",
              "      <td>...</td>\n",
              "    </tr>\n",
              "    <tr>\n",
              "      <th>95</th>\n",
              "      <td>96</td>\n",
              "      <td>8.6</td>\n",
              "      <td>4.8</td>\n",
              "      <td>5.6</td>\n",
              "      <td>5.3</td>\n",
              "      <td>2.3</td>\n",
              "      <td>6.0</td>\n",
              "      <td>5.7</td>\n",
              "      <td>6.7</td>\n",
              "      <td>5.8</td>\n",
              "      <td>4.9</td>\n",
              "      <td>3.6</td>\n",
              "      <td>7.3</td>\n",
              "    </tr>\n",
              "    <tr>\n",
              "      <th>96</th>\n",
              "      <td>97</td>\n",
              "      <td>7.4</td>\n",
              "      <td>3.4</td>\n",
              "      <td>2.6</td>\n",
              "      <td>5.0</td>\n",
              "      <td>4.1</td>\n",
              "      <td>4.4</td>\n",
              "      <td>4.8</td>\n",
              "      <td>7.2</td>\n",
              "      <td>4.5</td>\n",
              "      <td>4.2</td>\n",
              "      <td>3.7</td>\n",
              "      <td>6.3</td>\n",
              "    </tr>\n",
              "    <tr>\n",
              "      <th>97</th>\n",
              "      <td>98</td>\n",
              "      <td>8.7</td>\n",
              "      <td>3.2</td>\n",
              "      <td>3.3</td>\n",
              "      <td>3.2</td>\n",
              "      <td>3.1</td>\n",
              "      <td>6.1</td>\n",
              "      <td>2.9</td>\n",
              "      <td>5.6</td>\n",
              "      <td>5.0</td>\n",
              "      <td>3.1</td>\n",
              "      <td>2.5</td>\n",
              "      <td>5.4</td>\n",
              "    </tr>\n",
              "    <tr>\n",
              "      <th>98</th>\n",
              "      <td>99</td>\n",
              "      <td>7.8</td>\n",
              "      <td>4.9</td>\n",
              "      <td>5.8</td>\n",
              "      <td>5.3</td>\n",
              "      <td>5.2</td>\n",
              "      <td>5.3</td>\n",
              "      <td>7.1</td>\n",
              "      <td>7.9</td>\n",
              "      <td>6.0</td>\n",
              "      <td>4.3</td>\n",
              "      <td>3.9</td>\n",
              "      <td>6.4</td>\n",
              "    </tr>\n",
              "    <tr>\n",
              "      <th>99</th>\n",
              "      <td>100</td>\n",
              "      <td>7.9</td>\n",
              "      <td>3.0</td>\n",
              "      <td>4.4</td>\n",
              "      <td>5.1</td>\n",
              "      <td>5.9</td>\n",
              "      <td>4.2</td>\n",
              "      <td>4.8</td>\n",
              "      <td>9.7</td>\n",
              "      <td>5.7</td>\n",
              "      <td>3.4</td>\n",
              "      <td>3.5</td>\n",
              "      <td>6.4</td>\n",
              "    </tr>\n",
              "  </tbody>\n",
              "</table>\n",
              "<p>100 rows × 13 columns</p>\n",
              "</div>"
            ],
            "text/plain": [
              "     ID  ProdQual  Ecom  TechSup  CompRes  Advertising  ProdLine  SalesFImage  \\\n",
              "0     1       8.5   3.9      2.5      5.9          4.8       4.9          6.0   \n",
              "1     2       8.2   2.7      5.1      7.2          3.4       7.9          3.1   \n",
              "2     3       9.2   3.4      5.6      5.6          5.4       7.4          5.8   \n",
              "3     4       6.4   3.3      7.0      3.7          4.7       4.7          4.5   \n",
              "4     5       9.0   3.4      5.2      4.6          2.2       6.0          4.5   \n",
              "..  ...       ...   ...      ...      ...          ...       ...          ...   \n",
              "95   96       8.6   4.8      5.6      5.3          2.3       6.0          5.7   \n",
              "96   97       7.4   3.4      2.6      5.0          4.1       4.4          4.8   \n",
              "97   98       8.7   3.2      3.3      3.2          3.1       6.1          2.9   \n",
              "98   99       7.8   4.9      5.8      5.3          5.2       5.3          7.1   \n",
              "99  100       7.9   3.0      4.4      5.1          5.9       4.2          4.8   \n",
              "\n",
              "    ComPricing  WartyClaim  OrdBilling  DelSpeed  Satisfaction  \n",
              "0          6.8         4.7         5.0       3.7           8.2  \n",
              "1          5.3         5.5         3.9       4.9           5.7  \n",
              "2          4.5         6.2         5.4       4.5           8.9  \n",
              "3          8.8         7.0         4.3       3.0           4.8  \n",
              "4          6.8         6.1         4.5       3.5           7.1  \n",
              "..         ...         ...         ...       ...           ...  \n",
              "95         6.7         5.8         4.9       3.6           7.3  \n",
              "96         7.2         4.5         4.2       3.7           6.3  \n",
              "97         5.6         5.0         3.1       2.5           5.4  \n",
              "98         7.9         6.0         4.3       3.9           6.4  \n",
              "99         9.7         5.7         3.4       3.5           6.4  \n",
              "\n",
              "[100 rows x 13 columns]"
            ]
          },
          "execution_count": 2,
          "metadata": {},
          "output_type": "execute_result"
        }
      ],
      "source": [
        "df = pd.read_csv('Factor-Hair-Revised.csv')\n",
        "df"
      ]
    },
    {
      "cell_type": "code",
      "execution_count": 3,
      "metadata": {
        "id": "n9aZ2GNSCtn3"
      },
      "outputs": [],
      "source": [
        "# usunięcie kolumny ID\n",
        "df = df.drop(columns=['ID'])"
      ]
    },
    {
      "cell_type": "code",
      "execution_count": 4,
      "metadata": {
        "colab": {
          "base_uri": "https://localhost:8080/",
          "height": 1000
        },
        "id": "a1v8GTPnsjnm",
        "outputId": "961bf591-e72f-4388-9b38-6f0fff863215"
      },
      "outputs": [
        {
          "data": {
            "text/plain": [
              "array([[<Axes: title={'center': 'ProdQual'}>,\n",
              "        <Axes: title={'center': 'Ecom'}>,\n",
              "        <Axes: title={'center': 'TechSup'}>],\n",
              "       [<Axes: title={'center': 'CompRes'}>,\n",
              "        <Axes: title={'center': 'Advertising'}>,\n",
              "        <Axes: title={'center': 'ProdLine'}>],\n",
              "       [<Axes: title={'center': 'SalesFImage'}>,\n",
              "        <Axes: title={'center': 'ComPricing'}>,\n",
              "        <Axes: title={'center': 'WartyClaim'}>],\n",
              "       [<Axes: title={'center': 'OrdBilling'}>,\n",
              "        <Axes: title={'center': 'DelSpeed'}>,\n",
              "        <Axes: title={'center': 'Satisfaction'}>]], dtype=object)"
            ]
          },
          "execution_count": 4,
          "metadata": {},
          "output_type": "execute_result"
        },
        {
          "data": {
            "image/png": "[encoded data removed]",
            "text/plain": [
              "<Figure size 1500x1000 with 12 Axes>"
            ]
          },
          "metadata": {},
          "output_type": "display_data"
        }
      ],
      "source": [
        "# Narysowanie rozkładów\n",
        "\n",
        "df.hist(bins = 5,figsize=(15, 10))"
      ]
    },
    {
      "cell_type": "code",
      "execution_count": 5,
      "metadata": {
        "colab": {
          "base_uri": "https://localhost:8080/",
          "height": 430
        },
        "id": "yMcRYkh2tlZa",
        "outputId": "902ac935-3706-400e-959b-6eb0d3c4c355"
      },
      "outputs": [
        {
          "data": {
            "image/png": "[encoded data removed]",
            "text/plain": [
              "<Figure size 640x480 with 1 Axes>"
            ]
          },
          "metadata": {},
          "output_type": "display_data"
        }
      ],
      "source": [
        "# wykres typu boxplot zmiennej objaśnianej\n",
        "plt.boxplot(df['Satisfaction'], vert=False)\n",
        "plt.grid(alpha=0.3)\n",
        "plt.show()"
      ]
    },
    {
      "cell_type": "code",
      "execution_count": 6,
      "metadata": {
        "id": "D__znWJws5pf"
      },
      "outputs": [],
      "source": [
        "# tabela przestawna\n",
        "df1 = pd.melt(df, value_vars=['ProdQual',\t'Ecom',\t'TechSup','CompRes',\t'Advertising',\t'ProdLine',\t'SalesFImage','ComPricing',\t'WartyClaim',\t'OrdBilling',\t'DelSpeed',\t'Satisfaction'])\n",
        "df1 = df1.rename(columns={\"variable\": \"group\", \"value\": \"score\"})"
      ]
    },
    {
      "cell_type": "code",
      "execution_count": 7,
      "metadata": {
        "colab": {
          "base_uri": "https://localhost:8080/",
          "height": 696
        },
        "id": "O_YynanttIvT",
        "outputId": "9a408ef5-409e-4a70-de36-9e6254622f07"
      },
      "outputs": [
        {
          "data": {
            "image/png": "[encoded data removed]",
            "text/plain": [
              "<Figure size 1500x800 with 1 Axes>"
            ]
          },
          "metadata": {},
          "output_type": "display_data"
        }
      ],
      "source": [
        "# narysowanie boxplotów\n",
        "\n",
        "plt.figure(figsize=(15,8))\n",
        "ax = sns.boxplot(x = 'group', y = 'score', data=df1)\n",
        "plt.show()"
      ]
    },
    {
      "cell_type": "markdown",
      "metadata": {
        "id": "EezHrASVtvQ0"
      },
      "source": [
        "**Proszę skomentować wykresy:**\n",
        "\n",
        "1) czy na podstawie histogramów możemy przewidzieć, że rozkłady będą przypominać rozkład normalny ?\n",
        "\n",
        "2) czy spodziewamy się, że grupy są do siebie podobne ?"
      ]
    },
    {
      "cell_type": "markdown",
      "metadata": {
        "id": "f02t7_93tyLS"
      },
      "source": [
        "**KOMENTARZ:** Niektre rozkłady (np Ecom) mają znaczne wartości odstające, więc raczej nie będą rozkładami normalnymi. Natomiast rozkłady TechSup, CompRes, ProdLine mają dość podobną medianę, podobną ilość \"pudełka\" na górze i na dole (kwantyle podobnie oddalone od mediany) i także w miarę równe \"kreski\" (kwantyle minimum/ maximum), więc można się spodziewać że będą to rozkłady normalne podobne do siebie"
      ]
    },
    {
      "cell_type": "markdown",
      "metadata": {
        "id": "fjf4TwAImvCm"
      },
      "source": [
        "# **Analiza czynnikowa**"
      ]
    },
    {
      "cell_type": "markdown",
      "metadata": {
        "id": "OmnU6fz-ZsPy"
      },
      "source": [
        "**Analiza czynnikowa** jest to metoda statystyczna wykorzystywana do redukcji zbiorów danych do najmniejszej możliwej liczby czynników przy pomocy badania współzależności między zmiennymi. Skorelowane zmienne wyjaśniające łączone są w grupy, które są spójne wewnętrznie i różne międzygrupowo. Grupa zmiennych wyjaśniającyh nazywana jest czynnikiem lub faktorem - są to tzw. zmienne ukryte (duża liczba zmiennych obserwowanych reprezentuje mniejszą liczbę zmiennych ukrytych).  \n",
        "\n",
        "W analizie czynnikowej grupy nie powinny mieć takich samych wariancji (brak jednorodność wariancji), ponieważ jeżeli grupy będą zbyt podobne to rozróżnienie czynników będzie zdecydowanie trudniejsze.\n",
        "Zmienne powinny ze sobą istotnie korelować. Należy jednak pamiętać, że zmienne powinny być niezależne w tym sensie, że nie może to być jedna jednostka statystyczna poddana wpływowi np. ciśnienie mierzone przed zażyciem lekarstwa i po zażyciu lekarstwa. Dodatkowo zmienne powinny mieć rozkład normalny.\n",
        "\n",
        "**UWAGA:** Wszystkie zmienne muszą być mierzone w tej samej skali, jeżeli skala jest różna to należy wykonać standaryzację zmiennych.\n",
        "\n",
        "\n",
        "**Biblioteka:** https://pypi.org/project/factor-analyzer/"
      ]
    },
    {
      "cell_type": "markdown",
      "metadata": {
        "id": "EtfR2Etpu3Yg"
      },
      "source": [
        "**1. Normalność rozkładów**\n",
        "\n",
        "Na poziomie istotności alfa = 0.01 proszę zbadać normalność rozkładów.\n",
        "\n",
        "pg.normality(dane, group = 'group', dv = 'score', alpha = alfa)"
      ]
    },
    {
      "cell_type": "markdown",
      "metadata": {
        "id": "Qpiz4mzvvkH1"
      },
      "source": [
        "**H0:** rozkład jest normalny\n",
        "\n",
        "**H1:** rozkład nie jest normalny"
      ]
    },
    {
      "cell_type": "code",
      "execution_count": 8,
      "metadata": {
        "id": "0oiLFbjDvGLX"
      },
      "outputs": [
        {
          "data": {
            "text/html": [
              "<div>\n",
              "<style scoped>\n",
              "    .dataframe tbody tr th:only-of-type {\n",
              "        vertical-align: middle;\n",
              "    }\n",
              "\n",
              "    .dataframe tbody tr th {\n",
              "        vertical-align: top;\n",
              "    }\n",
              "\n",
              "    .dataframe thead th {\n",
              "        text-align: right;\n",
              "    }\n",
              "</style>\n",
              "<table border=\"1\" class=\"dataframe\">\n",
              "  <thead>\n",
              "    <tr style=\"text-align: right;\">\n",
              "      <th></th>\n",
              "      <th>W</th>\n",
              "      <th>pval</th>\n",
              "      <th>normal</th>\n",
              "    </tr>\n",
              "    <tr>\n",
              "      <th>group</th>\n",
              "      <th></th>\n",
              "      <th></th>\n",
              "      <th></th>\n",
              "    </tr>\n",
              "  </thead>\n",
              "  <tbody>\n",
              "    <tr>\n",
              "      <th>ProdQual</th>\n",
              "      <td>0.949722</td>\n",
              "      <td>0.000795</td>\n",
              "      <td>False</td>\n",
              "    </tr>\n",
              "    <tr>\n",
              "      <th>Ecom</th>\n",
              "      <td>0.958517</td>\n",
              "      <td>0.003157</td>\n",
              "      <td>False</td>\n",
              "    </tr>\n",
              "    <tr>\n",
              "      <th>TechSup</th>\n",
              "      <td>0.986264</td>\n",
              "      <td>0.390045</td>\n",
              "      <td>True</td>\n",
              "    </tr>\n",
              "    <tr>\n",
              "      <th>CompRes</th>\n",
              "      <td>0.986459</td>\n",
              "      <td>0.402254</td>\n",
              "      <td>True</td>\n",
              "    </tr>\n",
              "    <tr>\n",
              "      <th>Advertising</th>\n",
              "      <td>0.976257</td>\n",
              "      <td>0.067691</td>\n",
              "      <td>True</td>\n",
              "    </tr>\n",
              "    <tr>\n",
              "      <th>ProdLine</th>\n",
              "      <td>0.986923</td>\n",
              "      <td>0.432454</td>\n",
              "      <td>True</td>\n",
              "    </tr>\n",
              "    <tr>\n",
              "      <th>SalesFImage</th>\n",
              "      <td>0.974033</td>\n",
              "      <td>0.045342</td>\n",
              "      <td>True</td>\n",
              "    </tr>\n",
              "    <tr>\n",
              "      <th>ComPricing</th>\n",
              "      <td>0.967584</td>\n",
              "      <td>0.014485</td>\n",
              "      <td>True</td>\n",
              "    </tr>\n",
              "    <tr>\n",
              "      <th>WartyClaim</th>\n",
              "      <td>0.990942</td>\n",
              "      <td>0.740365</td>\n",
              "      <td>True</td>\n",
              "    </tr>\n",
              "    <tr>\n",
              "      <th>OrdBilling</th>\n",
              "      <td>0.974052</td>\n",
              "      <td>0.045494</td>\n",
              "      <td>True</td>\n",
              "    </tr>\n",
              "    <tr>\n",
              "      <th>DelSpeed</th>\n",
              "      <td>0.981608</td>\n",
              "      <td>0.177050</td>\n",
              "      <td>True</td>\n",
              "    </tr>\n",
              "    <tr>\n",
              "      <th>Satisfaction</th>\n",
              "      <td>0.975162</td>\n",
              "      <td>0.055558</td>\n",
              "      <td>True</td>\n",
              "    </tr>\n",
              "  </tbody>\n",
              "</table>\n",
              "</div>"
            ],
            "text/plain": [
              "                     W      pval  normal\n",
              "group                                   \n",
              "ProdQual      0.949722  0.000795   False\n",
              "Ecom          0.958517  0.003157   False\n",
              "TechSup       0.986264  0.390045    True\n",
              "CompRes       0.986459  0.402254    True\n",
              "Advertising   0.976257  0.067691    True\n",
              "ProdLine      0.986923  0.432454    True\n",
              "SalesFImage   0.974033  0.045342    True\n",
              "ComPricing    0.967584  0.014485    True\n",
              "WartyClaim    0.990942  0.740365    True\n",
              "OrdBilling    0.974052  0.045494    True\n",
              "DelSpeed      0.981608  0.177050    True\n",
              "Satisfaction  0.975162  0.055558    True"
            ]
          },
          "execution_count": 8,
          "metadata": {},
          "output_type": "execute_result"
        }
      ],
      "source": [
        "# Rozwiązanie\n",
        "pg.normality(df1, group = 'group', dv = 'score', alpha = 0.01)"
      ]
    },
    {
      "cell_type": "markdown",
      "metadata": {
        "id": "tYtfpOS0vMqZ"
      },
      "source": [
        "**ODP:**"
      ]
    },
    {
      "cell_type": "code",
      "execution_count": 9,
      "metadata": {
        "id": "IAnnABiJ3lTy"
      },
      "outputs": [],
      "source": [
        "# usunięcie zmiennych, które nie mają rozkładu normalnego\n",
        "\n",
        "df = df.drop(columns=['ProdQual', 'Ecom'])"
      ]
    },
    {
      "cell_type": "markdown",
      "metadata": {
        "id": "_ZuguqAgbKiN"
      },
      "source": [
        "**2. Test jednorodności wariancji**\n",
        "\n",
        "Proszę sprawdzić czy wariancje są jednorodne."
      ]
    },
    {
      "cell_type": "markdown",
      "metadata": {
        "id": "KbHUj_S-b9Oz"
      },
      "source": [
        "**H0:** Wariancje we wszystkich grupach są sobie równe.\n",
        "\n",
        "**H1:** Wariancje dla conajmniej jednej pary wykonanych serii prób są różne: sigma_i =/= sigma_j\n",
        "\n",
        "Wykonujemy test homoscedasticity, który wymaga normalności rozkładów. Rozkłady są normalne ponieważ sprawdziliśmy to pole wyżej"
      ]
    },
    {
      "cell_type": "code",
      "execution_count": 10,
      "metadata": {
        "id": "NRAIFPhjbSpt"
      },
      "outputs": [
        {
          "data": {
            "text/html": [
              "<div>\n",
              "<style scoped>\n",
              "    .dataframe tbody tr th:only-of-type {\n",
              "        vertical-align: middle;\n",
              "    }\n",
              "\n",
              "    .dataframe tbody tr th {\n",
              "        vertical-align: top;\n",
              "    }\n",
              "\n",
              "    .dataframe thead th {\n",
              "        text-align: right;\n",
              "    }\n",
              "</style>\n",
              "<table border=\"1\" class=\"dataframe\">\n",
              "  <thead>\n",
              "    <tr style=\"text-align: right;\">\n",
              "      <th></th>\n",
              "      <th>T</th>\n",
              "      <th>pval</th>\n",
              "      <th>equal_var</th>\n",
              "    </tr>\n",
              "  </thead>\n",
              "  <tbody>\n",
              "    <tr>\n",
              "      <th>bartlett</th>\n",
              "      <td>146.522042</td>\n",
              "      <td>7.644413e-26</td>\n",
              "      <td>False</td>\n",
              "    </tr>\n",
              "  </tbody>\n",
              "</table>\n",
              "</div>"
            ],
            "text/plain": [
              "                   T          pval  equal_var\n",
              "bartlett  146.522042  7.644413e-26      False"
            ]
          },
          "execution_count": 10,
          "metadata": {},
          "output_type": "execute_result"
        }
      ],
      "source": [
        "# Rozwiązanie\n",
        "pg.homoscedasticity(df1, group='group', dv='score', method = 'bartlett')"
      ]
    },
    {
      "cell_type": "markdown",
      "metadata": {
        "id": "ZPHmPQxBvpLU"
      },
      "source": [
        "**ODP:** P val jest bliskie zeru, hipotezę zerową można odrzucić. Wariancje dla conajmniej jednej pary są różne"
      ]
    },
    {
      "cell_type": "markdown",
      "metadata": {
        "id": "M0pgg5wvwKhx"
      },
      "source": [
        " Wszystkie zmienne mają rozkład normalny, a wariancje dla conajmniej jednej pary wykonanych serii prób są różne.\n",
        "\n",
        " W statystyce istnieją dwa testy: test sferyczności Barletta oraz test K-M-O (Kaiser-Meyer-Olkin), które pozwalaja określić czy możliwe jest wykonanie analizy czynnikowej.  \n"
      ]
    },
    {
      "cell_type": "markdown",
      "metadata": {
        "id": "LLNiWnixyDZg"
      },
      "source": [
        "**3. Test sferyczności Barletta**"
      ]
    },
    {
      "cell_type": "markdown",
      "metadata": {
        "id": "KdTlRgyXZ9qH"
      },
      "source": [
        "Test sferyczności Barletta testuje założenie o braku korelacji między zmiennymi. Celem stosowania testu Bartletta jest ocena założenia o sferyczności macierzy korelacji między zmiennymi. Jeżeli nie ma podstaw do odrzucenia H0 (wynik jest nieistotny statystycznie) to znaczy, że nie należy wykonywać analizy czynnikowej, ponieważ każda zmienna jest doskonale ortogonalna (nieskorelowana z każdą inną zmienną). Jeżeli wynik testu jest istotny statystycznie to oznacza, że zmienne sa skorelowane - czyli można wykonać analizę czynnikową.\n",
        "\n",
        "**Hipotezy:**\n",
        "\n",
        "\n",
        "**H0:** Zmienne są ortogonalne (brak korelacji między zmiennymi).\n",
        "\n",
        "**H1:** Zmienne nie są ortogonalne (istnieje korealacja między zmiennymi)\n"
      ]
    },
    {
      "cell_type": "code",
      "execution_count": 11,
      "metadata": {
        "colab": {
          "base_uri": "https://localhost:8080/"
        },
        "id": "YifiUKovFc1-",
        "outputId": "9f848f3e-1f0a-47c9-b18d-2db76ab8122c"
      },
      "outputs": [
        {
          "data": {
            "text/plain": [
              "(579.9047825737875, 4.694003477436801e-94)"
            ]
          },
          "execution_count": 11,
          "metadata": {},
          "output_type": "execute_result"
        }
      ],
      "source": [
        "calculate_bartlett_sphericity(df)"
      ]
    },
    {
      "cell_type": "markdown",
      "metadata": {
        "id": "7BnDlCrk4E0U"
      },
      "source": [
        "**ODP:** Zgodnie z dokumentacją funkcji druga zwracana wartość to pvalue. Jest ona bliska zeru, więc H0 można odrzucić. H1, mówiące o tym że zmienne NIE są ortogonalne, świadczy o tym że zmienne SĄ skorelowane. Dlatego można wykonać analizę czynnikową."
      ]
    },
    {
      "cell_type": "markdown",
      "metadata": {
        "id": "hqQB5dv_4WJL"
      },
      "source": [
        "**4. Test KMO**\n"
      ]
    },
    {
      "cell_type": "markdown",
      "metadata": {
        "id": "D92xDT4saXF1"
      },
      "source": [
        "Test KMO jest przeprowadzany w celu określenie czy zbiór danych jest adekwatny do przeprowadzanie analizy czynnikowej. Bada on siły częściowej korelacji, czyli w jaki sposób czynniki wyjaśniają się nawzajem. Współczynnik KMO przyjmuje wartości od 0 do 1. Im wartość współczynnika KMO bliższa jest 1 tym wykonanie analizy czynnikowej jest bardziej zasadne. Przyjmuje się, że wartość KMO mniejsza niż 0,5 (w zależności od źródła  czasami jest to 0,6) jest niedopuszczalna i oznacza, że dane nie są odpowiednie do wykonania analizy czynnikowej."
      ]
    },
    {
      "cell_type": "code",
      "execution_count": 12,
      "metadata": {
        "colab": {
          "base_uri": "https://localhost:8080/"
        },
        "id": "Cg9iTRyPGG6S",
        "outputId": "44eea92a-4889-468a-a786-8e492b64c09b"
      },
      "outputs": [
        {
          "name": "stdout",
          "output_type": "stream",
          "text": [
            "0.6875065817911215\n"
          ]
        }
      ],
      "source": [
        "kmo_all, kmo_model = calculate_kmo(df)\n",
        "print(kmo_model)"
      ]
    },
    {
      "cell_type": "markdown",
      "metadata": {
        "id": "ZYeE88fo4x7O"
      },
      "source": [
        "**ODP:** Wartość KMO wynosi 0.68, czyli spełnia kryterium 0.5. Oznacza to że zmienne są częściowo skorelowane, wyjaśniają się w pewnien sposób - wykonanie analizy czynnikowej jest dozwolone. "
      ]
    },
    {
      "cell_type": "markdown",
      "metadata": {
        "id": "QhYcOhY44ozC"
      },
      "source": [
        "**Na podstawie testów proszę określić czy można przeprowadzić analizę czynnikową?**"
      ]
    },
    {
      "cell_type": "markdown",
      "metadata": {
        "id": "hl3Gy5knHCof"
      },
      "source": [
        "**KOMENTARZ:** Można określić, ale nie jednoznacznie. Prawie wszystkie testy pozwalają nam jedynie odrzucić hipotezę zerową. Jeżeli gdziekolwiek p wyszłoby za duże, jedynie możnaby powiedzieć że żadnej z hipotez nie można potwierdzić bądź zaprzeczyć. Wtedy nadal można próbować robić analizę, jedynie nie wiadomo czy da ona sensowne wyniki."
      ]
    },
    {
      "cell_type": "markdown",
      "metadata": {
        "id": "IVjmzHWV7wl9"
      },
      "source": [
        "**OKREŚLENIE LICZBY CZYNNIKÓW (FAKTORÓW)**"
      ]
    },
    {
      "cell_type": "markdown",
      "metadata": {
        "id": "CSkuzz2sZN9l"
      },
      "source": [
        "Do okreslenia liczby czynników można wykorzystać jedno z dwóch kryteriów:\n",
        "\n",
        "1) kryterium Cattella oparte na wykresie osuwiska - by określić liczbę faktorów na wykresie poszukuje się takiego miejsca, w którym przestaje być on stromy (przestaje się osypywać), następnie zlicza się liczbę punktów powyżej tego miejsca (liczba punktów = liczbie faktorów),\n",
        "\n",
        "2) kryterium Kaisera liczba czynników jest równa liczbie składowych z wartością własną większą od jedynki (przy duże ilości składowych kryterium to może wyodrębnić zbyt dużą liczbę faktorów).\n"
      ]
    },
    {
      "cell_type": "code",
      "execution_count": 13,
      "metadata": {
        "colab": {
          "base_uri": "https://localhost:8080/"
        },
        "id": "3Gpt22tFHi3f",
        "outputId": "435d3b10-f2ce-47f0-9925-7ff2898fad7b"
      },
      "outputs": [
        {
          "data": {
            "text/plain": [
              "array([3.87044814, 2.04479787, 1.50994101, 0.86013254, 0.55916701,\n",
              "       0.40681921, 0.25939254, 0.23897652, 0.14569514, 0.10463001])"
            ]
          },
          "execution_count": 13,
          "metadata": {},
          "output_type": "execute_result"
        }
      ],
      "source": [
        "fa = FactorAnalyzer()\n",
        "\n",
        "fa.fit(df)\n",
        "\n",
        "ev, v = fa.get_eigenvalues()\n",
        "ev                            # wartości własne"
      ]
    },
    {
      "cell_type": "code",
      "execution_count": 14,
      "metadata": {
        "id": "w2XynVH3Nzta"
      },
      "outputs": [],
      "source": [
        "values = np.arange(1, len(ev)+1)"
      ]
    },
    {
      "cell_type": "code",
      "execution_count": 15,
      "metadata": {
        "colab": {
          "base_uri": "https://localhost:8080/",
          "height": 472
        },
        "id": "8zRQwplaNtz6",
        "outputId": "a2c127a1-418d-4218-bc8f-70a16b48741c"
      },
      "outputs": [
        {
          "data": {
            "image/png": "[encoded data removed]",
            "text/plain": [
              "<Figure size 640x480 with 1 Axes>"
            ]
          },
          "metadata": {},
          "output_type": "display_data"
        }
      ],
      "source": [
        "plt.plot(values, ev, 'o-', linewidth=2, color='blue')\n",
        "plt.axhline(y = 1, color = 'r', label = 'axvline - full height')\n",
        "\n",
        "plt.title('Wykres osypiska')\n",
        "plt.xlabel('Numer czynnika')\n",
        "plt.ylabel('Wartość własna')\n",
        "plt.grid(alpha = 0.5)\n",
        "plt.show()"
      ]
    },
    {
      "cell_type": "markdown",
      "metadata": {
        "id": "QSVXgKoq8BmJ"
      },
      "source": [
        "**Na podstawie wykresu osypiska i kryterium Kasiera proszę określić ile czynników można wyróżnić?**"
      ]
    },
    {
      "cell_type": "markdown",
      "metadata": {
        "id": "q5PmGI2O8AZb"
      },
      "source": [
        "**KOMENTARZ:**"
      ]
    },
    {
      "cell_type": "markdown",
      "metadata": {
        "id": "2UAHkNJrZYFz"
      },
      "source": [
        "Oprócz wyznaczenia liczby faktorów, analiza czynnikowa umożliwia dokonanie rotacji (obrócenia osi). Rotacja ma na celu ułatwienie interpretacji czynników i ograniczenie liczby niewyjaśnionych zmiennych (zdarza się, że niektóre zmienne nie są przypisywane do żadnego czynnika).\n",
        "\n",
        "**Metody rotacji:**\n",
        "\n",
        "varimax (rotacja ortogonalna)\n",
        "\n",
        "promax (rotacja ukośna)\n",
        "\n",
        "oblimin (ukośny obrót)\n",
        "\n",
        "oblimax (rotacja ortogonalna)\n",
        "\n",
        "kwartimin (rotacja ukośna)\n",
        "\n",
        "quartimax (rotacja ortogonalna)\n",
        "\n",
        "equamax (rotacja ortogonalna)\n",
        "\n",
        "geomin_obl (obrót ukośny)\n",
        "\n",
        "geomin_ort (obrót ortogonalny)\n",
        "\n",
        "Najpopularniejsze typy rotacji to:\n",
        "\n",
        "- rotacja varimax - minimalizuje liczbę zmiennych niezbędnych do wyjaśnienia danego zjawiska,\n",
        "\n",
        "- rotacja promax - nieortagonalna metoda rotacji, dopuszczająca skorelowanie czynników, zazwyczaj stosowana do dużych zbiorów."
      ]
    },
    {
      "cell_type": "markdown",
      "metadata": {
        "id": "aGE3EW7nkkc_"
      },
      "source": [
        "**Wyniki interpretuje się na podstawie ładunków czynnikowych:**\n",
        "\n",
        "**Ładunki czynnikowe** to standaryzowane współczynniki regresji zmiennych obserwowanych względem czynników. Zmienne, które posiadają wystarczającą wartość bezwzględną ładunków czynnikowych są przypisywane do danego faktora. Wartość graniczna jest ustalana dla danego przypadku. Najlepiej byłoby gdyby wartość ładunku danaj zmiennej jednoznacznie klasyfikowałaby ją do danego faktora - w praktyce nie zawsze jest to możliwe."
      ]
    },
    {
      "cell_type": "code",
      "execution_count": 16,
      "metadata": {
        "colab": {
          "base_uri": "https://localhost:8080/"
        },
        "id": "R6Xlsu8dKsZR",
        "outputId": "ae7ca459-278a-444f-d81b-82ef67d2678a"
      },
      "outputs": [
        {
          "name": "stdout",
          "output_type": "stream",
          "text": [
            "[[ 0.03247989  0.87141169 -0.04528087]\n",
            " [ 0.89156061  0.03659735  0.11924429]\n",
            " [ 0.18126828 -0.0358086   0.539549  ]\n",
            " [ 0.71233381  0.24086161 -0.24289387]\n",
            " [ 0.15794221  0.07862691  0.94596671]\n",
            " [-0.2563462  -0.30158724  0.36725722]\n",
            " [ 0.11649091  0.88484268  0.03459996]\n",
            " [ 0.75241133  0.06556319  0.1234986 ]\n",
            " [ 0.90653762 -0.02293137  0.16963662]\n",
            " [ 0.66572994  0.15283273  0.31686058]]\n"
          ]
        }
      ],
      "source": [
        "fa = FactorAnalyzer(3, rotation='varimax')\n",
        "fa.fit(df)\n",
        "print(fa.loadings_)"
      ]
    },
    {
      "cell_type": "markdown",
      "metadata": {
        "id": "ZZHahbkCJFCS"
      },
      "source": [
        "**Utworzenie tabeli ułatwiającej interpretację.**"
      ]
    },
    {
      "cell_type": "code",
      "execution_count": 17,
      "metadata": {
        "colab": {
          "base_uri": "https://localhost:8080/",
          "height": 363
        },
        "id": "LfX-0db8LHr_",
        "outputId": "a01bbf01-16a7-4453-a916-8e1e3640fdbc"
      },
      "outputs": [
        {
          "data": {
            "text/html": [
              "<div>\n",
              "<style scoped>\n",
              "    .dataframe tbody tr th:only-of-type {\n",
              "        vertical-align: middle;\n",
              "    }\n",
              "\n",
              "    .dataframe tbody tr th {\n",
              "        vertical-align: top;\n",
              "    }\n",
              "\n",
              "    .dataframe thead th {\n",
              "        text-align: right;\n",
              "    }\n",
              "</style>\n",
              "<table border=\"1\" class=\"dataframe\">\n",
              "  <thead>\n",
              "    <tr style=\"text-align: right;\">\n",
              "      <th></th>\n",
              "      <th>Factor 1</th>\n",
              "      <th>Factor 2</th>\n",
              "      <th>Factor 3</th>\n",
              "    </tr>\n",
              "  </thead>\n",
              "  <tbody>\n",
              "    <tr>\n",
              "      <th>TechSup</th>\n",
              "      <td>0.032480</td>\n",
              "      <td>0.871412</td>\n",
              "      <td>0.045281</td>\n",
              "    </tr>\n",
              "    <tr>\n",
              "      <th>CompRes</th>\n",
              "      <td>0.891561</td>\n",
              "      <td>0.036597</td>\n",
              "      <td>0.119244</td>\n",
              "    </tr>\n",
              "    <tr>\n",
              "      <th>Advertising</th>\n",
              "      <td>0.181268</td>\n",
              "      <td>0.035809</td>\n",
              "      <td>0.539549</td>\n",
              "    </tr>\n",
              "    <tr>\n",
              "      <th>ProdLine</th>\n",
              "      <td>0.712334</td>\n",
              "      <td>0.240862</td>\n",
              "      <td>0.242894</td>\n",
              "    </tr>\n",
              "    <tr>\n",
              "      <th>SalesFImage</th>\n",
              "      <td>0.157942</td>\n",
              "      <td>0.078627</td>\n",
              "      <td>0.945967</td>\n",
              "    </tr>\n",
              "    <tr>\n",
              "      <th>ComPricing</th>\n",
              "      <td>0.256346</td>\n",
              "      <td>0.301587</td>\n",
              "      <td>0.367257</td>\n",
              "    </tr>\n",
              "    <tr>\n",
              "      <th>WartyClaim</th>\n",
              "      <td>0.116491</td>\n",
              "      <td>0.884843</td>\n",
              "      <td>0.034600</td>\n",
              "    </tr>\n",
              "    <tr>\n",
              "      <th>OrdBilling</th>\n",
              "      <td>0.752411</td>\n",
              "      <td>0.065563</td>\n",
              "      <td>0.123499</td>\n",
              "    </tr>\n",
              "    <tr>\n",
              "      <th>DelSpeed</th>\n",
              "      <td>0.906538</td>\n",
              "      <td>0.022931</td>\n",
              "      <td>0.169637</td>\n",
              "    </tr>\n",
              "    <tr>\n",
              "      <th>Satisfaction</th>\n",
              "      <td>0.665730</td>\n",
              "      <td>0.152833</td>\n",
              "      <td>0.316861</td>\n",
              "    </tr>\n",
              "  </tbody>\n",
              "</table>\n",
              "</div>"
            ],
            "text/plain": [
              "              Factor 1  Factor 2  Factor 3\n",
              "TechSup       0.032480  0.871412  0.045281\n",
              "CompRes       0.891561  0.036597  0.119244\n",
              "Advertising   0.181268  0.035809  0.539549\n",
              "ProdLine      0.712334  0.240862  0.242894\n",
              "SalesFImage   0.157942  0.078627  0.945967\n",
              "ComPricing    0.256346  0.301587  0.367257\n",
              "WartyClaim    0.116491  0.884843  0.034600\n",
              "OrdBilling    0.752411  0.065563  0.123499\n",
              "DelSpeed      0.906538  0.022931  0.169637\n",
              "Satisfaction  0.665730  0.152833  0.316861"
            ]
          },
          "execution_count": 17,
          "metadata": {},
          "output_type": "execute_result"
        }
      ],
      "source": [
        "lmatrix = pd.DataFrame(fa.loadings_, index = list(df.columns), columns = ['Factor 1', 'Factor 2', 'Factor 3'])\n",
        "\n",
        "# obliczenie wartości bezwzględnych\n",
        "\n",
        "lmatrix = lmatrix.abs()\n",
        "lmatrix"
      ]
    },
    {
      "cell_type": "code",
      "execution_count": 18,
      "metadata": {
        "colab": {
          "base_uri": "https://localhost:8080/",
          "height": 363
        },
        "id": "YSgRw4blLlD0",
        "outputId": "0dc78a2a-e40c-4edb-d038-72ee8daa68d0"
      },
      "outputs": [
        {
          "data": {
            "text/html": [
              "<div>\n",
              "<style scoped>\n",
              "    .dataframe tbody tr th:only-of-type {\n",
              "        vertical-align: middle;\n",
              "    }\n",
              "\n",
              "    .dataframe tbody tr th {\n",
              "        vertical-align: top;\n",
              "    }\n",
              "\n",
              "    .dataframe thead th {\n",
              "        text-align: right;\n",
              "    }\n",
              "</style>\n",
              "<table border=\"1\" class=\"dataframe\">\n",
              "  <thead>\n",
              "    <tr style=\"text-align: right;\">\n",
              "      <th></th>\n",
              "      <th>Factor 1</th>\n",
              "      <th>Factor 2</th>\n",
              "      <th>Factor 3</th>\n",
              "    </tr>\n",
              "  </thead>\n",
              "  <tbody>\n",
              "    <tr>\n",
              "      <th>DelSpeed</th>\n",
              "      <td>0.906538</td>\n",
              "      <td>0.022931</td>\n",
              "      <td>0.169637</td>\n",
              "    </tr>\n",
              "    <tr>\n",
              "      <th>CompRes</th>\n",
              "      <td>0.891561</td>\n",
              "      <td>0.036597</td>\n",
              "      <td>0.119244</td>\n",
              "    </tr>\n",
              "    <tr>\n",
              "      <th>OrdBilling</th>\n",
              "      <td>0.752411</td>\n",
              "      <td>0.065563</td>\n",
              "      <td>0.123499</td>\n",
              "    </tr>\n",
              "    <tr>\n",
              "      <th>ProdLine</th>\n",
              "      <td>0.712334</td>\n",
              "      <td>0.240862</td>\n",
              "      <td>0.242894</td>\n",
              "    </tr>\n",
              "    <tr>\n",
              "      <th>Satisfaction</th>\n",
              "      <td>0.665730</td>\n",
              "      <td>0.152833</td>\n",
              "      <td>0.316861</td>\n",
              "    </tr>\n",
              "    <tr>\n",
              "      <th>ComPricing</th>\n",
              "      <td>0.256346</td>\n",
              "      <td>0.301587</td>\n",
              "      <td>0.367257</td>\n",
              "    </tr>\n",
              "    <tr>\n",
              "      <th>Advertising</th>\n",
              "      <td>0.181268</td>\n",
              "      <td>0.035809</td>\n",
              "      <td>0.539549</td>\n",
              "    </tr>\n",
              "    <tr>\n",
              "      <th>SalesFImage</th>\n",
              "      <td>0.157942</td>\n",
              "      <td>0.078627</td>\n",
              "      <td>0.945967</td>\n",
              "    </tr>\n",
              "    <tr>\n",
              "      <th>WartyClaim</th>\n",
              "      <td>0.116491</td>\n",
              "      <td>0.884843</td>\n",
              "      <td>0.034600</td>\n",
              "    </tr>\n",
              "    <tr>\n",
              "      <th>TechSup</th>\n",
              "      <td>0.032480</td>\n",
              "      <td>0.871412</td>\n",
              "      <td>0.045281</td>\n",
              "    </tr>\n",
              "  </tbody>\n",
              "</table>\n",
              "</div>"
            ],
            "text/plain": [
              "              Factor 1  Factor 2  Factor 3\n",
              "DelSpeed      0.906538  0.022931  0.169637\n",
              "CompRes       0.891561  0.036597  0.119244\n",
              "OrdBilling    0.752411  0.065563  0.123499\n",
              "ProdLine      0.712334  0.240862  0.242894\n",
              "Satisfaction  0.665730  0.152833  0.316861\n",
              "ComPricing    0.256346  0.301587  0.367257\n",
              "Advertising   0.181268  0.035809  0.539549\n",
              "SalesFImage   0.157942  0.078627  0.945967\n",
              "WartyClaim    0.116491  0.884843  0.034600\n",
              "TechSup       0.032480  0.871412  0.045281"
            ]
          },
          "execution_count": 18,
          "metadata": {},
          "output_type": "execute_result"
        }
      ],
      "source": [
        "lmatrix.sort_values('Factor 1', ascending=False)"
      ]
    },
    {
      "cell_type": "markdown",
      "metadata": {
        "id": "UEyASDBM9fDx"
      },
      "source": [
        "**Proszę posortować wartości według pozostałych czynników:**"
      ]
    },
    {
      "cell_type": "code",
      "execution_count": 19,
      "metadata": {
        "id": "b3nyLuIqLl-l"
      },
      "outputs": [
        {
          "data": {
            "text/html": [
              "<div>\n",
              "<style scoped>\n",
              "    .dataframe tbody tr th:only-of-type {\n",
              "        vertical-align: middle;\n",
              "    }\n",
              "\n",
              "    .dataframe tbody tr th {\n",
              "        vertical-align: top;\n",
              "    }\n",
              "\n",
              "    .dataframe thead th {\n",
              "        text-align: right;\n",
              "    }\n",
              "</style>\n",
              "<table border=\"1\" class=\"dataframe\">\n",
              "  <thead>\n",
              "    <tr style=\"text-align: right;\">\n",
              "      <th></th>\n",
              "      <th>Factor 1</th>\n",
              "      <th>Factor 2</th>\n",
              "      <th>Factor 3</th>\n",
              "    </tr>\n",
              "  </thead>\n",
              "  <tbody>\n",
              "    <tr>\n",
              "      <th>WartyClaim</th>\n",
              "      <td>0.116491</td>\n",
              "      <td>0.884843</td>\n",
              "      <td>0.034600</td>\n",
              "    </tr>\n",
              "    <tr>\n",
              "      <th>TechSup</th>\n",
              "      <td>0.032480</td>\n",
              "      <td>0.871412</td>\n",
              "      <td>0.045281</td>\n",
              "    </tr>\n",
              "    <tr>\n",
              "      <th>ComPricing</th>\n",
              "      <td>0.256346</td>\n",
              "      <td>0.301587</td>\n",
              "      <td>0.367257</td>\n",
              "    </tr>\n",
              "    <tr>\n",
              "      <th>ProdLine</th>\n",
              "      <td>0.712334</td>\n",
              "      <td>0.240862</td>\n",
              "      <td>0.242894</td>\n",
              "    </tr>\n",
              "    <tr>\n",
              "      <th>Satisfaction</th>\n",
              "      <td>0.665730</td>\n",
              "      <td>0.152833</td>\n",
              "      <td>0.316861</td>\n",
              "    </tr>\n",
              "    <tr>\n",
              "      <th>SalesFImage</th>\n",
              "      <td>0.157942</td>\n",
              "      <td>0.078627</td>\n",
              "      <td>0.945967</td>\n",
              "    </tr>\n",
              "    <tr>\n",
              "      <th>OrdBilling</th>\n",
              "      <td>0.752411</td>\n",
              "      <td>0.065563</td>\n",
              "      <td>0.123499</td>\n",
              "    </tr>\n",
              "    <tr>\n",
              "      <th>CompRes</th>\n",
              "      <td>0.891561</td>\n",
              "      <td>0.036597</td>\n",
              "      <td>0.119244</td>\n",
              "    </tr>\n",
              "    <tr>\n",
              "      <th>Advertising</th>\n",
              "      <td>0.181268</td>\n",
              "      <td>0.035809</td>\n",
              "      <td>0.539549</td>\n",
              "    </tr>\n",
              "    <tr>\n",
              "      <th>DelSpeed</th>\n",
              "      <td>0.906538</td>\n",
              "      <td>0.022931</td>\n",
              "      <td>0.169637</td>\n",
              "    </tr>\n",
              "  </tbody>\n",
              "</table>\n",
              "</div>"
            ],
            "text/plain": [
              "              Factor 1  Factor 2  Factor 3\n",
              "WartyClaim    0.116491  0.884843  0.034600\n",
              "TechSup       0.032480  0.871412  0.045281\n",
              "ComPricing    0.256346  0.301587  0.367257\n",
              "ProdLine      0.712334  0.240862  0.242894\n",
              "Satisfaction  0.665730  0.152833  0.316861\n",
              "SalesFImage   0.157942  0.078627  0.945967\n",
              "OrdBilling    0.752411  0.065563  0.123499\n",
              "CompRes       0.891561  0.036597  0.119244\n",
              "Advertising   0.181268  0.035809  0.539549\n",
              "DelSpeed      0.906538  0.022931  0.169637"
            ]
          },
          "execution_count": 19,
          "metadata": {},
          "output_type": "execute_result"
        }
      ],
      "source": [
        "# Rozwiązanie\n",
        "lmatrix.sort_values('Factor 2', ascending=False)"
      ]
    },
    {
      "cell_type": "code",
      "execution_count": 20,
      "metadata": {},
      "outputs": [
        {
          "data": {
            "text/html": [
              "<div>\n",
              "<style scoped>\n",
              "    .dataframe tbody tr th:only-of-type {\n",
              "        vertical-align: middle;\n",
              "    }\n",
              "\n",
              "    .dataframe tbody tr th {\n",
              "        vertical-align: top;\n",
              "    }\n",
              "\n",
              "    .dataframe thead th {\n",
              "        text-align: right;\n",
              "    }\n",
              "</style>\n",
              "<table border=\"1\" class=\"dataframe\">\n",
              "  <thead>\n",
              "    <tr style=\"text-align: right;\">\n",
              "      <th></th>\n",
              "      <th>Factor 1</th>\n",
              "      <th>Factor 2</th>\n",
              "      <th>Factor 3</th>\n",
              "    </tr>\n",
              "  </thead>\n",
              "  <tbody>\n",
              "    <tr>\n",
              "      <th>SalesFImage</th>\n",
              "      <td>0.157942</td>\n",
              "      <td>0.078627</td>\n",
              "      <td>0.945967</td>\n",
              "    </tr>\n",
              "    <tr>\n",
              "      <th>Advertising</th>\n",
              "      <td>0.181268</td>\n",
              "      <td>0.035809</td>\n",
              "      <td>0.539549</td>\n",
              "    </tr>\n",
              "    <tr>\n",
              "      <th>ComPricing</th>\n",
              "      <td>0.256346</td>\n",
              "      <td>0.301587</td>\n",
              "      <td>0.367257</td>\n",
              "    </tr>\n",
              "    <tr>\n",
              "      <th>Satisfaction</th>\n",
              "      <td>0.665730</td>\n",
              "      <td>0.152833</td>\n",
              "      <td>0.316861</td>\n",
              "    </tr>\n",
              "    <tr>\n",
              "      <th>ProdLine</th>\n",
              "      <td>0.712334</td>\n",
              "      <td>0.240862</td>\n",
              "      <td>0.242894</td>\n",
              "    </tr>\n",
              "    <tr>\n",
              "      <th>DelSpeed</th>\n",
              "      <td>0.906538</td>\n",
              "      <td>0.022931</td>\n",
              "      <td>0.169637</td>\n",
              "    </tr>\n",
              "    <tr>\n",
              "      <th>OrdBilling</th>\n",
              "      <td>0.752411</td>\n",
              "      <td>0.065563</td>\n",
              "      <td>0.123499</td>\n",
              "    </tr>\n",
              "    <tr>\n",
              "      <th>CompRes</th>\n",
              "      <td>0.891561</td>\n",
              "      <td>0.036597</td>\n",
              "      <td>0.119244</td>\n",
              "    </tr>\n",
              "    <tr>\n",
              "      <th>TechSup</th>\n",
              "      <td>0.032480</td>\n",
              "      <td>0.871412</td>\n",
              "      <td>0.045281</td>\n",
              "    </tr>\n",
              "    <tr>\n",
              "      <th>WartyClaim</th>\n",
              "      <td>0.116491</td>\n",
              "      <td>0.884843</td>\n",
              "      <td>0.034600</td>\n",
              "    </tr>\n",
              "  </tbody>\n",
              "</table>\n",
              "</div>"
            ],
            "text/plain": [
              "              Factor 1  Factor 2  Factor 3\n",
              "SalesFImage   0.157942  0.078627  0.945967\n",
              "Advertising   0.181268  0.035809  0.539549\n",
              "ComPricing    0.256346  0.301587  0.367257\n",
              "Satisfaction  0.665730  0.152833  0.316861\n",
              "ProdLine      0.712334  0.240862  0.242894\n",
              "DelSpeed      0.906538  0.022931  0.169637\n",
              "OrdBilling    0.752411  0.065563  0.123499\n",
              "CompRes       0.891561  0.036597  0.119244\n",
              "TechSup       0.032480  0.871412  0.045281\n",
              "WartyClaim    0.116491  0.884843  0.034600"
            ]
          },
          "execution_count": 20,
          "metadata": {},
          "output_type": "execute_result"
        }
      ],
      "source": [
        "lmatrix.sort_values('Factor 3', ascending=False)"
      ]
    },
    {
      "cell_type": "markdown",
      "metadata": {
        "id": "k1et4TWw96me"
      },
      "source": [
        "**Proszę pogrupować zmienne na faktory zgodnie z najwyższą wartością ładunku czynnikowego:**\n",
        "\n",
        "**wartość graniczna:** 0,50 (zmienne z wartością ładunku poniżej tej wartości nie zostają przypisane do żadnego czynnika)"
      ]
    },
    {
      "cell_type": "markdown",
      "metadata": {
        "id": "UHvBA9d19sxb"
      },
      "source": [
        "**UWAGA:** w grupowaniu nie bierzemy pod uwagę Satysfakcji, ponieważ jest to zmienna objaśniana."
      ]
    },
    {
      "cell_type": "markdown",
      "metadata": {
        "id": "pN6LMEjZMHDL"
      },
      "source": [
        "**KOMENTARZ:**\n",
        "\n",
        "Faktor 1: ProdLine, DelSpeed, OrdBilling, CompRes\n",
        "\n",
        "Faktor 2: WartyClaim, TechSup\n",
        "\n",
        "Faktor 3: SalesFImage, Advertising\n",
        "\n",
        "\n"
      ]
    },
    {
      "cell_type": "markdown",
      "metadata": {
        "id": "k6qtEgpmjbur"
      },
      "source": [
        "### **Zadanie:**\n",
        "Proszę przeprowadzić analizy:\n",
        "\n",
        "1) dla 3 czynników, rotacja: 'promax'\n",
        "\n",
        "2) dla 4 czynników, rotacja: 'varimax'\n",
        "\n",
        "**wartość graniczna:** 0,50 (zmienne z wartością ładunku poniżej tej wartości nie zostają przypisane do żadnego czynnika)\n",
        "\n",
        "Na podstawie wyników proszę zdecydować na ile faktorów należy pogrupować zmienne oraz jaką metodę rotacji należy wybrać dla analizowanego zbioru danych."
      ]
    },
    {
      "cell_type": "code",
      "execution_count": 21,
      "metadata": {
        "id": "WnhNJHVnWDry"
      },
      "outputs": [
        {
          "name": "stdout",
          "output_type": "stream",
          "text": [
            "[[-0.14326922  0.92546943  0.06680702]\n",
            " [ 0.92178375 -0.10732919  0.05745542]\n",
            " [ 0.15216201  0.01389804  0.53867052]\n",
            " [ 0.72147247  0.088203   -0.27549551]\n",
            " [ 0.0688549   0.20643156  0.97596107]\n",
            " [-0.23893334 -0.21855477  0.35981002]\n",
            " [-0.0643833   0.9370744   0.14452133]\n",
            " [ 0.76873541 -0.04956844  0.07675177]\n",
            " [ 0.94563208 -0.16619342  0.10042877]\n",
            " [ 0.64260798  0.09145021  0.29517341]]\n"
          ]
        }
      ],
      "source": [
        "# Rozwiązanie z 1\n",
        "fa = FactorAnalyzer(3, rotation='promax')\n",
        "fa.fit(df)\n",
        "print(fa.loadings_)\n",
        "lmatrix = pd.DataFrame(fa.loadings_, index = list(df.columns), columns = ['Factor 1', 'Factor 2', 'Factor 3'])"
      ]
    }
  ],
  "metadata": {
    "colab": {
      "provenance": []
    },
    "kernelspec": {
      "display_name": "Python 3",
      "name": "python3"
    },
    "language_info": {
      "codemirror_mode": {
        "name": "ipython",
        "version": 3
      },
      "file_extension": ".py",
      "mimetype": "text/x-python",
      "name": "python",
      "nbconvert_exporter": "python",
      "pygments_lexer": "ipython3",
      "version": "3.11.6"
    }
  },
  "nbformat": 4,
  "nbformat_minor": 0
}
