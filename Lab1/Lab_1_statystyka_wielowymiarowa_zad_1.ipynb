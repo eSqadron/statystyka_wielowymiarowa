{
  "cells": [
    {
      "cell_type": "markdown",
      "metadata": {
        "id": "RBjcRJ-ckYij"
      },
      "source": [
        "# **Biblioteki**"
      ]
    },
    {
      "cell_type": "code",
      "execution_count": 4,
      "metadata": {
        "id": "PCPeDcNVkAgY"
      },
      "outputs": [],
      "source": [
        "import pandas as pd\n",
        "import numpy as np\n",
        "import matplotlib.pyplot as plt\n",
        "from scipy.stats import skew\n",
        "from scipy.stats import kurtosis\n",
        "import sklearn\n",
        "import warnings\n",
        "import scipy\n",
        "from scipy import stats\n",
        "from sklearn.preprocessing import scale\n",
        "from scipy.stats import yeojohnson, boxcox"
      ]
    },
    {
      "cell_type": "markdown",
      "metadata": {
        "id": "oECSuTX5kc64"
      },
      "source": [
        "# **Przygotowanie danych**"
      ]
    },
    {
      "cell_type": "markdown",
      "metadata": {
        "id": "mHIrUT9Hnwuu"
      },
      "source": [
        "Dane do zadania dotyczą nieruchomości i zostały pobrane ze strony Kaggle:\n",
        "\n",
        "https://www.kaggle.com/datasets/godofprogramming/ameshousing\n",
        "\n"
      ]
    },
    {
      "cell_type": "code",
      "execution_count": 5,
      "metadata": {
        "colab": {
          "base_uri": "https://localhost:8080/",
          "height": 461
        },
        "id": "5uS3bRKFkh1i",
        "outputId": "be417e48-e709-4612-d0e1-ebaac3dbdb8a"
      },
      "outputs": [
        {
          "data": {
            "text/html": [
              "<div>\n",
              "<style scoped>\n",
              "    .dataframe tbody tr th:only-of-type {\n",
              "        vertical-align: middle;\n",
              "    }\n",
              "\n",
              "    .dataframe tbody tr th {\n",
              "        vertical-align: top;\n",
              "    }\n",
              "\n",
              "    .dataframe thead th {\n",
              "        text-align: right;\n",
              "    }\n",
              "</style>\n",
              "<table border=\"1\" class=\"dataframe\">\n",
              "  <thead>\n",
              "    <tr style=\"text-align: right;\">\n",
              "      <th></th>\n",
              "      <th>Order</th>\n",
              "      <th>PID</th>\n",
              "      <th>MS SubClass</th>\n",
              "      <th>MS Zoning</th>\n",
              "      <th>Lot Frontage</th>\n",
              "      <th>Lot Area</th>\n",
              "      <th>Street</th>\n",
              "      <th>Alley</th>\n",
              "      <th>Lot Shape</th>\n",
              "      <th>Land Contour</th>\n",
              "      <th>...</th>\n",
              "      <th>Pool Area</th>\n",
              "      <th>Pool QC</th>\n",
              "      <th>Fence</th>\n",
              "      <th>Misc Feature</th>\n",
              "      <th>Misc Val</th>\n",
              "      <th>Mo Sold</th>\n",
              "      <th>Yr Sold</th>\n",
              "      <th>Sale Type</th>\n",
              "      <th>Sale Condition</th>\n",
              "      <th>SalePrice</th>\n",
              "    </tr>\n",
              "  </thead>\n",
              "  <tbody>\n",
              "    <tr>\n",
              "      <th>0</th>\n",
              "      <td>1</td>\n",
              "      <td>526301100</td>\n",
              "      <td>20</td>\n",
              "      <td>RL</td>\n",
              "      <td>141.0</td>\n",
              "      <td>31770</td>\n",
              "      <td>Pave</td>\n",
              "      <td>NaN</td>\n",
              "      <td>IR1</td>\n",
              "      <td>Lvl</td>\n",
              "      <td>...</td>\n",
              "      <td>0</td>\n",
              "      <td>NaN</td>\n",
              "      <td>NaN</td>\n",
              "      <td>NaN</td>\n",
              "      <td>0</td>\n",
              "      <td>5</td>\n",
              "      <td>2010</td>\n",
              "      <td>WD</td>\n",
              "      <td>Normal</td>\n",
              "      <td>215000</td>\n",
              "    </tr>\n",
              "    <tr>\n",
              "      <th>1</th>\n",
              "      <td>2</td>\n",
              "      <td>526350040</td>\n",
              "      <td>20</td>\n",
              "      <td>RH</td>\n",
              "      <td>80.0</td>\n",
              "      <td>11622</td>\n",
              "      <td>Pave</td>\n",
              "      <td>NaN</td>\n",
              "      <td>Reg</td>\n",
              "      <td>Lvl</td>\n",
              "      <td>...</td>\n",
              "      <td>0</td>\n",
              "      <td>NaN</td>\n",
              "      <td>MnPrv</td>\n",
              "      <td>NaN</td>\n",
              "      <td>0</td>\n",
              "      <td>6</td>\n",
              "      <td>2010</td>\n",
              "      <td>WD</td>\n",
              "      <td>Normal</td>\n",
              "      <td>105000</td>\n",
              "    </tr>\n",
              "    <tr>\n",
              "      <th>2</th>\n",
              "      <td>3</td>\n",
              "      <td>526351010</td>\n",
              "      <td>20</td>\n",
              "      <td>RL</td>\n",
              "      <td>81.0</td>\n",
              "      <td>14267</td>\n",
              "      <td>Pave</td>\n",
              "      <td>NaN</td>\n",
              "      <td>IR1</td>\n",
              "      <td>Lvl</td>\n",
              "      <td>...</td>\n",
              "      <td>0</td>\n",
              "      <td>NaN</td>\n",
              "      <td>NaN</td>\n",
              "      <td>Gar2</td>\n",
              "      <td>12500</td>\n",
              "      <td>6</td>\n",
              "      <td>2010</td>\n",
              "      <td>WD</td>\n",
              "      <td>Normal</td>\n",
              "      <td>172000</td>\n",
              "    </tr>\n",
              "    <tr>\n",
              "      <th>3</th>\n",
              "      <td>4</td>\n",
              "      <td>526353030</td>\n",
              "      <td>20</td>\n",
              "      <td>RL</td>\n",
              "      <td>93.0</td>\n",
              "      <td>11160</td>\n",
              "      <td>Pave</td>\n",
              "      <td>NaN</td>\n",
              "      <td>Reg</td>\n",
              "      <td>Lvl</td>\n",
              "      <td>...</td>\n",
              "      <td>0</td>\n",
              "      <td>NaN</td>\n",
              "      <td>NaN</td>\n",
              "      <td>NaN</td>\n",
              "      <td>0</td>\n",
              "      <td>4</td>\n",
              "      <td>2010</td>\n",
              "      <td>WD</td>\n",
              "      <td>Normal</td>\n",
              "      <td>244000</td>\n",
              "    </tr>\n",
              "    <tr>\n",
              "      <th>4</th>\n",
              "      <td>5</td>\n",
              "      <td>527105010</td>\n",
              "      <td>60</td>\n",
              "      <td>RL</td>\n",
              "      <td>74.0</td>\n",
              "      <td>13830</td>\n",
              "      <td>Pave</td>\n",
              "      <td>NaN</td>\n",
              "      <td>IR1</td>\n",
              "      <td>Lvl</td>\n",
              "      <td>...</td>\n",
              "      <td>0</td>\n",
              "      <td>NaN</td>\n",
              "      <td>MnPrv</td>\n",
              "      <td>NaN</td>\n",
              "      <td>0</td>\n",
              "      <td>3</td>\n",
              "      <td>2010</td>\n",
              "      <td>WD</td>\n",
              "      <td>Normal</td>\n",
              "      <td>189900</td>\n",
              "    </tr>\n",
              "    <tr>\n",
              "      <th>...</th>\n",
              "      <td>...</td>\n",
              "      <td>...</td>\n",
              "      <td>...</td>\n",
              "      <td>...</td>\n",
              "      <td>...</td>\n",
              "      <td>...</td>\n",
              "      <td>...</td>\n",
              "      <td>...</td>\n",
              "      <td>...</td>\n",
              "      <td>...</td>\n",
              "      <td>...</td>\n",
              "      <td>...</td>\n",
              "      <td>...</td>\n",
              "      <td>...</td>\n",
              "      <td>...</td>\n",
              "      <td>...</td>\n",
              "      <td>...</td>\n",
              "      <td>...</td>\n",
              "      <td>...</td>\n",
              "      <td>...</td>\n",
              "      <td>...</td>\n",
              "    </tr>\n",
              "    <tr>\n",
              "      <th>2925</th>\n",
              "      <td>2926</td>\n",
              "      <td>923275080</td>\n",
              "      <td>80</td>\n",
              "      <td>RL</td>\n",
              "      <td>37.0</td>\n",
              "      <td>7937</td>\n",
              "      <td>Pave</td>\n",
              "      <td>NaN</td>\n",
              "      <td>IR1</td>\n",
              "      <td>Lvl</td>\n",
              "      <td>...</td>\n",
              "      <td>0</td>\n",
              "      <td>NaN</td>\n",
              "      <td>GdPrv</td>\n",
              "      <td>NaN</td>\n",
              "      <td>0</td>\n",
              "      <td>3</td>\n",
              "      <td>2006</td>\n",
              "      <td>WD</td>\n",
              "      <td>Normal</td>\n",
              "      <td>142500</td>\n",
              "    </tr>\n",
              "    <tr>\n",
              "      <th>2926</th>\n",
              "      <td>2927</td>\n",
              "      <td>923276100</td>\n",
              "      <td>20</td>\n",
              "      <td>RL</td>\n",
              "      <td>NaN</td>\n",
              "      <td>8885</td>\n",
              "      <td>Pave</td>\n",
              "      <td>NaN</td>\n",
              "      <td>IR1</td>\n",
              "      <td>Low</td>\n",
              "      <td>...</td>\n",
              "      <td>0</td>\n",
              "      <td>NaN</td>\n",
              "      <td>MnPrv</td>\n",
              "      <td>NaN</td>\n",
              "      <td>0</td>\n",
              "      <td>6</td>\n",
              "      <td>2006</td>\n",
              "      <td>WD</td>\n",
              "      <td>Normal</td>\n",
              "      <td>131000</td>\n",
              "    </tr>\n",
              "    <tr>\n",
              "      <th>2927</th>\n",
              "      <td>2928</td>\n",
              "      <td>923400125</td>\n",
              "      <td>85</td>\n",
              "      <td>RL</td>\n",
              "      <td>62.0</td>\n",
              "      <td>10441</td>\n",
              "      <td>Pave</td>\n",
              "      <td>NaN</td>\n",
              "      <td>Reg</td>\n",
              "      <td>Lvl</td>\n",
              "      <td>...</td>\n",
              "      <td>0</td>\n",
              "      <td>NaN</td>\n",
              "      <td>MnPrv</td>\n",
              "      <td>Shed</td>\n",
              "      <td>700</td>\n",
              "      <td>7</td>\n",
              "      <td>2006</td>\n",
              "      <td>WD</td>\n",
              "      <td>Normal</td>\n",
              "      <td>132000</td>\n",
              "    </tr>\n",
              "    <tr>\n",
              "      <th>2928</th>\n",
              "      <td>2929</td>\n",
              "      <td>924100070</td>\n",
              "      <td>20</td>\n",
              "      <td>RL</td>\n",
              "      <td>77.0</td>\n",
              "      <td>10010</td>\n",
              "      <td>Pave</td>\n",
              "      <td>NaN</td>\n",
              "      <td>Reg</td>\n",
              "      <td>Lvl</td>\n",
              "      <td>...</td>\n",
              "      <td>0</td>\n",
              "      <td>NaN</td>\n",
              "      <td>NaN</td>\n",
              "      <td>NaN</td>\n",
              "      <td>0</td>\n",
              "      <td>4</td>\n",
              "      <td>2006</td>\n",
              "      <td>WD</td>\n",
              "      <td>Normal</td>\n",
              "      <td>170000</td>\n",
              "    </tr>\n",
              "    <tr>\n",
              "      <th>2929</th>\n",
              "      <td>2930</td>\n",
              "      <td>924151050</td>\n",
              "      <td>60</td>\n",
              "      <td>RL</td>\n",
              "      <td>74.0</td>\n",
              "      <td>9627</td>\n",
              "      <td>Pave</td>\n",
              "      <td>NaN</td>\n",
              "      <td>Reg</td>\n",
              "      <td>Lvl</td>\n",
              "      <td>...</td>\n",
              "      <td>0</td>\n",
              "      <td>NaN</td>\n",
              "      <td>NaN</td>\n",
              "      <td>NaN</td>\n",
              "      <td>0</td>\n",
              "      <td>11</td>\n",
              "      <td>2006</td>\n",
              "      <td>WD</td>\n",
              "      <td>Normal</td>\n",
              "      <td>188000</td>\n",
              "    </tr>\n",
              "  </tbody>\n",
              "</table>\n",
              "<p>2930 rows × 82 columns</p>\n",
              "</div>"
            ],
            "text/plain": [
              "      Order        PID  MS SubClass MS Zoning  Lot Frontage  Lot Area Street  \\\n",
              "0         1  526301100           20        RL         141.0     31770   Pave   \n",
              "1         2  526350040           20        RH          80.0     11622   Pave   \n",
              "2         3  526351010           20        RL          81.0     14267   Pave   \n",
              "3         4  526353030           20        RL          93.0     11160   Pave   \n",
              "4         5  527105010           60        RL          74.0     13830   Pave   \n",
              "...     ...        ...          ...       ...           ...       ...    ...   \n",
              "2925   2926  923275080           80        RL          37.0      7937   Pave   \n",
              "2926   2927  923276100           20        RL           NaN      8885   Pave   \n",
              "2927   2928  923400125           85        RL          62.0     10441   Pave   \n",
              "2928   2929  924100070           20        RL          77.0     10010   Pave   \n",
              "2929   2930  924151050           60        RL          74.0      9627   Pave   \n",
              "\n",
              "     Alley Lot Shape Land Contour  ... Pool Area Pool QC  Fence Misc Feature  \\\n",
              "0      NaN       IR1          Lvl  ...         0     NaN    NaN          NaN   \n",
              "1      NaN       Reg          Lvl  ...         0     NaN  MnPrv          NaN   \n",
              "2      NaN       IR1          Lvl  ...         0     NaN    NaN         Gar2   \n",
              "3      NaN       Reg          Lvl  ...         0     NaN    NaN          NaN   \n",
              "4      NaN       IR1          Lvl  ...         0     NaN  MnPrv          NaN   \n",
              "...    ...       ...          ...  ...       ...     ...    ...          ...   \n",
              "2925   NaN       IR1          Lvl  ...         0     NaN  GdPrv          NaN   \n",
              "2926   NaN       IR1          Low  ...         0     NaN  MnPrv          NaN   \n",
              "2927   NaN       Reg          Lvl  ...         0     NaN  MnPrv         Shed   \n",
              "2928   NaN       Reg          Lvl  ...         0     NaN    NaN          NaN   \n",
              "2929   NaN       Reg          Lvl  ...         0     NaN    NaN          NaN   \n",
              "\n",
              "     Misc Val Mo Sold Yr Sold Sale Type  Sale Condition  SalePrice  \n",
              "0           0       5    2010       WD           Normal     215000  \n",
              "1           0       6    2010       WD           Normal     105000  \n",
              "2       12500       6    2010       WD           Normal     172000  \n",
              "3           0       4    2010       WD           Normal     244000  \n",
              "4           0       3    2010       WD           Normal     189900  \n",
              "...       ...     ...     ...       ...             ...        ...  \n",
              "2925        0       3    2006       WD           Normal     142500  \n",
              "2926        0       6    2006       WD           Normal     131000  \n",
              "2927      700       7    2006       WD           Normal     132000  \n",
              "2928        0       4    2006       WD           Normal     170000  \n",
              "2929        0      11    2006       WD           Normal     188000  \n",
              "\n",
              "[2930 rows x 82 columns]"
            ]
          },
          "execution_count": 5,
          "metadata": {},
          "output_type": "execute_result"
        }
      ],
      "source": [
        "# Wczytanie danych\n",
        "\n",
        "df = pd.read_csv('AmesHousing.csv')\n",
        "df"
      ]
    },
    {
      "cell_type": "code",
      "execution_count": 6,
      "metadata": {
        "colab": {
          "base_uri": "https://localhost:8080/"
        },
        "id": "T8X01Ps9dK2s",
        "outputId": "ee1be025-c9ff-4bbb-fce6-0df7d9649a33"
      },
      "outputs": [
        {
          "name": "stdout",
          "output_type": "stream",
          "text": [
            "<class 'pandas.core.frame.DataFrame'>\n",
            "RangeIndex: 2930 entries, 0 to 2929\n",
            "Data columns (total 82 columns):\n",
            " #   Column           Non-Null Count  Dtype  \n",
            "---  ------           --------------  -----  \n",
            " 0   Order            2930 non-null   int64  \n",
            " 1   PID              2930 non-null   int64  \n",
            " 2   MS SubClass      2930 non-null   int64  \n",
            " 3   MS Zoning        2930 non-null   object \n",
            " 4   Lot Frontage     2440 non-null   float64\n",
            " 5   Lot Area         2930 non-null   int64  \n",
            " 6   Street           2930 non-null   object \n",
            " 7   Alley            198 non-null    object \n",
            " 8   Lot Shape        2930 non-null   object \n",
            " 9   Land Contour     2930 non-null   object \n",
            " 10  Utilities        2930 non-null   object \n",
            " 11  Lot Config       2930 non-null   object \n",
            " 12  Land Slope       2930 non-null   object \n",
            " 13  Neighborhood     2930 non-null   object \n",
            " 14  Condition 1      2930 non-null   object \n",
            " 15  Condition 2      2930 non-null   object \n",
            " 16  Bldg Type        2930 non-null   object \n",
            " 17  House Style      2930 non-null   object \n",
            " 18  Overall Qual     2930 non-null   int64  \n",
            " 19  Overall Cond     2930 non-null   int64  \n",
            " 20  Year Built       2930 non-null   int64  \n",
            " 21  Year Remod/Add   2930 non-null   int64  \n",
            " 22  Roof Style       2930 non-null   object \n",
            " 23  Roof Matl        2930 non-null   object \n",
            " 24  Exterior 1st     2930 non-null   object \n",
            " 25  Exterior 2nd     2930 non-null   object \n",
            " 26  Mas Vnr Type     1155 non-null   object \n",
            " 27  Mas Vnr Area     2907 non-null   float64\n",
            " 28  Exter Qual       2930 non-null   object \n",
            " 29  Exter Cond       2930 non-null   object \n",
            " 30  Foundation       2930 non-null   object \n",
            " 31  Bsmt Qual        2850 non-null   object \n",
            " 32  Bsmt Cond        2850 non-null   object \n",
            " 33  Bsmt Exposure    2847 non-null   object \n",
            " 34  BsmtFin Type 1   2850 non-null   object \n",
            " 35  BsmtFin SF 1     2929 non-null   float64\n",
            " 36  BsmtFin Type 2   2849 non-null   object \n",
            " 37  BsmtFin SF 2     2929 non-null   float64\n",
            " 38  Bsmt Unf SF      2929 non-null   float64\n",
            " 39  Total Bsmt SF    2929 non-null   float64\n",
            " 40  Heating          2930 non-null   object \n",
            " 41  Heating QC       2930 non-null   object \n",
            " 42  Central Air      2930 non-null   object \n",
            " 43  Electrical       2929 non-null   object \n",
            " 44  1st Flr SF       2930 non-null   int64  \n",
            " 45  2nd Flr SF       2930 non-null   int64  \n",
            " 46  Low Qual Fin SF  2930 non-null   int64  \n",
            " 47  Gr Liv Area      2930 non-null   int64  \n",
            " 48  Bsmt Full Bath   2928 non-null   float64\n",
            " 49  Bsmt Half Bath   2928 non-null   float64\n",
            " 50  Full Bath        2930 non-null   int64  \n",
            " 51  Half Bath        2930 non-null   int64  \n",
            " 52  Bedroom AbvGr    2930 non-null   int64  \n",
            " 53  Kitchen AbvGr    2930 non-null   int64  \n",
            " 54  Kitchen Qual     2930 non-null   object \n",
            " 55  TotRms AbvGrd    2930 non-null   int64  \n",
            " 56  Functional       2930 non-null   object \n",
            " 57  Fireplaces       2930 non-null   int64  \n",
            " 58  Fireplace Qu     1508 non-null   object \n",
            " 59  Garage Type      2773 non-null   object \n",
            " 60  Garage Yr Blt    2771 non-null   float64\n",
            " 61  Garage Finish    2771 non-null   object \n",
            " 62  Garage Cars      2929 non-null   float64\n",
            " 63  Garage Area      2929 non-null   float64\n",
            " 64  Garage Qual      2771 non-null   object \n",
            " 65  Garage Cond      2771 non-null   object \n",
            " 66  Paved Drive      2930 non-null   object \n",
            " 67  Wood Deck SF     2930 non-null   int64  \n",
            " 68  Open Porch SF    2930 non-null   int64  \n",
            " 69  Enclosed Porch   2930 non-null   int64  \n",
            " 70  3Ssn Porch       2930 non-null   int64  \n",
            " 71  Screen Porch     2930 non-null   int64  \n",
            " 72  Pool Area        2930 non-null   int64  \n",
            " 73  Pool QC          13 non-null     object \n",
            " 74  Fence            572 non-null    object \n",
            " 75  Misc Feature     106 non-null    object \n",
            " 76  Misc Val         2930 non-null   int64  \n",
            " 77  Mo Sold          2930 non-null   int64  \n",
            " 78  Yr Sold          2930 non-null   int64  \n",
            " 79  Sale Type        2930 non-null   object \n",
            " 80  Sale Condition   2930 non-null   object \n",
            " 81  SalePrice        2930 non-null   int64  \n",
            "dtypes: float64(11), int64(28), object(43)\n",
            "memory usage: 1.8+ MB\n"
          ]
        }
      ],
      "source": [
        "# Podstawowe informacje na temat zbioru danych\n",
        "df.info()"
      ]
    },
    {
      "cell_type": "markdown",
      "metadata": {
        "id": "FpHPR6k0yTSX"
      },
      "source": [
        "**Na początku koniecznym jest dokonanie selekcji, interesują nas jedynie dane mierzalne (liczbowe), które są dodatnie**\n"
      ]
    },
    {
      "cell_type": "code",
      "execution_count": 9,
      "metadata": {
        "id": "FrsBimJ-yhDh"
      },
      "outputs": [],
      "source": [
        "# wybieramy wszystkie typy danych z wyjątkiem typu object\n",
        "df = df.select_dtypes(exclude = ['object'])\n",
        "\n",
        "# usuwamy kolumny, w których występują wartości niedodatnie\n",
        "for col in df.columns:\n",
        "  df = df.sort_values(by = col)\n",
        "  if df[col].iloc[0] <= 0:\n",
        "    df.drop(col, axis = 1, inplace = True)\n",
        "\n",
        "# następnie usuwamy brakujące wartości i resetujemy indeksy\n",
        "df = df.dropna()\n",
        "df = df.reset_index(drop = True)"
      ]
    },
    {
      "cell_type": "code",
      "execution_count": 10,
      "metadata": {
        "colab": {
          "base_uri": "https://localhost:8080/",
          "height": 478
        },
        "id": "QLUzEPMCGhH7",
        "outputId": "8b13b5f5-81e3-4d3f-9023-3145c490aeae"
      },
      "outputs": [
        {
          "data": {
            "text/html": [
              "<div>\n",
              "<style scoped>\n",
              "    .dataframe tbody tr th:only-of-type {\n",
              "        vertical-align: middle;\n",
              "    }\n",
              "\n",
              "    .dataframe tbody tr th {\n",
              "        vertical-align: top;\n",
              "    }\n",
              "\n",
              "    .dataframe thead th {\n",
              "        text-align: right;\n",
              "    }\n",
              "</style>\n",
              "<table border=\"1\" class=\"dataframe\">\n",
              "  <thead>\n",
              "    <tr style=\"text-align: right;\">\n",
              "      <th></th>\n",
              "      <th>Order</th>\n",
              "      <th>PID</th>\n",
              "      <th>MS SubClass</th>\n",
              "      <th>Lot Frontage</th>\n",
              "      <th>Lot Area</th>\n",
              "      <th>Overall Qual</th>\n",
              "      <th>Overall Cond</th>\n",
              "      <th>Year Built</th>\n",
              "      <th>Year Remod/Add</th>\n",
              "      <th>1st Flr SF</th>\n",
              "      <th>Gr Liv Area</th>\n",
              "      <th>TotRms AbvGrd</th>\n",
              "      <th>Garage Yr Blt</th>\n",
              "      <th>Mo Sold</th>\n",
              "      <th>Yr Sold</th>\n",
              "      <th>SalePrice</th>\n",
              "      <th>age</th>\n",
              "    </tr>\n",
              "  </thead>\n",
              "  <tbody>\n",
              "    <tr>\n",
              "      <th>0</th>\n",
              "      <td>1720</td>\n",
              "      <td>528181060</td>\n",
              "      <td>120</td>\n",
              "      <td>34.0</td>\n",
              "      <td>4590</td>\n",
              "      <td>8</td>\n",
              "      <td>5</td>\n",
              "      <td>2006</td>\n",
              "      <td>2006</td>\n",
              "      <td>1554</td>\n",
              "      <td>1554</td>\n",
              "      <td>6</td>\n",
              "      <td>2006.0</td>\n",
              "      <td>8</td>\n",
              "      <td>2007</td>\n",
              "      <td>209500</td>\n",
              "      <td>1</td>\n",
              "    </tr>\n",
              "    <tr>\n",
              "      <th>1</th>\n",
              "      <td>2405</td>\n",
              "      <td>528180080</td>\n",
              "      <td>120</td>\n",
              "      <td>48.0</td>\n",
              "      <td>5911</td>\n",
              "      <td>9</td>\n",
              "      <td>5</td>\n",
              "      <td>2005</td>\n",
              "      <td>2005</td>\n",
              "      <td>1565</td>\n",
              "      <td>1565</td>\n",
              "      <td>6</td>\n",
              "      <td>2005.0</td>\n",
              "      <td>3</td>\n",
              "      <td>2006</td>\n",
              "      <td>282500</td>\n",
              "      <td>1</td>\n",
              "    </tr>\n",
              "    <tr>\n",
              "      <th>2</th>\n",
              "      <td>2827</td>\n",
              "      <td>908186070</td>\n",
              "      <td>180</td>\n",
              "      <td>35.0</td>\n",
              "      <td>3675</td>\n",
              "      <td>6</td>\n",
              "      <td>5</td>\n",
              "      <td>2005</td>\n",
              "      <td>2006</td>\n",
              "      <td>1072</td>\n",
              "      <td>1072</td>\n",
              "      <td>5</td>\n",
              "      <td>2005.0</td>\n",
              "      <td>6</td>\n",
              "      <td>2006</td>\n",
              "      <td>140000</td>\n",
              "      <td>1</td>\n",
              "    </tr>\n",
              "    <tr>\n",
              "      <th>3</th>\n",
              "      <td>1695</td>\n",
              "      <td>528108160</td>\n",
              "      <td>60</td>\n",
              "      <td>109.0</td>\n",
              "      <td>14154</td>\n",
              "      <td>7</td>\n",
              "      <td>5</td>\n",
              "      <td>2006</td>\n",
              "      <td>2006</td>\n",
              "      <td>1071</td>\n",
              "      <td>2172</td>\n",
              "      <td>9</td>\n",
              "      <td>2006.0</td>\n",
              "      <td>8</td>\n",
              "      <td>2007</td>\n",
              "      <td>280000</td>\n",
              "      <td>1</td>\n",
              "    </tr>\n",
              "    <tr>\n",
              "      <th>4</th>\n",
              "      <td>2763</td>\n",
              "      <td>906394060</td>\n",
              "      <td>60</td>\n",
              "      <td>78.0</td>\n",
              "      <td>9316</td>\n",
              "      <td>7</td>\n",
              "      <td>5</td>\n",
              "      <td>2005</td>\n",
              "      <td>2005</td>\n",
              "      <td>784</td>\n",
              "      <td>1596</td>\n",
              "      <td>6</td>\n",
              "      <td>2005.0</td>\n",
              "      <td>6</td>\n",
              "      <td>2006</td>\n",
              "      <td>181000</td>\n",
              "      <td>1</td>\n",
              "    </tr>\n",
              "    <tr>\n",
              "      <th>...</th>\n",
              "      <td>...</td>\n",
              "      <td>...</td>\n",
              "      <td>...</td>\n",
              "      <td>...</td>\n",
              "      <td>...</td>\n",
              "      <td>...</td>\n",
              "      <td>...</td>\n",
              "      <td>...</td>\n",
              "      <td>...</td>\n",
              "      <td>...</td>\n",
              "      <td>...</td>\n",
              "      <td>...</td>\n",
              "      <td>...</td>\n",
              "      <td>...</td>\n",
              "      <td>...</td>\n",
              "      <td>...</td>\n",
              "      <td>...</td>\n",
              "    </tr>\n",
              "    <tr>\n",
              "      <th>2174</th>\n",
              "      <td>1996</td>\n",
              "      <td>902304040</td>\n",
              "      <td>70</td>\n",
              "      <td>90.0</td>\n",
              "      <td>9900</td>\n",
              "      <td>6</td>\n",
              "      <td>4</td>\n",
              "      <td>1880</td>\n",
              "      <td>1950</td>\n",
              "      <td>1178</td>\n",
              "      <td>2210</td>\n",
              "      <td>8</td>\n",
              "      <td>1930.0</td>\n",
              "      <td>5</td>\n",
              "      <td>2007</td>\n",
              "      <td>117500</td>\n",
              "      <td>127</td>\n",
              "    </tr>\n",
              "    <tr>\n",
              "      <th>2175</th>\n",
              "      <td>1998</td>\n",
              "      <td>902330090</td>\n",
              "      <td>75</td>\n",
              "      <td>75.0</td>\n",
              "      <td>13500</td>\n",
              "      <td>7</td>\n",
              "      <td>8</td>\n",
              "      <td>1879</td>\n",
              "      <td>1987</td>\n",
              "      <td>1312</td>\n",
              "      <td>2454</td>\n",
              "      <td>8</td>\n",
              "      <td>1950.0</td>\n",
              "      <td>2</td>\n",
              "      <td>2007</td>\n",
              "      <td>185000</td>\n",
              "      <td>128</td>\n",
              "    </tr>\n",
              "    <tr>\n",
              "      <th>2176</th>\n",
              "      <td>1307</td>\n",
              "      <td>902207220</td>\n",
              "      <td>75</td>\n",
              "      <td>87.0</td>\n",
              "      <td>18386</td>\n",
              "      <td>7</td>\n",
              "      <td>9</td>\n",
              "      <td>1880</td>\n",
              "      <td>2002</td>\n",
              "      <td>1675</td>\n",
              "      <td>3493</td>\n",
              "      <td>10</td>\n",
              "      <td>2003.0</td>\n",
              "      <td>5</td>\n",
              "      <td>2008</td>\n",
              "      <td>295000</td>\n",
              "      <td>128</td>\n",
              "    </tr>\n",
              "    <tr>\n",
              "      <th>2177</th>\n",
              "      <td>717</td>\n",
              "      <td>902326030</td>\n",
              "      <td>70</td>\n",
              "      <td>65.0</td>\n",
              "      <td>11700</td>\n",
              "      <td>7</td>\n",
              "      <td>7</td>\n",
              "      <td>1880</td>\n",
              "      <td>2003</td>\n",
              "      <td>1320</td>\n",
              "      <td>2640</td>\n",
              "      <td>8</td>\n",
              "      <td>1950.0</td>\n",
              "      <td>5</td>\n",
              "      <td>2009</td>\n",
              "      <td>265979</td>\n",
              "      <td>129</td>\n",
              "    </tr>\n",
              "    <tr>\n",
              "      <th>2178</th>\n",
              "      <td>807</td>\n",
              "      <td>906226060</td>\n",
              "      <td>70</td>\n",
              "      <td>120.0</td>\n",
              "      <td>26400</td>\n",
              "      <td>5</td>\n",
              "      <td>7</td>\n",
              "      <td>1880</td>\n",
              "      <td>2007</td>\n",
              "      <td>1288</td>\n",
              "      <td>2016</td>\n",
              "      <td>7</td>\n",
              "      <td>1900.0</td>\n",
              "      <td>6</td>\n",
              "      <td>2009</td>\n",
              "      <td>131000</td>\n",
              "      <td>129</td>\n",
              "    </tr>\n",
              "  </tbody>\n",
              "</table>\n",
              "<p>2179 rows × 17 columns</p>\n",
              "</div>"
            ],
            "text/plain": [
              "      Order        PID  MS SubClass  Lot Frontage  Lot Area  Overall Qual  \\\n",
              "0      1720  528181060          120          34.0      4590             8   \n",
              "1      2405  528180080          120          48.0      5911             9   \n",
              "2      2827  908186070          180          35.0      3675             6   \n",
              "3      1695  528108160           60         109.0     14154             7   \n",
              "4      2763  906394060           60          78.0      9316             7   \n",
              "...     ...        ...          ...           ...       ...           ...   \n",
              "2174   1996  902304040           70          90.0      9900             6   \n",
              "2175   1998  902330090           75          75.0     13500             7   \n",
              "2176   1307  902207220           75          87.0     18386             7   \n",
              "2177    717  902326030           70          65.0     11700             7   \n",
              "2178    807  906226060           70         120.0     26400             5   \n",
              "\n",
              "      Overall Cond  Year Built  Year Remod/Add  1st Flr SF  Gr Liv Area  \\\n",
              "0                5        2006            2006        1554         1554   \n",
              "1                5        2005            2005        1565         1565   \n",
              "2                5        2005            2006        1072         1072   \n",
              "3                5        2006            2006        1071         2172   \n",
              "4                5        2005            2005         784         1596   \n",
              "...            ...         ...             ...         ...          ...   \n",
              "2174             4        1880            1950        1178         2210   \n",
              "2175             8        1879            1987        1312         2454   \n",
              "2176             9        1880            2002        1675         3493   \n",
              "2177             7        1880            2003        1320         2640   \n",
              "2178             7        1880            2007        1288         2016   \n",
              "\n",
              "      TotRms AbvGrd  Garage Yr Blt  Mo Sold  Yr Sold  SalePrice  age  \n",
              "0                 6         2006.0        8     2007     209500    1  \n",
              "1                 6         2005.0        3     2006     282500    1  \n",
              "2                 5         2005.0        6     2006     140000    1  \n",
              "3                 9         2006.0        8     2007     280000    1  \n",
              "4                 6         2005.0        6     2006     181000    1  \n",
              "...             ...            ...      ...      ...        ...  ...  \n",
              "2174              8         1930.0        5     2007     117500  127  \n",
              "2175              8         1950.0        2     2007     185000  128  \n",
              "2176             10         2003.0        5     2008     295000  128  \n",
              "2177              8         1950.0        5     2009     265979  129  \n",
              "2178              7         1900.0        6     2009     131000  129  \n",
              "\n",
              "[2179 rows x 17 columns]"
            ]
          },
          "execution_count": 10,
          "metadata": {},
          "output_type": "execute_result"
        }
      ],
      "source": [
        "# Do naszego zbioru dodajemy zmienną, która określa wiek domu (różnica między rokiem sprzedaży a rokiem budowy)\n",
        "\n",
        "df['age'] =  df['Yr Sold'] - df['Year Built']\n",
        "df = df[df['age'] > 0]       # usuwamy ewentualne błędne dane, w których rok budowy jest późniejszy niż rok sprzedaży\n",
        "df"
      ]
    },
    {
      "cell_type": "markdown",
      "metadata": {
        "id": "cLI9z1sMD1Q9"
      },
      "source": [
        "**Do analizy wybierane zostało kilka zmiennych, których rozkłady będziemy transformować do rozkładów normalnych.**"
      ]
    },
    {
      "cell_type": "code",
      "execution_count": 11,
      "metadata": {
        "id": "G-64m1aLjCtF"
      },
      "outputs": [],
      "source": [
        "age = df['age']                                     # wiek domu\n",
        "first_flr = df['1st Flr SF']                        # powierzchnia parteru\n",
        "l_Frontage = df['Lot Frontage']                     # frontowa linia działki\n",
        "l_Area = df['Lot Area']                             # powierzchnia działki"
      ]
    },
    {
      "cell_type": "markdown",
      "metadata": {
        "id": "D_osDyWye6-I"
      },
      "source": [
        "# **BADANIE NORMALNOŚCI ROZKŁADÓW - NORMALIZACJA ZMIENNYCH**"
      ]
    },
    {
      "cell_type": "markdown",
      "metadata": {
        "id": "fKU6xacffIia"
      },
      "source": [
        "## Określenie czy rozkład jest normalny\n",
        "\n",
        "Sposoby badania czy rozkład jest normalny:\n",
        "\n",
        "1. analiza histogramu,\n",
        "\n",
        "2. oblicznie skośności oraz kurtozy,\n",
        "\n",
        "3. analiza wykresów P-P,\n",
        "\n",
        "4. testy normalności."
      ]
    },
    {
      "cell_type": "markdown",
      "metadata": {
        "id": "gAGUfXVMLHTH"
      },
      "source": [
        "### **Histogram**\n",
        "\n",
        "Proszę skomentować wykres histogramu oraz  wykres pudełkowy."
      ]
    },
    {
      "cell_type": "code",
      "execution_count": 12,
      "metadata": {
        "colab": {
          "base_uri": "https://localhost:8080/",
          "height": 430
        },
        "id": "CKqAskwIL5qP",
        "outputId": "8977a004-d292-48cb-dc76-30793cd2cce4"
      },
      "outputs": [
        {
          "data": {
            "image/png": "[encoded data removed]",
            "text/plain": [
              "<Figure size 640x480 with 1 Axes>"
            ]
          },
          "metadata": {},
          "output_type": "display_data"
        }
      ],
      "source": [
        "# Histogram\n",
        "\n",
        "plt.hist(l_Area, bins = 100)\n",
        "plt.grid(alpha = 0.5)\n",
        "plt.show()"
      ]
    },
    {
      "cell_type": "markdown",
      "metadata": {
        "id": "AnYSs187OKP8"
      },
      "source": [
        "Kwartyle dzielą wszystkie nasze obserwacje na cztery równe co do liczności obserwacji grupy. Kwartyl pierwszy (Q1)  dzieli obserwacje w stosunku 25% - 75%, co oznacza, że 25% obserwacji jest niższa bądź równa wartości I-ego kwartyla, a 75% obserwacji jest równa bądź większa niż wartość I-ego kwartyla. Kwartyl drugi (Q2), inaczej zwany medianą dzieli obserwacje na dwie części w stosunku 50%-50%. Kwartyl trzeci (Q3) dzieli obserwacje w stosunku 75% - 25%, co oznacza, że 75% obserwacji jest niższa bądź równa wartości III-ego kwartyla, a 25% obserwacji jest równa bądź większa niż wartość III-ego kwartyla."
      ]
    },
    {
      "cell_type": "markdown",
      "metadata": {
        "id": "fPPen2AUORGr"
      },
      "source": [
        "![image.png](data:image/png;base64,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)"
      ]
    },
    {
      "cell_type": "code",
      "execution_count": 13,
      "metadata": {
        "colab": {
          "base_uri": "https://localhost:8080/",
          "height": 430
        },
        "id": "rOp4g7vYNwUY",
        "outputId": "34e1d29f-6c6b-462d-fd45-b7ecb96f7748"
      },
      "outputs": [
        {
          "data": {
            "image/png": "[encoded data removed]",
            "text/plain": [
              "<Figure size 640x480 with 1 Axes>"
            ]
          },
          "metadata": {},
          "output_type": "display_data"
        }
      ],
      "source": [
        "# boxplot\n",
        "plt.boxplot(l_Area, vert=False)\n",
        "plt.grid(alpha=0.3)\n",
        "plt.show()"
      ]
    },
    {
      "cell_type": "markdown",
      "metadata": {
        "id": "_bCmmGN4NaLD"
      },
      "source": [
        "**Komentarz:**"
      ]
    },
    {
      "cell_type": "markdown",
      "metadata": {
        "id": "SeSuqCGlbyLi"
      },
      "source": [
        "### **Skośność i kurtoza**\n",
        "\n",
        "Kurtoza i skośność są to statystyki charakteryzujące kształt i symetrię rozkładu. Im bliżej wartości tych statystyk są bliskie zeru tym rozkład bardziej przypomina rozkład normalny.\n",
        "\n",
        "UWAGA: w Pythonie na wartość kurtozy nałożona jest poprawka Fishera (od wyliczonej wartości kurtozy odejmowana jest 3), dlatego w innych środowiskach można spotkać się z tym, że wartość kurtozy dla rozkładu normalnego wynosi 3."
      ]
    },
    {
      "cell_type": "markdown",
      "metadata": {
        "id": "7o3eD2GreXKT"
      },
      "source": [
        "![image.png](data:image/png;base64,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)"
      ]
    },
    {
      "cell_type": "markdown",
      "metadata": {
        "id": "eyF_lcEvKYJC"
      },
      "source": [
        "**Zadanie**\n",
        "\n",
        "Proszę wyznaczyć skośność i kurtozę dla zmiennej l_Area i skomentować wyniki.\n",
        "\n",
        "\n",
        "skosnosc = skew(x)\n",
        "\n",
        "kurtoza = kurtosis(x, fisher = True)"
      ]
    },
    {
      "cell_type": "code",
      "execution_count": 17,
      "metadata": {
        "id": "yumF9FtOK2F2"
      },
      "outputs": [
        {
          "name": "stdout",
          "output_type": "stream",
          "text": [
            "15.849807894188993 462.4487026462261\n"
          ]
        }
      ],
      "source": [
        "# Rozwiązanie\n",
        "skosnosc = skew(l_Area)\n",
        "kurtoza = kurtosis(l_Area, fisher = True)\n",
        "print(skosnosc, kurtoza)"
      ]
    },
    {
      "cell_type": "markdown",
      "metadata": {
        "id": "-NGB0CLPK5v0"
      },
      "source": [
        "**Komentarz:**"
      ]
    },
    {
      "cell_type": "markdown",
      "metadata": {
        "id": "Ib9F774tNF4B"
      },
      "source": [
        "### **Wykres P-P**\n",
        "\n",
        "Na wykresie P-P narysowna jest linia, jeżeli punkty pomiarowe układają sie wzdłuż niej, to można podjrzewać że dane mają rozkład normalny, natomiast jeżeli odchylają się od tej prostej to  rozkład badanych danych nie jest normalny.\n",
        "\n",
        "Proszę skomentować wykres.\n"
      ]
    },
    {
      "cell_type": "code",
      "execution_count": 18,
      "metadata": {
        "colab": {
          "base_uri": "https://localhost:8080/",
          "height": 545
        },
        "id": "tE6xYMhBaVmw",
        "outputId": "93096a0a-97f1-4a9f-ec5c-8f39c3f15cf9"
      },
      "outputs": [
        {
          "data": {
            "text/plain": [
              "((array([-3.41573314, -3.16627872, -3.02800671, ...,  3.02800671,\n",
              "          3.16627872,  3.41573314]),\n",
              "  array([  1300,   1477,   1484, ...,  53504,  70761, 215245], dtype=int64)),\n",
              " (4507.15677396128, 9740.409821018817, 0.6915381168169557))"
            ]
          },
          "execution_count": 18,
          "metadata": {},
          "output_type": "execute_result"
        },
        {
          "data": {
            "image/png": "[encoded data removed]",
            "text/plain": [
              "<Figure size 640x480 with 1 Axes>"
            ]
          },
          "metadata": {},
          "output_type": "display_data"
        }
      ],
      "source": [
        "scipy.stats.probplot(l_Area, sparams=(), dist='norm', fit=True, plot=plt, rvalue=False)"
      ]
    },
    {
      "cell_type": "markdown",
      "metadata": {
        "id": "Mvbtu9ajObLZ"
      },
      "source": [
        "**Komentarz:**"
      ]
    },
    {
      "cell_type": "markdown",
      "metadata": {
        "id": "EPOQyveCc7NT"
      },
      "source": [
        "### **Testy normalności**\n",
        "\n",
        "**Przypomnienie**\n",
        "\n",
        "Wykonując testy normalności zawsze musimy sformułować hipotezę zerową (H0) oraz hipotezę alternatywną (H1) - która jest odpowiednim zaprzeczeniem H0. Natępnie należy określić poziom istotności testu, dla założonego alfa: <0.001;0.1>, zwykle alfa=0.05.\n",
        "\n",
        "**Zawsze trzeba zapisać obie hipotezy przed przystąpieniem do ich sprawdzania**\n",
        "\n",
        " Na podstawie wartości p można wyciągnąć następujące wnioski:\n",
        "\n",
        "1) jeżeli p < alfa, należy PRZYJĄĆ H1 i ODRZUCIĆ H0,\n",
        "\n",
        "2) jeżeli p > alfa, NIE MA PODSTAW DO ODRZUCENIA H0.\n",
        "\n",
        "**H0 NIE MOŻE ZOSTAĆ PRZYJĘTE!**\n",
        "\n",
        "W PYTHONIE można przeprowadzić test normalności przy pomocy funkcji: **stats.normaltest(x**), test ten pozwala zbadać normalność rozkładu na podstawie wartości skośności oraz kurtozy. Bada on hipotezę zerową, że próbki pochodzą z rozkładu normalnego.\n",
        "\n",
        "https://docs.scipy.org/doc/scipy/reference/generated/scipy.stats.normaltest.html\n",
        "\n",
        "\n",
        "\n"
      ]
    },
    {
      "cell_type": "markdown",
      "metadata": {
        "id": "28PB5eh-dxhf"
      },
      "source": [
        "**Zadanie**\n",
        "\n",
        "Na poziomie istotności 0.05 proszę sprawdzić czy rozkład powierzchni (l_Area) może być opisany rozkładem normalny.\n",
        "\n",
        "\n"
      ]
    },
    {
      "cell_type": "markdown",
      "metadata": {
        "id": "uQvzriELdD_q"
      },
      "source": [
        "**Hipotezy:**\n",
        "\n",
        "H0: układ może być opisany rozkładem normalnym\n",
        "\n",
        "H1: Układ nie może być opisany rozkładem normalnym\n"
      ]
    },
    {
      "cell_type": "code",
      "execution_count": 26,
      "metadata": {
        "id": "3zoE2uryO3pE"
      },
      "outputs": [
        {
          "name": "stdout",
          "output_type": "stream",
          "text": [
            "NormaltestResult(statistic=4396.93540505057, pvalue=0.0)\n"
          ]
        }
      ],
      "source": [
        "# Rozwiązanie\n",
        "p = scipy.stats.normaltest(l_Area)\n",
        "print(p)"
      ]
    },
    {
      "cell_type": "markdown",
      "metadata": {
        "id": "lsbdg9I9PHsk"
      },
      "source": [
        "**ODP:**"
      ]
    },
    {
      "cell_type": "markdown",
      "metadata": {
        "id": "6fzNDVx2PLO8"
      },
      "source": [
        "### **Transformacja rozkładów:**\n",
        "\n",
        "W rzeczywistości większości danych nie możemy opisać rozkładem normalnym, możemy jednak próbować je transformować (przekształcać), tak aby spełniały kryteria normalności rozkładu.\n",
        "\n",
        "Istnieją różne metody na znormalizowania\n",
        "rozkładu:\n",
        "\n",
        "1) transformacja odwrotna (1/x, x != 0),\n",
        "\n",
        "2) transformacja pierwiastkowa (x**(1/2), x>0)\n",
        "\n",
        "3) transformacja wykładnicza (x** lambda),\n",
        "\n",
        "4) transformacja logarytmiczna (np.log(x), x>0),\n",
        "\n",
        "5) transformacja Boxa-Coxa (boxcox(x), x>0), https://docs.scipy.org/doc/scipy/reference/generated/scipy.stats.boxcox.html ,\n",
        "\n",
        "6) transformacja Yeo-Johnsona (yeojohnson(x)), https://docs.scipy.org/doc/scipy/reference/generated/scipy.stats.yeojohnson.html .\n",
        "\n",
        "Transformacja Boxa-Coxa to specjalny przypadek (dla dodatnich danych) transformacji Yeo-Johnsona.\n",
        "\n",
        "**Proszę uzupełnić hipotezy dotyczące normalności i skomentować wyniki.**\n",
        "\n",
        "Poziom istotnośi: alfa = 0.05"
      ]
    },
    {
      "cell_type": "markdown",
      "metadata": {
        "id": "HO-a4XcITDTU"
      },
      "source": [
        "**Hipotezy:**\n",
        "\n",
        "H0: układ może być normalny\n",
        "\n",
        "H1: układ nie jest normalny\n",
        "\n",
        "\n",
        "test normalności - jeżeli mniejsze od alfa możemy odrzucić H0, więc H1 jest prawdziwe\n",
        "\n"
      ]
    },
    {
      "cell_type": "code",
      "execution_count": 27,
      "metadata": {
        "colab": {
          "base_uri": "https://localhost:8080/"
        },
        "id": "mS7wjd_wSngD",
        "outputId": "d7952f0c-fab6-43d6-ae87-6f7b14e8e5c5"
      },
      "outputs": [
        {
          "name": "stdout",
          "output_type": "stream",
          "text": [
            "Transformacja odwrotna\n",
            "NormaltestResult(statistic=1488.6820068804725, pvalue=0.0)\n",
            "Transformacja pierwiastkowa\n",
            "NormaltestResult(statistic=1458.3129826133281, pvalue=0.0)\n",
            "Transformacja logarytmiczna\n",
            "NormaltestResult(statistic=345.6996701435644, pvalue=8.555993194090714e-76)\n",
            "Transformacja wykładnicza\n",
            "wartosc_p 3.79320768296308e-13  dla wykładnika: 16\n",
            "Transformacja Boxa-Coxa\n",
            "NormaltestResult(statistic=304.8984195032527, pvalue=6.196542523329343e-67)\n",
            "Transformacja Yeo-Johnsona\n",
            "NormaltestResult(statistic=304.824788451314, pvalue=6.428922851077447e-67)\n"
          ]
        }
      ],
      "source": [
        "# Transformacja odwrotna\n",
        "\n",
        "l_Area_t_odw = 1/l_Area\n",
        "print('Transformacja odwrotna')\n",
        "print(stats.normaltest(l_Area_t_odw))\n",
        "\n",
        "# Transformacja pierwiastkowa\n",
        "\n",
        "l_Area_t_pierw = np.sqrt(l_Area)\n",
        "print('Transformacja pierwiastkowa')\n",
        "print(stats.normaltest(l_Area_t_pierw))\n",
        "\n",
        "# Transformacja logarytmiczna\n",
        "\n",
        "l_Area_t_log = np.log(l_Area)\n",
        "print('Transformacja logarytmiczna')\n",
        "print(stats.normaltest(l_Area_t_log))\n",
        "\n",
        "# Transformacja wykładnicza\n",
        "\n",
        "# sprawdzamy dla jakiego wykładnika, wartość p jest największa\n",
        "\n",
        "p_val = []\n",
        "lam = []\n",
        "for i in range(1,20):\n",
        "  l_Area_t_wykl = l_Area**i\n",
        "  stat, p = stats.normaltest(l_Area_t_wykl)\n",
        "  p_val.append(p)\n",
        "  lam.append(i)\n",
        "\n",
        "print('Transformacja wykładnicza')\n",
        "max_p = max(p_val)\n",
        "index = p_val.index(max_p) + 1\n",
        "print('wartosc_p',max_p, ' dla wykładnika:', index)\n",
        "\n",
        "# Transformacja Boxa-Coxa\n",
        "\n",
        "l_Area_t_bc,lm = boxcox(l_Area)\n",
        "print('Transformacja Boxa-Coxa')\n",
        "print(stats.normaltest(l_Area_t_bc))\n",
        "\n",
        "# transformacja Yeo-Johnsona\n",
        "\n",
        "l_Area_t_yj,lm = yeojohnson(l_Area)\n",
        "print('Transformacja Yeo-Johnsona')\n",
        "print(stats.normaltest(l_Area_t_yj))"
      ]
    },
    {
      "cell_type": "markdown",
      "metadata": {
        "id": "X_ZFgly-TwLD"
      },
      "source": [
        "**ODP:**"
      ]
    },
    {
      "cell_type": "markdown",
      "metadata": {
        "id": "-YbT7s0DT9C6"
      },
      "source": [
        "Nie zawsze możliwa jest prosta transformacja danych. Na podstawie wykresu pudełkowego można stwierdzić, że istnieje wiele wartości odstających dlatego teraz usuniemy je i jeszcze raz przekształcimy dane.\n",
        "\n",
        "Dane odstające usuwane są na podstawie kwartyli.\n",
        "\n",
        "UWAGA: Generalnie usuwanie elementów może mieć miejsce tylko i wyłącznie wtedy, gdy mamy podejrzenie, że dane te są błędne. W przeciwnym przypadku wszystkie dane są ważne i nie wolno się ich pozbywać."
      ]
    },
    {
      "cell_type": "code",
      "execution_count": 28,
      "metadata": {
        "id": "9xgOr3JYUUXN"
      },
      "outputs": [],
      "source": [
        "l_Area_2 = l_Area.copy()\n",
        "(Q1, Q3)=np.percentile(l_Area_2,[25,75])\n",
        "\n",
        "IQR=Q3-Q1\n",
        "\n",
        "dQ=Q1-(1.5*IQR)\n",
        "gQ=Q3+(1.5*IQR)\n",
        "\n",
        "l_Area_2.loc[l_Area_2 > gQ] = np.nan\n",
        "l_Area_2 = l_Area_2.dropna(axis = 0)"
      ]
    },
    {
      "cell_type": "code",
      "execution_count": 29,
      "metadata": {
        "colab": {
          "base_uri": "https://localhost:8080/"
        },
        "id": "QBboVbAmIIBT",
        "outputId": "be35c0d8-734d-4c85-9c1b-e6b3790fad21"
      },
      "outputs": [
        {
          "data": {
            "text/plain": [
              "NormaltestResult(statistic=10.89539328170174, pvalue=0.004306212029168278)"
            ]
          },
          "execution_count": 29,
          "metadata": {},
          "output_type": "execute_result"
        }
      ],
      "source": [
        "# sprawdzenie normalności rozkładu po usunięciu odstających wartości\n",
        "\n",
        "stats.normaltest(l_Area_2)"
      ]
    },
    {
      "cell_type": "markdown",
      "metadata": {
        "id": "wZpZJvOkIXbr"
      },
      "source": [
        "**ODP:**"
      ]
    },
    {
      "cell_type": "markdown",
      "metadata": {
        "id": "S6AgsUvdIxmU"
      },
      "source": [
        "**Zadanie:**\n",
        "\n",
        "Proszę wykonać transformacje i sprawdzić normalność otrzymanych rozkładów."
      ]
    },
    {
      "cell_type": "code",
      "execution_count": null,
      "metadata": {
        "id": "q0xZcHEaV5Ue"
      },
      "outputs": [],
      "source": [
        "# Rozwiązanie\n"
      ]
    },
    {
      "cell_type": "markdown",
      "metadata": {
        "id": "zsjX_0d1WP4O"
      },
      "source": [
        "**ODP:**"
      ]
    },
    {
      "cell_type": "markdown",
      "metadata": {
        "id": "YSPSb63uWziZ"
      },
      "source": [
        "**Proszę narysować i skomentować wykres P-P (odnosząc się do wykresu P-P przed transformacją):**"
      ]
    },
    {
      "cell_type": "code",
      "execution_count": null,
      "metadata": {
        "id": "SPB6Uq68Wz8f"
      },
      "outputs": [],
      "source": [
        "# Rozwiązanie\n"
      ]
    },
    {
      "cell_type": "markdown",
      "metadata": {
        "id": "JbjOYmeoXSGd"
      },
      "source": [
        "**Komentarz:**"
      ]
    },
    {
      "cell_type": "markdown",
      "metadata": {
        "id": "8M-p9wPvX2A5"
      },
      "source": [
        "**Teraz przeanalizujemy zmienną określającą wiek domu w momencie sprzedaży.**\n",
        "\n",
        "Proszę skomentować wyniki."
      ]
    },
    {
      "cell_type": "code",
      "execution_count": 45,
      "metadata": {
        "colab": {
          "base_uri": "https://localhost:8080/",
          "height": 430
        },
        "id": "TtCtnnUQk5lI",
        "outputId": "850c30a2-9cf1-4bdd-ba99-2aaf98ffa36f"
      },
      "outputs": [
        {
          "data": {
            "image/png": "[encoded data removed]",
            "text/plain": [
              "<Figure size 640x480 with 1 Axes>"
            ]
          },
          "metadata": {},
          "output_type": "display_data"
        }
      ],
      "source": [
        "# Histogram\n",
        "\n",
        "plt.hist(age, bins = 10)\n",
        "plt.grid(alpha = 0.5)\n",
        "plt.show()"
      ]
    },
    {
      "cell_type": "code",
      "execution_count": 46,
      "metadata": {
        "colab": {
          "base_uri": "https://localhost:8080/",
          "height": 430
        },
        "id": "HVH8VqBAZF4F",
        "outputId": "b006c95e-cfdb-4e73-9f56-e5d4ed6b4c0e"
      },
      "outputs": [
        {
          "data": {
            "image/png": "[encoded data removed]",
            "text/plain": [
              "<Figure size 640x480 with 1 Axes>"
            ]
          },
          "metadata": {},
          "output_type": "display_data"
        }
      ],
      "source": [
        "# Boxplot\n",
        "\n",
        "plt.boxplot(age, vert=False)\n",
        "plt.grid(alpha=0.3)\n",
        "plt.show()"
      ]
    },
    {
      "cell_type": "markdown",
      "metadata": {
        "id": "o-LNn4dVZ4fb"
      },
      "source": [
        "**Komentarz:**"
      ]
    },
    {
      "cell_type": "code",
      "execution_count": 47,
      "metadata": {
        "colab": {
          "base_uri": "https://localhost:8080/"
        },
        "id": "0WE4Kq8TM42R",
        "outputId": "8b1bf01d-2e1f-4fae-a184-39ad80398aa8"
      },
      "outputs": [
        {
          "name": "stdout",
          "output_type": "stream",
          "text": [
            "skosnosc wynosi:  0.5472281429752639\n",
            "kurtoza wynosi:  -0.5987939163195093\n"
          ]
        }
      ],
      "source": [
        "# Skośność i kurtoza\n",
        "\n",
        "skosnosc = skew(age)\n",
        "kurtoza = kurtosis(age, fisher = True)\n",
        "\n",
        "print('skosnosc wynosi: ', skosnosc)\n",
        "print('kurtoza wynosi: ', kurtoza)"
      ]
    },
    {
      "cell_type": "markdown",
      "metadata": {
        "id": "N05P3uQXZhNr"
      },
      "source": [
        "**Komentarz:**"
      ]
    },
    {
      "cell_type": "code",
      "execution_count": 48,
      "metadata": {
        "colab": {
          "base_uri": "https://localhost:8080/",
          "height": 545
        },
        "id": "ZKH9gjptB985",
        "outputId": "68a25b9c-47c9-42e0-8470-974cac8d9fef"
      },
      "outputs": [
        {
          "data": {
            "text/plain": [
              "((array([-3.41573314, -3.16627872, -3.02800671, ...,  3.02800671,\n",
              "          3.16627872,  3.41573314]),\n",
              "  array([  1,   1,   1, ..., 128, 129, 129], dtype=int64)),\n",
              " (29.37649318678824, 37.40752638825148, 0.9622626685949893))"
            ]
          },
          "execution_count": 48,
          "metadata": {},
          "output_type": "execute_result"
        },
        {
          "data": {
            "image/png": "[encoded data removed]",
            "text/plain": [
              "<Figure size 640x480 with 1 Axes>"
            ]
          },
          "metadata": {},
          "output_type": "display_data"
        }
      ],
      "source": [
        "# Wykres P-P\n",
        "\n",
        "scipy.stats.probplot(age, sparams=(), dist='norm', fit=True, plot=plt, rvalue=False)"
      ]
    },
    {
      "cell_type": "markdown",
      "metadata": {
        "id": "i_C-mv2MZ6m_"
      },
      "source": [
        "**Komentarz:**"
      ]
    },
    {
      "cell_type": "markdown",
      "metadata": {
        "id": "c_lABW7_Fwcx"
      },
      "source": [
        "**Hipotezy:**\n",
        "\n",
        "H0:\n",
        "\n",
        "H1:\n"
      ]
    },
    {
      "cell_type": "code",
      "execution_count": 49,
      "metadata": {
        "colab": {
          "base_uri": "https://localhost:8080/"
        },
        "id": "PMG5sQw0Y5SH",
        "outputId": "a3cd1216-9ad7-421c-f072-200734f37289"
      },
      "outputs": [
        {
          "data": {
            "text/plain": [
              "NormaltestResult(statistic=165.05962139354108, pvalue=1.4379991252882407e-36)"
            ]
          },
          "execution_count": 49,
          "metadata": {},
          "output_type": "execute_result"
        }
      ],
      "source": [
        "# Test normalności\n",
        "\n",
        "stats.normaltest(age)"
      ]
    },
    {
      "cell_type": "markdown",
      "metadata": {
        "id": "e59j5vUaaVjc"
      },
      "source": [
        "**ODP:**"
      ]
    },
    {
      "cell_type": "code",
      "execution_count": 50,
      "metadata": {
        "colab": {
          "base_uri": "https://localhost:8080/"
        },
        "id": "rlbqLMpLaoPU",
        "outputId": "c69c5153-adcc-4795-a026-b82f37d093b5"
      },
      "outputs": [
        {
          "name": "stdout",
          "output_type": "stream",
          "text": [
            "Transformacja odwrotna\n",
            "NormaltestResult(statistic=891.7630374055353, pvalue=2.2704756297674718e-194)\n",
            "Transformacja pierwiastkowa\n",
            "NormaltestResult(statistic=1472.9744192330022, pvalue=0.0)\n",
            "Transformacja logarytmiczna\n",
            "NormaltestResult(statistic=251.83258661007022, pvalue=2.066562935529255e-55)\n",
            "Transformacja wykładnicza\n",
            "wartosc_p 0.8493696457695584  dla wykładnika: 16\n",
            "Transformacja Boxa-Coxa\n",
            "NormaltestResult(statistic=1304.97846805791, pvalue=4.2415653242192494e-284)\n",
            "Transformacja Yeo-Johnsona\n",
            "NormaltestResult(statistic=1760.3431701023926, pvalue=0.0)\n"
          ]
        }
      ],
      "source": [
        "# Transformacja odwrotna\n",
        "\n",
        "age_t_odw = 1/age\n",
        "print('Transformacja odwrotna')\n",
        "print(stats.normaltest(age_t_odw))\n",
        "\n",
        "# Transformacja pierwiastkowa\n",
        "\n",
        "age_t_pierw = np.sqrt(age)\n",
        "print('Transformacja pierwiastkowa')\n",
        "print(stats.normaltest(age_t_pierw))\n",
        "\n",
        "# Transformacja logarytmiczna\n",
        "\n",
        "age_t_log = np.log(age)\n",
        "print('Transformacja logarytmiczna')\n",
        "print(stats.normaltest(age_t_log))\n",
        "\n",
        "# Transformacja wykładnicza\n",
        "\n",
        "# sprawdzamy dla jakiego wykładnika, wartość p jest największa\n",
        "\n",
        "p_val = []\n",
        "lam = []\n",
        "for i in range(1,20):\n",
        "  age_t_wykl = age**i\n",
        "  stat, p = stats.normaltest(age_t_wykl)\n",
        "  p_val.append(p)\n",
        "  lam.append(i)\n",
        "\n",
        "print('Transformacja wykładnicza')\n",
        "max_p = max(p_val)\n",
        "index = p_val.index(max_p) + 1\n",
        "print('wartosc_p',max_p, ' dla wykładnika:', index)\n",
        "\n",
        "# Transformacja Boxa-Coxa\n",
        "\n",
        "age_t_bc,lm = boxcox(age)\n",
        "print('Transformacja Boxa-Coxa')\n",
        "print(stats.normaltest(age_t_bc))\n",
        "\n",
        "# transformacja Yeo-Johnsona\n",
        "\n",
        "age_t_yj,lm = yeojohnson(age)\n",
        "print('Transformacja Yeo-Johnsona')\n",
        "print(stats.normaltest(age_t_yj))"
      ]
    },
    {
      "cell_type": "markdown",
      "metadata": {
        "id": "4Vo7RzH1a0LR"
      },
      "source": [
        "**ODP:**"
      ]
    },
    {
      "cell_type": "code",
      "execution_count": 51,
      "metadata": {
        "colab": {
          "base_uri": "https://localhost:8080/",
          "height": 582
        },
        "id": "5m8xe1FGJW8G",
        "outputId": "d9a7066e-70ee-4bb9-ca53-b85d3d060911"
      },
      "outputs": [
        {
          "data": {
            "text/plain": [
              "((array([-3.41573314, -3.16627872, -3.02800671, ...,  3.02800671,\n",
              "          3.16627872,  3.41573314]),\n",
              "  array([-8839661442693215359, -8839661442693215359, -8839661442693215359,\n",
              "         ...,  9207001867161239552,  9207001867161239552,\n",
              "          9207001867161239552], dtype=int64)),\n",
              " (3.985672621192533e+18, 2.1760802040132813e+17, 0.970630449061019))"
            ]
          },
          "execution_count": 51,
          "metadata": {},
          "output_type": "execute_result"
        },
        {
          "data": {
            "image/png": "[encoded data removed]",
            "text/plain": [
              "<Figure size 640x480 with 1 Axes>"
            ]
          },
          "metadata": {},
          "output_type": "display_data"
        }
      ],
      "source": [
        "# Wykres P-P\n",
        "age_t = age ** index\n",
        "scipy.stats.probplot(age_t, sparams=(), dist='norm', fit=True, plot=plt, rvalue=False)\n"
      ]
    },
    {
      "cell_type": "code",
      "execution_count": 52,
      "metadata": {},
      "outputs": [
        {
          "data": {
            "image/png": "[encoded data removed]",
            "text/plain": [
              "<Figure size 640x480 with 1 Axes>"
            ]
          },
          "metadata": {},
          "output_type": "display_data"
        }
      ],
      "source": [
        "plt.hist(age_t, bins = 10)\n",
        "plt.grid(alpha = 0.5)\n",
        "plt.show()"
      ]
    },
    {
      "cell_type": "markdown",
      "metadata": {
        "id": "9Q4cm2SgK8ro"
      },
      "source": [
        "**KOMENTARZ:**"
      ]
    },
    {
      "cell_type": "markdown",
      "metadata": {
        "id": "TIXJrWbiHeOK"
      },
      "source": [
        "W obu przypadkach udało się tak przekształcić dane aby ich rozkład spełniał kryteria rozkładu normalnego, **należy pamiętać jednak o tym, że nie zawsze jest to możliwe.**"
      ]
    },
    {
      "cell_type": "markdown",
      "metadata": {
        "id": "FOKM4P5Sbo4v"
      },
      "source": [
        "### **Zadanie:**\n",
        "\n",
        "Na poziomie istotności 0.05 proszę sprawdzić normalność, a następnie przekształcić dane: first_flr oraz l_Frontage. Na konću proszę narysować i skomentować wykresy P-P dla przekształconych danych (dla najlepszej transformacji). Wszystkie wyniki należy skomentować. Które transformacje umożliwiły normalizację danych?\n",
        "\n",
        "Dodatkowo proszę narysować rozkłady przed i po transformacji."
      ]
    },
    {
      "cell_type": "code",
      "execution_count": 34,
      "metadata": {
        "id": "7CMuXBxyfPdi"
      },
      "outputs": [
        {
          "data": {
            "image/png": "[encoded data removed]",
            "text/plain": [
              "<Figure size 640x480 with 1 Axes>"
            ]
          },
          "metadata": {},
          "output_type": "display_data"
        }
      ],
      "source": [
        "# Rozwiązanie:\n",
        "\n",
        "# narysowanie rozkładu ...\n",
        "plt.hist(first_flr, bins = 100)\n",
        "plt.grid(alpha = 0.5)\n",
        "plt.show()\n"
      ]
    },
    {
      "cell_type": "code",
      "execution_count": 41,
      "metadata": {},
      "outputs": [
        {
          "name": "stdout",
          "output_type": "stream",
          "text": [
            "0.9624223990822571 1.6970815696580273\n"
          ]
        }
      ],
      "source": [
        "\n",
        "# skośność i kurtoza ...\n",
        "skosnosc = skew(first_flr)\n",
        "kurtoza = kurtosis(first_flr, fisher = True)\n",
        "print(skosnosc, kurtoza)\n"
      ]
    },
    {
      "cell_type": "code",
      "execution_count": 42,
      "metadata": {},
      "outputs": [
        {
          "data": {
            "text/plain": [
              "((array([-3.41573314, -3.16627872, -3.02800671, ...,  3.02800671,\n",
              "          3.16627872,  3.41573314]),\n",
              "  array([ 407,  432,  438, ..., 2696, 2726, 3820], dtype=int64)),\n",
              " (367.0308989906345, 1151.3363928407528, 0.9742793739431059))"
            ]
          },
          "execution_count": 42,
          "metadata": {},
          "output_type": "execute_result"
        },
        {
          "data": {
            "image/png": "[encoded data removed]",
            "text/plain": [
              "<Figure size 640x480 with 1 Axes>"
            ]
          },
          "metadata": {},
          "output_type": "display_data"
        }
      ],
      "source": [
        "\n",
        "# wykres P-P ...\n",
        "scipy.stats.probplot(first_flr, sparams=(), dist='norm', fit=True, plot=plt, rvalue=False)\n"
      ]
    },
    {
      "cell_type": "code",
      "execution_count": 43,
      "metadata": {},
      "outputs": [
        {
          "data": {
            "text/plain": [
              "NormaltestResult(statistic=331.7593570711312, pvalue=9.106908059962773e-73)"
            ]
          },
          "execution_count": 43,
          "metadata": {},
          "output_type": "execute_result"
        }
      ],
      "source": [
        "\n",
        "# test normalności (hipotezy)...\n",
        "scipy.stats.normaltest(first_flr)\n"
      ]
    },
    {
      "cell_type": "code",
      "execution_count": 53,
      "metadata": {},
      "outputs": [
        {
          "name": "stdout",
          "output_type": "stream",
          "text": [
            "Transformacja odwrotna\n",
            "NormaltestResult(statistic=317.091242640715, pvalue=1.394798689463696e-69)\n",
            "Transformacja pierwiastkowa\n",
            "NormaltestResult(statistic=77.04612592619273, pvalue=1.8605713496786296e-17)\n",
            "Transformacja logarytmiczna\n",
            "NormaltestResult(statistic=1.1562969905105254, pvalue=0.5609359813255764)\n",
            "Transformacja wykładnicza\n",
            "wartosc_p 3.703384753363323e-32  dla wykładnika: 6\n",
            "Transformacja Boxa-Coxa\n",
            "NormaltestResult(statistic=1.0466904317876062, pvalue=0.5925350711597579)\n",
            "Transformacja Yeo-Johnsona\n",
            "NormaltestResult(statistic=1.0542816091517626, pvalue=0.5902903145312782)\n"
          ]
        }
      ],
      "source": [
        "\n",
        "# transformacje...\n",
        "first_flr_odw = 1/first_flr\n",
        "print('Transformacja odwrotna')\n",
        "print(stats.normaltest(first_flr_odw))\n",
        "\n",
        "\n",
        "age_t_pierw = np.sqrt(first_flr)\n",
        "print('Transformacja pierwiastkowa')\n",
        "print(stats.normaltest(age_t_pierw))\n",
        "\n",
        "# Transformacja logarytmiczna\n",
        "\n",
        "age_t_log = np.log(first_flr)\n",
        "print('Transformacja logarytmiczna')\n",
        "print(stats.normaltest(age_t_log))\n",
        "\n",
        "# Transformacja wykładnicza\n",
        "\n",
        "# sprawdzamy dla jakiego wykładnika, wartość p jest największa\n",
        "\n",
        "p_val = []\n",
        "lam = []\n",
        "for i in range(1,20):\n",
        "  age_t_wykl = first_flr**i\n",
        "  stat, p = stats.normaltest(age_t_wykl)\n",
        "  p_val.append(p)\n",
        "  lam.append(i)\n",
        "\n",
        "print('Transformacja wykładnicza')\n",
        "max_p = max(p_val)\n",
        "index = p_val.index(max_p) + 1\n",
        "print('wartosc_p',max_p, ' dla wykładnika:', index)\n",
        "\n",
        "# Transformacja Boxa-Coxa\n",
        "\n",
        "age_t_bc,lm = boxcox(first_flr)\n",
        "print('Transformacja Boxa-Coxa')\n",
        "print(stats.normaltest(age_t_bc))\n",
        "\n",
        "# transformacja Yeo-Johnsona\n",
        "\n",
        "age_t_yj,lm = yeojohnson(first_flr)\n",
        "print('Transformacja Yeo-Johnsona')\n",
        "print(stats.normaltest(age_t_yj))\n",
        "# sprawdzenie...\n"
      ]
    }
  ],
  "metadata": {
    "colab": {
      "provenance": []
    },
    "kernelspec": {
      "display_name": "Python 3",
      "name": "python3"
    },
    "language_info": {
      "codemirror_mode": {
        "name": "ipython",
        "version": 3
      },
      "file_extension": ".py",
      "mimetype": "text/x-python",
      "name": "python",
      "nbconvert_exporter": "python",
      "pygments_lexer": "ipython3",
      "version": "3.11.5"
    }
  },
  "nbformat": 4,
  "nbformat_minor": 0
}
