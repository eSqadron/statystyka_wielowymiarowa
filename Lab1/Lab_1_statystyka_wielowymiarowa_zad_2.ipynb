{
  "cells": [
    {
      "cell_type": "markdown",
      "metadata": {
        "id": "RBjcRJ-ckYij"
      },
      "source": [
        "# **Biblioteki**"
      ]
    },
    {
      "cell_type": "code",
      "execution_count": 1,
      "metadata": {
        "id": "B2yz48iBNGbp"
      },
      "outputs": [],
      "source": [
        "import pingouin as pg\n",
        "import pandas as pd\n",
        "import numpy as np\n",
        "import matplotlib.pyplot as plt\n",
        "from scipy.stats import skew\n",
        "from scipy.stats import kurtosis\n",
        "import sklearn\n",
        "import warnings\n",
        "import scipy\n",
        "from scipy import stats\n",
        "from scipy.stats import yeojohnson\n",
        "from scipy.stats import bartlett\n",
        "import seaborn as sns\n",
        "import scipy.stats as stats\n",
        "import statsmodels.api as sm\n",
        "from statsmodels.formula.api import ols\n",
        "import statsmodels.api as sa\n",
        "from statsmodels.stats.oneway import effectsize_oneway\n",
        "from statsmodels.stats.power import FTestAnovaPower\n",
        "from statsmodels.stats.multicomp import pairwise_tukeyhsd\n",
        "from pingouin import kruskal, read_dataset\n",
        "import scikit_posthocs as sp\n"
      ]
    },
    {
      "cell_type": "markdown",
      "metadata": {
        "id": "oECSuTX5kc64"
      },
      "source": [
        "# **Przygotowanie danych**"
      ]
    },
    {
      "cell_type": "code",
      "execution_count": 2,
      "metadata": {
        "colab": {
          "base_uri": "https://localhost:8080/",
          "height": 423
        },
        "id": "5uS3bRKFkh1i",
        "outputId": "29992ea8-e640-4d25-a155-76ee633ce8d9"
      },
      "outputs": [
        {
          "data": {
            "text/html": [
              "<div>\n",
              "<style scoped>\n",
              "    .dataframe tbody tr th:only-of-type {\n",
              "        vertical-align: middle;\n",
              "    }\n",
              "\n",
              "    .dataframe tbody tr th {\n",
              "        vertical-align: top;\n",
              "    }\n",
              "\n",
              "    .dataframe thead th {\n",
              "        text-align: right;\n",
              "    }\n",
              "</style>\n",
              "<table border=\"1\" class=\"dataframe\">\n",
              "  <thead>\n",
              "    <tr style=\"text-align: right;\">\n",
              "      <th></th>\n",
              "      <th>Matematyka</th>\n",
              "      <th>Angielski</th>\n",
              "      <th>Fizyka</th>\n",
              "      <th>Geografia</th>\n",
              "      <th>Biologia</th>\n",
              "      <th>Chemia</th>\n",
              "    </tr>\n",
              "  </thead>\n",
              "  <tbody>\n",
              "    <tr>\n",
              "      <th>0</th>\n",
              "      <td>3.761200</td>\n",
              "      <td>3.784190</td>\n",
              "      <td>4.007333</td>\n",
              "      <td>4.077537</td>\n",
              "      <td>3.850148</td>\n",
              "      <td>4.094345</td>\n",
              "    </tr>\n",
              "    <tr>\n",
              "      <th>1</th>\n",
              "      <td>3.850148</td>\n",
              "      <td>3.988984</td>\n",
              "      <td>4.060443</td>\n",
              "      <td>3.988984</td>\n",
              "      <td>4.007333</td>\n",
              "      <td>4.043051</td>\n",
              "    </tr>\n",
              "    <tr>\n",
              "      <th>2</th>\n",
              "      <td>3.761200</td>\n",
              "      <td>4.077537</td>\n",
              "      <td>4.043051</td>\n",
              "      <td>4.043051</td>\n",
              "      <td>4.007333</td>\n",
              "      <td>3.761200</td>\n",
              "    </tr>\n",
              "    <tr>\n",
              "      <th>3</th>\n",
              "      <td>3.828641</td>\n",
              "      <td>4.025352</td>\n",
              "      <td>3.891820</td>\n",
              "      <td>3.988984</td>\n",
              "      <td>3.931826</td>\n",
              "      <td>3.871201</td>\n",
              "    </tr>\n",
              "    <tr>\n",
              "      <th>4</th>\n",
              "      <td>4.094345</td>\n",
              "      <td>3.951244</td>\n",
              "      <td>3.688879</td>\n",
              "      <td>4.060443</td>\n",
              "      <td>4.025352</td>\n",
              "      <td>3.988984</td>\n",
              "    </tr>\n",
              "    <tr>\n",
              "      <th>...</th>\n",
              "      <td>...</td>\n",
              "      <td>...</td>\n",
              "      <td>...</td>\n",
              "      <td>...</td>\n",
              "      <td>...</td>\n",
              "      <td>...</td>\n",
              "    </tr>\n",
              "    <tr>\n",
              "      <th>995</th>\n",
              "      <td>4.060443</td>\n",
              "      <td>3.850148</td>\n",
              "      <td>4.077537</td>\n",
              "      <td>4.219508</td>\n",
              "      <td>4.007333</td>\n",
              "      <td>4.043051</td>\n",
              "    </tr>\n",
              "    <tr>\n",
              "      <th>996</th>\n",
              "      <td>3.871201</td>\n",
              "      <td>3.871201</td>\n",
              "      <td>3.951244</td>\n",
              "      <td>4.174387</td>\n",
              "      <td>3.850148</td>\n",
              "      <td>3.871201</td>\n",
              "    </tr>\n",
              "    <tr>\n",
              "      <th>997</th>\n",
              "      <td>3.891820</td>\n",
              "      <td>3.891820</td>\n",
              "      <td>4.127134</td>\n",
              "      <td>3.931826</td>\n",
              "      <td>3.931826</td>\n",
              "      <td>4.060443</td>\n",
              "    </tr>\n",
              "    <tr>\n",
              "      <th>998</th>\n",
              "      <td>3.891820</td>\n",
              "      <td>3.931826</td>\n",
              "      <td>3.931826</td>\n",
              "      <td>4.158883</td>\n",
              "      <td>4.094345</td>\n",
              "      <td>4.025352</td>\n",
              "    </tr>\n",
              "    <tr>\n",
              "      <th>999</th>\n",
              "      <td>4.025352</td>\n",
              "      <td>4.043051</td>\n",
              "      <td>3.931826</td>\n",
              "      <td>4.077537</td>\n",
              "      <td>3.850148</td>\n",
              "      <td>3.951244</td>\n",
              "    </tr>\n",
              "  </tbody>\n",
              "</table>\n",
              "<p>1000 rows × 6 columns</p>\n",
              "</div>"
            ],
            "text/plain": [
              "     Matematyka  Angielski    Fizyka  Geografia  Biologia    Chemia\n",
              "0      3.761200   3.784190  4.007333   4.077537  3.850148  4.094345\n",
              "1      3.850148   3.988984  4.060443   3.988984  4.007333  4.043051\n",
              "2      3.761200   4.077537  4.043051   4.043051  4.007333  3.761200\n",
              "3      3.828641   4.025352  3.891820   3.988984  3.931826  3.871201\n",
              "4      4.094345   3.951244  3.688879   4.060443  4.025352  3.988984\n",
              "..          ...        ...       ...        ...       ...       ...\n",
              "995    4.060443   3.850148  4.077537   4.219508  4.007333  4.043051\n",
              "996    3.871201   3.871201  3.951244   4.174387  3.850148  3.871201\n",
              "997    3.891820   3.891820  4.127134   3.931826  3.931826  4.060443\n",
              "998    3.891820   3.931826  3.931826   4.158883  4.094345  4.025352\n",
              "999    4.025352   4.043051  3.931826   4.077537  3.850148  3.951244\n",
              "\n",
              "[1000 rows x 6 columns]"
            ]
          },
          "execution_count": 2,
          "metadata": {},
          "output_type": "execute_result"
        }
      ],
      "source": [
        "# Wczytanie danych\n",
        "\n",
        "df = pd.read_csv('egzaminy.csv')\n",
        "df"
      ]
    },
    {
      "cell_type": "code",
      "execution_count": 3,
      "metadata": {
        "colab": {
          "base_uri": "https://localhost:8080/",
          "height": 999
        },
        "id": "Al2WqBw_4JOn",
        "outputId": "70dd67c3-8a7d-44a5-ade1-f0b358e2fb02"
      },
      "outputs": [
        {
          "name": "stderr",
          "output_type": "stream",
          "text": [
            "C:\\Users\\j.mazur\\AppData\\Local\\Temp\\ipykernel_33844\\3976683680.py:4: UserWarning: To output multiple subplots, the figure containing the passed axes is being cleared.\n",
            "  df.hist(ax = ax)\n"
          ]
        },
        {
          "data": {
            "text/plain": [
              "array([[<Axes: title={'center': 'Matematyka'}>,\n",
              "        <Axes: title={'center': 'Angielski'}>],\n",
              "       [<Axes: title={'center': 'Fizyka'}>,\n",
              "        <Axes: title={'center': 'Geografia'}>],\n",
              "       [<Axes: title={'center': 'Biologia'}>,\n",
              "        <Axes: title={'center': 'Chemia'}>]], dtype=object)"
            ]
          },
          "execution_count": 3,
          "metadata": {},
          "output_type": "execute_result"
        },
        {
          "data": {
            "image/png": "[encoded data removed]",
            "text/plain": [
              "<Figure size 500x1000 with 6 Axes>"
            ]
          },
          "metadata": {},
          "output_type": "display_data"
        }
      ],
      "source": [
        "# Narysowanie histogramów\n",
        "fig = plt.figure(figsize = (5,10))\n",
        "ax = fig.gca()\n",
        "df.hist(ax = ax)"
      ]
    },
    {
      "cell_type": "code",
      "execution_count": 4,
      "metadata": {
        "id": "SBYYk8GzayS0"
      },
      "outputs": [],
      "source": [
        "# Przypisanie zmiennych\n",
        "\n",
        "mat = df['Matematyka']\n",
        "ang = df['Angielski']\n",
        "fiz = df['Fizyka']\n",
        "geo = df['Geografia']\n",
        "bio = df['Biologia']\n",
        "chem = df['Chemia']"
      ]
    },
    {
      "cell_type": "code",
      "execution_count": 5,
      "metadata": {
        "id": "BMPd9bvz5Oxe"
      },
      "outputs": [],
      "source": [
        "# Przygotowanie tabeli przestawnej\n",
        "df1 = pd.melt(df, value_vars=['Matematyka',\t'Angielski',\t'Fizyka',\t'Geografia',\t'Biologia',\t'Chemia'])\n",
        "df1 = df1.rename(columns={\"variable\": \"group\", \"value\": \"score\"})"
      ]
    },
    {
      "cell_type": "code",
      "execution_count": 6,
      "metadata": {
        "colab": {
          "base_uri": "https://localhost:8080/",
          "height": 269
        },
        "id": "zlkZE9cw4ch9",
        "outputId": "de658bd9-3ea3-441c-d760-901b238409d2"
      },
      "outputs": [
        {
          "data": {
            "text/html": [
              "<div>\n",
              "<style scoped>\n",
              "    .dataframe tbody tr th:only-of-type {\n",
              "        vertical-align: middle;\n",
              "    }\n",
              "\n",
              "    .dataframe tbody tr th {\n",
              "        vertical-align: top;\n",
              "    }\n",
              "\n",
              "    .dataframe thead th {\n",
              "        text-align: right;\n",
              "    }\n",
              "</style>\n",
              "<table border=\"1\" class=\"dataframe\">\n",
              "  <thead>\n",
              "    <tr style=\"text-align: right;\">\n",
              "      <th></th>\n",
              "      <th>mean</th>\n",
              "      <th>median</th>\n",
              "      <th>std</th>\n",
              "      <th>skew</th>\n",
              "      <th>count</th>\n",
              "    </tr>\n",
              "    <tr>\n",
              "      <th>group</th>\n",
              "      <th></th>\n",
              "      <th></th>\n",
              "      <th></th>\n",
              "      <th></th>\n",
              "      <th></th>\n",
              "    </tr>\n",
              "  </thead>\n",
              "  <tbody>\n",
              "    <tr>\n",
              "      <th>Angielski</th>\n",
              "      <td>3.99</td>\n",
              "      <td>4.01</td>\n",
              "      <td>0.10</td>\n",
              "      <td>-0.46</td>\n",
              "      <td>1000</td>\n",
              "    </tr>\n",
              "    <tr>\n",
              "      <th>Biologia</th>\n",
              "      <td>3.93</td>\n",
              "      <td>3.93</td>\n",
              "      <td>0.10</td>\n",
              "      <td>-0.18</td>\n",
              "      <td>1000</td>\n",
              "    </tr>\n",
              "    <tr>\n",
              "      <th>Chemia</th>\n",
              "      <td>3.97</td>\n",
              "      <td>3.97</td>\n",
              "      <td>0.10</td>\n",
              "      <td>-0.36</td>\n",
              "      <td>1000</td>\n",
              "    </tr>\n",
              "    <tr>\n",
              "      <th>Fizyka</th>\n",
              "      <td>3.95</td>\n",
              "      <td>3.95</td>\n",
              "      <td>0.10</td>\n",
              "      <td>-0.27</td>\n",
              "      <td>1000</td>\n",
              "    </tr>\n",
              "    <tr>\n",
              "      <th>Geografia</th>\n",
              "      <td>4.09</td>\n",
              "      <td>4.09</td>\n",
              "      <td>0.09</td>\n",
              "      <td>-0.19</td>\n",
              "      <td>1000</td>\n",
              "    </tr>\n",
              "    <tr>\n",
              "      <th>Matematyka</th>\n",
              "      <td>3.91</td>\n",
              "      <td>3.91</td>\n",
              "      <td>0.10</td>\n",
              "      <td>-0.25</td>\n",
              "      <td>1000</td>\n",
              "    </tr>\n",
              "  </tbody>\n",
              "</table>\n",
              "</div>"
            ],
            "text/plain": [
              "            mean  median   std  skew  count\n",
              "group                                      \n",
              "Angielski   3.99    4.01  0.10 -0.46   1000\n",
              "Biologia    3.93    3.93  0.10 -0.18   1000\n",
              "Chemia      3.97    3.97  0.10 -0.36   1000\n",
              "Fizyka      3.95    3.95  0.10 -0.27   1000\n",
              "Geografia   4.09    4.09  0.09 -0.19   1000\n",
              "Matematyka  3.91    3.91  0.10 -0.25   1000"
            ]
          },
          "execution_count": 6,
          "metadata": {},
          "output_type": "execute_result"
        }
      ],
      "source": [
        "# Wyznaczenie podstawowych statystyk\n",
        "\n",
        "statystyki = df1.groupby('group')['score'].agg(['mean',  'median', 'std',  'skew', 'count']).round(2)\n",
        "statystyki"
      ]
    },
    {
      "cell_type": "markdown",
      "metadata": {
        "id": "I6O8wSN9VoAb"
      },
      "source": [
        "# **ANOVA**\n",
        "\n",
        "**1) ANOVA TEST**\n",
        "\n",
        "**ANALIZA WARIANCJI ANOVA (Analysis of Variance)**\n",
        "\n",
        "**H0:** m1=m2=m3=m4=m5=m6\n",
        "\n",
        "Wszystkie średnie są sobie równe.\n",
        "\n",
        "**H1:** mi=/=mj\n",
        "\n",
        "Średnie dla conajmniej jednej pary z sześciu grup są różne.\n",
        "\n",
        "Jest to powszechnie stosowana metoda statystyczna  pozwalająca na ocenę istotności różnic wielu średnich z prób pochodzących z wielu populacji (grup).\n",
        "\n",
        "Celem analizy wariancji (Anova) jest zbadanie czy **dane pochodzące z kilku grup mają tą samą średnią.**\n",
        "\n",
        "**Wykonujac anovę zawsze należy wypisać założenia, H0 i H1 oraz przeprowadzić interpretację wyników.**\n",
        "\n",
        "Podstawowe założenia testów ANOVA.\n",
        "\n",
        "1. Mierzalność analizowanych zmiennych.\n",
        "\n",
        "2. Niezależność zmiennych losowych w rozważanych populacjach (grupach).\n",
        "\n",
        "3. Równoliczność wszystkich analizowanych grup.\n",
        "\n",
        "4. Normalność rozkładu zmiennych w każdej populacji (grupie).\n",
        "\n",
        "5. Jednorodność wariancji.\n",
        "\n",
        "**2) Test Welcha**\n",
        "\n",
        "Test Welcha to wariant Anovy, który jest stosowany, gdy założenie o jednorodności wariancji nie jest spełnione. Wszystkie inne założenia zwykłej Anovy i testu Welcha są takie same i należy je sprawdzić przed wykonaniem analizy. Hipotezy są takie same jak w przypadku ANOVY.\n",
        "\n",
        "**3) Test Kruskala-Wallisa**\n",
        "\n",
        "Test H Kruskala-Wallisa test Kruskala-Wallisa porównuje każdą z obserwacji względem mediany (a mówiąc precyzyjniej (matematycznie) porównuje sumy rang a nie średnie lub wariancje); dlatego przy raportowaniu jego wyników warto zwrócić uwagę na wartość mediany we wszystkich grupach i na tej podstawie wyciągnąć wnioski, a nie porównując średnie. Jest to nieparametryczna wersja ANOVA. Test działa na 2 lub więcej niezależnych próbkach, które mogą mieć różne rozmiary, a rozkłady nie muszą być normalne.\n",
        "\n",
        "**H0:** Wszystkie próbki pochodzą z tego samego rozkładu,\n",
        "\n",
        "**H1:** Nie wszystkie próbki pochodzą z tego samego rozkładu.\n",
        "\n",
        "Pierwsze dwa założenia powinny być spełnione w każdym wariancie testu ANOVA - wyniki egzaminów są mierzalne i niezależne. Założenie o równoliczności grup również zostało spełnione. Teraz należy sprawdzić pozostałe dwa założenia.  "
      ]
    },
    {
      "cell_type": "markdown",
      "metadata": {
        "id": "KnDffg5TeQK5"
      },
      "source": [
        "**Sprawdzenie normalności rozkładów**\n",
        "\n",
        "Do sprawdzenia normalności rozkładów można wykorzystać funkcję:\n",
        "\n",
        "pg.normality(dane, group = 'grupy', dv = 'wynik')\n",
        "\n",
        "Funkcja ta wykorzystuje test Shapiro-Wilka - jeden z najśilniejszych testów do badania normalności rozkładów.\n",
        "\n",
        "**Proszę sformułować hipotezy i skomentować wynik.**"
      ]
    },
    {
      "cell_type": "markdown",
      "metadata": {
        "id": "iA9QFOBR8dlZ"
      },
      "source": [
        "**H0:** Rozkłąd jest normalny\n",
        "\n",
        "**H1:** Rozkład nie jest normalny\n",
        "\n",
        "pval < 0.05, czyli odrzucamy H0 czyli rozkład nie jest normalny"
      ]
    },
    {
      "cell_type": "code",
      "execution_count": 21,
      "metadata": {
        "colab": {
          "base_uri": "https://localhost:8080/",
          "height": 269
        },
        "id": "cBlvfn8xgEhU",
        "outputId": "77ed9287-1c5a-4c04-fe0d-4d8ad4439213"
      },
      "outputs": [
        {
          "data": {
            "text/html": [
              "<div>\n",
              "<style scoped>\n",
              "    .dataframe tbody tr th:only-of-type {\n",
              "        vertical-align: middle;\n",
              "    }\n",
              "\n",
              "    .dataframe tbody tr th {\n",
              "        vertical-align: top;\n",
              "    }\n",
              "\n",
              "    .dataframe thead th {\n",
              "        text-align: right;\n",
              "    }\n",
              "</style>\n",
              "<table border=\"1\" class=\"dataframe\">\n",
              "  <thead>\n",
              "    <tr style=\"text-align: right;\">\n",
              "      <th></th>\n",
              "      <th>W</th>\n",
              "      <th>pval</th>\n",
              "      <th>normal</th>\n",
              "    </tr>\n",
              "    <tr>\n",
              "      <th>group</th>\n",
              "      <th></th>\n",
              "      <th></th>\n",
              "      <th></th>\n",
              "    </tr>\n",
              "  </thead>\n",
              "  <tbody>\n",
              "    <tr>\n",
              "      <th>Matematyka</th>\n",
              "      <td>0.992778</td>\n",
              "      <td>8.671023e-05</td>\n",
              "      <td>False</td>\n",
              "    </tr>\n",
              "    <tr>\n",
              "      <th>Angielski</th>\n",
              "      <td>0.983633</td>\n",
              "      <td>3.718379e-09</td>\n",
              "      <td>False</td>\n",
              "    </tr>\n",
              "    <tr>\n",
              "      <th>Fizyka</th>\n",
              "      <td>0.990696</td>\n",
              "      <td>5.880887e-06</td>\n",
              "      <td>False</td>\n",
              "    </tr>\n",
              "    <tr>\n",
              "      <th>Geografia</th>\n",
              "      <td>0.994492</td>\n",
              "      <td>1.021544e-03</td>\n",
              "      <td>False</td>\n",
              "    </tr>\n",
              "    <tr>\n",
              "      <th>Biologia</th>\n",
              "      <td>0.992880</td>\n",
              "      <td>9.975582e-05</td>\n",
              "      <td>False</td>\n",
              "    </tr>\n",
              "    <tr>\n",
              "      <th>Chemia</th>\n",
              "      <td>0.988077</td>\n",
              "      <td>2.921289e-07</td>\n",
              "      <td>False</td>\n",
              "    </tr>\n",
              "  </tbody>\n",
              "</table>\n",
              "</div>"
            ],
            "text/plain": [
              "                   W          pval  normal\n",
              "group                                     \n",
              "Matematyka  0.992778  8.671023e-05   False\n",
              "Angielski   0.983633  3.718379e-09   False\n",
              "Fizyka      0.990696  5.880887e-06   False\n",
              "Geografia   0.994492  1.021544e-03   False\n",
              "Biologia    0.992880  9.975582e-05   False\n",
              "Chemia      0.988077  2.921289e-07   False"
            ]
          },
          "execution_count": 21,
          "metadata": {},
          "output_type": "execute_result"
        }
      ],
      "source": [
        "pg.normality(df1, group = 'group', dv = 'score')"
      ]
    },
    {
      "cell_type": "markdown",
      "metadata": {
        "id": "oHRtEGEM9gtC"
      },
      "source": [
        "**ODP:**"
      ]
    },
    {
      "cell_type": "markdown",
      "metadata": {
        "id": "XSpCPaRKai8V"
      },
      "source": [
        "**Jednorodnoć wariancji**\n",
        "\n",
        "Hipotezy:\n",
        "\n",
        "**H0:** Wariancje we wszystkich grupach są sobie równe.\n",
        "\n",
        "**H1:** Wariancje dla conajmniej jednej pary wykonanych serii prób są różne: sigma_i =/= sigma_j"
      ]
    },
    {
      "cell_type": "markdown",
      "metadata": {
        "id": "8sC8386lUOF6"
      },
      "source": [
        "![image.png](data:image/png;base64,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)"
      ]
    },
    {
      "cell_type": "markdown",
      "metadata": {
        "id": "1aoe0Ox6qN70"
      },
      "source": [
        "Założeniem tego testu jest normalność rozkładów, jednak z uwagi na liczebność prób pomijamy to założenie i wykonujemy test."
      ]
    },
    {
      "cell_type": "code",
      "execution_count": 22,
      "metadata": {
        "colab": {
          "base_uri": "https://localhost:8080/",
          "height": 81
        },
        "id": "9hJ0bTw9BLAa",
        "outputId": "40b77c56-06ce-4a2c-882c-f4a42ae8840b"
      },
      "outputs": [
        {
          "data": {
            "text/html": [
              "<div>\n",
              "<style scoped>\n",
              "    .dataframe tbody tr th:only-of-type {\n",
              "        vertical-align: middle;\n",
              "    }\n",
              "\n",
              "    .dataframe tbody tr th {\n",
              "        vertical-align: top;\n",
              "    }\n",
              "\n",
              "    .dataframe thead th {\n",
              "        text-align: right;\n",
              "    }\n",
              "</style>\n",
              "<table border=\"1\" class=\"dataframe\">\n",
              "  <thead>\n",
              "    <tr style=\"text-align: right;\">\n",
              "      <th></th>\n",
              "      <th>T</th>\n",
              "      <th>pval</th>\n",
              "      <th>equal_var</th>\n",
              "    </tr>\n",
              "  </thead>\n",
              "  <tbody>\n",
              "    <tr>\n",
              "      <th>bartlett</th>\n",
              "      <td>26.726191</td>\n",
              "      <td>0.000064</td>\n",
              "      <td>False</td>\n",
              "    </tr>\n",
              "  </tbody>\n",
              "</table>\n",
              "</div>"
            ],
            "text/plain": [
              "                  T      pval  equal_var\n",
              "bartlett  26.726191  0.000064      False"
            ]
          },
          "execution_count": 22,
          "metadata": {},
          "output_type": "execute_result"
        }
      ],
      "source": [
        "pg.homoscedasticity(df1, group='group', dv='score', method = 'bartlett')"
      ]
    },
    {
      "cell_type": "markdown",
      "metadata": {
        "id": "D6UCNVE0A0um"
      },
      "source": [
        "**ODP:** H0 jest odrzucone, rozkłady nie są takie same"
      ]
    },
    {
      "cell_type": "markdown",
      "metadata": {
        "id": "3TdGd4LMqkqZ"
      },
      "source": [
        "Niespełnione założenia dotyczące normalności rozkładów i jednorodności wariancji wskazują na to, że powinniśmy wykonać test Kruskala-Wallisa, ponieważ założenia do ANOVY oraz Welcha nie są spełnione.\n",
        "\n",
        "W praktycze, gdy próba jest wystarczająco duża możemy jednak pominąć założenie dotyczące normalności rozkładów.\n",
        "\n",
        "**Sprawdzimy jak takie podejście wpływa na wyniki.**"
      ]
    },
    {
      "cell_type": "markdown",
      "metadata": {
        "id": "1cnn_TnLBs13"
      },
      "source": [
        "## **ANOVA**\n",
        "\n",
        "Proszę uzupełnić hipotezy i przeprowadzić analizę."
      ]
    },
    {
      "cell_type": "markdown",
      "metadata": {
        "id": "CEBFRJlXMBHd"
      },
      "source": [
        "**H0:** średnie są sobie równe\n",
        "\n",
        "**H1:** conajmniej jedna średnia jest różna od pozostałych"
      ]
    },
    {
      "cell_type": "code",
      "execution_count": 23,
      "metadata": {
        "colab": {
          "base_uri": "https://localhost:8080/",
          "height": 562
        },
        "id": "LWrjZkUGKTn-",
        "outputId": "71d38905-789a-49cc-acb5-05ba4b0b4c58"
      },
      "outputs": [
        {
          "data": {
            "image/png": "[encoded data removed]",
            "text/plain": [
              "<Figure size 640x480 with 1 Axes>"
            ]
          },
          "metadata": {},
          "output_type": "display_data"
        },
        {
          "name": "stdout",
          "output_type": "stream",
          "text": [
            "Statystyka f: stat=453.094, wartość: p=0.000000\n"
          ]
        },
        {
          "data": {
            "text/html": [
              "<div>\n",
              "<style scoped>\n",
              "    .dataframe tbody tr th:only-of-type {\n",
              "        vertical-align: middle;\n",
              "    }\n",
              "\n",
              "    .dataframe tbody tr th {\n",
              "        vertical-align: top;\n",
              "    }\n",
              "\n",
              "    .dataframe thead th {\n",
              "        text-align: right;\n",
              "    }\n",
              "</style>\n",
              "<table border=\"1\" class=\"dataframe\">\n",
              "  <thead>\n",
              "    <tr style=\"text-align: right;\">\n",
              "      <th></th>\n",
              "      <th>sum_sq</th>\n",
              "      <th>df</th>\n",
              "      <th>F</th>\n",
              "      <th>PR(&gt;F)</th>\n",
              "    </tr>\n",
              "  </thead>\n",
              "  <tbody>\n",
              "    <tr>\n",
              "      <th>C(group)</th>\n",
              "      <td>20.909328</td>\n",
              "      <td>5.0</td>\n",
              "      <td>453.094126</td>\n",
              "      <td>0.0</td>\n",
              "    </tr>\n",
              "    <tr>\n",
              "      <th>Residual</th>\n",
              "      <td>55.322064</td>\n",
              "      <td>5994.0</td>\n",
              "      <td>NaN</td>\n",
              "      <td>NaN</td>\n",
              "    </tr>\n",
              "  </tbody>\n",
              "</table>\n",
              "</div>"
            ],
            "text/plain": [
              "             sum_sq      df           F  PR(>F)\n",
              "C(group)  20.909328     5.0  453.094126     0.0\n",
              "Residual  55.322064  5994.0         NaN     NaN"
            ]
          },
          "execution_count": 23,
          "metadata": {},
          "output_type": "execute_result"
        }
      ],
      "source": [
        "# wykres typu boxplot\n",
        "ax = sns.boxplot(x = 'group', y = 'score', data=df1)\n",
        "plt.show()\n",
        "\n",
        "# Dwa sposoby na przeprowadzenie ANOVY\n",
        "\n",
        "# stats funkcje f_oneway pobierają grupy jako dane wejściowe i zwracają wartość ANOVA F i p\n",
        "\n",
        "fvalue, pvalue = stats.f_oneway(mat, ang, fiz, geo, bio, chem)\n",
        "\n",
        "print('Statystyka f: stat=%.3f, wartość: p=%3f' %(fvalue, pvalue))\n",
        "\n",
        "# Tabela ANOVA\n",
        "# Ordinary Least Squares (OLS) model\n",
        "model = ols('score ~ C(group)', data=df1).fit()\n",
        "anova_table = sm.stats.anova_lm(model, typ=2)\n",
        "anova_table\n"
      ]
    },
    {
      "cell_type": "markdown",
      "metadata": {
        "id": "YSIGn90UL83f"
      },
      "source": [
        "**ODP:**"
      ]
    },
    {
      "cell_type": "markdown",
      "metadata": {
        "id": "Ok-5xUQBsJ3d"
      },
      "source": [
        "**TESTY POST - HOC (po fakcie)**\n",
        "\n",
        "Analiza wariancji mówi nam o tym czy różnice w porównywanych średnich występują czy nie. **Nie wiemy jednak między którymi grupami zachodzą te ewentualne różnice.**"
      ]
    },
    {
      "cell_type": "code",
      "execution_count": 10,
      "metadata": {
        "colab": {
          "base_uri": "https://localhost:8080/"
        },
        "id": "WhWpdPbIuJuc",
        "outputId": "7ac8ec63-71eb-49c4-a215-a1c2f608d7ab"
      },
      "outputs": [
        {
          "name": "stdout",
          "output_type": "stream",
          "text": [
            "    Multiple Comparison of Means - Tukey HSD, FWER=0.05    \n",
            "===========================================================\n",
            "  group1    group2   meandiff p-adj   lower   upper  reject\n",
            "-----------------------------------------------------------\n",
            "Angielski   Biologia  -0.0627    0.0  -0.075 -0.0505   True\n",
            "Angielski     Chemia  -0.0254    0.0 -0.0377 -0.0132   True\n",
            "Angielski     Fizyka  -0.0432    0.0 -0.0554  -0.031   True\n",
            "Angielski  Geografia   0.0995    0.0  0.0872  0.1117   True\n",
            "Angielski Matematyka  -0.0821    0.0 -0.0943 -0.0698   True\n",
            " Biologia     Chemia   0.0373    0.0   0.025  0.0495   True\n",
            " Biologia     Fizyka   0.0195 0.0001  0.0073  0.0318   True\n",
            " Biologia  Geografia   0.1622    0.0  0.1499  0.1744   True\n",
            " Biologia Matematyka  -0.0194 0.0001 -0.0316 -0.0071   True\n",
            "   Chemia     Fizyka  -0.0178 0.0005   -0.03 -0.0055   True\n",
            "   Chemia  Geografia   0.1249    0.0  0.1127  0.1371   True\n",
            "   Chemia Matematyka  -0.0566    0.0 -0.0689 -0.0444   True\n",
            "   Fizyka  Geografia   0.1427    0.0  0.1304  0.1549   True\n",
            "   Fizyka Matematyka  -0.0389    0.0 -0.0511 -0.0266   True\n",
            "Geografia Matematyka  -0.1815    0.0 -0.1938 -0.1693   True\n",
            "-----------------------------------------------------------\n"
          ]
        }
      ],
      "source": [
        "tukey = pairwise_tukeyhsd(endog=df1['score'],  groups=df1['group'], alpha=0.05)\n",
        "print(tukey)"
      ]
    },
    {
      "cell_type": "code",
      "execution_count": 11,
      "metadata": {
        "colab": {
          "base_uri": "https://localhost:8080/",
          "height": 607
        },
        "id": "rYHENDwLuuOi",
        "outputId": "461a3bda-1f36-486e-9931-e4239d87219d"
      },
      "outputs": [
        {
          "data": {
            "image/png": "[encoded data removed]",
            "text/plain": [
              "<Figure size 700x600 with 1 Axes>"
            ]
          },
          "metadata": {},
          "output_type": "display_data"
        }
      ],
      "source": [
        "fig = plt.figure()\n",
        "ax = fig.add_subplot(1,1,1)\n",
        "tukey.plot_simultaneous(ax=ax,figsize=(7, 6))\n",
        "ax.vlines(x=0,ymin=-0.5,ymax=4.5, color=\"red\")\n",
        "fig.tight_layout()"
      ]
    },
    {
      "cell_type": "markdown",
      "metadata": {
        "id": "vQteIDi8uHTb"
      },
      "source": [
        "**Która średnia istotnie różni sie od pozostałych? Czy jest to tylko jedna srednia czy jest ich wiecej?**"
      ]
    },
    {
      "cell_type": "markdown",
      "metadata": {
        "id": "iVHijo6Ou3r8"
      },
      "source": [
        "**ODP:**"
      ]
    },
    {
      "cell_type": "markdown",
      "metadata": {
        "id": "fZOyKVSzvlOU"
      },
      "source": [
        "**Siła efektu i moc testu**\n",
        "\n",
        "Podstawą do odrzucenia H0 jest wartość *p*. W celu uniknięcia błędów podczas wnioskowania powinno się wziąć pod uwagę również tzw. siły efektu. Wielkość efektu szacuje w jakim stopniu efekt oddziaływania jest obecny w populacji."
      ]
    },
    {
      "cell_type": "markdown",
      "metadata": {
        "id": "E3ctE-KU-apY"
      },
      "source": [
        "Dla jednoczynnikowej ANOVY podstawową miarą siły efektu jest η^2. Możemy wyznaczyć ją bezpośrednio z wyników zawartych w tabeli ANOVA."
      ]
    },
    {
      "cell_type": "markdown",
      "metadata": {
        "id": "PqW7wOXQAbiI"
      },
      "source": [
        "![image.png](data:image/png;base64,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)"
      ]
    },
    {
      "cell_type": "markdown",
      "metadata": {
        "id": "zY5Py9F7-EDI"
      },
      "source": [
        "![image.png](data:image/png;base64,iVBORw0KGgoAAAANSUhEUgAAAhsAAAHXCAYAAAAV5ZjvAAAgAElEQVR4AeydB3gU1deHN5WQhBAgkNB77yAdEnonBQJKt2DBAsjfAipiV+wiKBYQERSQkoD0kpBetm8KoX609NCLgvp+z53NQghBFiEwws3zzLMls7Oz53fPve+cc+4dDfJPWkBaQFpAWkBaQFpAWqAULaApxWPLQ0sLSAtIC0gLSAtIC0gLIGFDNgJpAWkBaQFpAWkBaYFStYCEjVI1rzy4tIC0gLSAtIC0gLSAhA3ZBqQFpAWkBaQFpAWkBUrVAhI2StW88uDSAtIC0gLSAtIC0gISNmQbkBaQFpAWkBaQFpAWKFULXAMbZ86cIWPPHvbt2yc3Fdlgz549nDhxgvy8PPbu3Su1UZE2wleEJhfOn+fYsWMIraT/qKf/EHocPnyYc2fPsv/AAamNynxn3969ZGVmIcYe6Tvq8RtbH7Y7I0MZe26VRK6BjS1btlC3bl3q1asnNxXZQGgyb/58XpkxU+qiIl1sftK4SRN2RUYyZuxY6T8q06duvXoMGTKE7du306VLF+k/KtNH+NDEiRMJCwuTvqNCbcTY89Pin26VNa6d+rpq1So0Go3cVGiDN958k0ceflhqo0JtHB0d+e233+jeo4fUR4X6NG/enLVhYVSpUkXqo0J9evfuzZIlS6Q2KtRG8MC8z+fdfthYs2aNFFylgr/9zjtMeuwxqY8K9SlTpgwbN26kZ69eUh8V6tO6dWvC162jevXqUh8V6tO/f3+WLl0qtVGhNgI2vpr7lYSN+ykKI2FDvRE3CRvq1Ub0ERI21K2PhA116yNhQ6UUWFoAJGFDvQ6pwMZvMrJRWm3/Vo8rYUO9viO0lbChbn0kbEjYkGFHlbQBBTY2SNi4VSgorc9L2FD3YCZhQ936SNhQyUBTWh1k8ePKyIZ6HVKmUdSrjfAjCRvq1kfChrr1kbAhYUNGNlTSBm4lsuHo6ETlqjUQUzSrVvLGyaFIx+NaHt+aDahbtw71a/vi7e4sNf8XmkvYKNKm/oX9il/43O7XEjbUrY+EDRU6ze12wqLHu5nIhkuVVnTv7k+3bt3p4d+VB5r64ehYtEE7UqZmR7p070n3bt0I6NmdVg0q43if2bSofW/l+a3UbDh7+vH011tJSkpixZuDqeZZqJOLN92efJ/1UXq0Oj2piWt5bngbCRv/oo3aBxsueFVpSMcu3enew59e3TvTsIp7yfYuW5m27Tvi7+9Pz57daFnfD5ei5+XoRb3W3Qno0Y2u3brh36U9dX3Klnysop+7T5/bAxuOLh7UbtCCgIAAunXrRteuXRXbdg/oSUDHFlQv5yrtW0rtR8JGKRn2Vgad0vysXbDhWJYWAaG8v1HLoaOZZGZmkZV9jIyElTzr34QyGgecXMvTOXgSn2/Tc+BoNlmZmeTkZJIa+QuP9KqH21VQUhRQ5PPr6XsraRSnCrV4I/Z3ZWpZ6k/jqeUl7OxIrfZPsPngWeX9HEsYP33/GZMGNsXhPmv317P5zbxvF2y41WTwjGVYDhzi8OEjHDu0jzWfP0r9cg7XDGK1hr7MOvMBjhw9wtGjh4hfMoWWla3+Ua5SSx755FN2WI6QlSV8MJPMI3tZ8/lzNPC5Drzc55raAxvOldrx/FItR48e4dDhIxw9lsmxzEyysnPITtvKjK71cb7P7XgzPnEz+0rYuM8alj2wUbH9WFamnOJP/mSPYS2vvvoKb779MTEZRzBv+Ix6Zdzwa/s0ay0n+ZsLpCYuZ9asmbz16Zek5Z1Et+BV6ro7XdO53kzDvB/3vRXYcKhQjVmRpxWoSPxuDNXcxaDlRscnvyIfuJRv4qX2dXB1daGMs6PU5l/4vV2wUa4BY+fHc14o8fffih5/H9vFMwPqFrN5NZ6dG8E54HSBFRKPx7xL15pCt7I8+NFWzvx9ib/PHODbL+cwc+Yr/Lg2nKMnUnl1SBsZPSxBP3tgw7VBf96MvaDocv5QLAs/f4VZs2bx3ocf8e6MSfjXKS9BvATb3o7+WMJGKRn2dohTGse4MWxUYtTLv3FG9JUFaUwLKFwt0cmV+l2HMbRbY8q6+/DoZ5sRLvvH/s083auGtSN18qSV/zCGdm5MOWfrFVpp/IZ79ZgKbKy3fzaKRwVfKlf2wcfHh3IVqjBj2/FC2BitwIZHhYaMfjmMEwI2Dm9jYvvGVCjviYvTtVfZ96pNb+fvsgs2POsz+osoTv0J5zMTMR8p4M+LR1j0Ul/ci9TRlO8wktX7zvLHOQPfRuxBYElO5Fu0r6rBpWIw8XlWUNEuepwaZQujHVXrMSRkOK2rexYDF+lrQmd7YMO5mj+zdwko/5sD2z6kla9MS91OH/mnY0nYkLBRrOOqzaRXtyiD1u95Jmb3aUW5YikRx3KteeHbSGWfvN1b+V/vBngW6Uj/qcHJ/11/YLA3suHg4E6bwY/x3WY9SdokdHodi2YF81l0jqJJwoKx1PB24YO1Og7lFSjvnb9whiP704kNe4uQVi7FNL/+OUm9rtjmZmDj9F9wIm0ps36J5dAl2LP+bR6obivMdSPwma8RaPh/4c8y/Wc9fwK5kW/RobqGsj5PkvqXgI0/iJk/kw5VZJTQnnZoD2y41O3D7MhTik8c2P4xXX1lSsoe296OfSRsSNgoNvCUp+uk79gv4rtcpOBgBF+98SSBfbtQ2b0w/O5Uib4vLCP/otjnEgXp6/jklccIHdAG78KrsNvROO+3Y9gLG+U6TyJ6vzWKkWWKY/3iZeT+vo/jfyh9KInfjaVGRRdemLeahN3HlKvmS2ezMK0P5/uPn6V3Q5lG+Tdt62Zg48zfkKNfSO9J7xH1f+fhhJbXBjdTQvTOPm15Y9UhLnGGnx5txvgF8dbIRsRbdK6uwdmjN0v2X1LE/Ot8Nro1bzPxwUB6t/At5qtXQOjf/J577TN2wUbtXlciG5vfoZGXjPLdqXYgYUPCxjUdmGON9jz8VRwnrP0d/PUHeZn7Wf7FdHo08FD2d63lz3OLkzj+l3WA+/PSBU5k7ubHDybTurq8Wvg3DqzAxg1XEPVk7IJExeinD+7giX718XYpS8i0lWRbpSDp+9FU89Dg5F6fMS+tRTDIxUNbmNisFmVcy+KgkR3sv9HnpmADyE9ZRLsHOvLmtsPAn2x8K4hKGgca+U9FfxLIi2Voq9qM/DxSgY3ciLfoVEMAhCv1h7/GJktuoaJ/c+50ARmxa3giqD2V3CRklKSfXbBRI+ByZCNnbzzz33uN2bPf5K133mHGM8HUryT7rpJsezvek7AhYeMa2BANy61SHToNmch76/fy+yVr/pi/TqJb+Qodylunh3lXqU+fkY/z5fYMzos4sPi7dJ64RU/RuoIM/d6sgyqwcYMVRB3KdmRJXJZi6oxf3+SBwoHHsVIr3k8QlTYQ/83YwgLRSgQ9vkKBjTN7NvNI7Yolan2z53m/7n+zsFGQsZQmNXwZNHsVx/+EP/YsY4hPFfq8vVEpIM3Z8Q6NqpQl9Ivoy7DRRYENARNlqdFsIMNmLcN07KySZhHanj8cyZwBjfCQactr2rI9sOFcpdtl2Pjzz0v8fvYM586d5/yFC2TsWkTPBt7XHPd+be+3+3dL2JCw8Y/O5epdlVaDn+SbqGNc+BP+OrOfOWPaFvmMMxUq+tIseCY/JWVxUXDJ6QT+F9y4yD7ySswex7UnjeLccATr9omprH8QMfdZqhW2X0dvUSBqrc9I/HZcIWxUJuSplYi5Dn/+30ZG1fORmtyCv98UbPwNJ/cvp1s1DVW7hLLpwHn46zjLps9gfWoBf1/cy6sT2it6jPoypgTYsPqMo5sXTZq1YtDb4WSesYYR9296k4ZVbPUf0rdsvmUPbLg26HcZNo4k/8Tobh15oN0DdOrUmfZN6+BdRkb9bPa83Y8SNm6h87ndYtyJ4914NkrJnVf90LdJEnH6v3L5bmrPEgetphM+J1WEh383MnNsuxL3uRO/8b/6HfZENspVmci2I0pBDbolr9DU1n5d6/JhhLVAVEmjKFNfqyuwIWYNndu/iSkSNm6pTf4b2Aio44DGpz3TV6YrEabsY9Zk1+moRQQ3FDMhHHlw3vVh43Jb9mnK079ZYfLwro9pXM3tln7L5ePa2s898GgPbDj7dL1Ss7HtQ1pXlna8U21BwsY94GQ301huCBtlKtMu5DGeHNaeMpdt40Pw7KVki4uzY5HMDG1Kt9Anmdi/2ZUFcByrMeaTreT+Dn8d3cRE/2qyM7xsv5IBrrhudtVsONZlXlSmki45oVvBwPqihsaVfk8t4oCoSgRrzYYCGzWvwMa+TYypKyMbxW1+M6//DWz0rC9SjmXp/8w8si4UFjhxkW3zXqCGo7iKduKhIrDRoZoG93rdeeLJR2ld7cpVdsU2w1l/SGDjX5jmP0sdWYh9Tf9iD2y41OnN7F2Fs1G2fUyHqrJG42Z84Fb2lbBxkwPCrRhbDZ+9IWxUbsOLYXv483gKa39ZyA8//MCSXzeTkaUsP0Ts949Qq257Zkee5PcjWlb/sojFPyxm8cptHDolOtMTbJ37ENXLyTDvzeptTxpFHLNpwLvsVRYFPU3SrlV8/8Nq9p/+mz/+PK8sEqX9fvyVNMrkXxGThv4+vIlJ9SVs3KwmRfe3FzbGzI22LtZ1YAU961uvnD0CHmf1HmtEipNpvDWxWeFg6cTo+bEKJOZHvk3HqhoqPvg5Fy5ewBy7mkWLfmDJkp9Ym7Bf2efvrB1M7VcP1/us3yqqw/We2wUb1QN4I8q6ou7B7XPo5Cdh43r2vN3vS9i4z5z2hrDh5IZf/yms0R7l3LmznD17VnnMOxjHK6HdqevhjMahLI1DZ7Mp7YTyv3Nnzyn7HUvfwczgdlQrK0Hj3ziqvbCh0XjTecgsLPmnOXv2jGL7HQse5ZF5EZw4dQrT4geprSxXXpnhjyzh5KlTHNWHMam2hI1/o4vtM3bBhkddRn64iWMnT3HUsoQ+LQsXxSvTmplLDZw6dYpju9YypmrhYlKOzoz5Ok7R6MCGVxGRDQePpoz9fAfnzlv96ty5c5w5W0DyDzPpW7k8Lm7Sv2yaFH20Czbq9WLGxqOKDqnb5tKpqtc1EZKix5TP7YvK2mMnCRsSNkpwNmfKeVfGz88XX19ffP38qOrjjUfRVUEdXHH38rm8j5+fH5UqVcLJUa7hYI/jlbSPXWkUW3t1LEO5Sn5WfXx9Ke/siLNLOfyq+uHj6Y6T2M/BFTc3oZ8vVSt44iZXDi2hrdvfmdoFG45OlK9QET9fX2VlVwcHayrEQeOIa7nKVPH1w8fb+0r6UaPBxb0Cvr5+VK1UnjLO1v2dnD2U9xT/8/VVjlehgpwpUZLf2N6zBzYcHZ3xrOin2LN8+fI4yP7qlnzCZnt7HiVs2Drv++TxhpGN+8QO9jjHnd7H/siG/QPknf4N9/L32QUb0n/u2OBVvK3ZAxvFPyNf37m+RMLGfdY5SNi4c851sx2ZhA31aiO0lLChbn0kbKhbHwkbEjbu2pXIzQ7G9/r+N5VGuc/arRq0l7Ch7sFMwoa69ZGwcZ912jKyoV6HlJEN9WojIxvq1kboI2FD3RpJ2JCwISMbKmkDEjbU3VnKyIa69ZGwoW59JGyoZKC5U2FiGdlQr0MqsHGDe6PcqXYiv+fadiJh41qbqKmdSNhQtz4SNiRsyMiGStqAhA11d5YSNtStj4QNdesjYUMlA82dukKQkQ31OqRMo6hXG+GfEjbUrY+EDXXrI2FDwoaMbKikDUjYUHdnKWFD3fpI2FC3PhI2VDLQyMiGuh3lTuijwMZvG+nZq5cEQBX6pYQNdfuohA116yNhQ4WdWmkObDKNol6HlJEN9Woj0yjq1kboI2FD3RpJ2JCwIa+iVdIGJGyou7OUkQ116yNhQ936SNhQyUBTmtGMoseWkQ31OqRMo6hXGxnZULc2MrKhfn0kbEjYkJENlbQBGdlQd4cpIxvq1kdGNtStj4QNlQw0RaMPpflcRjbU65ASNtSrjYxsqFsbGdlQvz4SNiRsyMiGStqATKOou8OUkQ116yMjG+rWR8KGSgaa0oxmFD22jGyo1yEV2JDLlasWfiVsqNd3ZGRD3doIfSRsSNhQbedeFJLuh+cyjaLuDlPChrr1kZENdesjYUPChoQNlbQBGdlQd2cpYUPd+kjYULc+EjZUMtDcqSt3mUZRr0PKmg31aiP8U8KGuvWRsKFufSRsSNiQkQ2VtAGZRlF3ZylhQ936SNhQtz6lAhurV6+WA5hKBrDiEZM333qLRx95ROqjQn2cnZ3ZsGEDPfz9pT4q1KdFixaEhYfj5+cn9VGhPn369OGnn36S2qhQGzEOzf98Prf6pyl+ALPZzNPPPMPMmTOZMWOG3FRig+nTp7Njxw4EDL7wwgtSF5XoYvORKdOmkZ6WzoKvF/DSSy9JfVSkj9Djiy++ID09nZmvvMLLL78s9VGZPt999x0GgwHRz9l8Sj7e/fFXcIDggaioqOKocNOvr4GNmz6C/IC0gLSAtIC0gLSAtIC0wD9YQMLGPxhH/ktaQFpAWkBaQFpAWuDWLXANbPzxxx8UFBRw/PhxuanIBkKTCxcucP78eamPinSx+cmJEye4dOkSp0+flvqoTB/hO6dOneaPPy4idLJpJh/V0ccXHD/O2XPn+D07i7y4aPIT4+SmJhvEx3I2J4e/b5E3roEN4YDx8fEkJSXJTUU2EJpkZmZy+PBhEhISpDYq0kb4SmJiIidPniQtNY3EhESpj4r0EXqkWFIVfXQ6naKV7N/U078L39lz4AA5W7awfUBfIkMC5aYSG+wKCWLzoO4c3rzuFlEDroENcRUQGxsrO0sVdZaiYxSwcezYMQ4ePChhQ2Xa2PQRV81paWkkxEsYVNNgLuBcFL6LC6nk5GQJGyrzHwEbGfv3k7XxN7YEdGPn0EFyU40NBrO5e2eOhK0pHdiIi4tTnFI4ptzUYQPRYYrIhoAN4ZxSF3XoYtNB6CNgQ8x4kPqoSxuhR2qqNbKh1WqVCymbbvLx7mslwFRENrI3bWBbnwAig4fJTS02CAlka09/joaHSdi4XzoLCRt3v1P8p7YmYUO9+ghtUlJSlDSKhA316SRhQ8VwJWFDfQ7zTwPR7fifhA11ay5hQ736iMiGgA0ReZKwoT6dJGxI2JChehWlkSRsqK+TLAqREjbUq48tjSJhQ50aSdiQsFEibCQlJ6MzmLBYUrBYLFdtJoOO5OSkEj9XtGMu8bkoWlLR4F7iOd7F87sp2EhKRqs3FtHGjFGvIznpam2SkqxaphTqmGIpeb+SbSGOpVMK7660AyM6rbVD0+oNmIu1jyv7WTCLtlLsfEr+HnV2kMXP9eZgQ4vBaL6ij8mI7i62reK/5V57LbT5d2kULXqhU0oKJqMe7VUaJZGsK9rGUzAZ9Hb2fToMJgs2vzObTZf9pmTbF7aXEs/jv+EfJf8u67nfPGwEEjcimIQRwcSLbXgQUcHDiChW5yBei9kUyj6F+8cND2RXsf2uqhEJCSTWdtwijwniO0JKggLruYjvUM5neNA/H/+fvluN/7t7aRStEoZMiNzM2tWrCA8PL9zCCF+7mu1xBsxpFgza5JsDB52R1Iy97MlIxaRLJjnpv+9A/+Rc/+Z/9sOGFqPZgiFhJ2vDwgkLC2Pdug1ExulJMRmsMKiAnZ4Ui4nE6K2sXiv2C2fV2o1sj9ViSTWh+wdoTEpKRGdKIzXdyJZ1vynfsXbNGsJ+iyExUYtWl0xi7A42bwhTzuFKOxHtJYzwdevZsCMKnQIc94bWdsOG3khaqpnorWtZo9g9jFUbIzGmpiltXwL37W8P/yqyIaBZl0z01nDW/rqC37busrZt8X5SEnpTGin6WKX/E74TFraWzVGJpJqN1wcOcRFgsJCeZmTX1jWsWhNOeFgYa9dtItGSrgC4uAC4un/QkqxLInrbetb8upLwLdEkJiYXA5/in/lvvbYXNgQ8xAwPIjFkMKv69WZpv1783L8XSwcPIXJEMAIkbOAg9k0IDSE+ZDAr+vTkl/69WNa3N6sHD1Wm1ZYEHOK9ncMGsGqg9bjiM9atJ0sHDWRT0BVQsZ6LAJ3BhPW7cvwV/QeyM0RATklg8h98727BRpLWRJpxKx8+1pWyDhpcnByuunFOoz5P8P68tSQb9Oj02mJOU7IDiBxqcmQ4P8x5i/fmLCIsIgGduAq/6iqi5M/eT/vYBxtatEYjkRu/5/ng1le0cfKg9YgX+WGrkd0mHUlag7Jfwtr3GRdQ98p+mnI0GvAUizbGkGwwotVeHQlR7J2UhNaYjiFyDfPeeZhqrm5XPu/UhhcXRmJJSWLFmxNp6FLSnQwdKOPmTcuQT4g+kIbhHolu2AUbOi167Q5+eO9putV2vGw3hyqtee7ThexIMEjgKAW//zc1G0ZzCvpt3/FgW3ccxC3qR7/LxhgTel0ierOJhB2rmTO5D25OV3Ss1nkEc36Nx3ydvk+r05MYsZ6PZ0+ive8V33DyqsaDs75je3IqRt3VF2omSwrG6CWM6lRBaS+Nh7/FpvgUDLoSfLMUbHcn+lh7YWPX8CBiAgfycauaVHIotJ+jBo1XFR7t0J1NIYFEichFSCDRI4axqVcnJteqgJu4uZnYT6Ohpm89vh0yjNjhQZfBxAYoMSHDCPdvQQd3DY7OhZ9x0qAR31W2Cq8FDCRhhBVoooYHsWVgT2Y1r0nVIscvU8aHmT37Ehd67fFt3/Oferw7sJFEsiGFvYmreC6kJRqNAxUbd2PC5BeZMeMpBjew3k3Rq3YfPlkVjclkQFsYUv+nBqs1atn2y/t0Ve52147nF+zEYDHeU+T+T7/f3v/dGDa06HQGkrcuYmKfqri6lWfAYy/w4gsv8lxob3y9ytBo6FQ26SykpaYSvXouQa3K4uXXkIenzODFl6fz9Kiu+DlpqDfkJdZE6TBe06GJ0LGZlOTtzHywNe4aDQ8Me5JpU6fw3JSpTJ8czNOfh6E3JrHp52947bkpTJkyhSlTpzJl6jRemDaVR4O64e7qSbvhH5G8NwX9fQQbWoOZyB9fwNenDkPHT2HalGeZ8txz9KrnhMatHo+/G455jxntPWITe9t2ae8nfOem0igi0poeyQcT+9KwWkNqV3CmdehsNkUb0BuMpGq38srYdrhqXPEf8SRTp01n+iPD8PV0wqXpYJZHaK9JiyUl6zAatOyY/zQ+lf0ImPgCz0+fzotTJtGzhS8a90Y8PncrqWnGy/onafWkmeP46smR+Pk2xq+SJ02CXmV98h5rBPg/ChfF9bYPNgKJD+7P282qUc7VkS4NGvJs6xZMadGQnhWccS5bgWkBfYkPFamVIDb07kBvN0dcy3oytHlLnmvVnGea1uPh1k2ZN2ioEiEpPujHDg8krHtbGmlcaFStIZNatGRy8+Y81bw5z7R4gJ8GDiF6eCBRIUHsGtqLSbW8cdRo6NygCc+1aqbsN7lFS14M6IcAo5KiJ8W/U/Wv7xZsaA0p7NaGMW1EKzQOZWg1Zjbb9BkcPryP7V88Tl1vDRrP+jz43irlylmvhCJ16I0mLGZrjlLkKc0mI8r/kpMxWUzsWjGHTgpstGbGd1vYvc+CUatFbzCTajFhMNiiJEnodHos5hQlBaDXWyMeSVqR0zRgMZsxGgXkCOrXIuoGTIW5UfG9KeL/Jv3V+VGtFp1Bj+XyfilKKNSg112GpSStDqPyfzMGnR6DOK8Ui/J9Jr0OnYjOlLLj3xA2tMLOyfz27qM0cXGj46RPiTTtJS0thbSEjbw2ph1eXnV47KudHN5jZMnsUVTx8eHBt3/EsnsvlvTdHNBtYNrgRng0GsBHYfGkGXVXpcOSkrVY0k1s+mgK9co68MBDrxG2y2y1g9mMxRjHrugEJVWj1Ym8tEmp6RALKpktqew2RfP9xF5UKFub6csMpJuvPn5p27A0j29XZEOrI377ar5ZtILYZAsiV2+xmFgz9ylaadzoNOIDIky7MZQUUSrl9lWatrnbx7alUcQKrzecjZKUhCltP9vnPUK7mk15dPJLDG7iSavhs9gYbSQlPYWdP86mdWUnWobMJCxK1HRYSDMns+ClIbi7ueL/+ipS9dfWb4h6pqgt4Xz348/s1Ir+KIWM3SbCP3qIOl5edHz0c5L2paJLtEYtTKn72PbN07Rq1JqQp14nqEVNmg2ZQViM8b6DjejhQewYGMCwii7U8qvPL8EhJIUGkzxyGKu6N6KRZ1k6tupC9KhQ4ocPYHodL7w8vRjbpQc7RgxXACR+uKjrGMK2wCHXRDXEoB8zfBhru7ekgaYsI9r1JPbBESSFhijpGFEjYqvZiAsazLdtW1DJSUO3Jq1YFxJCwoggJVoSHTyULYFDrqkfUT1UXK9e5O7ARjJJOgv74n9l2vCWaBzdaDH6TbZo0zh06CDxy2bSxkeDpkIznvosHL1BrxTBpSVv5+Npw6ns5YaXV3ncK1Sl/YOz2RSViMFs4Zfprajo5Yazg0jJOOHh4UG5ao0Imvop04NaULGCD6Gv/4DOZMFoMrH1+1fp1qA8let34PWfd5IqClUNUSyfM5Havt50CJrMyjgTaSkpmHf8xPOhD+DhVpZynmVx923MyFnfEaM1odWJXKhOuVKxhL9Lh5b1lfMrX84T76Z9eX/RBhJ14krGQMyqL+j3QD38mjzL4o1reLJ/LZzLeFKhSnU6jn6THVqDEv4szU71RrChFUCkj+bDSQNx82jDhxvi2J1mIlmrw5KqJ/L7/1HHpxoD/reE/QdS2fzJaBrU9GPAayvI2LOX9Ix9HLHs4H/DmlGu7Ri+355ManHY0Jk4aNjMa0HN0FQfwHebtGSkpihXjeLKURTIFQUv0bHbNoPRROKaT+jWwJu6g2ayI2P3PRPVELrbBRvJyVh1sgKqsI1Orydxyw8E1vGkQ9B77DDuvqdC5KXpE/Ye25ZGESuI/jNsJJGkt5BuXM2UzvVpMnw2a78bpY8AACAASURBVH79huCmLrQY/jobo83s3qtl1euh1NDU4Omvt6A16a1t3GAiZdvX9KpakRYj3yXenFJyAbRyUWAmJcVCSmoaGXuNrPt0EpW9qjHwhcVYMszoxKJ9orYjeQPP9a5DrUFTWfnrAh5pWZEmg2cSnmCt77H396t9P3siG7uCA4kb1pvJNcvjWaU2PwQNxTxqOIaRgWzq0ZTGnl4Mbt2DxAdDienbgdZOTrRr3I5toSPQhwaTWFjAGSOWAb/OwGqFjeY01LgxuHlH1gQOZP2gAWwYOoToEUFEizoMkaIZ2ptJNTxwrFSL74YGYxo1/Krj3xMRDZuN7g5sJCEiGxnJtsiGK7UDxvLu3IUsXzGPx3vVo7JXAwY//i7h0ToMIooQu5n/DfLDpYwHdRq3pmPHDrRpUBmNpgyNBkxndXw66z4YQcfm9SivRDY8qdmoHQ8EDGHse98x+6EmOGicqOX/MltFZMScwPevjKSam8i/1aDf8z9gOnQAU9RqnutbG0eNE/VHvM2WtP8jIexzhreviKNHFRq27USXju2oXcVT+W7/Jz5mW7KIjhhZ/+Vk2lZ3xL1yPdq070jnds3xKV8GjaYOE77crFx57vr5HbrVc0WjqUyDiq7UaP4Ands3p7KHGxpHP/wf+5CElFQM/1BUeasObw9smIzRzJs2lEqaujw85zd2H9hHRkYGe/amse6LydTx9qTV6PdIOLSflPjfmDa0JR4Vm/Ho29+zYulC3n82lOYNOzP1818VsCt+zkJ/c+RKJnTyxif4Tdat/ZlFC75mwYIFfP3VV6zZnqBElop/TgCPyRDH9zOD8HWvxZSftJiNolj13qnFsRc2iv9mMWso/peXaOxQiQHPLkObbkEnIxu3tW3YG9kQqY60DDNLXh9OpSr1mf59LPrtCxnW2EmBjQ3RFtL2Glnz9jhqO3rQ/3/fkmTZQ1p6Oul79mMOf4sOFTyp3fI1fjOll9AfCPhOJn7XRhZ/8w3fLfqe+e88S/dWLWg/ahpLdpixGLQo55GuZ9k7D+LnU4+nv43BGPULoa29aTRk5n0Z2RCAEBU8lMWdGtPUrQwtazfhi4AAvurRisG+FWjdoDkrQoahDQ3i1x4tqF62HKEPdGZ57+7M696Vz7t34cteAawfHlhivYY4fuyIYazpJmDjSj2NqPOo6OnDCwH92BESRGxIIDsH+DPK143G9VqwfMhAvunRlS+6d+Fz/+6sHDaYuBH3SApFAMfdgo0kQwp7klYzLbTN5eI2IYZt86jag0dmfc5vMSYsGemsenMw5Zwdqd5hIiti0jl27DApm+fRVhRHVWrHi19tQG9JIf7nD+iuHKc9ry6OJW3fHtJTkvjxnUnUcNNQvkpPPtuZSoZ+LbNDRa5UfKc7TQc9Q9SRLBLXfkjvuuXRlKnFuA/Wsjc1jo/GtqGcQ1kaPziHyIyjFOT8H+FfPkk9bwc0VYcyf6MO086ljGrnrUDE+I82kLbvEHn79Xz4TG88nDR4B7xEpHk3cSvm0LNxWTQaF1oMfZrlkansNUfw/tgA3J00VG47mPmbU0k3XV3cVXxguZXXN4YNLQZDIpu+mEab8hrK1u/GU8//j+nTX+D5KU/Qu3UVHB0q0Xb8R8TtS8NkNKKLXMOs0I6FoCdsWptRb6wiZV/65TRX0XPWGVPRb1vMQ23LUrfjIPq2ELa7on+dbiOYu3KnMhup6Oe0BiMJGxYwoo03vi2fZk2CEdPl1Ni9ARz/BjaSkvVYEjcwPaAmHrWH8fGGJFIN94Y9iup/t58LbW5UsyFmgRjSUtCv/wz/+nXp8uQXxO4+hGHLtwwthA2RRjGnphAfPhf/uu5ovFsw5skpTJs2janTX2R096qKP9RuO50NIh1W7OJDpGP1hiQ2z30MnyJ+o6ncmWc+X4TWko4+OQmdJRXThrkMbFyFzpM+JibtELt3LmRUo/I0HjzzPq3ZEDM5AokLGcov3VvRwd3lct/jW70JPw0Zij40kLjQEL5/oB513L1o41eFeoWFoUo/5eRMn9atWB5YMnCIeoxN/boztUF9HmpQT9kerF+bJu6OaNzK878evZSUyoaeXejj7Uytin50quhx+TzEdzSpWY+5AwZfNTPmepGU/8T7dwc2RBrFzN6EVYU1Gy7U6DycF994n08++ZS3ngumpqcGjZMnPSd9wfbURN4JbI6rxomK1VoSMGAgAwcOYEDfntSvKAaoKgRN/ZYYs4nY5e/RWXG+1sxavBWtRY/eaCRqxcf4N/TE1d2L0M8i0W3+juEPVKKMZyUqOTvj3bgnn20wsHP+E9Qt74xPkwDmRR3AkrSM8e2r46Jxo1qjTgwc2J9BQ4bQz78Nvp4OODrV56Ul29j08/t0cRfn4k3zLn3o378/AwcOpFurWrg5anD37suCyFQSVn6AfyM3NA7leXReBLstIr2SwMrZoVR20+BevwsfhBnJsOi4dura7Rk8bgQbokMXIXpD4g4Wffo8bSuISIwNBLzoOWAg7av60W70u8T9315S9PEs+/xlBndsjP+wJ5n12kRa+XlTu20gb34bTpzBfM0Vtpjul7BpMSNbl0Xj1YSHnnmNd+e8y3sffMTrz4TiU0ZDzQ6vKEWol4sctVqM2ii+f3U4vi61efiTcEyppnuuAPhmYUOARpolmq/G96a8gzsPv78NfYoojL53Zhncbciwfb8tjfJPi3ol6YzsTonl3Umdqdp8JF9vSCR970F0Gxdcho3NMUb0Bh0mbTxhy98nsKa4ALH5mCMtBofQ1acSdVv9j/UCHLTF72FkjWxEbVjB3A/e49335/De2zMI6Vydsh6+BM1YSJx5DxmpCcx5she+TQfwyVYzaen7MW/7gcBWFWg4dCbhsab7rmZDDMwxwwPZMag7z9T3pYlPRR5u15ZR1Twp6+5NYJO2rA4cStKDI1nUsQHVHBypUaU2z7fvwJsdH+DNDm0IrVoOJ0dPJnTuQ0TwlWmsRQd9sS5HYmgIyaIeJDREiZQs69qc1h6O+NVuycbgYLb168HACk5oPCoxumVb3urQnjc7tuP5xtWo7OxI3dqN2SAiKP+Qsin6nap+fndgw5pG2Z28lqlKgaio2XiLbfrdHNy3hz0pBr6c3FWZZuTVPITF4cuZ1soPR40DTo6OStWucEwHjQOuri44u9Rnwus/kSAKRJe8RRfFadsyff52tClG9Ho9hp1LeSSgARqNF90mzyd87vO0KuNO+6CneGpAYzwrt+OZT1by6RMD8dQ40zzkNXYe2E/qpo8Z2MRL6QgcnByVqWvKdzs4UaaMM+5enXl7+XbWLZhCYwFIDs44OYhzs3Ycjk4uuJUpQ+Wak1iuzSD2l3foUreMAhsTPt1Impgto09m6auj8BGw0bgPH64zsSdFf1dhQwEOvR6TMYmd4eGsXL6c5St+Zf2GTWz89iWaV63BwOk/kL4vjeUfPkGTutXpPvlzIpKMWNLMxIR/x7jutajg25t3VkRhNOguV8aLY+tMqei3/8iI5s40GvIS4XG7lQLUlNR09hgieSW0KeUr9uPLbfrLM1lEoWjC1pU80dkHTcNQFm43kWa596Y23xRsiFkGlmgWPD6Mao7OhL7xI3Fawz+ubWIbOOXjzcP7jdMoOsxpRiIXzaB97boMnvENUbGJxCXqlXTskMbONAt+jeU7xG3ZBUDosKToid6wlpXLV7BixQqWr1xH1MavGVS9Ei1C3iFaZ74uUIvUmTklhZTUFNJ2Z7Br4zc82aIyXs2H8EucCd1PL9G6Rg36PPMFsUlJxMTr0P42n2FNytNg4Ev8ujPxnrrZnz01G2Kq6fZBvZhQ1YPyPtX4oH9vBQp2BfXj01b1qOXgTM/Wndk5aiSLOtSjTll3xnYOIH7USAUaDA+OYFvfDnQu50KHus0JDykZNooP/GIabUJQP8bU9ELj15jw4CC29etO7/LONKndgk2iJmRkCMkjhxMX2JNHq5bDr3JVvhoaRFwJ02uLH1/1r+8WbCQbU9iXuPpygWizUbP4Ld5ImtmAOTWdsPeG4+OiwbN5IIvDfubhLlXQaDzoNuINtmqNJCclkhAfT3xCEslaARRatKYkti98ozCy0Y5XFm7DlGZCqxWzPqJZ+PhA/Bw0eLcaxBNPDMfXrRrj3lnEnKf9KVfWlQFjn+ShHi3xKFuNMR+sZN++vSSs/ozA+iK8VZOH3lhKrNmodBLiNu0JiYkYdCIcaiJ8zmTqC8Co2Zs5P21VZqmIQUPsJ4pHDYlJ6IwmYpa/R/cG1sjG+E83sjvFhNEQz8+vjlCu5j3rd+aDcCO7zSLfevOdoT0DiD2RDeU4Wp0yY8dgNGIymTBZ0tltjuObZ7tQqWYzZv8az0HjJmYMbEjVJoF8tT2N3eKKWgyA+zPY8u10Wni5MuD5RcSbLAr0GY1GDEIrgwXDtsU83LEsLj2fZ3WkAeusHR1ppgQ+GtOaihV68Nkm/eVUilaEjb98imquFRn66rckp6ZdE1625/erfR+7YUOnJyUlim+fDqaaiNi9uYQkvVg3wVpMq/bf+V88P6HNP6ZRdAZSzUksfElctBRecCgF67aohbggcUDjUo7gl34k2WhGr7cWl5tMRqW+KWVPOjs+HYtvOW/GzduJ2SBSqtaZeCajAEnxWhQEG5XVSEUhtbVA2ES6KZ75j3WhXPWufLE+nrB3RuAt1nfQaHAsPA8H5bFwXSNXb/o9/y1xyQLqS6e/uZM62wMbIqqxoksj2ru40L9NZ+JHhRIXEkjMCBGF6M/02hXwq1yNH4OGsqxzfao5eNCvZU9iRoYg1s+IGxFC1KCu9C5fhqbN27B6RLCyHodYb0NEIGxFnaKAVOwvFuUSW7RYgXRYb0bV8Ma1WjPWBwexa2AH+nk7U71Wc8JCQohXpsMGkxDcjym1vPEs58PngwKVlU1VDxO2QtDrPd4d2LCmUXaLmo0RrZWpr01HvMrGxBT27UlnrymC14Jr4qJxpG7A46zS65g7tituDhqqNh7I56sTMKelKWs86ON/Y+HXXxC2LQa9Sc+uZR/QTUlnNGHK3J1YdosQZBI6g4GN86fTtIorLq6ueJerQJkaAXy2fge7ls2gmU8ZPNw98PTwwLl6J15fGkPanjRMMeFM79YOZ42G2gFT+TEinYxUC+m7dxO/YSmffb2EKJ2JpA1fM7iOiICUpe9THxOjT1WWkE7bbWTbknl8uXQdYm2E+FUf0ruJCJl6IWBDrLxpNCay/LWRCmy4N+qtjsiGNpnYHVuJiI5Dn5KmVLynWeIImzudLjW8qNJzClsMezBrV/BsQDXcfTsy88cY9u5Ow5yaQZolicWzQqnuUZFhM5eQnG5m+5rFvP/2myxcuYl4vYWDqZG8P7EzrhXb8uY34ZjNqaSmp5CwaT4j61TAs95oVkanKCkYJaoRGc4THapQtm43PllvZk8pppruZAdZ/Lvsgg2tFpMxim+fGU49bz/GvLuU5JS9iGXixfRgMW3bttx78ePL1/9+ULVFNq6bRtHqSDHp2L7sAx4aPoT+AwYyZPBgBg8NYmi/TtSo4IRXzRb4Dw7h1XnhxOyKZkdkLFqT9XYNKSk6tq2YS2hdH9yqB7MqSoshWUty7Fa+//xj3v90AdvjjRi0saz4cT6fffeLEiW0pKSSkmoibu0nBLXzoXKn0cpMOm34PMaNGEq//oXnMSyQQX27Uae8G+WqNqLn4FG8+vU6EnX6Emur/mttxR7YiB1hhYiGTs50bNqGzSOsKY6kUSHsHNSZQB9PfPwa831wMIkDu9HTzZkGNRuzcGgQupEh6EYGsahzPfwcnRnQrgebBDQM7sMn7dvxaa/ebA4axq6gQczv1olvBwWSGBqsLFsuViWd164hNZ2d6dWqMxGhIcQO68f/6oh0vi+z+g5CP0oAzzC29O1A34qe1KjZgJUhwTKNUuym9JpirykoKCAuLq6EavAkkvUp7CmyqJdX7dYMGzWOCQ8/zMPBXajkrMHRsw6Pv7uGWMt+9NsXENhaFBGWoUn7gTw0bhwTJowndFAr3Gu345XFO7CYTSRtW8nD/pWUos9m3YMZ/ehTzFq8jTSLCX3kUp56QMw0sZJ+Lf9HWBOfgTlqCeM6lS/MmTpSu8/zrIk3YTboMaWY2bRkJj1E6kNTiba9RzBh/HgeefQRBrethlPzh1i8Wcve1EQWvBqMrwAd77oMCB3LmDFjmfjIg3Ty8cAj9BNlHZCon9+hSx1RkOTF+E82KudsNCbwy6sjqOSqwb1Bd+aE3+00ipZkg4GdP87hyQnDCZ3wCOPHj2PCg71pWLksLnX78cbPkexOS1Guuha/PpLKbq5UaNqfseMmMG7io4wbMYAGFTRUbDKG+esS2HPIwDezhlJGo6HN+I/ZkWQmZW8aO79/jU4+jnjU6cqDD01g4iNjGfhANWUGz7hvNmIqLHIUV24Ri6dSxcWdtg+/QaIl456MaojO/cawkaRM317/0XBlxcGyNZsSPO5JJo4bw+jRoxkzdgwPPfECP66PtKavSilC9l8biG7H+dpVsyGWEjemkrF3P/v37WP/vr0cOJrHocRljG7hQsvQd4hJP8bevbuJW/0dzz06ktAxYxk3bjwTx4bStpo3morNGT/3NwwGPUl6Iynb5tO7pgeaCk34bPth9ug3M3toY1w96zB89ETGjp/AhAkj6deyHF4VazD6/TXozGnodGZ2Z+yxnsfevew/mseBhF8Y08qbJoGziUk/okD77bCNGo5hD2yIlUE39+tAcDkXNGXK4V+3NmMa1mNMowb09nHHwdGVoFYd2TEiGG3oMD5s4ouHxok6VWsxtlEDRtevQ1M3J3y8G/PVgECSRwazuUcr6mo0+NVrxMKhovi0D8OrelK1ch1GN6hPaP36DK9Ti/plNPhWqMHcAWLGipgCG8SaLm1p6aqhgk81HmrYgHENa+NfoSzl3CrybM9+JI4cfjla8p+ObtytyIZYPTLdtJMvng7A202Dp3tZXJydcHJyUuodfHtM4JOlq0nQGpSFicRKoDHh3/Do0NaULeuGk7K0rzPuNQYx89v17IhJUNZlEIWNYV+9QPd6GpxEvUS5SoyfH8WeVFEwF8Oy6cMoX8YJJ6+qhM6YS1zqQTK0m5j1oFjJVIObV1UenL2QpJQUa/heJ64gE9m05F2CutRU1u9wdhbLCjvSqPd4PluxgdiEZHTiSjIpil8+eJTafhVxdhK/xRGNsyc9H5vNwvXRiPUhElZ/TEDLqrh5+jLuE5FGMSrLsa9++0GqejpQqfVg5m8RaZTSW6RKDGaZmZkcPHjwuvlasYhZ8q5feLpzDTwEnDk6oXEuT8DEGfywORmT2YA2WSyZrSc5KZYfP3yGfg2dFbs4O4sQrQdNe0/imw27lBtQ7Uk38Os7j1DF0Yt+U75ip9aspFuM+kS2/vA6tf18cCysx3FuMogZc8LQWaz3htAm64hP2MYnDzemcqNOvBVuIt2svWfve3Nj2LDWvIS9M4TyFStSzsP9su84OxfWDFXtyOs/7kCE5tUwCNwr5yC0+cc0SlGwE/cNKty0xjQMWxYytq07Hca8zcYog7IAYFrqTt4e1RFPBw2Oor9wcKXFwIf5YnkEBmWZ/2R0egNJWxYzsn0VyjUMYGHcXsy6BHat+4X3Huup9Je2/tC17kBm/7iaWIN1sS5bKlY5j8REdJY9aLf+yOiO5Wk96k3C4sQ9pO6dQmJ7YEOkNEQqZd0gf56s6aOsXiz6frG5OlfgkXYd2Tw8RIkmiMW34gMHMLtxtSIz7RypWbsd3xWuAipSJb/1bkWHMs60bdCaX4MEbAxhlX8bulawLkHvIpYsd3CgRePW/DSkH5EhwcoN3xR4GNafhV2aUsvN+fJS6K4+tXg1oBdxw4cRdS8Uh969qa9XbpCWGBtNZGQEkZGRl7eInTuIiNNjEuFgvW0KqBajyYw2MZbIXZFEREQQuTOC2Kh4zOJmYbb7ACh1BsnEx0YRERnJrshdxCVoCwuskkhMiGXnzp1E7IohJk7URWhJ1iYTF59oPWZUDAlJYv9CBxQ3M9KKQkk92rhIduwU5xqh7BudJM7RuoKpaOTJehOpZi0JUYXnFxHBzl3RJOnNpJoLVwFMjCc6JlL5DXECUsSKoeKzCdHK+UbviiZBXBnZvr9o53WbntsDG8rgoNOSEB1NZMQuIhV7R5KQLFb5LHpztSTlrrApFgNxMTuL2GcXsQk6LGKpeZFjFvdBiY9lV0QM8QmJaMU9H8Tv1orVWvXERe1SbCp03RmbiNFsviqsq0tKJHrHVmKiYpSl1EvTPnd7YLQHNpRVbZMSiIzcddlvbD6k2DAyWoHg5DuwIu3dtted/H5bGsWuFUSL+qu4oWRiPLG7dhAdE0dyojWVoxWRi7g4YnbuVHxsp+jThN8Uaf/Cf8T3xkZHsSsqDqGpmKmmN1uw6BOIiBB9ZwQROyKJjknELO6Borfuc61tRJ+XRFzUTqKiY0lMurfumGwPbFijA9Y7rEYHDWHDkEFsGDKQDYMHsnHIUGVwF8uNi/1sN2wTi3RtEvsNHsB6sV9wIPGhw65EHIIGs3noYLYEXlnoKzZkGBGBA9g4ZCCbhg5kw9CBbA4JvmbtDGWRseFD2TJ0kHW/IQPZGCTuGGtd/Eucw386omE7/7sW2Sh0RHFDIYPBcM2m15U8y+Ca/cVS4EWdWjwXy5PrjZePWTR3rSx9Xfh9RVeoFEuX286j6PtXnNW6QqNtH/GoFyuHlvDdRfcRz686nnJu1t9rW2ZdHOPyeemL33763+eXrzm3wnO1GzbEeYmZPEX0sf6Wkq6EhH2u1rG4fWy/sfj7YuA0FP2ekjQVM1h0ooi09O1zPbvdqfftgw3RznVXaVNUJ8VOdtxP6E79pnvle2xplBuvIFqS31p9pHj7L96nFf+/1XaF/lWs/StT1Iv4p1JkXbxPuub1lfO4pu+8Zt+Sfod637MfNqwDuJghIu7+enkrUuBZdIAXQCCWObfuF2hdAdQ2iCqP4j0BB1dgQ3xeRCWUz4SIzwYSfdVnroYI8dkYZb8gRHGprdC06Hn8p5/fbdi4Vzqh/9LvuBnY+C/9rnvlXO2Gjf/4wPBf1OtfRzakVtdemJWCTW4WNv7Tg/c/gIsqf5eEDfVSeml1xhI21K25hA316iO0SU1N5abTKKUwsJZW//BfPq6EjaujJaqCDgkb6u3YSsvpJWyoW3MJG+rVx5ZGue7UVwkVdySCcb2+UcKGhI272gCv1zDv1/clbKh3MBNtUsKGevWRaRT1aiN8R8KGhA0JGyq64pGwoe4OU8KGevUR2tg99VVFPn+/XFhJ2JCwIWFDRR2PhA31DmYysqFubWyRDZlGUadOEjYkbEjYkLAh24CdbUBGNtQ5kAkQlLChXm1kGkXFoCFmzsgCUXU7T2mEP2VkQ92aS9hQrz5CG5lGUa8+MrKhYuCQsKFexykN0BDHlLChbs0lbKhXH1tkQ059VadGEjYkbMgQup0h9NICjKLHlbChzo7SppGEDfXqI2BDRDb+3Qqi6v1dtrb3X3+UsCFhQ8KGhA3ZBuxsAxI21Dsoy8iGerURoCRhQ8KGHGjsHGjuxJWFjGyou8OUsKFefSRsqFcbCRsqBg1ZIKpuxykt8JCwoW7dJWyoVx+ZRlGvNhI2JGzIqIaKohrCISVsqLvDlLChXn1kZEO92kjYkLAhYUPChmwDN9EGJGyod0AT2sipr+rVR9ZsqBg45NRX9TqOTKPcf9rYIk9ihcr09HRlEanSagfyuDffvmyRDbmC6M3b7k60NwkbEjbkle1NXNmWtlPKNIo6O0qb7jKyoV59JGyoVxvhPxI2JGxI2JCwIduAnW1AwoZ6BzSZRlGvNhI2VAwacjaKuh3HdqV7ux9lZEPdukvYUK8+tsiGXEFUnRrJyIaKgUPWbKjTaW43YBQ9noQNdWsuYUO9+gjYEAWismZDnRpJ2JCwIUPodobQi0JBaT2XsKHOjtKmt4QN9eojtElNTUVGNtSpkYQNCRsSNiRsyDZgZxuQsKHOgUzAoEyjqFcboY+EDQkbcqCxc6CxXd2W5qOMbKi7w5SwoV59bGkUeSM2dWokYUPChoQNCRuyDdjZBiRsqHMgk5EN9epiuziTsCFhQw40dg40NqcpzUcZ2VB3pylhQ736CG3kCqLq1UfChoQNCRsSNmQbsLMNSNhQ72BmS6PI2Sjq1EjChoQNOdDYOdCUZkTDdmwZ2VBnR1lUH7lcuTo1shWISthQpz4SNiRsSNiQsCHbgJ1tQEY21DmQCRiUaRT1aiP0kbAhYUMONHYONLar29J8lJENdXeYEjbUq48tsiHX2VCnRhI2JGxI2JCwIduAnW1AwoY6BzJxASBrNtSrjYxsqBg05L1R1O04pRXdkJENdesuYUO9+ght5GwU9eojIxsqBg55bxT1Oo6EjftPG6G5hA316i7TKOrVRkY2VAwaMrKhbseRsHH/6iNno6hTewEbFosFuYKoOvW5KrLR25/IoKFyU4sNgoexNaAHR8PDuNU/TfEDFBQUEBsdq+Q5hZPKTR02iIuL49ixTA4ePEB8fLzURWVtMz42XrmrqLjhl9RHHT5j67uEHiaTSdEnOdEahbL9Tz7efa1EVHDPgQNkb9zA1p7d2Dl0oNzUYoNhg9jSvQtH1qwujgo3/foa2Lhw4QKHDx/m6NGjclORDY4cOcLp02c4eeIER48ckdqoSBvhK0eOHuH3338nPz9faqMybYQ+eXl5ij6ZmZlSHxXqc/zECc7u2cOBRd/zf0t/lJtabLBsCfu/+ZpTZtNNw0XxD1wDG5cuXeLUqVOcOXNGbiqzwcWLf3Dhwu9SF5XpInzl9OnT/Pnnn5w7d07qozJ9hDZCI6GPeDx79qzUSGUanT9/nkt//83ZixflpjIbnP79Dy7+9Vdxdrjp19fAhohsiKvov3fRQAAAIABJREFUY8eOyU1FNhBXZ6LTFHUB4rnUR13tU2hSNLIh9VGPPkKbnJwcRZ+srCzpOyrq14SfCH1ERFCAuuzb1OM3tj5M8IAA9Fv9uwY2RIcpQo3CKeWmHhsI4cVVmViYSOqjHl2K+sgff/yhFCFKfdSlj9AjNzcXcSEloKOoZvL53ddK6CNqBUV0Q/RzUpO7r0lRDYQmAgRv9e8a2BAOKeiy6JfJ53dffAkbd1+DG/mBhA11aiQGM3HlLPSRg5n6NJKwoT5NivZ1pQYbMrKhTuElbKhTl6JOKWFDnRqJwcxWIFpUL/lcHXpJ2FCHDtfzBwkb91maR8KGuh1SOKqEDXVqJAYzkT6RaRT16iPTKOrURvRrpQYbdzKNkp2djbLZAw62fbOzb5jiuanj2vPdKthHwoZ6ndF2RSBhQ50a2SIbQh/x3KaXfFSHXjKyoQ4drucPpQYbN0qj5OTmK8U8BXm5ZBcbhG3/O56fR052UQNmkpWdS35+AQUFeeRkZZKZXcCJU9bptQXHixRtZWYqHUJmkWNnZmaTUyCmr53m5PEC6+eL/N9mJKUjyc3n1OkznDl1nII867Fs//8vP948bIhONZs8YfMStBK2yMzMIicnl/wCoYvY8snNyVbe/0dbiQ47J69QT+tnc0ssvLPqbj22bb9ssu7RDv+mYEPYoNAn8nNLBujMrGxy8wr9TehT6FdCt3/UpwTfuJ/3F/3CzdRsCPvm5uYV+kQB1/ZnJds/p6hWl32qgPzcK/2b6COv+JvN72yPVv+737SSsFFye1JLO7jzsJGZxbGsbI5mHlMWMBKwkJOVTbZt4MjMJjP7CJnHjnJIAENOFtmFwCE6zZxcEcU4xuGsLLJzj3MkLYJP35rCpMefYsFWE3k5osPNIe/kaU6LdQuO5ynHzszOITdzDxE/vczjkx7jg+9/Jf2ocOBrBcrNP8H/Ja3hjZem8PCUV1gWnU5+Qd41UKQWEW/mPG4GNqzQVcCpM8fJyjzCsaNCj6JXdJkImMvNO8HJ43lkFS7yc+TYMWU2xYm8K51j8XNUOuIC8bl8crKs09YOHz5Gbt5xThbkX7G16LALjlOQm3l5EbIjYgpi/gmO5+fek1eY9sKGAnl5xzl1soCszKMczSrB3jk5iIWO8nKylKnoR48e49jRbLJPicEv954FtuLt7Xa8Fv5gXxpF+EUux0+cpEBAt1g878gRjuTmcvK06HNKhkLlHDOzOHpULLZ3hKNFppaK55l5WYq/ZYv+MjuTY8fEfldPcRRF+Uczc8jJPkbmVRdq1/Zzt8MmajqGhA11a1xqsFFyGiWT7LwTHD+6m9UfjmdAn14EPvEpEWmHlcFKRB4KThwj/KPJBPbrTdeh01m8I408EbHIzCLvzFkOrF/A5KB+DBo5hS0ZZzm89XW6VNGg0WhoPn05J47nkpt5lP0WA3qtFvOeAxzNyiUrN5+8Q2a+HFtD2bdeyGskHj7L6YJsxYEvO01mJsfP/kHa0ieo76JB41CLEZ9EkHvyBLk56hbz8m/4hytSe2FDQETe8VOcPXsGw+rFPD2sJ8FT55F0MJeTBWJQE1fU2WSJwS4rhaUfT2WAfw969OhO176hvPDVFg5kF5Cbf72ONYecrINs+XoaIQMC8Pf3p1uPfjz39gKSDh4mrzDNJYAyLzOVjXOfoE9Ad2W/nr368sSHK7BkneFUQc6NIyj/YA97bHan97EHNgR4Hz9zjtP5woazCB3Sh9GfbyH3qoEsh7z8PA4nLefVp0fQrZuwXwA9Bk3kjZ83cyQvT0k/Klr+x2x0pzUR3ycGMzH1VURtr//9mRzLyqXgeAH5+3fw9nPj6Nu9Oz26d6NbyFPMW2/gsLD7VTpZ+5XMzBzOnNrPshceYWDvngQEBFze/AP6Mfalnzhy+jQ5mRmsfOspBvfqpuhp289f7N+rD32GPsxna+PIO3PyykXcfaCvhA11j0+lBhvCIcXBr3HK3BOcz9vN6tcH46TR4FiuM3N+03Pi/Amyc05wJmcX/2tfWwECjaY6j81ZxZGCfLKycjl7MZNN00OooNHgXmUEG/ZnkmNczfQJ/ekW0JenF0VTcOIk2VkmvpwwmOaNmtJ37Dz2nD9Hfk4eeYcsfPl4BzQaB5qOmk2SgI38LI4Vplxs51pw/DQHohczKbQH3YXjrkoiKzeXnOyrUzOicds222fV/mgPbIgrp5ycPLL3RvHzuxNo61eT6p7lKdf1MTamn+D8CWtEISfvBAWZaSyYFkL1suXxa9qVHj0607yuHy7lGzDp47UczD9J7lXRkCyycvI5k3uQb14fS+umTWjbtj1du3endeO6VPCsQNup80n5P5GaySPrUApfTwmmfnlnqjXtTKcuXWnToCpeFWoy6KUlHM0/oVzlqd3uN3N+9sBGbk4eR4zhvD15GK1q18bJwZGqj35FXr7wFWunk5edy57o5QR38MWnej1ad/ana9fONKvqRdlqD/DCwu1knTxDXnF97oOByWajm3kUvn6jNIqINhWcOEueJZypg5vjXqEatVv3oGePjtSoVBHPGp14d62B/ONXdLpyDjkUnMrg9V6tcdB40K5dOzp37ULnLl3o1LkrgVN+4Oip0xRkZ7Bq1mT827alY+fO1v936UqPbu1oV9MNjVNVnvx6G7kXBJgUjUSqezC6Yod/d54SNv6d3W7V7vZ+vlRhQ4hf/ESEMx4/e5a0LZ/SpaIrjh5VmfxtLEdOnuXEyQvkJn7N4MaehbDhSLdH38d45CTZAlJyLbw1vhMOGg01x36N7pDV+UU+OlvUDJwqILvgFBcvHeC9/q2UY7Tp9wX5wJ+/n+XEYTPfPtdRgY1mo2ajz4G//rzExUsXufjHWU7li6tkARBZZBfkkZuXTXZeNsdP5JCdlUlu/hl+v3iRc2dOIlIt585f5OKlS1z64w/OnCj4Twx6dsGGALP8Pfzw1GBq1u7M9Fde58VRHSnX8RG2ZJzgnICN7ByOHy8gbun/aFrekSZDZhB5MIe83BzSon5geKPyePoOY2HUAfJEx1q0PiAnjzPZ6Xz92evMXLSFPUezyMnNJdOyhWe7VUdTtgPfxhwj73gBKevepUd1R6r7P03E/ixF50PGDUzu3wBnr1bM2HiM30/n31PRjRvCRnYuOfuMvNG1Pj4dH+KrT9+gXZOqVH9sATn5BYU+l01+1l5+fqkrLhXr88rSKI6Kz+XkkPjzW3R0cab2Q59hyf2dU9eNPqm78yret5T2a9E32Bb1EsXj135fptJPncvbz8+vDqSckyeDZi4l43AueXmZxCx7mablnKg19HWS9h65JlIqUi9nz6bz7oC2VPQaQcRh61Tb3Lw8ckR6OM/2naLWyXqRJKKLSiF7Ti55R0y8+1ATvKr0ZX70MU6eFGmy+0dDCRvq1rpUYUMcvLhDZmYeI/v4eU7u/o1ne1VFo3Gnw+QfSM89x7nzv5Ox+mXa+TkVwoYG9z4vsMF0lNNnLpBnCWNc5/JoNB48/OV2cvJPkpMRy5fvvciTz0zlqx0ZHDZt5ds3R+FfpypOGicq+/ozafIzTPkyHEuaiUVTOynH7jD+TXbt2sLM5x5m4qQneObdeURkHOL0SeHYBRy2bGfO7Mk89fI7/BKzh7wTJ/m/hJ+Y+fKzvLNkGwcPRPDFe8/w2GOTGP/sTL7fkMyJgoJiBa3qE98e2BADUuaR3Wz46itWR+zmVH4aH41pjEf7xy7DhihQO5WTwbzJXSlfuwufbt/PHxdOk5t/kot/F7DhwzFUdPPl4fkRHD1/itzsouBpfX6q4ASnTp8gryCfvLx8LvyVR9zbE6ipacQnOw5x5vQRwl4bR2VNPebv2M+ZM6fIFYWqJ49zcMOrNKhehcCPtvH7mYL7CzZys8g8YOTnL75gx6EL/LV3Ne2bVaP6Y99QYItsiMHwYCqLnm2LS71hLEs/A3+d4cKFS1zMiub5Ya2pF/QG6VknOZlfQq2HjG6U0HfdqGYjk7yTZ8lK38bT7b2p1O9FNh26wB9nRDrxLJfOWng1qBnlfDvwXdRuJcVVtH/MzMzl4vlU5gxsQyWvMcQXnOL8+XOcOyO2s0r9me0CLjtXFMrnK1te3nHlAih9+2e0qO5N18fmc6jgjLVe5D7SUcKG+sabou271GCj5JoNYYxMMnNPcjIrma8e74iLxoWmvV8hcn8Bl8hm2czBVHT7f/bOAzqKqg3DSxVBKdKR3qR36dKRJiLSFBU7il0RG/or0gTpLSSEGkC6NJUWkJ6yJdlsGqFDerKppCfPf+6ESAKIQYkM8uWcPTubnb0z87y3vHPvd++UpXrTdjQpW5QHHnic+fssRCUncnq/A/3rFMNQsjOO+wMIj71CuNsK+jV9EIOhMKMc3LjkvoaXulbg4eLFKGQoRJHiFahcrQYtnv8OS4APaz/trPVslK76GM2aNKNhneo8UqoIhiIV6PDGDDzOBROXmMyFfdPp8qgBwyNNeWe1ibi0LGxr3qB+mQeo36gTA7q1oE6NmjxapSxFDQbKNx6A469GIqJz7iz1KXx+zEZ2BgknLjGBmLh4rlw6wrcjmvNQ+3HsDbBrPRthUXbswYf5vG9dGnZ+jcMhcdhV70RwKDEpiVhcvqNNuRIM+MyFoMiE68zGjWxCwiKIT4xk1/hRVCvSBqejp4iKP8/6r0dSxdCYyfvPkJqZqi1FnJqeRsiJ+bSt8jDtR8/jfEoikTfpRcud0e+l7b/s2VANSFiYtux8dJSdGMs6WjespPVsqFiBnGuNigrDfctUmlQoyxPvLOFkwDlOB/mxdfrr1GvclmnbzUTFxRN+HzVIOWz+zrtqzG45jBKi4mhiOee5mF61H2HgB0sIio8jUtV5wWHEpMew772BVC1TnvEbrIRERecpFyGhkSTH+TKlR1OKGKrzRLfu9H2yL7169+FbF1fORyVgV0bzOr1UXFNc+GkWv9WRMrXascAtnJT4/5YBz49eYjZurFfzw+3f2qfAzMatpr4Gq0Co1FB+m/cKNQ0Gyjbqx7wjF0lPsvDVU7UoXrkhY6cv5f1uNSlaqDRvzv+F0PhYXJd8wqNFDBTqPI6jAcFExcYT4bGKfi1KYzAU4aWV3oRfOovNfSPvdGxEUUMhGnX+mj3HPThm9ifkgpVFb7bTejYerFCX4ePncvSkOy6TXqJFcQPFyjdl4jp34jLgkusMnqhZCEOFFnzxk4nE1DQCtk6gSfkiGAo9RJ1eY1i5+zgn9rkwun1lLc1u783DejHXTIrrKoV/S9RbHSf/ZiM7IC44IoqEIHcmj2hMqbbXhlHC7HaibDsZ0bEONXt+wJHgKKLV1Dz1fIKEdAIPOTCgaim6v+eMV0QK0Sre5U94aMGoqtEL3MGI5pWp0edHzJdVj0cwx5w/pulDhanQdzy797rievAge3/9hRkvtuChYiVpN2oRZ1OTiFIBfH+S/q146PG7fJmNqwGLoRExxHr9ROt6Faj22lIiYux/mA1lSOyR5zi45iM6PNaUWvVb0ahRI2o37MWnK44SnxhPRGjwf6pXqCD1VI3ZLVcQDQsnITEO2+7JNKtUhZ6fruN07FWzoQLPk1Jxdx5N9UqVeWu1hZBwFQeWMzSiDGQ49rBTrPpkNE90bEubtur1OC1rl6X0o80ZNMGZkNgEQkNz9xiHEWlP4LLbMoY2qUijZ7/HL+mKFmD9XykP+dVUzIaYjWuVX05jEBxCRHwqFw7OoVuVwhSp1ISvtwUR5buB4S1LU7buM/zsZsbpk24UNxho/P5qgoP9WTCujdaot//QiYALIUTY4wn3WMWAFg9jMBRj1MKjxMTGERcbwPQnW1HUUJSOzzoTBqTFxxN90crCN9tqabQc8Rnm0FSysiDccx3PNyiEoVglXpjzG/Z0CM5lNj7/ycSVjCz8N39C4zIGDLW6Me1Xf5JSMshIjGD1Z321OJKqw77ncIAKrsxVgeRcs07eb8dsqEIeEhFF4pmTTB2phlFyzEYk4dHRRJh/4tm2NanV65rZUAU+NiGZs8dWMODR0vT4YAXekanYw//cDESoO7OYAGa/0I4S9boz9+BpYqJDCAuLJDLwIFM/GUKFEg9T7pHylK9QgSoVKlK/WXdqP1SV9s/OJygliYibDNnlt5LS2375NRvaeSuzYVlP28bZwyjqzjvnekLCI4mNtWPas4Rn2jamZbuuDOrUAEOFxxgzZx+BFy8TEy3TX3N4/dW7ytu3mvqqZgjFxMXgs3UyzSuWpdenLtgSE7WeDWXCo+LT8V/7KvUqVubtNV5a0PmNM9zCuHTpDKdPBxF0+jRBZy9g3buMMd1rUaRSU348FMyVmGszsLRYtbBzrJ3Qn6pVmzBpVwCxcTF/5IG/uqb/0vdiNu5Ts/HnwyjZQMIjY0k8f5R3Bz6GoVhlXpmzHfdt39OqXEmqD/wOc/RlDsx+gxqFDJRr8hm/HtvDZ0+WxWCoz8Q1hwiOUsGg8YR5rmJgCxVQWpgXnIzaYl2hYUa+7d2SoobiNOoylcD0ZKJCs2ejLPsgO0C0+ejv8QpNJiEukcvGnxjZsjCG4lV5ef5eYm5iNuKSUzm1YyKNyhgoXq8Xi/f4ExsTS2zEJdZ9M0gzGxWHfMuR/6DZUMMo3wxrycO5h1HsMUQF7uHVrg1ooHo2QnL1bCSmc/HAdLpUfoAnP1mN9VIUkRE379mIDI8mPu4My17pTfVKjXnfwRXVm6LWXlEVoYoNiQw7zRaHiXz22Rd8OuErJk+dweafFtCvdhX6vreci8kJRATnjgnRd6H7qwr+9syGnVivdbRuVCV7GCWX2VCBg0dWfULzxxrRd+yPHAo8zVnvA0x/Yzj1q9RlwEcbCAiPvelaM391jvfj96oxyxlGUds3Mggn4Yodv73TaFGxIt0/Xs05e+wfwyhRV1I4smAEVcpVuGo2wm8IElUBneGRdmJiYomJiSEmNlYzjNZ1b1G2bEWenXuY9IRrAdERdjsRlo2MbFWJin2+xDsyEfst1re58Zzv7bKS+3rEbOhby7syjKIySLCakWA/w/IPelK5UCl6j/wf08aPoWLJB+j58WoCE+HC/h/oVrUopSo8ztSlyxnaoBjF6g9g5aEAtAjt6DgiPFfSv6UKGi3CmBUWoiMjCY208G3vVhQzPEC7IUsJTEsmIjSc8AvXZqPkTH1NjE/ksud6Rra4tdlISE3Db8OH2Wajbk/m7fYh0h5LXMQl1n49UDMblZ75jpO+F4mK1K/ot9WzERKi6ZR44ShfD23OQ6pnQ8VsqHVPIqOJiTbyw7PNadj2efacj9ICDdWCUfEZCZhWfMFjpUsyZOJazkfGE2m3E5cQT8zVYMScBaliY4JY9nJPqpZvwDtLD3PJnn0nqL7XKhI1yyjSjj3+CinxCSQmpZJJOuYVb/NohRq8ttpKSnzkf2ooIL9mQ1WuIeFXYzbqlafaaw7aMIr2/7BwQgKO8frjj9CwxwR8otJIUmvQRMeTeCWQpe/24ZFqXVn++2liYq71huSuvGU7bzlWXHPMhipHN/AJCSUqLo7z3ht5qmEVuoxdgm9ikrYgXfDlCBKyotjxah8qPVSFb362EarWHIqJIV7FdVxdcTc8yq4tdKd6QnKm5KtZWWd+/R+PPFKVofOOkpYUnz1rLjQce2wwrj++Rp2SNXjT6Qj2hIQbDYxOelVv4HWHz0vMRt78WtC8bzf9u2Y21InGJCTz+5JXaVDOQM3KNbQ7sGIlqvGhoythiRkkn/6VN/rUpFixonTr0oHShQtR99mvOBSgGqCIP3o2BrVSMRuFGb3UjVg1TSzSxOQnldkoRuuBDgQDWVfiseea+nq7ZuNKeiaBP39J49IGCjd8kh9/9SfWHkN8xIU8ZuO/07MRlt3AZ2RBoo35Lzfg4U7vcyQUIJUrcbFEhV9i3Xu9ebRiYz5d50EKWaSkZZJ+5TQOH3SnxCOtmbrLm7h4O2F+vpw8YcbvvKqkw1ABptERATiPHUSrJp3432ZP4oDMtBTS0tJIjrdrawRcvHBJM3WqAU5NTSM94wrhAbsZ27IWZVo+z29BMdjVwmw55uQOV2C3W6DuxP75MRtqmmRsYgppGcDFvTzepDr13l9LemYWaSlXiImJwN+0nn7FS/HYczPxi4OstDRS09Ig+RJbPh9MpXItmX4wiLi4uGsrtv4H+N0JDW6WhmrMbjWMooLfI9QaG6eP81mvalRu1J+Vxkg18Z6UtHSSz+3lhS7VKN3sDXZ5XyY6OpTzVh+OuZkIuhhMWFg4509b8Tx9gYTkbK1UWUiMPI3LRy14+OFGTNl7geTYq+vcREdz3nsvH3aqQOku73IwMCZ7xsp9qqGYjfvUbPzVMIoqzPboOEKNTjzdsoI2Q0StAlqi7nBWHvPBHhNHeoIPc8d05kFD9gqhBkNlxnz9E2fUlFc1vzzPMEohnl9yUhuDDgs7xdp3HucBg4FKdZ7iR+dVrPnNg4vnrCy+blGv63s2Xllw4zCKChCNT03XAkQblTZQpH4fZv3iq60SGB9xnnXfPPVHz8aRwDAib7IE+s0qr7vxv3z1bCi2oSFYj2xj02onVjvPZ3THSjzUaCBfLXDBae0W9pn8SUiMxXfvbHo8Wozyjw1glvMa1q1dx/TxL1C96MM0HTmFY2cTSEsO5ZjDeBpUrsGIyZs5G5WEPdyfDeMHUa2QgTbDP2X5Ty6sXbMGlzUurFm9mi2uaqXFOPxdNzN3zlQcVriw1mUtaxxn8lKXKhgerK5Nf1ZTZ9W53g2WBXXM/JiN0MtnOLF3PatWr2XdnPHUfbQcNQd9isuqlazavBvvoMuEnnFlQsfyGB5qzEtfLmHdWhdcXFxYOOktWlcwUL7bO/xyOpKYmMj/FL+C0kU1ZrdeQVStqhtFUkwIe+a/TpXCBpoOGseKNS6sW7ucT0d2paThUUYt2MO5UDvJdn8Wvj6QRyrWZdouMzGx0Ryd8x6tOg5ntsMa1rq4sHbtWqa//xRlChuo/8yPBITHEKGWIQ8JJ8YeiuuyD6hieIgh37pwOe7KLWOjCoqLXtIVs3Gfmo0/XUE0l+sOj1DPZ3Dj60GNtEBQZTaqD5rIvqBIYiLCiE2LZ8+MkVTPMRsV2jN+jZFQ9ZySsFDCoxOI8FhJnyYPaEGfwxccze7xCIvE5+AqnmtfTvu/WjG0xvDJmE/5s/KNGtr/6g/7RluuXDMbHusY1sSAoXBFnpq8m6hkCHGdTqeqBgxlm/DOKhNxqRn4b/yQ+iVVgGh3Zu22aeOqseHncHynuZZmucH/0wJEo3W8rHl+zIZ6qFpkmD+Lx3SnfCEDhQtfW/dE2y5ajWHfbSQuLYmo8GAOLJ1A5+oltFUsixYpiqF4eR4f9T/2W84SF2Un+UooW+a/QAmDgR4fL8ffDnb/vbzftWS2PkWKU7RwEYoULqy9ChcqTJV+XxAUkcBly8+88HhNbZisSJEiFDYUo27XoXy58gCngyP/6H7WS4V3J87jL81GWAQxF0x81rwchQoV0aZeq7JjMBSliNKrTGeW7LQRFxeGz4HFjOndjkcNhShaRDFWWpai1hPPs+qgH+Ghdm1l3Dtx3v/1NFRjdsthFFW3qRkrUXGEnrOy+ovB1C6r8nQRihYpptUlgz5Zg+3cBcIjVCHw4psXmmll4LMtp7Tl4/1+38Hb3erwwNWyoDQzlG7Ec2O/Yrs1jOirvXjhUVGc99vHxC7VKdFsMOuMESQlxtzXz7oRs3Efmw0l/i0rIPVwtPBQTPu2ssZxMY6OTmw96MaFkOzpo+HhdoL9DrNhzUqcnJxw3vAzRrXyXtjVRYjCIog458XuLatxWubMb+azV5/1oIILwzG6bsB5mRNLHZzYesCd8yFhWA6sxcnRiW0HTnIuNEq7Uwm7YGH/lmU4Oa/mNzdf7Xkfl3xP8vM6Z5at3oSr11nUWOo5r9/ZssYJh/W78PA/j3pCaVR4CF6HN+PstIy1v/7O2UvBul63ID9mQw1zRIRfwPL7VlY6LdF0UXydly3DyckRR8c17HYPIiIygtBwO9HhZ3Dftw7HJQ4sdXDAcdVG3AMuYI+xo5Y+j4oMxmbcx8rlLuw9biEkIproy6f4/df1mm7LnJxwdFTpXnst/9WNi8HqwWznMO3awgqHpdnfL3Nmv7sNe1wiUTd9Qqy+C9wty8NVI/6XZkMNQ4We5/dNy3FatgxHp2Usc1b6OGn6OLjsxD3wAhHqyaBRds7YTrB5xUKWXuW7zPknjnn5EZ0Qd18tZ50f9rfaR9Vntx5Gyc572SsQxxN12Ydft6zW8u3SJUtYseU3/C+FY49Sz2OKICriAqZfNrPSaR1ufpe4rG6gouwEe21nzXIH7XdOSx1YvOE3Ai9FERtz7WGQanXjS0FmdjkvYuPeY5xWcVE6vsm5Fdc79Z2YDX3XfQUas6ES/6uMFKw99t1OrIq8Vk+nzPUYc61wR0RkR2XHxBAbHX1DgVLLZkfZs3+b9wmuYUTbVVR39nf2q09tDYuM13okoqKudR1rBT8qe79oLYBRLTwWpQVvqWNGa8MiqotUPU02VjsPrStTW9shTKsg1HFioyJ0P/adP7Oh1thQw1TR2GOvRsVf5ZjDM+qPpZNDUVMsI6/yi9Oi57OHuXK0DwtR5iUau5rBogyK4qZYRl/TPSfdP95z7Rdmj8Eem62P+l7dXeY8CTjnGP+l9782G2pKciiR0deY/MFN5UN7dK4gQfWk5Eiir5aRnP3Uiq3yALbbq5xzm42bL1d+LT21r3qek8rzirkqF/F2+x8PGNTKgFbG7FreVsv8Z+dhtSx5pFb35GilnoIcEa4M5rX01b4qyF6r49TKxf+xocS/U57FbOTNH3+HYUH+psDMRn5iNgrywiTtm2e8/JoN4Xdzfv8Gl/yYjX/jPOQYefOAasz+chjlOkMgDPMyLEgeYjb+PdZ/R8cCMxu3WkH075yo/ObOZCSZyftSAAAgAElEQVQxG3eGY0HmRzEb+tRINWa3DhDV53kXZF7VU9piNvSd/8Rs3Gd3ImI29F0gVeUtZkOfGqnGLD8xG3pqgO+ncxGzoc9yk5MHC8xsqGGUS5cu/WXMRs6JyPu/k1HEbPw7nP9JfhazoU+NVGMmwyj61EaVNzEb+tVG6VNgZkOGUfQpvJgNfeqS25yI2dCnRqoxUw9iU/qo7dyayfbd10zMxt3X4FblQMyGDKNIpamzPCBmQ5+VpmrMZBhFn9qoRk7Mhn61UfoUmNmQ2Sj6FF56NvSpS+47AjEb+tRINWa3fMS8zkxr7jx1P2yL2dBnucnJewVmNvKzgmjOScj7v5dJxGz8e6z/br4Ws6FPjVRjJjEb+tRGlTUxG/rVRulToGZDif93K1z5XcFkHDEbBcP1TuZXMRv61EjVZzKMok9tVPkTs6FfbZQ+BWo2VOJ3shKWtP55ZhKz8c8ZFnQ+FLOhT41UY6bW2VBDxH+1gmhB5xFJ/8Y8ImbjRiZ6yicFZjYkZkOfwovZ0KcuuSsFMRv61Eg1ZjKMok9tVPkRs6FfbZQ+BWY2ZOqrPoUXs6FPXcRs6F+XnJ4NVbfl1ku29aGdmA196PBn5UHMxn0WQS5mQ98FUhVU6dnQp0aqMZOYDX1qo8qNmA39aqP0KTCzISuI6lN4MRv61CX33YCYDX1qpBozGUbRpzZiNvSrS07dVmBmQ4ZR9Cm+mA196pJTINW7mA19aqTMRs46G2o7t2ayffc1k56Nu6/BrcqBmA0ZRpFKU2d5QMyGPitN1ZjJMIo+tVGNnJgN/Wqj9CkwsyGzUfQpvPRs6FOX3HcEYjb0qZFqzKRnQ5/aiNnQry45dVuBmQ1ZQVSf4ovZ0KcuOQVSvYvZ0KdGymxIzIY+tRGzoV9dcuq2AjUbqnDmHEje9ZEZxGzoQ4dblQcxG/rUSNVnMoyiT21UeVL6REdHk5SUpHXZ36qMyXf/vo4FajZU4iLqvy/qrZiL2dCXHjfTSsyGPjVSjZlaQVT12soKovrTSMyG/jTJXb8VmNmQmA19Ci9mQ5+65C6UYjb0qZFqzGQYRZ/aqPIjZkO/2ih9CsxsyNRXfQovZkOfuojZ0L8u0rOhb43EbOhbnwIzG7Kolz6FVwUyISGBmJgY7U4gdyMn23dfs8uXL2vd9OoOWmklmtx9TXI0UJWlGj5RN1I5/5N3/eiT22xI2dGPLjll5NKlSyQmJvJP/wzXJ5CZmcmVK1fkpTMGSuy0tDStwhR99Jk/VdlRDZrooz991E2U0kcFIYo++tQnPT1da9REH/3po7T5p383mA3VqAUFBXH27Fl56YjB6aDT2KPt2tjzmTNnRBsdaaPKyunTp7VGTPVwqG0pP/qpP5QeFy9e1IzGuXPnRBudlR1Vn6m76Pj4eIJOSdujt7rj1KlTxMbG/lOvwQ1mQ3UDHzlyhBMnTshLRwyOHjnK5YuXtYry2LFjoo2OtFFlRWlit9uxWq3atpQf/dQfR48exWKxaEOQ7u7uHD9+XMqPjsqP0sPf319beE3Vc1J29FN2lBaHDx/Whob/qdu4wWyo+c7qAJ6envLSEQM3NzdNcHVnpipM0Udf+VPpo+JpVKUp+uhLG6WHr6+vdndmNBrx8PCQ8qOjuk3poe6eVdtz8uRJ0UZH2qh2RvkB1fP0T//EbOhM2D8zEWI29NWAXa+TmA396qPMhs1m03qexGzoTycxG/rTJHf9JmbjHjEJuUX7J9tiNvRdIMVs6Fcf6dnQrzaqThSzoW99xGyI2ZDuRh3lATEb+q0wlTaqZ0MFuUnPhv50ErOhP01y3xiL2bja0KiMqr101PDkFupObUvPhr4LpJgN/eqTM4yiYmrEbOhPJzEb+tMkd7t198yG0agVWFVo/+yV+0QLaltlUE+zFf+gM5w/dwY/Hwue/+HAr79tNjSdbp2Zc+v4p3rl0fvW6V2fxl+mnyfta/nq+nT0/Pn2zca161R8/vzacu93e9z/PM37K52cYRQxG/rUXcyGPnXJqT/+dbPh4eGJp9GMt9UHP38/LepeRd7nffnh5+uHtzm/Db8Rs5c33t7eeFlMeKpj5LOHwmi24nZgIxNf6UPPQSP50nk7Jm8vzMb8p5HfY+lhv9szGx6aVl5WbwL8fPHxsWE2etzA12iy4G21EeCXraNvgB9WmxWLKafx88DD04jFywc/my/+V3X39ffD5uON+Y/9bs7cZDZr6WX/zg+bn7/Wne1lvpa+p8mEzceXgDx5yg9fPys+XsZ7xkDm22wYTXh5+2DzC7jKU3Gx4u1lwZQ77xqNmC1e2iyKAK2c+eHj64fV2/KfzeMFVc6UNjKMcvMyWlDMbyddMRv61Ubp+K+bDYu3Fbd9Lnz0VFMa1qlO3Tp1aNCgIU0aN6JpowY0qFeb+rWrU61Jd96YsRmj+brK8yYmwsPdHfdDrvx+6DCuRzzxNBkx3mS/GzOuByarHyd3zGFEMwOG4lV5+n9r8PS2/mcr4tsxGxZvG4EBfhzcPJcXe9WjwdAv2XXCG5uXCQ/FV5k6iw+BZlecPn+bTrXqUbfWo1Rr1psXpm3E02zGYjHi4WnCYrXhf8SF4T2foG7tWtSrXZ2qLQfyxeJtGM2eGD1zjEPeAmO0eOPlfhyXaS/TtKH6XQ2q12vO0C+WccQcgNVswuxlwXh4NeOe7E6TunWoV7d29qtOTWo06c57szZj9bFiugd6rPJlNjQDYeLYrlW891QTqteoSd3aNXms63Acfj2C2WzS8r+H2s/LG8vhTUwY1Yf61WpQp04t6nQZwZdrDuHv553XmOSrzOTV58Yy9d/9Xno29K2tmA196/Pvmg0PTyxWb9z3reaz4U/SsUNHnujQhqaPPkwRgwHDg+Vp1LQd7Tt0oE33p/h03lo8zZbsijMnpkJ7vwZVNWTe7r8wsWN9KpSrRscR8zka6Isp9xoSeX6bHZuRXUlmm40TO+YxtFUpDCUeZci3azBZfe5zs2HE02TB3XUXiz57jqbVy1Gx9IOU6/Qqq119CLCatPgWk7cVb899THutJw8+WJLqLbrQo2t7Wtcrh8FQhcEfLeWEjw9+Pj4c3TCdZ5qXpHy1GjzeoSNdO7ej0aNlKPRQHd6bt5kTHpYbe6NMZsxuB5nySncqFi1Cjaad6dC5C+2b1KJkmap0eGMGnjYbXt7eGPfMY9hj5SlWvh7t23fQ8pDKR+07DeCDWZsw+Xpj/I+YDWXATm75ltY1qtCoeVc6duxAhw4dqVO2KBUa9mTa2qN428yYzBaO793ASx1rYihbm2btutC5UwfqV36IwjU68qXzL1h9bZjEZNyY927CRGI2rtW7ejSZYjb0rc+/azZyCrCHkRNuJznh5oHJ4zBz3uhAhWIGHmg8hLnbjmJ0P8HhE26cUD0WHkZ8g06jFqHSXufPE+Tn/YcBMXoHcuH8YT54rAoGQzE6DJmJd3gIFwNtGD2zu++9bIGcPX/hWhpnTmE1eeDu4YHZ6ke22XgIQ4lqDPl29X1vNkxmE16mA3w3vAPVa7Xno4+/4P2BTSjZ+iXWHbIRqMyG0YTVauSXRW/SvHxpqj/xFuv3mfG2GDmycQaDWpTj4VqDmb7hKOf9TjL5pbY8ULkp781YzfGTnphMRnYv/ogG5YvQcOg3uJ7wuq43SnX/W9iz/EtaVCxCzSfeYt3B7OGQ47tWMq53VR4qV4+P1rpxJsDGid0LefaxR6jTbwJ7Pd05eeI4x0+c4PjxY3iofHDLeAb9FNL89GyYTV78vmUR4975krV7Tbi7qZUCj7Hmy/48bChF71cWc8Q3EO+Th1kxvj3FCz3CwHfncvikGaPHCbbOHkvTUiV5bMBHbPO04e1lyldjq8cG5t88JxlG0U85uZnuYjb0rc/dMRueRkwmszbm7GvzYum7HahU3ECJVqNw+M2DAB8vLGYjFmsAF32PMOeDj3j66aEMGTKMQYMGMnbyKsxePti8fTi8bSnvvtSXug+XwmAoQuXqbXh6yFM8/bkTRz28CPAxs3X+Rwwf0Iunhwxj8OChPDP2azYd9yXI34Knly8nd8xlVItCf/Rs3O/DKEaTEZPbQVwWzcZh4378PX9h4jP1eLDlaNb9nm02PM1eWE2HmTqiOWWrdWC8yxFO+dswm22cOmtm9cSnKFusHCOn7CIowJ0pLzSlcP2ncPzFg9MBvph9goi07eapdtV5+OlJuJ68zmwYTVi8T7Dqo6FUKfQon6w8dDUmwQurj4X9i8dRtVwlnvxsHafO+WHc58AzjSvS+Kmv8E+I5eKF85w9cwZfX+tfxoTcrOK6W//Lj9nQhgiNRry8TFi8zHh5eeHl7YXHr470rVmStoO/56DlNG5HNvPS42Wp3OpNfjrsRZCvt9YLFGjZyTdDWlG8cmembDmJj/U69jk3BfKex4TlDKPI1Fd9NmpiNvSpS05depfMRjYULbDQy8T8cZ2pWMxAiZYjmb3jBL5eJsw+pzDuWszY3jV5uFhxihcvQamHSlFUDbeUqEzrkV9z2HSaI2u+onu9EhQvXAiDwUCRosUp9WBJygz6gkNH9jDnzR489FApSpR4kJIPluSB4kUxFClBrb7vsXKvO76nTmlmY0TLolfNxmrMPjYsJn0LlyPg7b6rxkw9fjk/y5WbzRasytQd28bnT9XkwRYv5jIb3nif2MS4J2pQq/2LrDf7YlXxGe6eeAf6scfxE5qXeYCOry/iaMBZ9jh9QvPyxXj8+e/59ZiRID8Pfvp4GHXLd2Lisp14mK/jrQIgvY6z/O2nqWKox4Q1v+Mf4IvV6oOvzcaJjZNoVbE0Lfv8iDHkFJZ9CxjQsDyGQpVo0KgxDWpVo02nnszcbsTL1xeT572xtHR+zEa25sqwX+uRUGXJY+dsOhR7mB6vL+BkQCDHd82l34PlaDdoNifOB2BW5sFoxNtygnkfPEOVUuV5c+52rDabxG7kw1jlDKOoZ9eomT+qcbvd8if7X1fO88E9v8zEbBQc2/xqcKv97rrZUDMF5r3VntJFDDzYciQLdxzHx9uKv+d+pr3SgQcMBqo0fRWnNTs45n6QxWOHUfshZQweYcy0LRg93PA4tIq361XShlFa9Z7IVtcjHDrqxsmjrnz7Qk/6jPkfu9xtGD3c2bV+Fv3qP4Dh4bqMnbcDW+A53HbOZ3CbR64Oo0iAaJ4Mo3owjm7l86dq5TEbZm8fjHud6NO0CpU7vsZGsw/a7BA1NOV7FtPWaXSpXIr2r87H1XyK0wHHcZ42lvbVy/NAydKUKfkAJWp34OMlu/HyNmHMPYPiaqNotHqwedrb1C9iwND5DdZv/5mdu3azc9tGxg9twQOFitO01yyOXgrE81dH3n+yI40aNqRBw4Y0eqw+VcsWx1ClI+OW7MTm63NPzEjJv9m4VrFoAbgWTxa81IWiFdvwiTJmPh6ccPmU2sXL0f15R46f9cWsGkdl4nysbJ7xKg2qVOaFGT/jY/MVs5GPRk96Nq7luTx1RD7Y/Rv7i9nQtz533WxYLSYWvdMpexil5Ujm7TjB6TMBHN42hx7VS2IwVOKlGT/jbrVhtNgI8NrBxz1qUchQlCaD/8d+iy+B3jt5t6GK2XiAdgPm8XvgKbzNnpg8jdhOWTn5yyYWTfuBH2bNZdY3H9CnURkKFX+IUV874eF/AY+dahhF9ZhkB4je78MoeSoGszfWo6pn43qzYcWy14GBLcpT6WZmY9t0elUpRftX5nLAHEiAtwe/rF3AiMdr0+zxnnRpVZ1ClZsy7CMHDrqpYMZrd+k5xzeazBgPbmHC6wOoUtig9Vyp3qtChiLUa9aIRx9+hBY9f+TYWT/M7kaOn8h+EudJFQtkdGPbvHdpV/1B6j3+AqsPeuFrufmMl5zj6eH9ds2Gu4cJn0ALv875kOaFitLj9cUc97Jg8Tazx+lDahQtTZdhCzmRy2xYrF5snvoSTarW4MUfd0rPRj4bS6WNTH3Vb4MmZkO/2qi6VXdmY+6Ok5w548cB589o81BhDMU7M3nNHkwWM+6eXgScOsjUXg0oaihMgy7j2eTmwynv7bnMxlwO+ftjMXpi9jjBxsXj6dGkxh8NlWqs1KtoiTI8980yTIGXcN81nyGty/wRICrDKLkyrRpKuUnPhtFixevQCp5vW4Vqncay0ZKrZ8PvFMc3fE+7CqV4/JX5/G6ysG3OW7RoUJs+o9/np/0eHN2znu9eG0iVB8vT/tWZuHpYbuzd0Ho4zJg9D+E8dSIffvgBH374IRO+nMTKZZPoXKs8bYfNwCPIRxsmUcMKZrNZe5ksNk5572fai4156NEufL/xCAE2L7R1XvLZuNwN83E7ZsPDw4TV38J+p8/pVKYQLUeMZ8shI2azByaLiYObJvNY8bJ0GbYoj9nw8jKyftIYapcsw+jpm6VnI5/5IWcYRRb1ylU/5JPdv1GWxGzoU5cc7e+62bhhGGX7CYLO+nFg1Tc8/nBhDEXa8MXyvRgtFtw9LAQEHmBK7wbaVNmGHcax3WjDZNrNW/WrXu3ZyDYbZosnh3cu5NkKxTAYSvPEyC9YutoFxxmTGNmmAoWKP6yZDWPARTx2zmNYywf+6Nkw3vdTX3Nl2j8zG+r/pl183r8RtVqMwPGgDR8vMx7uRmxnvNk2awx1Shah74Q1HDm+hVEtH6Ju73fZetIXm7cZk5eNUz5HmfdmZ0pVasfMrccwGc0YNcOQvU6ElknVqqBaMLGXtmibVU2l9fNl27RXqFa2Eq8t3Ie/r1UbHjDlmnHiYfLG33qIme90o0zFzkzdfJRAm+U/YzbUImlWXwsHV3xBpzIP0HzYp2w/6oPFlB1HoHqKPPYtY2SlcjTv+w1HAk/hpRZkM5rwtbqy8I1uVCrblPdXueLr53PdTKBc+uuoMcmptO7We84wipgNfeYPMRv61CWnvN51s2G9LkB0zo4TWiDgid0LGNLwQQyGRxj9nQvHfQKw+Qdi2+9Mr6aVtZkn7cbM4ojFG1/LTt5trMxGYdoOmsTRU+e0GS2/LhlHNYOBwvX6MXOHldDLZ/B2XcsbnStjKJZtNjyvDqOMaJETICoxGzmZw2jxwts3kECP3UwcUpsHW73MppOnOR/og8XLip+XGwvfbk+5ao15Z9E+/AKyNTrvtZ/vn29FyVJt+HbTEU7unEeHhwvTcMBn7PQIwM/PitXqR0CAGcePnqRMqdp8t+EoFqORowf389tvBzjmphpGI+4nT+KhVpz1seHj44O/vxfurqsZ3boOpRr0x+WkDR+jG0d/d8X1mAfePj74WK34BpzGe/9yXu5alUdaDmfZIT/8vNQCY/oukPnt2bBYLRxaM5EnSpfm8ee/YI+7P/6+PlitVqxqBVyLGY8je3jnibKUbdIbx31WTvn74eNnw7THmWfb1ebh5qNZd8iIzfvGIaycPCDv1/KLDKNcY6HHfCFmQ9/63H2zYTHiMK79HzEbC3cc0xaBshldmfJ6B0oYDDxY9wk+nTafNeuWMH5AS+1/RSo3YcZWd235bG/TCWa9/Jg2PPJokyFMWrgMh/U7ObT2WxqVNGAoVJsh78xk+ap5fDK0hbZf4ZxhlIAL2jDK063L/jGMct/3bBg9tZiHQ9s2sGyJI87zvuO5jpV5oG4fPpu9nJXLV7Hpl6P4+Fv5bdVXtKxWhHK12zJhwUpc1jky/a3+VChSnDpDv+LXkz74n/yZNzuphb5qM/rD73FwcmTZ8tX8OGE0dUoZKN1gNMtdvQkw/sKnTzalsKEqH684hMXbm4NrHfhuyvfMd3TGcelSls37hsGtqmirvfaftAl//1N4n9jFl6PbU7PPWyxwXI6jkzMrFv/Ay92qUqxoeQZPXIPbKbXQm/5nD+TLbJi9ObrlS7qUMFC6YUc+/9EZxyULWbJkifZa7LyG3w6dwNvsxvrJo3m4iIH6vcfwo9MGVjrM4aOnm1KkSBX6TliGm5dvdmCvzk2YHho36dnQd2MmZkPf+tx1s+HtZWbWG+0opWIpGgxh1vbjeFssmK0+HN+zhv+N6khZNRvhaqyFeq/Tvh/vzNqIu9GMp+oaNlk4/NNkute9tl/J/p9z8NgxnCY8RcMK1/5veKA1HVrU1XpBhn6xFNOpy7jvmM3AhmqfMgz6ei0Wm999PfVVG7YwHWDO6LYUysX9mgal6fXxaqxngvA1nWDt9DdpXrlwLo1K0OiZj1i+1w2b1Uu7c97tMothXWplT13OlWatdgOYtOEwFos3PqZ9fN27KQZDccYudcXi5YXHvlU827BsrrQNVGzejbGTV+BmsWAxmTB5nmT17E/oUKNonv0MFVsw5pOp7PGw4pVriEUPDdefncNfmw0PzD4BuHygOOXK17m3SzZh4sr9WH198Tz6Kz++1Z0qD+Tat1gl+r07n/3uNnxVb89tPEvoz877fvi/xGzouzETs6Fvfe6q2VDd5OohXHs2LWXWtClMX7yavYfdtQA/9eRVo5cfvu57cVw4k6nTpvPD1KlMnTKbjfvcsNiyVwjNqeRMFm8ObJjJlKnTmDb9B5Zv+Q2j2Qub6ThbVs5hypQpTJ86iyXLd7J39wZmTp3J6u0H8LRYMR7bw0qHWUydMQeXHYe0ZZ7z92wVfYubwyb3u2rM/nKdDaN6mN1xdm9Yyo/Tp2jsp0+fjvZSGkybx+rtrloQotHohY/Vg51rFzJt6hSmTpnCtLmO/Py7J94WszbdVDVm3n7+eB7axJI505kyTaU1hSlT5rF5rzs+Vos2ZGI0nWT3qqXMnLKYbQfdtLUMzCY3fl25lBkq3WnTmP7DfNbuPozvqQBtSXm1OqhaY8Lm5cFvGxfzw7QpTJs6lSnTZ7Jo7S94evtjzbUeRW4Wetz+a7PhqV3v8X0bmfHDD9ma5GgzfRpTVf5fsIJdh9xRi7OpoTCrx0FcHGdqZWDalMnMdlrP72YrNrUuihiNfK+VobSR2Sj6rfPEbOhXG1XX3l2zcbXrVo3/23x98VVPAM2z3kL2U0etNl/tqZW+vr74+dq0J7uqpcivbyzM3tf2U8GK2vdqXQGrTfu9+q2vTT24y0s7ntfVxlDdyVt9bPj52fDWniR6Y9rXH+te/Zwvs6HpYtR6GzRdlDZ5XjZUrM0fT9dVq1mqxbau7uNnuzozJXfXvIcnRrO3NvMhZz9fX8X7WryAiqcwW1VeUIGO1wqO2dt6LW0/tXhYtonJrYF6kJtXrv3UMWxWyz333I/8mA1PZbBUrFIeTa5pZLNdt2qqScW8XPve12ZFBdPqPX4lt7562M4ZRpEVRK+VTT3oknMOYjb0qUuOProwGzknI+8Fn1nybzYK/lxE7xsZ589s3Pg7YVnwTHKGUWQF0YJn/Xfys5gNfeqSo6WYjdx33/fBtpgNfRdIMRv61Ud6NvSrjWrQxGzoWx8xG/eBwchxlupdzIa+C6SYDf3qo7SRmA396iNmQ7/aqLZHzIaYjRtiX3KbE9n+dwuwmI1/l/ft5O+cYRRZ1EufGonZ0KcuOWVMzIaYDTEbOsoDYjb0W2HKMIp+tVENmpgNfesjZkNHDU2OAyzId9WY/eXU1/uMSUHyvt20xWzot8JU2sgwin71EbOhX21UPShm4z5rWMVs6LtAitnQrz45PRsyjKJPjcRs6FOXnBsuMRtiNmQYRUd5QMyGfitMidnQrzaqQROzoW99xGzoqKHJcYAF+S49G/oukGI29KuP0kaGUfSrj5gN/Wqj2jQxG2I2pGdDR3lAzIZ+K8ycYRRZQVSfGonZ0KcuOTfPYjZ01NDkiFKQ79Kzoe8CKWZDv/rkDKPICqL61EjMhj51yWnPxGyI2ZCeDR3lATEb+q0wpWdDv9qoBk3Mhr71EbOho4YmxwEW5Lv0bOi7QIrZ0K8+Shv18DsZRtGnRmI29KlLTnsmZkPMhvRs6CgPiNnQb4Upwyj61UZ6NvStjdJHzIaOGpocB1iQ79Kzoe9CKWZDv/rIMIp+tRGzoW9txGzcZ0ZDCS5mQ9+FUsyGfvVR2sjUV/3qI8Mo+tVGzIaYDRlC0VkeELOh3wozp2dDVhDVp0ZiNvSpizIaYjZ01tDkiFKQ79Kzoe8CKWZDv/qI2dCvNqrOFLOhb30kZuM+MxxiNvRdIMVs6FcfpY0Mo+hXHzEb+tVGejbuM6OhBBezoe8CKWZDv/rk9GzI1Fd9aiRmQ5+65PTUS8/GfWY4xGzou0CK2dCvPspsqJ4NWUFUnxqJ2dCnLmI27jOTkSO4mA19F0gxG/rVR3o29KuNqt/EbOhbnwLr2YiKiuLIkSPaQh7qIPLSB4OjR45y+eJlzp49y7Fjx0QXneXNo0ePanfOVqsVtS3lRh/lRumg9LBYLKjZKMoUHj9+XPTRUflRevj7+xMZEcmRw9L26K3uOHz4MMEhwfzTP8P1CaQmpRIcHEx4eLi8dMQgNDSUxMRE4uPjUduij77yZ1hYGGnJaURFR6G2RR/96KP0UDdRycnJREREiD46qtdUOVH6KCOYkpwidZvOtFH6hIaFkpyYfL1VuO3PN5iN205BfiAEhIAQEAJCQAgIgVsQELNxCzjylRAQAkJACAgBIfDPCYjZ+OcMJQUhIASEgBAQAkLgFgTEbNwCjnwlBISAEBACQkAI/HMCYjb+OUNJQQgIASEgBISAELgFATEbt4AjXwkBISAEhIAQEAL/nICYjX/OUFIQAkJACAgBISAEbkFAzMYt4MhXQkAICAEhIASEwD8nIGbjnzOUFISAEBACQkAICIFbEBCzcQs48pUQEAJCQAgIASHwzwkUuNnIzMzk8uXL//xMJQUh8DcJXLp06W/+Un4mBO4/AmlpaYSEhNx/Fy5XXKAExGwUKF5JXA8ExGzoQQU5h3uFgJiNe0Wpe+s8xWzcW3rJ2f4NAmI2/gY0+cl9S0DMxn0rfYFeuJiNAsUrieuBgJgNPagg53CvEBCzca8odW+dZ4GbjXsLh5ytEBACQt3hhjsAACAASURBVEAICAEhcKcJiNm400QlPSEgBISAEBACQiAPATEbeXDIByEgBISAEBACQuBOExCzcaeJSnpCQAgIASEgBIRAHgJiNvLgkA9CQAgIASEgBITAnSYgZuNOE5X0hIAQEAJCQAgIgTwExGzkwSEfhIAQEAJCQAgIgTtNQMzGnSYq6QkBISAEhIAQEAJ5CIjZyINDPggBISAEhIAQEAJ3moCYjTtNVNITAkJACAgBISAE8hAQs5EHh3wQAkJACAgBISAE7jQBMRt3mqikJwSEgBAQAkJACOQhIGYjDw75IASEgBAQAkJACNxpAmI27jRRSU8ICAEhIASEgBDIQ0DMRh4c8kEICAEhIASEgBC40wTEbNxpopKeEBACQkAICAEhkIeAmI08OOSDEBACQkAICAEhcKcJiNm400QlPSEgBISAEBACQiAPATEbeXDIByEgBISAEBACQuBOExCzcaeJSnpCQAgIASEgBIRAHgJiNvLgkA9CQAgIASEgBITAnSYgZuNOE5X0hIAQEAJCQAgIgTwExGzkwSEfhIAQEAJCQAgIgTtNQMzGnSYq6QkBISAEhIAQEAJ5CIjZyINDPggBISAEhIAQEAJ3moCYjTtNVNITAkJACAgBISAE8hAQs5EHh3wQAkJACAgBISAE7jQBMRt3mqikJwSEgBAQAkJACOQhIGYjDw75IASEgBAQAkJACNxpAmI27jTRfzW9LMhKJivFTnJcJDGREYSHhREeFkpEeDiRkZHaKzo2HntcErHxqaRkZJGhfnbT81RfpJCppRfxp+lFxcQTl5hEUkoqSRmQ/qfp3fQg8k8hIASEgBC4zwiI2biXBc9KIyshkLiAndgOuLBrvQurVy5n5fJlrFm9irVr12qvjT/vY+teM/s9LnImJo2YjCzSbnbdWalkxfkT678Dn/1X01vhfEN6G7bt49ffzbj7XyDAno49PYv0m6Un/xMCQkAICAEhAIjZuIezQVZ6DCl+LpgWP8OMMa3o/8TjtGndmlatWtG6dWtat25Dm7ZtaN3maboP/5Y3F+5nq18cAUmZJNzsutMiSTXNxjS/P9PHtKbf9em1Uem1pXWbIfQY+R1vLc5O71xyJqk3S0/+JwSEgBAQAkJAzMa9mQeyUuMgLoA4/20cWPIeP7zUlFE9G9CxS3e6dOpM505deKJzO7q1aUC76lWo+EgdHq45jHaj1jLHIxFzIiTmvvS0ONKi/Qi1bGT/gteY8cJjjOrR8Lr02l5NryoVtPSG0+H59Tj7JOGbDFdypyfbQkAICAEhIARyEZCejVww7pXNjGgbscYluC0fw4TXnuSpQU8z+KWPeW/SQhbMX8jihUtwWDwVhxljmfR8P7o36Uz9mi/R9+l1OHjEYruSRVKui820+xJ9ci5HFg7j05cH0ufpofR/5RPev5reooVLWKql9ybfPd+Pbiq96i/Rb+hPrApMIyANknOlJ5tCQAgIASEgBHITELORm8Y9sK2iI1LO7MTX+XkWvViX3gO70v41J8YtP8W+oFgSrySRmpJGakYYV+KPcfrAMua+PYWPh8xnxtf7OHQqkkupGaRcvVYVvZEUtIMAx8E4P1+Ovn16U//tVby4NgjXoDiuJOWkF8qV2CME7XNizltT+PiZBUz//hB7LqcRmgGZ9wA7OUUhIASEgBC4OwTEbNwd7n/zqKpJj8TuuYgjE3owqU1tuj45imHzjuLgl8a5rCwys7LnmWSSQWp6Agnh5/Dea+SIyzE89lg5m5yuxWtkartlp3fRdRZ7xnVmcrta9Bs8nJGLjuHgn543vax0UpKisZ+14bXbjQM/WzhsukxIQgZJmcps3Hx+y9+8UPmZEBACQkAI/IcIiNm4p8RUcz7OcW7f92wc3ZL3aj1K9yHvMHZ9ABvDIPi6a1HNf2ZGGkmxV0gIjyPRnqANd2QA2Z5E9W+cJWj3t6wd0YL3alenz7BxjNsQyPYwiLkuvczMTNJTkkmyJxBrv0LclTTSM5XB+bOptNclIB+FgBAQAkLgviQgZuOekl2ZjfNcPPQDm8e0472aVeja7zWGznNjvjWdwJvOZ73VBSqzcY7z+yaxaXQL3qlRjfZ93uKZuR44+WUScqufyndCQAgIASEgBPJJQMxGPkHpYzc17BFFgv9a3L5/hslta9OpTW8ajlzACw4WdvtHE5eUTEp6JmmZ+eltyB5GiTEu5viXfZjUpi4tmwyk3qjFvLLKl30XkohPSiY1M4s06b3QRxaQsxACQkAI3IMExGzcY6KpANGsqCNc+uVLfnq3C083rU/1it1p1vMD3vxxGUt2/cIWawhe9rwzTv7sMrNIJjPiEBd3fc76cV0Y3KQBVVv0pkH/Cbw4fjUOO39l51m7Nr019wyWP0tP/i8EhIAQEAJC4HoCYjauJ3IvfM64TNrFHZze+gnzxnShT4Xa1CxWg5qN2tP62bd55sdfmHM8At/Y7B6JW19SFqj0Lu0gYMPHfD+oA90q16L6g7WpVrMjrYeN4+UFh1jmEaullx1YeusU5VshIASEgBAQArkJiNnITeOe2U6DtPOknN6JceVXTBnel2fqVaLlI0Up82gjqvb/kEHTf2Hh8TD87ekkpmWRdXWWys0uMUut/5lxhqTT2zk453O+e6o3Q+tVpGWFIpSt0Zj6Az9l2Iy9LDoRRpA97S/Tu9kx5H9CQAgIASFw/xIQs3Gvap+VTnpCGDEBJ3H7ZRlbpg7nh6cfoWu9ElSq04hq/T+g/0xXnDyj8ItK1x6Y9meXmm1EkslMCyEm8CRuu53YMvlZpg8uR6faJahQuxHVBnzIgB8P4myy4xedQbKa0iJ/QkAICAEhIATyQUDMRj4g6XaXrCyyMjLIyIrhyqmNBC4byLyXK9K9QXEqNWhP7ZEzGLXExEa/BEL+8uElaqJsFlmZGWQkh5Pk64KfQ3++H1COzrWKUemxDtR9fhYvrQpk86lkQnNWBdMtHDkxISAEhIAQ0AsBMRt6UeKfnkdaMEmBG/Fe9TJzxlSnX8daVO/+Ms0//4Upx+z4xWleIv9HSbnIFf8NGB1f4scXHtXSq9HjVVp9vY/ZxyI4E69mssifEBACQkAICIG/JiBm468Z3Tt7pISS6O2M+7wufDGyJk16DqbWe5v49EAUlmgg4zZX+UwOJtG8BPc5Hfl0eG3qdx9Krfc2M2nfZfzt14+jZJCZaudKeAAhp80EBvphOxfGmcgrxCTndyruvYNazlQICAEhIATyT0DMRv5Z3cU9s4c4tGGOW51FRhLpF3/m7OonmTO2Hh2efoaG47fz1e/RWNVyoH9MJclnemmJpAeu4eyKnkx7vQnNBr5Iw/E7mX4olMDY63o2MhNJi/Dg4oEp7Jj1KlMmfs4ns7Ywd08QbiHJKG9SoEuaX7ukWxGS74SAEBACQuAuEBCzcReg3/YhM1LISksgPfWKFuiZrGar3uRZJFkpsSR7/IjPzJZ8N6omrQe/QPsfTjDLlEBQ7kUyrksv5c/SS44hyX0GPjOa8b9RTWn5zHjaz3DDyTuekOtjNlKjSTm7i3Muo1gwvAaDGzamVbt3GTntIJvOxmurkWbd5Jxvm8Wf/CAjJZP0mDTSY9NIz8iUB8P9CSf5txAQAkLgbhAQs3E3qN/GMVUDnRV/mqQzR7lgOcnvp+M5Hg2h13UsaEmmBXL55/FseLkWo7rUoeGzHzPK5SybAlIJu2o2tEXB4oKupufGodPxnLBD2M1GWNJ8id49FoeRlXi2Y2M6vziF59aeY+e5NK2nIs9lpMeREXacKNf/8dO4roys15VGtT5h0CRX1p1PJiLPznf6QxyRZy9i2hqAbVcQ58PTye2t7vTRJD0hIASEgBC4PQL3qNlQa2enkpkaT1xEOBGhIQSHhHAxJILQyBjCE5KJTc2OE7g9HPrbO4sU0s9u5+Kur9mx4CsmLNjKxO2+7PC6TNjli1y8eJGLl0IIueTDWeMafpv6HJ/2bEyf9r3p+/YSph2P43hEFjHac1OUdYkn/ew2Luz8hu0LJ/Lpwm1M3O7HLu+86QVf9OG8cSWHZgzizY516NGpDyMnOvPDyXhO2rOIu96cZKWQlXyW1Ivb+X3JRL4e/AEjOv/AO5N+Y5s1kKDoEMJDwwiLiCUiPpm4lAxtSfWbEs9IJjM5kqSYS4QqXYNDuRAcSUhEPLGJGSSlZZGRkUFW2hVSE4JJiDzIyVVrWDxiIT+8vJBVG49zKCCYwIg4IuPjiI23k2CPIj4qisjYBOwJaVoa1y5BjfEkkpUaQ3JSAsnpGaSq3p6sdEiLJykmisjIaEKiE4hMTCUhLZP03GZP5cXkKK7YLxIeelE73+DQMO030bGpXEnL0q41M/dvVN9UWjwpsZeIDrvA5eBgLoWEExERQZQ9kfikDFK1/dPJSo3lSkw4keERhEbFEZmSRYoaEstMJiPZTkR4qPbb4Mg4Iq+kcSU9++F4N2Ur/xQCQkAI3AUC96jZSIKU88SfO8qhn9ezbsUyFi91ZN7S1TivP4DLoUBcT8cSnJh5LUzhLsD954dUpsrOFfeZuM3qzrfPNaNt18G0GTmJ1752YPGiBcyfP5/5Cxez+MfvmP/5C3z+XA+e6TuM516YwnSHY+wPTedMOiRqJ6MemBLKFbcpnJjxBBNHNKNN18G0HTWZN25I71stvQmj+jC0zwhGjf2eKZsOcUCll5aTXu4rVAGjUZBpwtP1Z5b/bzkzXl3Koq8d2bt1Ib/8vJAVK1bhvMkVl+NnOXw+gdAreVrfPxLLiAkgzm8Ltr0LWLXckQUOy5nruJ5lmw6yzxSBX2Q6scmJpMX4E+G1hWOrP2XukKE8X7oH7Ss/weBnxjF26iq+3+LBxpPenPA4jPXgNtx2bmbLzqPsOnYRn9BkEnKOmGkn024i4fRvnPE9iS0sngupkJgeS0qoJ2cObOHXn7axYttJNlpCMUWkXjVvVxNIukji6Z3475/D5lXzWOiwjCVOK1i3YSu7fg/AFJxESDKk5A7QTbeTGnqMS8cWsuenOTg6OjB/6UrWrHFh6x4zx07FcSk5k8xMO1cuHsfXdSM71q5nxabDbLLFEhgdR0a0L9G2X9j+03IWObrgsOkwmy0h+ESkEK8eZiN/QkAICAGdELhHzcZFMkO3EbjtMz5+rT9dO7WlUaNGNG7Sinad36fTi6t5b7kPBy+nkvhHUKROiN/WaWRAymWij87G9dsujO9emjoVHqVM+SZUrtOGBi3b0KJFC1q2bEnTJo1o0qQhnXp148WvVzBnVyBHztgJTc9U64Ne/cuA5EvYXb9i54fNeKVZGWo/Up2yFZpQue516TV+jCZNm9Kp73O89L+fmLs7gCNnowlNzCRVazSva8yyUiErBNI98XD/lfnTdvD5GGcWT3ieHRM7MfWlFvTs1pXmT7/D49/u4ZPfQjl+OeXqo+5zzk+9xxNrWYnVcTiObzWlZ5fm2vU1af04jw96mdEzj7DKJ5mgpHDiLm/DZ8U4Zg3qSK9KValYuBRVipbikbK1qdX2Odq9tpQnp+9h6eKZ/DxtOD++1oOhXd7hmU+2Mud4MEE5h432Ju7YNPxXPMd2hy9YdPgse6MhLOkil48u5PeP+/HNE0/S+8nv6LXAgqPvFS7millJPfcbl7a9xPYvGvJiv+a0a9OSxk2a0b5bb0Z9OZspB4M5FAWxOcdTsbrRNqIOTeTkjOaMH96UJ9q3pHGzFrRq05Z+4+Yycec5XCMzib/ix/kD8/jps2d5o3cvHu82gad+OMHSg274HXPAc9FLvDWkA4+36k6rvp8wcJYrjp6RnIm7uZHLdQqyKQSEgBD41wjcQ2YjnazMWLKSQrlw6hiHd8xn5fev8erzg+nf70l6PtGBrm0fo1nDjtRpMZq+by9j3oELWKLSUfXudU3jvwb4nx0oQ3tuSWzAZk4sGcfc0d14a2g/nuzVl67d+9Cjd1/69OlDn9696dGjO337D2LM+CnM2OPPgdAMQtMyUA+lv/aXCRkRRHks4uD8F5j+5gDGqvR69qWLll4fevfuraXZU6U3YDAvT5jNzL1BHArNICo1g3Rl3m4KUwWxniH5zCb2r/qGd975gm7PfMl7Y4aycFxXfhjdkud6teOxHs9T6wUHXnQwsjfQnj0cAKQlRpIYbCThzC8Yt07mtzkvs2Lis7z6+kiG927IgEal6NGqMf0/nsekQ2EcC00iPPAgpkVjmNyjBt1qVaRS3WZUa9adVq060nvoawz+cjUjZh5i4dJ5bPvyKX7s0YC2Fbvz+OAf+GqrH2a1SjtJJPlvwm3B0ywYU4/xb73AZ9sC2BwBl5JDiTw+m4NvdODD9i1pPegjOiz2Y74tjfNxsWAPINzHjVO/zcHN+TXWThrKu2NH8MpTnRncrApdG1aj54jXeX9LENvCIJQUiD9DzGkvzh9eg2Xd++ye+SxffjCSV4f3YUSHenSvXYZeT7/BS4uPM9eYhNlmxW/jl6z9sBcvdWtHk8b9adz/HYZ9No3v501j/rdvMGbUU3RtOZDWLd6ix7su/PBLEN4RyRIkey3jy5YQEAJ3mcA9ZDZSyEq/RGaEG+Z9m3CYOYfxH01iwtTFzHVajYvLIpbPe4/3hnSib+3mDOj+NhMcTrIxKIWzKahnpd5l1H/n8GqyaBxJ0f5c8NyL+9Y1HNyxno3r17Bq1SpWrVzJ8uXLWblyJStXrsBl3U/sPOSFe3ASwRmghWnkOayK2UgiMdjMOeNO3PdvwHXHT2xev4rVq1Zkp7lqlZbmcmdnXNZtYNchCx6hSVpA6q0JJpEZayH+6GTWfdmHAX3aU63T0wwa8yk/zJ7HRqdprJjyEe++9jGdR87i+emubPaOIv5qz1NyiJHze6ZwaOHzLJs6jkUL5+C8YQurN2xk5eQXmDWyJh/3f4zXvp7Ft67BuIZAVHAQF3Z+zeb3OzBueC+6vvwFPT9bxdeznVm2YTsuB73YeCyI4+Z9GNd9g8vz/XmqfHcG9pzMtyutHI/JIjk9hPCjc9g8tjVvNXuEAUNf4d2NgWwKh0sZ8SQFbMQ48xVmjxvJ69/N4SPXSLaHwqXIU9g9nHFbOI6NU1/Hae4UlqzawNKNm9k893OcXmnDZ30fZfQrr/DJtiA2RcD5tDjiA3/GtnoCW6a8xqJpE3BwXs2SjT+zzmkW6z4ZyKR+FXjn5Rd5a+Fe/rcvkp/3euC1cQbHHN5l8YRRjOjeicZN2lKr24t0eXsO4+etZt6Sefzw2be8P3ISL45ZyfxtXniHx19nNPNkBPkgBISAEPhXCdxjZuM8mcGuWH/7iaWz1/H5tH24uIVxWotWTIKk4xyc/TKTWjRjbJsRfDr9N5xtyfgmkWso4V/l+48Ppp6flpGWRebVRjk9U43jZ2oPVlPvycnJ2cGSWdn7qCDELBU+8SfDR9rz2JRrUL3smanaNFFlxdQrUy1/npVFSkoKaWmp2hCHlp52Fbe2GpmpsaScdyVix5ssHNuEPu1r8VjXp3j2u204mhKwRkRy0Ws3v82ZzQuvz2fEZFeWeUQTqw3JJJMQsBW3mf35vtdDvDWsH69OWs6XW/zYecCTA+t+ZMOkZ5jz6VB+WL6LZeYYPBIhKT2WjCAXzq0fy8p5X/GusyufH7rCiQiIycjRXI13RBB32ZXfF0ziuybP8+mgBcxytrH/UjyRdi+Ctn/F2hEtebNBfXo/9xnjNp1hYwhczkogM8rEmQOr2L/BmW37jnA4KouzZBJ++Qh+a97GZVglPv4/e+8BFVXWteuOccc957/n/P8Xu9vOdjK1ObQ5B0DFHNucRcyhTWBEUIyIEXMOBEUFFRAFRCRJFCRnyZnK8bljF9qfdk7aSK8aY1tU1a6553zmxv0y91pzDe3IlCWOLD0VxYXAeO57nsRv59ecWNUXu50OON3Pw68KsuX55NzZys25jVlh1pghE+cz2zmQQ35PuOPjxX2XZVxa1Q2nrWvZ4R7CofuFXPEJI+GOJ2Vhp3hyYxN20y3o2LY7/2g/my/nXcLhThYpaaGkPPDg7O7TLJp5hRM3H5NSXvNGyuvf/QsjDAgCgkCdJPAGiQ3pNkoFKDPJSo0l+GE8AZF5ZFZoni0KZkSryOKJxzrOjJ7GxtE2OJzxwS9XRZ60SGqdxF9/nNJU51IcdZFHhyezf3Y3FlrNYP5edw76Z3C/EiqMhcgz3bl2cBUDZu+l7/o77A96isw0SDSbwghnvBZ1w+azf9Hx3w1o2KwLbSwmYTl+JlMnTeTrWVZMtzvAscBMQos0pkqLRlOBLvk02Rfn4XFsA9tuBHEsSUeOSlJSL4ojPeqKeFK8D3F60hL2Lj7I/nORuEXlkBB5k4hDM3Bf2R/7hV8z95udzL2QzsnUMnLUaRgqn5AW8IgHvo8Je1JEsV6az1NJZZobkdtHsvbTf9Lr/f/ig2ZtaNhb8ncW0ydPZuKc+Uzd5Mx2zzAePFVShJaaijCy3Oazr+unDHvnf/H55x/RoPNoeo+cwaRJU5k+YybjvrHD9owv12KLSCjW8SS9iOKUB1RHHCby4kqWLF7MV0NX0d7qPAtcHxNZkYam+Daxd09iu/MU3W0CcQ4uJlNSWy8iqD+nmohEEBAE3kACb5DYkP7n1Jmm+6lUcqplCqrlWtP0QNP/qfpSlLkPeHDZheMrdnJ40xlu3I8iUaalUpolKP7nfYWnpx51ZQZZ/hfxXDqf/QtWc+T8TXzyq8ms1FBNKeoCd9I8rHBcMYW2s/fTe1soR0KKUGoVoAgn23cHJ+cMY0iT5nz2WWuatO5M9x7d6Ny3K136DeGrsRuw3OzL8ZB8smvUpsKMVlFMYch57m1YynnHXVx6EEuoHIpVGjTyKjSKauTG2rqNquIJ6Xf247psMs4rl3LwiCenvBM5duEKVx03E7BjATePrmbLqctMO/UYhxtxPAgPICUyiAC/cO4EZ/I4W45OqpHpEimJOYqn/SRGtG9F02YtadqmIx27daNL3y506TeMliNt6LH2Gtv888iUSUN081DkehJ+ejFW/TvSunEzvmjZng6du9O5dye69DWjg6U1raxOMvtUlGk2lVRvUqmkRmVRyCO2EXpoMouWLKfnRi9mX8nDK6sSuS4GY/x2bl7YzpQ91+lzJImDIblk5heDsgatXo9Oqli9wuwL04KAICAI/ByBN0hs/EQoRhnGkodUhB7mzqnjOO/34ujVWMIzSyjVG0RV4yfQ/f6PpCqCCmVJIokeZzg+ehkOM45y8U42Wc+Nq6Iou70SX2lsxZBhdF9xmemuOdxMq0ZnyIeSW8Rdc2TDooW0MV9At8mbsVplzy77tWzevIi5S5cxZtoOZi+/zrl7yWTXSC27NCgrUwg9f4LTE5ZxdLULXpGZpGGgsCCXktR4CgsyyNEbTVNcFeUZZAfu59bGXhxdYcaeLXbY7fdh/q4b7HI6R/D5XSR4OXLQ1Z2Ru3yYaHeJfU6HCXC7jHdgFAFPSsks04JRDuX+ZN3bwSH7hXQeZ027CRuYtcyO3Q62rN+8ioXfLGLMNDvGL7jCHq90UitrQJNAdeJJvA6twHLqXJqPXomllT07tqxni/1qlq9dwlSr1QybcoLlB8O4k1ZuakxmEgnVIVTeW8i97X1YuWYVEy4ksTcV0tUyKPGm9Op4zu2xYobzNcZfKeKQbyqPouIpeZpBlUqN0mDguyvZPE+NeBYEBAFB4HUQePPFhkGLseIxFVHHiXNdi9fJE+y7mcipJ2ripf/jf2TswuuA+1c4htEo3aAqoSoniNCju3DsOZN5vbfiePghD6vlFFQUkB56Cv9NY3Hq9xXT+05h9oEwXBKNpCq0GAwpkO9B8JWtzF65jlYzTjJpewCnvSOJe/SAuLBbuLmeY//qgxxadMo0huNJlQoVNVQXPsDdfhu7+s5g27QdHLkShX9OLpHBAUQH+BCd8pjHeiOlRlBU5lMc5kL4juacXdCINdZf8/Xq44ze/oD1l+8SHHiWrLtOuBzYR98Fu2g7bh0z5qzj2rEz+MdmEVuup1QrjWmpgadepHjbsct+JR3m76O/7U2cXUOIjw4nIjyU29ePctx2B3usT3LaNYLIojKqZXFUxBzBzXk5Fosd6bTcjaWH7pv2j46K5N4dNy7u28Ge6Qc4cvAufinFZEsyTqtDneFN2tnRuK1phe1mG9b55OFZCoXaUtTxR4jd24Ejq3qyyG4nM08n4XgiAs9rQcTGx1IkUyATYuOv8KsoYhQE6jSBN1tsGLTo84ORhTkRfHYt23bswtEtGLfEChJkUuMpUT5+1WefUeqyqYqhKPYoHlvmMPGDjnT7n04M6DaNGcsdWGtjw9K5w5gwsDfD+0zCevEpjj0sIkoB1dIcIWM+5HsS4WbHivlWdBk6B4tJa1hm44jzPif2OO1i75bjnN98DZ/DwfjFJJAk16CknOo8bzzWzWfll18xrqEZwyy+YbzNbmydz3P82n18k/JqxYZUB5HloYg5ypODXdk18V2GjBlO59WuTL+QzdnwDLISb5Hn78judUvo2n08zbsuYKyVC0fPhxKSJjXYAqV0M04SG/KH5D/cy+lt8+g3ajpdRy/HauVW9u+X/N3NAYdT7F17BhdHN/yCY3kiq0GuS0ORdo67x5YxYep0Og5bwMg5m9jj5IST8y72bXdh/4ZzONuewfP6A2Lyy6QWaRj05WQEncdz9VDsR7Ri6fJl7H2QR7AcKjRlqBOOEWHfmi2j32PowD70n2TLrMWnOXr6HlGJad+KjZenQL/qs0LYFwQEAUHgZQJvrtgwqjBUZ1ATe4L4Gxs45rKbpQf8ORhSREKlFhXSKiBSy3IjenHP+uWs/4GvTGJDEU551AGuOUzFvHkTPv/3B3z8wRc0+bI1LVu2oFnbDrQfbMVY26sc8M3kcbHGNJZCGkdjNCpA94SnkSe4aDOZCS1b0qPVV3Tu1JVu3XvTvedELGfuf7GluQAAIABJREFUZtPREPxiy3lSJaNKL90UqEBReo+QQ4vY0PxDLP6fD2j2dh+a9BzJwGUnWO+eiF+mjAqpVbg0XFRZgDrFjSy32TitHoHZInu67olmR6SSpPJqDLJoSqNcOLVyOpO7TGbIyB0scQnFK6GSHJkeafE707BTUyXnKdUZntw/Op+VA1sx7LOO9Gzela7d+tCjw0QGDtnMcvvruAalklxRQ4Veuo1RiaY8hGTvTeyc0p2x7ZvRo1U7unXvTrd2IxhgbsOsb9w47BlDZG4pJVotGuks1qeS7H+Y87OnsanXeLas2c/pqBKipJYd2nLUKaeIdmrH3qH/xfAW7/FF1+H0W+GKw60sQouUVOqkXitixMYfeMoLU4KAIPAbCLyZYsMgw1CdRHWqN1G3DuLmfhTna4Hse1BKaGElKlU+enkBeSVyUqoNprUkJNEhHn88gdrKRiryFE/CL9mxfME0xn89hqHDhjBooDkDB1pgOX4GUzafZ4tvIUGFempemBokTbWVahzKwmASXbdwfPoIVowewfhhQzAfNII+Q5Ywa/NlXIKyeFQtSYzaiz7I0MrjyQ04jOeSMWw0H8QEs8lYTFvADGdJdJYRW6bH+LxFuLYafXEkFY+O4+p+nFXn7rHGtwj/AiNyg/R3/1Pkef4EH97N8aX7cN59i4vhuSRK41dfwGZyFzXaynjyAg5wbdUotlqOYqrZMCwGDWPIgLlMtt7HTrcoggs1lNYOazb9q1PlUhx9hYDts3CeOgiroYMZbGnJoL6TGTdlGzYugdxMryFHahxrOqYKoyGb/Fhv/He7cHahC277fQjIrCLLCGqdDG1hEDm3V3Bj8xBsp1gyevoClhy5z9k4GQkKqRojHoKAICAI/PkEXrPYMGDQqtGoFShVSpRqLSqdAd23TSkNGPUatGolSqUChVKFQqVBrdWjf6ELqNTquSr6JNFu69m9xwmbY344Bz0lsFBGcWkU8lQPUsN9uRGaj1umlsRKA6rftFZErT96tRKNqtZnhULBb9+UKKUBe2otap2B59fBP/80+O0eSGLDoJWjrUijJDWI4KBA/PzucOPGDdw9PPDw8MD7li+3o9IJLtRToDSa8v3yEbXoFQXIcyIoCL9J9M3r+Fy5wgX3qxxy8+f+oywyi5VI4zNNVSqTbtRg0JagKoqnNM6fpDvXuXv9Omf873EjqZS4ciOV/+nTDkYDaCowVibwODuDkMxi4grlFCql6pdUs5CjUxZQEpdMxoNk0uKyyCstp1rqX/Kys7V1AmndlOIE8h7eJPLmdW5duYqruzvuV9y4cz+S6MxyciWh8m1VzYBeK6emII+iqHsk+F7n7tVrJkau7pfw9r1H+JNcctSYFrmrve1RW/lRVRSSn5hJUmAKKfeTya9Rmda6MRj0poXYVEVxpMfdI/DuTXxu3yIyJpOMIiXlWkwzUb7jvngpCAgCgsBrJ/AaxYYeg7aY8sT7xARc5fbtm1wLiCUgtZQshR61tAqmrhR1YQwJD7245XUVd6+7XPUN50FsAdmlOlNra4O2msrIozx0HILjyHYMGDaVzjNPY73Tn2tXLnHj+EYubJ7ATvuNrLn4hF0RSiKL9ShfWqbzl3DWY9BVoMiPpjDsOtG+V7h56xZXr17lypUrv37z8OCK53Wu+YVzLTSJ0KwyitVS7636UHGR1KIBo3Txk6Za6nTf36RbCd+Kyh/gL12UDVIlQof+2fe1Oh0arQ69vnZBve+Ten5cHYZvv1PbUl0qZP3Y/lIzNP33bq9Je0s+GDBIx5OevxUKP+CvZN0o7fuiv1p0Oi06vSSOJaHwXR+k9yQB+x9/JVZarfQ9nek7pls1Lx1OMvKCX3pp3MiLdqUXekzC4xmDWl5ivNJLGMULQUAQ+FMJvEaxUYY2L4Dgw8s4NH0Q8wYMx3LEBqyOhOH+uJoSRQlUBZDu58SOFRMZZWmGmeUIRkycgdVWD1yCS0mo0aMsTSLz6hpOz/iSsY3/m8/fb8S/Gval6VfDsDTvy6COn2L+1WeYj5jCOEc/nKKVxNVIkzO/f+n5afJa9Kp0SkL24btpLFvH9GKKeT/69e1D/wEDMDc3/8Vbv3596devN+YWQxk0Yj3D17mz4WYKIQXab9cG+WlfxKeCgCAgCAgCgsCbS+A1iA09mpoqqtLDyPDbxdU1Y7Hp0ZIBbzemUYNBDJvswk63SAISo4mPuoz7gWXMGWtOlzbNadH4Ixp99gFNh69hrEs855OVFGfHkHljB2eXWTKpRzO6tWlHm1adaN2mI+3btaFzmyZ06twdi2lrWHYqjCtparLUv6WDqBa9MpWi+zu5YmPJsoFtMW/fjtatWppWIW3Xrh2/dGvduhWtW7WgffsudOplTbcFZ1junkRIvhaVGEvy5v72CM8FAUFAEBAEfhGBVyw2pGpCDaXJKcRcOc/tfQu54biMbTPHMb5db/q81Zu5XeZgZ7+Pbe5XsT3lwTdbt7Niw0ZWLJyC1eCm9Pjsv/iw61harbrJqjvlpGRlUhJ3n7ArJ3HZuRnHbVvZ5rgNO7vN2Nra4uDgwIatB9hz4S43n1SSXKqlSlpb5BfheHEnHQZNEZXpd4jwOsipg1vZbL+VdevWm46zbt06ftVma8O69RvZuOsYm04G4RpawFM5aH7BbRRT2V8qzYtNMPgV54B03oiHICAICAJ1gcArFRtG04pgxWQkhOF36gxXtm8n8O4ZvG8dYP/iFSz7aDjzuvRi3ZKZLHDcT7+tdxh1KJ4LyVmkJl0i1qk/u4e/Rc/efWlkdYSvPQsJf6pGJlOhlclQVNUglzZZtWmTVVZTUVFBTU0VMqUcmUZrGlD420HXjiPQ67Smhck0Gg2/f9OikZZ+19fe0/8lvkkx5eTkkJ6eLjbB4BedA9L5Ul5WZhoL8kvOMbGPICAICAKvksArFRumYWwGGeV5KaQE3Sf+xi3ynvqT9OgCrjYLWfh5GwZ+0Jb+w+ZgsfES40+nszNCTrLaiLE0kIJLozg5512GDR5AJ+vjzL1WTGSpHuUv/oPt147TeJWof5tto05P6MNQduzYwaxZs7CyshKbYPCT58Ds2bNZt8GG615XqamRmVby/W1nn/iWICAICAJ/DIFXLDZMLRDRKapRFJcgy8tDq4miKOIIbitHMfaLhjT92wAajXZixIlYDkcpeFxdO77CkB9I6qnxHJ/VkJkTRjNukwd29+UkyAzPehD8MQB+3IpUeVCjU5ShLM2lIieD/PQMcrKzyf4dW1ZuLjnF5ZTI1EiLk/7cXRStSsONG15MnTaNxo0b06JFC1q2bCk2weBHz4GmTZoyaIg5ew/upri42DSz5sfPc/GJICAICAKvnsCrFxsvxaAHXTQF/vYcm9ufHp+14t3PFtFx/QPsolWkfNs9SUZ5qhdBW8ezz7INy6Zbs+p4IGfSIfNZR8iXzL6SF9JU3SJq0v1J8z6M78GtHHV0ZM/u3ez+DZv0vT1Ozuw5cJZ9Vx9w43EhWTKjabrjT7mvVqu5FxCAja0tQ4YMYeTIkWITDH7yHBg6dBjWC6w4e/EURYWFpnEuP3WOic8EAUFAEHjVBF6r2DDqqzAU3iT2/AZsR46jySdjaDz6AEs9swgohyqpgZJR6sSURV7sOc4vmsb6xsOZP9yeLececacMCvVSG/LX8ZBmoyRTdM8BzyV9WNCvCZ07tqBZsyY0adKYpk2b/OJN2v/LLxvTunVH2nW0pvP80yxyT+RurhrVz3T2kjpslhQXk5iYSEREBJGRkWITDH7yHJDOk5jYGLJzsk1jjF7Hb4s4hiAgCAgCP0XgtYkNaT6IQf4UXYILD53HMWf0cN7qtZle63w5H19uausstSEySkt4qx+R7XeYI2PnM+zdWUycfooDAZkkGp4Jkp+K6A/7TOqzkUlxxFG8ds3Efo4ls8YNZsCA/gwaNJhBgwbSf0B/U7XBzMwMcwtzhgyxpH///gwe/PLn5uZm9O/XB3NzSwaPXckIe2/sbmYTmSlHJbVG/ZmH1ORKo1ajUqmQKh1iEwx+6hx4fp5IzcJq28H/zAkmPhYEBAFB4BUTeG1iA4MGbVkClXdWc21Ne0aMsODvE08z5tgTgvOfr+AgXXiLoNiLxMsb2TByNq0armb4gqucjMgjH1D/3CCHPwyYAYOuEnlBDCkR3oT6uOJ/zY3LFy/i7nEFd3cPLl+8xBVPT1wvu+Lq6saVq1e5dOEiHlf+87nnlau4XXbl4oULXLjsyiVPfzxCMwhJr6awXC3aSf9h+RKGBAFBQBAQBOoqgdcnNvQKNPkPyL00gSOzPsZsmAUNl91g3o0SYkulVTylhx6jMRNSjxDiMoupI8fzUVt7LJd7czYst3YRrtcmNp4N3jTowaCtXVvjmZe//0maJWP4Db0/fv+RhQVBQBAQBAQBQeB1E3h9YkMnQ5PjR9aZgRya8S5jJ4xgwK4H2D+UkVL9LGyjHn1NJvqYnfg7jGdE14n8s89GBm/1xzW+DJlp9YrXjUgcTxAQBAQBQUAQEAR+D4HXJDaMoHuKMuk8wct6sL5nU0YMncNop3D2RqvIkD8LwaBFXxSBMmgt3luGM3TYdD6cfpyJZ1PwydaKSsDvybT4riAgCAgCgoAg8CcReE1iQ41eFk/B/V2cnNyFKc27MNRyDUvPx3ApW0uBtjZ6o06JJuMG2Zencmplb0ZOmUu3zf6suVdBeLm0z5vfpOtPyrM4rCAgCAgCgoAg8KcReE1iQ4amPJxUn504LfyaaT2nMW/OIU6EpBOm0PH8LopBW4ks9hjBDv1xGNuK8ZPnMel4Aoceq0k2VT+E2PjTzhRxYEFAEBAEBAFB4DcSeE1iowq9MomyxEB8993Fc7MvPudjeJQpo1Br4FlhA726iOL72/Gc0oE1LRozxXIe1u7ZnEvTkyUXQuM35lh8TRAQBAQBQUAQ+FMJvCaxocOoU6CtqaIir4zinArKShQo1AZ0xuc3R1To1E/Ium3P8YFNWfLRF8wftoHN/mXcLIeCn29H8aeCrH8H14Ku0pSzspJSCouKTK2vpfbXxcVFlJSUUlJWSXF5NRU1KpRqPdLEnR/vv65FqlxVV5VRUlJCUZFk5/n2zF55JSUVVVTKntmTcv4aZx/VvxyKiAQBQUAQqBsEXpPYeHG4xQ9VKKSrSgmaikAiTtmyvkcnxn7ehxnTDrM3XEaYAqrqBq+/jhfVycgfnyX62n7OHnHCaa8TTk572Ss973Viv/Nhjhy+wPFL3niHJRFTJKNQD9ofFAdGqE6gJv4sYZ5OnHbZ88yeU609JycOOB/G5fBlDp67x42HKcQU1VD0o/b+OmkQkQoCgoAgUB8IvD6x8ZO0pL+i05GnXeTGpnl83X4EbdssYujq6xx/oiJNDToxOPQnCf5hHxp16FVl1MSeJv6gBbunf8nQPq1o36E97dt3MG3t2rfhq1Yd6dLWgt6WVsxx9ODoo3xidCA3Sn1gnz+MSM3cjKqnyGKOEnvAgh1TmzOkdyvaf9We9h1q7bWX7LXswFetBtFhgC1zdt3kZGwBsd+z99yueBYEBAFBQBB4kwjUEbGhwVAVQ3HQTi7OH06PZhN4u+MOLHZF4FuufVbV+M8l7E0C/Cb5atRr0VelUZXoTtjJuTjNbM1Us6Z07daJ9l170L1bd7pJW5dWtGrUkA//+SnvvmNGi+H7sXFN5bECqqX1bZ4FbdTLMJRFU5VwidATc9g5vTXDerakY5fOdOrei169epnsde/SimYfv8O//99/8+47FvSxOsOOO3nEy1629yaxFL4KAoKAICAI/IdAHREbCoxlQRTfXsnJpZa0M7PmrbEnGX8kjhC5jufNzP/jtvjpVRAwqvJQhG8n5PDXbJo7kIFDxzFo5npW7bvIscvXcHO9hOvl0/icX4fLvIl8/bEljf57EmYzz7MrMJc4Lci+rWwY0Velowi15+Hh8Wyca4H5kLGYTd/Iyn0XOe56DXe3y8/s2XJo9njGvmdOo/+ZhOUCV1zCC0jnu5WSVxG1sCkICAKCgCDwqgnUEbGhhvJIKkN24HlsObPW7WOU4z0c/J+SpNYjrQMrHq+agApNwQPSjgzj1LRPGGfZmzbTdjH5SDS3UiopqlFQUyUN8CzBUBlG7u1LXJ6/j8Xmzjg4B+GdUkYWoDKJDen2iRx1ThBpLsPYN+Ejhpub03G6C1OPxuCbUklxjYJqk71iDJWh5Ny6xKX5+1lssQ975yB808qkVXKe2XvVsQv7goAgIAgIAq+SQN0QG9KgQlkBqrwgHifexvdeBDdCnhJcoKFMb+T5yimvEsRf2bbpBpWuGFmiG/5LOmPf+R8M7T+IXnZebAnXkaH6Lh0FmqqnFEQ+4ZFrLI9Cc8gqk6MA08JyRnSgzacm7iL+izuxuMX/R/9eXzN4ayz2EXpyf8RefsQTIi/H8iis1p7UWkX3baXkuz6I14KAICAICAJvCoG6ITZMtKQ5sAYMBj16vR6t3oDa8OJgwzcF6Zvnp2mUhTGXmsTTXJvYmdUffsLIrpMZv8ef40laCtQ/EJMkAgxGDHoDeo20Qu6LY2qMoE6lPNQZzwkdWflBQ8b2W8C04wmcSNZR+oOlKiNGyZZKj15twKB/0d4PHF+8JQgIAoKAIPDGEKhDYuONYVYvHdUb8ylJOcedBV+xtMXf6N3BjN4r3FkfrCDxh8TGT1CorZRkURN/GL/5HVja/G/06TSYvmtusOGBkswfFBs/YVB8JAgIAoKAIPBGExBi441O3x/nvIEqqgrvEH9gLNstP6B/29Y0sljNkG2BnA5J53F+KYXVSmSG503YfubYxjJUOTeI2z/GZK9fm9Z8YbGKoY5BXHyYTvIzezW/1N7PHE58LAgIAoKAIFB3CQixUXdz85o902FQpVEW5sRt20HM7dGCL77oSuNeCxhvvZXNLlc4HZLKg2IdVbpf4JpRg74ykdKQnXivtWBWt+Y0+qIbjXsvZOx8RzYe8eRMSBrhJVqqf4m9X3BIsYsgIAgIAoJA3SQgxEbdzMuf4JUBo7ESgzqM3IBdnLOyZPwnDfn07YZ8/Pd3adZtJH02XWHp7TJCC/WofnZIhRH0pRjKfHh8cwuHZw781t4///UFH/eYjLmdB9vvFhBTokP5vDnHnxC5OKQgIAgIAoLAqyUgxMar5fuGWZdKDKXIc4N5cm0v51dOYna/djRv8D/8818f8VaHCTRf7M4az1QCM+WUq4ym2SI/HqQW9PlUZQXy2NOJs8smMKFDUwY0/DuNP/yMf3eYSPulrqy7nkpgVq09sRbKj9MUnwgCgoAg8KYSEGLjTc3cK/Nbup1ShrI4lbyoWwQeWYTD5EZYNv8/fNqgIQ06jaP70vPYXM/hXj4of3bWiB6jqhxFSSpZEd747J6L8/gvGPvl/6Xhu5/y765T6L78Ipu8cwgrAc3P2ntlgQvDgoAgIAgIAq+IgBAbrwhs/TCrg4KbFHtPxnXBF0xu+XdafvEeDfsvpY99KLseaSlR/ZrpyRoo9CLx3FSOTGnE5Nb/pEmzz/lgwBoG7YzgeKKOUvWvsVc/KIsoBAFBQBCo7wSE2KjvGf5d8RkwGsowlt0j7+pSLs1oyohu7/Jxt1G0nH+eFV4FJFb/mg6vOoyGpxhK/cn1WMLF6U0Y3vVdGvS0otkiL1bdLOBJjR7t7/JZfFkQEAQEAUGgrhEQYqOuZaTO+SON3DSgSb5G4gEztk96l1Z9hvHBtGNMupBOfNWvERtScNK4ECWaZHcSD5jjOPFdvuw7lvemn2bSxQweV9VjsWHUYdQUoyh4RHZiEFFRYTyMTSUqt4I8hRapsaromFrnfgGEQ4KAIPAHEBBi4w+A+FcwYSx8QL7raE7Pf4+vLCfTYM5lxl/OIqVK/5vayWuyfcg8NYjT896j/eBJNLRyxepKHplKw2+y90bkQK9EXxJOceBGfHZOY8v8RcxffQxHtyh8s6p5Cmil1v3iIQgIAoJAPSMgxEY9S+gvD0dqN67FqK1Co5JTrdJSpf2xdWh0aDKukXTYAqeJb9N+1Hya2NxliX85+XI9tZfH5/aqTfZqftKekpq400Rs68yuyQ1oNWYZHTYGsz242rQWzssxGNFrNKgqlcjLVKi1xlc2YcVoNKBTqlCUKlBUa9H+0dNxtTK0mbfIdx/L6QmfM6rhl7RoNZcJ665zLLqYJCE2Xk69eCUICAL1hoAQG/Umlb8uEKNejb4mG33uHVKiA/GJzuBmtoY8fe2Njpet5VEc7MiV6Y2Y2vK/aT/SmlEu4ZxPg0rDs7/En9nT5Uj2gkz2bmVreGr4AXu6BIp8bXGb2ZjR3d+h0RRHhp5M51KagSrNi3/ZSz/LqUhOIvrSA/xOPCIqtYZqxR+tAqRo9WgVpeSHRRPkEsy9G6kkF6pNN31eZvE7XukV6IseUhmyE491w5jdrTOD2s9m5qYbXHhcQp4QG78DrviqICAI1GUCQmzU5ey8St+0VWjz7lHkvRjf/VZs2rmfBacecS7yKQkZOTzNySQ3O4PC7DhyH53Dd9dUbAc0Z2CbToxcfJB1t7LwKwbl87K/ZC/3LkXeizjjMJ8lmw+x6PQjzj+S7GV/a68gO46c8FP4bJ+EjVkLzDp0Y+iKU9j55fOwDFQm8SIplBoMskyU+fcJP3yYUyPWsNXMBocD7vjFZRNfpCC1XEW52siLs2VNtRldOeqqp5TkZ5OTnUl2VgZP8/IoLa9Cpntxf6lKokKpL0GtSKQ0xps7tjs40HspW6Ye5qBbPBHZZTwukpFTraXmpU6n0qKBKpQVZVQVP6UgL4usrAxysjIpyCuitLiaymolCq0GnfGZODKN2XgKZX6E3HRm84pNLB51GOcLYYQXVCCtcvui1HqV6Re2BQFBQBB4nQSE2HidtOvSsdTFKBIuELe9N3vGN2ZQn740G7iEYQs2snqDHVsdtrBlyybsN67Abt5QFo7sw6jB4xgzaxvbzoRzO6madDXon4sNdT6KhJPEbO/NuiFN6dF1AM0H1dpbs9GOrfZbsN+yke2bF2NvPYQFI/syavB4xs50xPFMGHdTqsmXeoAZ9UAVuqo4CqIu4ntsNfaDhzLpnTb0+VdruvQdz+RvtvLNsZvs9M/EJ0dL5YsLu2kKqE64QpTbTs7t2oz9Fjs22Nmxfc8hTnsE4J8uI1drpPYrOozGAqqK7pMQeJDzW6yZ8VV/LP/WjH4NezF41DKsd55nzaUwjoQXE1HyghQw1qAtfkT23VP4H9vGIcdNbLSzY5P9Vhx3H8H59G3O3nnC3dQK8lW6ZzNs9Bh1xVB1l/BgN2x2eTBx0W0OeCWSVFxdl84O4YsgIAgIAn8oASE2/lCcb5AxVQE1MWcItO2DTa936fLxu/yrQRM++KwRzVu1ol27drRu04ZmXzan1acf0qmrBUOXurDRI4n7T6opk+teGshpVGRR9egA99f2YE2vt+n4cYNae583Ntlr264dbdq2pl2rz2nz2Xt07DqIYcuOsNkzmQfJkj296ZaF0ShNfM1D+fQGMRdXsGFMZwa//x6f/e+/8T///Rb/+HdTPmjSiaajV2HmFMq2cBW5ptsqegzKUmQZvkQemc2+KZ34uksL2kgxtGpFh+4DGDJ7EyuvpuFdpKHQpBs0GA1PqIw7hrf9RGZ1bcaH/3yHv/+ff/LW//0HH77fiE96T6TlghNMvpCKa7o0LkUHRj3a0gQKg5zxtRuC7ZA2mHdoSfM2bWnRtj1fdjSj9bBvMLPxZK1XLo8qa2eaYNBgrEmF9LMEXj/K3J2edLIPxe5WJkn5Ul1DPAQBQUAQqJ8EhNion3n9+ag0pcjSb3H/5HLOLxjOyuH9GWgxgP79+39v62M+mNELt7HR7Qn38rWUaKXJsC/8lS+NeFCUUPH4OnFHZnFwXn/mDOvNIPMfs2fJ6IXb2XQ1ifsyPZUvmKoVGwUoc66ScGoue0e2YGiL9/mkaVveaTeEdl9Z0sdsOL1m2zFkfzi7H6nIVcow1CRRGO1B8OmVHFg4GOuRfbC0GEDvPn0w796Wnp1a02HgOPo73MY2oIKHxdIoDUlsJFMZfYC7y81Z2/Qdujb6kHdb9qZBB0ta9LCk/7AJdFt+EmvPbHwKjOgVxaiehpMe4IL3njnYT+nLGIuu9OvXG7N+fbDo1poWzdrzVrspfDTpBJNOpxBWpqmtbEhjNorDMMTsJuCMLUscj2FxNhPniEoyKkR3kZ8/acUegoAg8KYSEGLjTc3c7/XboEZb/ZSilAiSw4J4eM8PH99b3L59i1vf2bxv3+ZeRBzxBTWU6vjBpltGgxpNdR5lySEkhN7lYaA/AXf9ue1z+3v2bt6+zd2IROKK1JRK67W9FIukPDRoKlMoDDlJ0LaxrJoxEvNptgxa486mk3e54RPAvbBYApLKSCgzoJTnURl9lpD909k3fyDLreZibXecTeeC8Lp2hfuX7Di5ZSaTp8/hi2kHGbgrjAtxlchMfS1q0ObdJe3CCs4tMGP6pIn0nevMhK3eOLkGcvdeIHcepRGSrSSrWoOhPI50T1s81w3BwXoUC9dvZcF+Lw5e9iHwyhHuucxj6+IpdBi7irdnX2bq+SwSy5/d59HKTANyK/1tuXtyLQ7H3FniX8OlNC158lcx6PUlsOKFICAICAJ/GgEhNv409H/+gY0GPQaNGpVGi0KlRqFUolT9wKaQo9ZIMzMM/PglURIJevRaDWqNFrVGh1ajqbX3XbsKOSqt1iRavlsheU7FoCpHmX6LgqvWXHBexppDV1nvU4p/gZpKlTS4Q4dOb0CrV0N1DGm37DixrB/LJg5k7vrDOPhmcK8YFLIaKLlHTsBe9jhspMHX++lo48eRsAKqTB4D1UnII5yIPjWdvbs3sexMJPsiaoit1KHTajHoDGj0elSqEuSZvgTaj2fn151YOHcmK8495HiigieVBoylT1CFORDuMhd9vAD7AAAgAElEQVQrm+203/KQ1X7l5MlqqRnUlchSPEm7MJuru+ez44QHzrF6gsuh4mXF9RyDeBYEBAFBoF4QEGKjXqSxHgahLkWd4cXTK1b4nl3Lcb8HnM+BVGl66Lfh6sFQAMW3CD2/no2zJzF9/kpWX4zEK09NxfP9ZA+piTzMxQPbeW/ueXpsfcjpqBLT7A9pF31FCjVh+0i+OAePi7txCS/gVgUUPv++6VmGQRFP4aOznFs5kyUTJzJn3V72PywnVoWp+yfV6ZT7rSb+wCh27d3HbLd8jidqKZdag0p+K4rIj7hAyPZJHF87gx3HL3Ix00iyRuqpKqai1FIS/woCgkB9JCDERn3M6psekwEM8kIKo65zdb0VR3Zu4czdSO5WQK4eVGoZWqmCghKDJoKqxGP47drB6slHGOtwlwvxlRSYFIk0tbUC3ZNjpJyaz+5vVtBkxQ1GnsnmRobaNOrEaNRRnR5J5OntXLC1xuWIC24JRUQqoNSgR6eqRm3qFVKErtKXvKC92DtsZ9TKM1gfi+Z+kR7THRBdCdUJHtzfNpRTy8zYduA4e8Pl3C/WUyWXnFGhrs4g9dYZrsxfgctyG455XMc730CKFiq1BjRqA8bns3ve9BwK/wUBQUAQeIGAEBsvwBA//vkEai+2cuSFMcReOsKhkfPZs8IZt8AU4lRQWppLRUICBTlPyVOXIqsJojpyOye2bKbP+JP0tAvnRJKG0m9DSSbv8mwuTO/AnGHjMdvgy5q7FYSVSTvoMRpKKY7zw2ejHU4jl3DQ8QJ+GXLSlVoq8tMpj0sgt6KCEk0WiiJP8nw2Yr14O+3nujPhRCqRNZKdapAFk3htO6uGj2X0yKl8s+8KV1IVxCoUZBdWU1FZQEVFHLH3r3N4wX4O2BziRuBtYhQFpMh1ZBQrKSiqQqXWv7IOqd8iET8IAoKAIPCaCQix8ZqBi8P9NIFasVFMdd59Hh5yZnObWdj1/gZnB1cuBMXhdy+IkFuBRDxOIUlVSpU8mqpHzpzYupzeo1bTYfZhbM4/4GZoAvExocTcP835hf1Z1akN08ytWXkmikuZKrJMlQ8tRkMGOWGXuGS1krWt57Fp9kEOXX7AlaBIAvwDCfN9wKOCArLVuVQX3CLXazXWVstoOWwbA5Z4cMI3hujHISQEHeOCnTUWzQfTrP0Uvl5+gCO3I7melMODlBKyinOpKA8jOeQcLrN3snnCRvbu3suNRw/xSSrmQVIlqVmVqFRSdeOnGYlPBQFBQBB40wgIsfGmZaye+1t7oS1AXhBI2JEd2Hw+kIV/78mUTuMYt3AjCxzP43QxkFuPs0lRy5DrC6hJ8+TOkRUsmzCY/n0HMWz8fGZYr2DJQmuWz5zANIshTB9gxYZl57gaU0SCWo+pIIEkNlLJDj3J+RkzWfy+BVO/msGYsYuYvHInq/Z7csIrggf5ZTzVViAvC6Pwrh32SybSt9Nw2reZxNjpy1m5wZENm+xYNGMmg7/swldf9KV//+lM/2YPa88Gczm2hJTKEmQVD3kasJOzY6dj1XQgo3pNYqHDOXZ4J3IjroL0QhU6nVAa9fwUF+EJAn9JAkJs/CXTXteDrkZZHETC+ZU4f9WQMf94mxZvfcTHHfvQ3nofiy8+5maqghKNtEqqFuSpFN7fj7eNGSu6vk37Jg1p+HkjGn3xOc2//JLeMxxYdjKUa7ElPJXpUBqMz2bVSLdR8qlIuoz/2pHYfvYW/f/2Hp9//Dmfmk+h/wY3tvo9Jb5Yi9Kow6DNRZPpyvX105jXsjkd//sdGjX6gkZ9xtFsylYGLNjK5kl9WfVVEywad6Z5dyuG2lzieGwlaVoVSlk0uYF7uDC8DZPf+YTmHwyk9eitLDkfj1+umkppjKgoa9T1k1P4JwgIAr+BgBAbvwGa+MqrJqBAXZVNXtgN7u205qj1XJZPnszEBQuYf8QP54gywsuMKKVmniZX5MhyAkm9YYfPjrnYzhrJ1IkjmDJjInOtrFh7/A7nEipI1Bh5uXAg3bKoRJn/kNTru3BbN4PFM2cxe+YMZq7fw2q3KK5lqMhXPVsN16jAUBVP8o3DXLFZwebJ05kyYwJTv9nKjF3XsTlzixtujlx3nMjOedYsmneYTQfv4ftUZprZolUWURLjSoTLUg4sXMaCCY4snX+IY77JRFVonlVbXjVbYV8QEAQEgddPQIiN189cHPFnCejQa1UoyospSY0g61E4UcFBBDx8wMPUQhIqdLVdTF+446CTemAUxFOaGkFcsC/BAT4EBgfw8OFDotKLyZQbfuBibkRaJUWvKEVe8IScxFAehIUSEvKAkOhEInMqyVOC6tvjGE0LxMkLUimIjyYh5CGBwfe4HxFHcEIejzILeFr4hILkuySFPiDifgoxCQU8VWlNU1sNOg2qsnQqMiNJiYohLCCRRwFxpOZVUKqR+pmKhyAgCAgC9ZOAEBv1M68iKkFAEBAEBAFBoM4QEGKjzqRCOCIICAKCgCAgCNRPAkJs1M+8iqgEAUFAEBAEBIE6Q0CIjTqTCuGIICAICAKCgCBQPwkIsVE/8yqiEgQEAUFAEBAE6gwBITbqTCqEI4KAICAICAKCQP0kIMRG/cyriEoQEAQEAUFAEKgzBITYqDOpEI4IAoKAICAICAL1k4AQG/UzryIqQUAQEAQEAUGgzhAQYqPOpEI4IggIAoKAICAI1E8CQmzUz7yKqAQBQUAQEAQEgTpDQIiNOpMK4YggIAgIAoKAIFA/CQixUT/zKqISBAQBQUAQEATqDAEhNupMKoQjgoAgIAgIAoJA/SQgxEb9zKuIShAQBAQBQUAQqDMEhNioM6kQjggCgoAgIAgIAvWTgBAb9TOvIipBQBAQBAQBQaDOEBBio86kQjgiCAgCgoAgIAjUTwJCbNTPvIqoBAFBQBAQBASBOkNAiI06kwrhiCAgCAgCgoAgUD8JCLFRP/MqohIEBAFBQBAQBOoMASE26kwqhCOCgCAgCAgCgkD9JCDERv3Mq4hKEBAEBAFBQBCoMwSE2KgzqRCOCAKCgCAgCAgC9ZOAEBv1M68iKkFAEBAEBAFBoM4QEGKjzqRCOCIICAKCgCAgCNRPAkJs1M+8iqgEAUFAEBAEBIE6Q0CIjTqTCuGIICAICAKCgCBQPwkIsVE/8yqiEgQEAUFAEBAE6gwBITbqTCqEI4KAICAICAKCQP0kIMRG/cyriEoQEAQEAUFAEKgzBITYqDOpEI4IAoKAICAICAL1k4AQG/UzryIqQUAQEAQEAUGgzhAQYqPOpEI4IggIAoKAICAI1E8CQmzUz7yKqAQBQUAQEAQEgTpDQIiNOpMK4YggIAgIAoKAIFA/CQixUT/zKqISBAQBQUAQEATqDAEhNupMKoQjgoAgIAgIAoJA/SQgxEb9zKuIShAQBAQBQUAQqDMEhNioM6kQjggCgoAgIAgIAvWTgBAb9TOvvzEqA+iV6DRylIoaZDU11DzbZDIZMrkcmUKFSm9E/4uPoMeoV6FXyVHLZS/ZfG67WqakRqlFoTOiNf5iw79xRyMYtejVClQymSk+mawGmVyJQq1HYwDD9ywbwaDBqJOjUcuQy/7D5XkMLz6bWEm8ZHLkSjUKpRa1RofeYOCVh/c938UbgoAgIAj8+QSE2Pjzc1BHPDBg1FWgLw4jP8WP8GBvbt24gbe3N15eXty8eRMfX3/8gmOIKqihQAuan7106jEaylAVRVMYc5e4O7fx9fbC28sLL29vvKWfvb3wvBXM9dBUArOqyKzRo/7+1f4PYmTEaFRilGVQ9iSEaL9bpvik2O4EPCI0oYSsGgPV3xFTkliiJh1FXiCpcT4E+HrhfeN5DFIcL2+3b/vgI21+d7nzIJa7YZnEpZZSVK1EaTT+LLU/KFhhRhAQBASBOkNAiI06k4o/2RGjAkPhfYq9FnLPaSQbZlowuM8ALCwsMLewwMLcjMFDRzFmngM2l6O4mqsm2+TyT/2trobSULI813HNdgwbvrZk9IABDDQzr7VpYW6yP3DQBPpN287onQ84ElFBuuqHqgt/BB/J10TUSScJObKIjTOGMdDCgp69JzBx2nZ2HA3BO01OmsqI8sXDqUtQJF0lxW0xFzcNZ9EEM4YPMsPc3MLkv8To283cgqHDhzNs9GiGjZ/C6FlrGLnCnY3n4rmbVk6B3ojuRdviZ0FAEBAE/gIEhNj4CyT5J0M06MAgQ10QTe6d3QQ59GTL+MYM6tyIZl+2oEXLlrRq2Ywvm35G4yZf0KZrPwbPP8yq8/F4JFWSqwSVdGfixYMYlOiVBVTnRfDkjgsetn1ZZf4J5i0a0bJFc1q0qLXbsmULWrdsRotGLXj/C0s+7r2JaQ4+nA3NILFMQY1UPfndlQADelU56rJsKtKjSQt2I/SsLXuXjmR43440btmSD5v0pseAFSzfcpvzj6t5rDAgexaPEQOaiiTyfey5u6oDG80b0Lvt5zRp0ZwmLVvS8vnWoiUtWrWgedtmtGzyGZ9+8CEN3vuU95v24O0hOxi+8yEXYsooMPyaW1AvQhU/CwKCgCDw5hIQYuPNzd3v99xowKiuQJ8fRJ6fPd4OI1k3vRfDLPphPuprxs9byNy5Vsy3ms68qUOYNqw9I3o3onufCfSb4sT8gwF4JNeQpjK8XAlQPUWefpO4a3YcWD+NeWM6YNGzAz36DmfUHGtmWs1jnpUVVnNnYz1rPDNG9KXPl1/RuEF/2vdexSS7Kxy8l0lUsY7y33VxlsZIVCDLvEvK9X14OdiwY+5aVi3+htkLlzFhzmImW1kzad43LF5zmH2nwvDLUJCp/k9lw2hUU5MTQ8KZNVye3pKV/b9g1IgRDJtuxSRra+bOnYvV3LkmTlbWc5i3aBITzdrT+8N/0+h//Q/vv92ad8c7MfpYPG5PZFT9bvH0+9MuLAgCgoAg8LoJCLHxuonXoeMZDRr0lckU315F4MbmrPv6E5oOnENXq8PYnA3B/3EWjxMSefIkjpxH7qS7L+Lkkq4M6NSEj1r1oN0EW75xS+RagZqnz+Iy3SQojyb/1hbcl/dk0oBmtOg3mjaTtzF9102uRqQTnZhMUmIiCY9jiY+4zaPrjpy2HsSETxvx3ttmfGzhyMidDzj+qIIc3e+47WCsxqAOJdvbhlNTu/P1p81o8clIvhxnzwTnm5y8l0hCfBrJSemkpOWRlV9FudKA2vB8XIUBo7GGsiephJ04zNmVM9hju5izl725Gf6EB0kpJCQkkJiQQELCE5KS4slI9MfP2RrnAU2wavAu/b4YzvAt99gaISeiCnTGl2pAdehsEK4IAoKAIPDqCAix8erY1lnLtdc7AwZ1AcqkS0RvN2PnqA8Y2K8LjcftZezRJC6nqKnQ6dFotei00oySItQF3iSemYmd5ed0/aIBH3cfidn+aHbFqkiS14Yr1QRqMrx56DgZhzbvYf5OA5r2X07/bSHsDpNRrNSi1Uk2tWi1WjRqBep8f1LOzuPIyMaYNWpEg26LabHQk5XX0knQGdH8FpLaaoxF91GE2OK5aTgzuvWkxQeDaNx7BcMdbrMrvIBImQ6tNEtEp0On06PTGzC8dEtIGlCqoCY/k+R7Dwk640PQJX/ic0so1urR6HSmGKQ4tFojOr0CnTqK5KvfcGRwWya/1xqzYZtZ7pHJjQIoEjrjt2RSfEcQEATqAQEhNupBEn9tCLViQ4leHkex/0YuzW3BnHYN6N7Rkl5rbrEhqJrwar43vdWoSafi/lauW7dmeod/8nmn3ny24gazrxURlC9dSaWtiopkd+6sGYnth/9m6N8+p6OlI+OPp3MhE9Q/5KwqDlnoRgI39GJq15406LKQL+Z5sMLrKSnSdNgf+s6PvPf8eq6vTqE0bD8PnAayanwnOvaZRKOR+xjv6ItrWD4p1Xoqf8TGy2/r0CorqcwvoTC5lLKMCmRaaSTHDzw0T9HnXCLswGxsuw2kzwdT6D3zDDsflBGtAOXLI1t+wIB4SxAQBASB+klAiI36mdefjMpoUhsVaKuCyHZfiNOQzxn9wfv06zCBqcdiOJemIkMjzQh5fumuNWfUVKB8coEox97YDX2Xr3p0462JBxl0OAmPFI1pf6OxEnnGNR5uG41j27cY835LvhrqyJjDiZxNNaD4Ic8UUdQ82EjAOnNm9BrDh/3X03atH9uCKnmq+3UDKo1GHRhLqEy5ToiLFQ6j22LeqxetZ+5k8Kk0TsbLkP0a9WLyVyp3SA04XubxUiiGKgxF/pTfWsDFRX0Z32EMLdptx8w2gHMJNeTovi/eXvq+eCEICAKCQD0mIMRGPU7uj4VWe8ksRlvhQ87Vxezv/Rlj/t4Q805zWOWawLUiDbmm2wnfubjqlOhy/Uk7O4SDMz/Eom9XPhy7EwunGE4nKEyVAiNyKPInx3Uy56b8i1EtP+eT/ovptDmA7aFyKvRSTaD2XoVk3WDUQqEfyS5zcBnQiknt+tN8+mGGHI7j9KNySvU/UkX4weAMpr4elN0l+ZoNByb1ZXSDdrTuvoBhO+5zMAkS9QbUpuNLt0he3H7Q4C9/U5eHKvUIiQe7sX3iB5hbDKH97DPMdX9KUIEW2XdQ/nLDYk9BQBAQBN58AkJsvPk5/NUR1FY2KtFVB5PjsRDnkZ8z7L336dJ4HFN23Wd/jJzHpjEY37lCGpQYy+9SdO1rTi1ojFnvLvx7kD29HB5yKKaKApOMMEJVIpUhOwndbYnDrAEMGWtFnyXnsD6ZiG9oMknJKWSkp5KRnkReWigRXnu5sG40GwZ3Y0bnuUy1v82m+yX4F+jR/lQ14buRG7Toq9PRRO8iZN8Ylgwx47P3Z/Dl8GMsdYnkbmw2abmpZGSkkJ6aQnpasmlLTCsip0iOTKVF+5tmixjRVaeQdd+Jiyu/Ys2AZowet5SxzhHsj9OQVSOJmu86K14LAoKAIPDXISDExl8n19+JtBqdPJxc382cHNuSye/8nQ7vd6H9/HPM9yrGv/Q7vTNM39ZAuQ8FV0dzzOoj+nRtxT8G2NF98wP2R1eQ+2zUBrpytPnBFIccIszNjkv7NrPedgszFtkxf+laVq5ajY3NGmxt1rJ21RpWr/gGmzUrcdhkj8sOVy4FZhKUryVX9dzgd1z/sZd6FbqCh1T5WOGxtiPD+/flH5020XHCfmzs9nHlyDZc963Hbv0aVq9Zjc1aW1autmftVjf2XorCJ6GYYqna8mP2f+D92rpLCbJcP0JOrGHloG5Yth7AGKuD2PkXEVAJNb+8t/sPHEG8JQgIAoLAm09AiI03P4e/MQIFetVjSqOPcW1uf5Y3fJse/2zM231W02dLIM4PCkkpr6KsvJyK8jLKq2SUl+ZTEneWyH192Dr2X3Tt2Jy3BtnTe2soh2OfVzYkd/SgL8VQFUd1pg9P7x3EY9t8Zo8YQMcO7WguNcJq1ZJWrdvTqFl/ugyyYso3h9h9Poig+AyelKgpUf+GaaLaarQZ18k8OYT90z+mV69O/NvSgR5fr2PF7Ek4zerBmqHt6Na+Jc1atqR163Y0bdqDZl9Z0XPKYZaeDONeqYoCjdG0RsovAWs0qkD1iNKIvXhumMrgVsP4st0iJm72wTVNRTa/Y+ruL3FA7CMICAKCwBtAQIiNNyBJr8ZFaS2UInR513h41JrdA7sy7l8t+eCtAXzSfSkjl7mw/ag7p8+c4eyZ05y+4M7ZC5e5tPcb9k9pxqwe/6Jtt258MHYXA/fGciZBQdVzR6XBlFSjVWdSkB3Mo2tbObZhJnO+HkXfvn3p3rMnPXp0p3v33nTuOpweQ60YPWMHtg5euD9MJixXTq5CmkT7K+89aArRJJ3ivk1X1g/4Bz27NOW9AYtpN3INsyZPYevk3qwd2o1BfXrQpUcvenbvSu+2bfmkQU8+ajGd7nMOscojCc90JTmmfuU/d3xpjEgpqlRXsi9bcWLREFp3Xky7iWf55kISwYXSWI3nPTuewxHPgoAgIAj89QgIsfHXy/mziI0YDQr0NVkoky4SdWQe20d2o9/njfnsnUZ80qgDrbr1oVu3bnTq0p9O3cbRs9c0LHqYM77Hpwzo8yGfWZrx9hQXhh5NxiNV/Z8pqvpqjOURlMec5M5FB1Zv2cgMm60s33YI52NuXHbzwPPSBTzOHuWS236Ob17B+rHj+P/Ze+uwKtZ+///3xzfO+Z7zPLvduu0ARARUVAQUCcFusbfd2N2NLaiICbYYiN0gtoCFSkl3x6JWx+t3zcLAdrv32duYdV33tWbNmrnjfd8z855PDm3fl2Ez1rLI7yHHYqTECw/8jzZ20KCTJ1H2aBv+U+0YZ1qZZj9U4cfqjanXfRYDlnixec8u/P3PceL4cXwPH2Gvtxe+bsNwszKme50GmNkNoPXcvSw4E8+NDAUlH1wbSrTqR0iuzebWAmuWdWtJ624r6bgqlE23JSQWaf+QSuaDzYkHiAiICIgIfKEIiGTjC524P99twWhRi06jBGUCkqgjXN82kWU97ejZ3IzmZmaYNGqCeaNGmJo1xdSiI42sBtCiqS0dzStjb1kVww5dqTL2EC4H0zifXG6YoHdULUugOGwXoVuHsGJoN+wGLsRuwSkWnIrmUUoeeYWFFOflUZiTSn7+A9Ivr+b4ZGdGWjTAumEXWrvuYYp/POeTFBQ9C1f+IRmDkINWI31KbrAnhwZbM6r6TzT5P9X44UdnzIZuZ9rJhwSkZpGUV0SBREJ+voTs9FhyHu7k0Yp2rO7QEFuzNtSynUebFTfxjigiT1AIvYPsCP3RaQrQZp/moU9vNgyox0Ana9qP28GUU2mcT9MhUX+4139+HsUaRAREBEQEPn8ERLLx+c/R39BDLRpZCnkR57izay17Vy9k2YLZekPO2bPnMGfWTOYsXM6shW5MHO7CxBbV6GFShUYOPWk08zRjz+ZzPUvopkBgStFk3yL20HT2DLBgWDMrmvVeR6fNkWyL0LxFWlAC6Sd4unsw67s0wO7XptRsPhOHWRdwv5bJU6XemVao+QM4yFFJI0m9vgHf7k0Y98v3WP9gTu3GS+iyMgTvaKnegFXzSj0qkN1BdmcWp+a2xcXCgV+quFJ79BmWBOeQRnkiuLc1LDjQqqWRlN7dwJ4pbeltZUazVr3osuQUWx4VE6EQAph9qM9vq1ncJyIgIiAi8PUhIJKNr29OP21EOi1aZRmywizysjNJTU0lOSWZrMxMsjJzyM2OIz3mPLf2zWRfZzOGG9SkuU0verkFsjq4mMfFQrMa0GUiiTlK0LweLDaqQj9ze7rMPsrCa/kES97x8C5LQvpgI6Hr2uFq14o6VQdi5LwJ1z1h3CrTUqD3EPnQg1t4+EeRfnMjvr2aMLlKZTrUa4/t+FPMvpTPjTwQnFte/ajQ6WLQRW/lxqb+jGznxK81J1Jv0DEWXEknBpC9xeaivCfZKHNOknBoDDPbOdOgSg+qNXOj95aHnMiU692A1SLZeBVu8ZeIgIjAN4uASDa+2al/x8AF0qHVotFo9EXYLg91UYRSEsjTA+NZZN0Ex/9ogbXpXEYcSuZguppyLYoKdPEU3PXg1Cgbxvz0M8512jN81Xl2RpcRIQT3fGuz2ZB1goQjY5nTuQWGNftTzWod/dfd4maZVq/OUL/1vIo7tWhlyUjubiZwalPmWPyAY2NHbOZfZ05QCffyhWNfb12Jjlg0yUd4uMOVOR076smGUfc9LDobz1OgRPe2oGI6NEWPkNxaQejC1vRt7UAVixEYDfZh/plk7kpU5Snq36GCqdhrcVtEQERAROBbQEAkG9/CLP/ZMWqlUBBKzu01nFzciwGGHWj86xja9PdlwwMpD2Q8U48IsoMYCm6t4NjoZgyt/hP2tR3pN/+YPg7HE6XgzvqWzmgT0CbtInrPQH2cCqPq/als5U639SFcf0Y2tAjxvmWopSUoZWUoVEqUWi3qCkExdMps5E/3cM/NAbf2VXBsZUv9cUcYfCiVS6mqN3K9oFOiLQtH+mANgW69GNmyLZWrjafZgH2sDEgkCt7wJilX55QiTTxDuPcgtg41wNbOmao9ltN63S32hJeSIX/bIN8ybnGXiICIgIjAN4KASDa+kYn+9GGWoM25TdalxZxf6MCYjs1oUX8UjdrvZuD2x1zN0SDRPpcZyEGXQEHoRk7PtWVc0+9wqGaGTQ8Pxu2L42yGjsK3daQkFMnVuQTMbMXAJjZUrzWYap28Gbg3hgcyHaUoUEkzKUp6RFJoEPeCQwiNjCcqu4hMmfZlTAx1Eeq0s8Ru682mgUY42DWjUse5tHK7w9aHpfqAXa80r5Oiy7xK2sHBbO3XDDsDB342mort5FNsCs4kAZC/okYRbFJkoIsl84YnfpOdGNSqDmZt+2M+w49RZ/K4kadDXoEAvdKe+ENEQERAROAbReArJBtC3g3hoaDTqwP0agCtDq1+3/OH4jc62x817Of4CTDK0ChCyL22jItzrZnY6t8Y1KtN3c6LcF57n1XBUhJLtC+kFYInik6XTVG0Pze3ubC863c4f1eJWlVG0nToeWYH5vFIqSmPn/FijpTIE08T6TmYjbYNsfzRiu+bTcZs5gWWXSvS50aBDIqSggg7uAG/2cOZPGke49cdYeOVGK5lqSl8rmPRKtDk3qXw4mT2TbWkjZUJPzdqj8HQvUw+kaa3GZFrhD4K8gkdWnkGiggfbkxxZoJRA+pWascPHVZhvzqEfeHFemmNEL785UeNTpsOGSd4sHMS8xxbY/GDDQ17zMfF+wE7oiCl7CUeL88Tt0QERAREBL5tBL4isiEQDDmo8yjJTSIuKpzQ0FDu3g3lzoMo7oWn8zRRQqJES7H6j4Wk/iaWiE6DTlWKtjSVgqwnREeHce/OVSLOLefYop5M6GiMVeM6NHEcSC+306y+nsPNHB1STcWHsUBQNGiygsm4vIRTM+wZXrcmzf7VHMPGE3GefQjvqze5ee8uD+7d59CnzgMAACAASURBVN69UMJCAgjZ7caukV0Y1aQZbeq5YDziIL2OpHIsSYdaJ7jUJpDzaCeX53djccMamFU1om6nOfTeGc2BOA1ZymczpFOhK41DG7efsF2jWNzLhqa1bDBs5EqXSbtYd/wql67dIST0HmEP7vAw6BjXPaazxqIJHX4ypV6TQVjM8GNGQA539TYer5FTbRnaoutoH7hxfHFbOjRpTNVfh2MzbC/LryRxTwmSP5Q47ptYWeIgRQREBEQE+IrIhmCcmAKZATw+txnP5TMZMWIko0ePYtTY2YxZsJ1Ze2/iHZJNuET9Fs+Eb3s16NRSNIVRKKMPEnp4Fu6LxzJq1FjG9B1A9y6/06X3cIaMn8WcNfvxuZbAnSwVOe8y+FSkI0++QtzJVfiOacNos5q0qmJEk4btaDdgCENGjWbsmDGMHjWSkUP6M9KlI33a9aBz+0kMHLOd6Qcfsy+ylGjBw0WnAGLJvreRE1NaMqTG/+an//Vvvm88Eqfl99gQpnwW7VOYPyEqqpCM5AkFYQe46jmReR3t6GjZkuatO9Gq51D6jZzIyDHjGD1yGCMG9GSQcytsGjjQwGokrSZ4M+d0LOeTFeQIzb7+UUlQJx4k82h33Mc2wNzGlu/sVuHsFsLBiGJ9BNU/nL3+9TbE3yICIgIiAl8hAl8B2RDcLTWoVXmU5N0i/cY6Di8bwID2LahtaISxsSENDBpRu0l3DPqs4veNNznyKI9UmfZNg8GvcII/dkg6VTHqrNsUXV/EmfmtGdm2PsYNm1HLxIU6nVbRf8UZDl55zL3wJJLyFUjU8G7XTiVaVSGy9PukX1iG7/jmTG9ciQ6//ka1OobUq29MgwYNqF+/PnXq1qWBRQusu0+lz4JzrDwXz61ECVmlSqRqbbm0ingKwr25tKw7Y5vXxbyuMWYdptPP4wHbnyhIr2CQqfcd0ZaiKY0lP/wowV7DWTHEGucWRtQyqk89s2bUN2mIoYEBdeoaUNukKVU7zqDpvJNMPZ1ASJaKPJlgePqqxEaPo1KCMmovsd5OrHNtim3/ERjMOsuIU9ncyBINNT52rYnHiQiICHx7CHzhZKM8iBTqTArTHxJy5TB+nnNwmzSY/r170LJDezp3sKettQVmtSyoWqUr9n02snDffQKSisszfL6ik//2FsCLEetkqAvDybjtxTX3oSwb1p7OXbrRpu90Oi27wKpruUTp086/OOPDGzoluoKHpJxdTOCiPqwd2JlOHTvQrn0HOnQQSnv9d7e+Yxm58ihrr2dzK1eLtMJzW6cTDDIykWVd4OnxVRwaPp2F48YzZcN+1lzL5laOhqK3urgoQBmDOnY/tzfPZtWYXgxwcaBjhw6079CBju3b0b5Td9r0m0W3lYHMDcwnIPsDQ1KVokq+RO7FuZzbMo35HnsYeyyDvbFKkvW5VD5wvvi3iICIgIjAN4rAF042hDffXFDcJzXSlwM71zF3hA/TZ+1g9e4jHA66SkDgac7tXsiaQU70rmNC75Z9cF17hp3hRURoQCGSjfKlr1WjlReiKIglLeoWd68HcunSDS7ffMjtyAxi8uUvE6199MWiA20xZVlPyYi4TXhwIDeCLhNw+RKXLpWXy5cuEXAthFtR6URKNBSqX41rUW7MKUOryKQsI5K0+yFEPrjP4/hkYguk5Mp1qN4ihNB3UfAcUSZTEHuf8DvXCAoKQGhPaDsg4DJXgq5x+dYjLkcV8CBfQ84HUsHrtGrUJVkU5YaQHB/Mk6g4wrNLSSvTIP3AuR8NmXigiICIgIjAV4jA10E2Su+R8eQo/vt8WLLoIl4HHnIrKoNCuZwyaRl5MRe56T4UDxsD5jfvzoxV59gcUcYDVblr41c4r398SALp0goqKRVKpZSyMiklJXLKZAqUKjVqIbjXH69VH0hLq9GgUsqRy8uQS0spKy2ltGKRypCqNCgER5i3tiH41mpAq0SjlKJSKlCp1ah1Wl6zT33L2Wq0KhkKqZTSMumLdsvKypBKZZTJFZQodch0+vinbzm/wi49RBpUujIU6jKUSiUaneaFp1OFI8VNEQERAREBEYEKCHzhZOOZGkWahCQ5jEfB9zl39Sn3nkooKH05SkXeEyL3LeJwNzs8O07GY+dtDicpiFSLZOMlSuKWiMDfi4AgtVI/j1Sr0SCQUn3kWu1f7S0mUFihaN9oT2hTq1GXE8a/ZPjPsvg8b/Lt7PkvaUmsRETgS0LgCycb+pAa+pwcwk1LJtchV2iRq3So9K/hwhtxAaUp97jnvYWdv09jw/y9+F99Slihghxdea4O8X7wJS1Zsa9fOgI6VGhVpZQWZpOcmEhSYhLJSUn6beE7MaOA7GIlpWodSn1MlD83Yp2qBJ0sm9L8lBftJSUl8aIkJpKeV0Sh4tPbE1y+ddpStOpsykqLKC5VUCYEnFMJL0R/rv/i2SICXwMCXzzZqDgJFa9p/bauDF3eFTJv7OC0tydL3Q+z9Uw415KKSVXo9MGlKp5TsS5xW0RAROCvR0AI/AaJFMZd5Pp+D1bMmMDMKZOZMGEi413HM23qDOat2M72Mw+4mlqeqffT1Hflfddf39lB5Aat4ornBJZPn8jE8eMZ5zoeV1dXxo+fyJgpy1m+5zL+4blElAgvIJ8wbnU+6rQr5N7aRNh1f84Fh3MpuogkieaVkPqfULN4iojAV4HAV0U2XpkRdQnqnPvk3ljPg6PzOXTIB48LkRyILCayWIv0nfYBr9Qi/hAREBH4qxDQqdHJslCkHSfi+DQ2uDph19QUU/PGmJg1wrRBfRoZ18XC0paeUzaw+EwMJ5OkZMn/uHRAkDSgLkEniSY/aCUBbk4s7G1EW+uGmJs2pIFJQxo0MMHIuCEGDVtg33cqk7ZeZl94KdGlUCoIRQWRxHvFEkK+nhLKSiTkPr1G9IlZXHRrxbp5Y5jqdZYV1wq4k1shnP5fhaNYj4jAF4jAV0k2dKpCtDkhSO7u4OqOWezZ6sa2E5c4+LiYK3k6cp+Ht/4CJ0zssojAl4mAGq0yG2lyEMmHp+M/1Z6R7ZtQp6kdhtbOWNq3xallU5xNfsK09k+YO/Sl3YzDTD8cx81UOQX6qL8fL3LQKXJRZdwm785WLq7px7x+jenqaIp9uza0cWqDk5Mzjg6tsbcyp5V5DSwtrbHtP4fBXjfZfS+XJ/kqfaRhzTvJhhBoJhNZxh2eBBzn1OZZbHBtzuR239GxfVuc5xxi0oUCLueIuXK+zPUq9vqvRuCrJBuavDuUPvQgyn8O69asZMrGc6w4m8TFZBkpKi3Pg0N+/K3rr4ZdrE9E4NtBoPx5nY9CcpOkyys5N7wlc5o2wbnVQCyn7GSE+2HW7TrCkW3rODG3OxO6mWLdyAqj5q60nnAar5vZPCjSUPCRkAnXtS73DgVXlxC0ugfjB7TGtl03HAfNY6qXH/sP+3Hc/zj+vrs54TUd39n2jO5oSH2L5lRxnsKg1ZfYczeP8DIo02fRqdCwXtoh/M5Fln+V+Asr2D+2O2McjGjZ4L8xqvo9tW17Yzv3BDMv5ROYoxUT81WAT9z8dhH4isiGkGBLCFUdgyz6EDGXlnP8wEpW+l5m5fUczqcqKFVL0KgKkShUZMtBIi93W/x2p18cuYjA/zwCQnwSpNEUPd7BrbUuTLYxwKZOS+y6rWD+6QRuZhSRLVUgk6RQHL2Pq+t7Mt26CRY/OFHNfAm91gWz7VExkVJ9QPr3dFhQt8jRyrMpfbCVMA971rnUwNK5KwbDvXDxecLx+BLyigUXbBllZYWU5j9EcmM5ftMscLH4nmr1m2I6wJMRBxLxSxEoxcu4Lzp1KeqiBOQZ94h/dJnb57056zmR5T2t6WpeC8Nf/s1P//E9P1sPxnreGWZdziNAJBvvmS/xr28Jga+HbKhL0ObfRR51gLunN7B79zbcD19m1/0cglLVZBfngPQuktT7hMamEZAkJaxQ0KeK8o1vacGLY/27ERACmJSgTT1H6vGR7Hc1xqG5KQbNR9B1xhkOxynJe3EJqkAZSvr52RxwsaTXD7X45Rc7ag/zYcTxVC5kgvQdkVjKR6VFpy1EJ7lH0qkpHB5Ti1HNv8PSaTSOy2+w8K6KMNXrbrUyyDtL+JaeLG/3E01Na1Cty1Ks1jzA7Z6UNFW5SatQv06WjiLOn/gAd3ZuW8vEpR5Mnr+apdMms2RIZ4a3rEfTyt9Rw7QrNtP89FFpb+eLNht/94oT2/s8EfgHyYbwFqJALS2iKCuLnLR0snKyycotoUCqoTzdhXCjkqMuLUCSk0lKaiqpQsnJIbu4lBJluUpEuFdpC2OQBHvyyPt3Vs8eTv8Zmxi0KZRt1xIJvv+ExDvHiLm8hkvHd7Dp9F02hkr0+lTpnyYbGoQkZsqSPEqyUylITScjNY3UtD9TUklPySAjJY/U/BLyShVIVZ8aVOvzXHhir/5CBHQq/XVUlpdOUVYc6WkppPzZNShcZ2nppGTmkVEopUih4a1R4T84DB0oMpE/3EjYBiuW9a1EI7uOGPbfwrBdT7ktAdkLdxMVOm0SpZE+BM/vwAKzn6lfpTr/1XYRVu6P8HyiJl/zLI7FW9vVoNNkos04zd1t/XFrV4nOtX/BqcdCxu2L4VAapPKSPLyoQhVF1pmZ+I0ypH/rKtTpOJl6cy4x/lIOMWVC5uFnR5YlInuynQf7pzNz4Vzspm6n58qLeJ++yPWDSzg2oSWjTX/C0rAt9hMOMedKAcEi2XgBs7jxbSPwD5INORpFIrlhF7jitRHvJW5s3LyNTbuu4x+WT7QUNDopGkk0OSHHOevjwfyFi1i8eDFLtmxj68WbXEkoIkGpQ6ktRh53hifb+7Cu2y90bl6H2rb9qNHXg8FTVrN41nRWjOnBnD6tmTB2FIM3XWXhTSnX83TI/hTZEG58ZSjyI0gP9uX2riUcXebGmsVLWbhkCYs/tSxdhNu8taxe5MuSIyEcvJdKeJ5UzFT7bV+r7xi9DlTZ5IcH8vjIegK2jmet2wIWLF766etvyRKWLF7EwuVrmO/ph8f5KIISS8lTvqML79st2DgUP6XgykwuzzdgQufaNO88lcYLrjD5WiGJslcf/jqtFF1eECmHRrG3vyEdGxjyc8up1J4VwLSgfNKlOt59yarRqVNQxvoS6NaTKY0qY/d9DZxHuDPnXDIBeSB5I26HDtT5FIduIHh5M5Z2/IVGbVyo53qAYcdSCa1AFnTyHBQJ54g7uwnPrVsZt+Uiyy4kElycRnq4D/eWtGONeQ26m/Siw6RjTAvIF9Uo71sb4n/fFAJ/O9kQ7j1CxD5UeaizbxFxcBKevVoxoF5jWhl1pkXf1YzYeY+DT3NJVcShjTtAsM8UJvZ1wsC4ASZm5pjbtMZp+EKm7ovgQqaWPEkaBaHeXFnagelNatLk50r8+4d6/Ou3phgam9KwYQPM61bGovaPWDv2oJfHdVbfV3O3QPunyQYUURR7lif7x7DX1ZTfHerQrFF9jE0a0rChyScVExMjzBvaYGE9hsbDd+O6P4JLiWVIn8VB/KZWqDjY9yKgE8LL5z8lJWAD5xZ1Y353azpa1KeJiRENPnH9CdeLiUkTTC2706zfGjqvvo5ncB5xwgL8gx+dVosu7wEphybiN6ouk7rXoePYVfT1icbriYZsqWA3VaFSnQZ5TgRZF6dzaVo9xjWtTI2WgzGZdJQ5p1OJLXhf3AoVOk0KpBwjaHVvJjf6FfvvqtPGZTVTjsRzKhNydS9tMMpbFchaHsonO4nc6si636tg0b4v9Ybtpt/OaC4kyvTZh/XHapVopVko8uNIT4knMjmLmLxiZKSTe38bFybbM736L3Sp35OOk/1FslFhWsVNEYG/nWyAkrKsbPLCQ0i6up0At8Gs6dEMFyMjzH5sjmnDgYyevI9tJ4Lxu3uFw37eeK6awtiBHbG3MKOt4c80/O1f1GzagRYzz7DsZhGPktLJuneCO1tmsGng74x0dqJTG3uc2rXH0cEee3sH7G1taOtoh8voBSz2e8ipJCXxCiGJV8U73R9dEMK5JRQnBhJzfDYn5zng2qsF7RxbYdvaHjs7u08q9nataO3QBdvuM3CcfpzFJ2O5nV5ONv5oD8Xjv24EhHgSqsJYckK2c3Pj76zp24bebWxxsLP9pLVXvmZbYyes3/b9cRy3gVE7Q/F9LCFV/sex1GkVkHeD6IMj2TWgFhNbGdB1ggdjjybgmwDZKq0+zNeLmoUQ5oWx5F+ZRdACAya1qUqt1gMxG3+Q2WeSeVQmRPl8cfRrG2p0mgzIOsu9dQNZ2LgqLf9VjebWE+m3LoSt0Vri9EHLXzuNEuRPthHm3pIVvSphaOVMjX5e9N0WxenYMqQVM/0J8TsQDD/UaLU6NPqsxDHkhGzgtGtrJlb5kc4VyIbojfI61uLvbxWBv5lslD+c86KjeHL8KFe2LubEqjnscRvD/MEu9DBwpmPllszpORmPtTuYt+soPVefYNz6faze4M72Ja5s61eX3xv/HwzMLKjSbxMuB1M4GVlIeuJT0kIDCDlxhgsHd3PMdwcHD+9hp/cOtu/Ywbbt29mxay8Hz97iVnQGSaVKfRZTfeCeT559YTwKFIUJFEReJuayD2cO7GCPz052envj/YnFx3sn2332seXgBbwvPeV6TD7ppQo+RootjEfIL6FSKvWJwoRkYWL5sjBQKBSoVCq02hfGDO9doTp5LvLMkHJV3l5P9gpr3tvnk9efft3u3M6OPfvYduoaZ8PSiM4VvLne2423/KlDpy1GlR3Io91D8epcm+EGpnQYspbxh2P03h6Z6lfVKPogWiUxerVLwEIjxnepQy273zEb78uMsymEyoQr7l0fwUC0AEquE+09jk22dWj/r0oY1uxK85G+TD6bSWCunCKZAo1SgVKpQqFQolBmkXtrHdfnWzDP4WdqNGlD1T6b6b/zKeeTFcheGG28rV2BfDwlO3gDZybYMem3n0Sy8TaYxH3fPAJ/K9nQ6YSbZxE5sQ+5c+gQx1a7E3DqICEP/TnnvZk1LYYwplJDXB1smTx9KsPdj9HK/T5j/DM4E5FOYdJ5kva2ZefI6rR3bE7lLotpvSOK7ZFy0vRvXVqUOq0+bbxao0WnUiOImYXsoIIEQyjC/VvIFKoVrNr/lFTj81w7wkMqOyuL6KgoHj58SFhYmFi+MAyEeUtISKC4uPjzXGQf3SshyVkuRYmXuL9uOButjOj+a1PadHFj3J5I/JIh5w01imDjUU42AhcYMr5zbWraDcZs/CFmnEomJF+L4p0cTDA6F3Q9T0m+6ob/yGZMq/kzdb+34tcWs7Cf6c/q4yHcDLnHk7CHPHoUzsOwCO4FX+LOnpkcHtMY1+a/UttuCDWG7GXgrqdcydUhe09qYcHIXTA7zQn14sz41iLZ+Oi1IR74rSHwt5INfeZFjYyynCTibt8j+NgNEiKDyE28wIOja9nQvQNDqzTCpkl7LIYsosPqy0w+lsDeOAUxGjm60hAy/AZyeEQVBna2wmT8LnrvjuNopIzcTxDxfm2TLUg1SkpKOHnyFDNmzKRPnz70799fLF8QBgMGDGD4sGF4bfYiMjLyC1+iWnSaHGRxR3m0bgCbbIz1ZMOpixuueyLxT4VC7WveJXqD0opkow5VHKdgMuEks84mcU8hKGLf9RHIhvBvIcUpQUQfm8vx8Tb0qdqE6t835Wdje1q0d8Glbz8G9u/HgEFDGDByAv1GuDKiT1sGOxnRunkDqtoOofZYX4b5JRNSIBigv6s94X1FIBuRZAd7iJKNd8Mk/iMiwN9MNgSFqQaNQkpZfjEF6fnIyqIoTT1H2I7JrGlpQNNKBvxoOYx6kw4z7HAC5xNKSFKCHBnqkutE7urHjkGGjO7lTI95exh3MpuLiWqK3q3I/R+cZkGNokatVKCQ5FGaEUd2coI+s2RCYiKJn1hSEuNJTEwlLiWPjOwSskrUFKl4Vbf9llEJYvfcnBy2e2+lS7fOGBgYYGxsrC8NGjRALJ83BsJcCXPU1KIps2fN5t69e2+Z5Td36dRyNLJ8FIVpSNJSSE1OIUHInvqJ6y85OYXk5CRSUlJIE1xf8+RIpFpUr1hyvtmPN/eUkw1tqj/Bi3uwtH41elZpTotua/l911O9zUbB6y7db5CN2lRzGEPDCX7MPJ1MaLEOxTttNoQeCMxAg0aZQWlqADGn3fAS7FgaNMC8ugGGdcqviQYN6lO/gQX1TDtibNEFW0tzOllVwsGmHlXbT6He7AuMO59NRIEw7jdH9nxPOdlIIDtkE2fGi2qU57iI3yICryPw95ON13tAAqVxB7ixvB+TDWvx809N+b7jCpw2P2LbEyW5L24s+chyzhO0fBCr27Zicrf+zFx/gNUhZYTkQ9kfvhG+0ZFP2PHM9bUgluz7Z3hwZCPHPD3YtG4dq9euZe0nFo81q1jv4cXaHafYeuwxZ8LyeVqo+qDraznZyMX/5FGmTJtIl86d6dGjBz179hTLF4DB87nq168fGzduJOojJRtCcrOyxKskBPpwaccGvD09cHdf/8nrz93dHQ/3Tbh77mbDvsv4BsYTklhG7ruNJd5x7ZSTDTJPc2dRTxbU+ZVOP5tSp90yOmwOZ2eElgypRq/WfFHBK2TDSK9GqWU3EDPXg+VqFMmHyMbzmgQjzhzK0kMJO7yAvTOGMqtPX37v1o1ePXrQo2d3uncfQKeuE+nWYzgD2jVnsPWPdLGsQZ3Oc2my/BZzbxQRV/Q+75fnko0kckI3i2qU59CL3yICb0HgHyYbKnTqhxTfXYn/rJ60r9+OKtXHYeV6kmVBWYSX8MwtTrhxCKTkGEfGzGChQS9mOE1hlW8gp1IUxOslH28Z3f/4LoEJFaFKPk304SnsGuPEuFbWtGwkZLE0w9zc/JOKmakJTSxtad7JFctRR5l/KIKbKcWUfsD1VVCjyGQykpOTCb5zmwvnzxIYGMiVK1fE8kVg8Hyuggh/Eo6ksPAjVrAOSp6Se30jFxd1ZXpbC7paN8SyiSmmgpv4J6xBMzNTGjWyxtSqHw27r2DImgB8QrKJLvuI7rxyiEA2ciH9FFGbhuBuVZvW3/3Gd5aTsF5+C48HcuKkFYJmCee+QjbKbTZq2Q/GfPwhZp1L5b7yfWqUVxrXSzh02nyUuY9JenidkCsBXL8iYBxIoH49BBEYeIlzp7axb1Y35reqQXtjY8zbTqfL+mA8Hyn1cUDeZx+ql2zoIsgOdhfVKK/DL/4WEaiAwD9KNnSaUjQpx0k/MxXvcX1wNBuJYdeNDN4dzZkUbYU3eUF0cYvc6554d5vEUOP+9Om+lIVHHhFYqCZLCDT63jDGFUb8l24K8lUJJSmBPD02i+OTbZjmYIpTi2Y0s7LGysrq00qLZjS37UCzrtOwHb+beYfCuJb0YbIhDE0gHGq1GsGjQSAecrlcLF8gBirlx3mj6I2uiyPJvrWFoFUDWd/Dlp4OVtjYWNGixaeuP0usbO1p0XYINv22MHRrKAfCCkgR2O4f+gjeKIXoci6SuG8E3j0McK5nwI820zCcG8TM65LyoF4vpJdC5QJ5iqPw6mwCFxkyoXMtzNu50mruZZZeKyRG9ho5+WB/tKBVoVbKUcjLS/k1oUCukCOT5aFMOcW1Nb2YalEDy1+a03rwOqYcj+NMOuTLta/GAXmtvXI1SrIo2XgNF/GniMDrCPyzZEOej+rJNqJ29mTZEGdMWk/CdOwx5gVkE1ZSsavpqPNOE398AQvbD8LaaCx2fb1Zej6BYKkG4f3vNTOziif/D24LBmkyFJI48sIvEHlmG6d3urNziyebvbawZcsnFq/NeG3bhdfeM3ifusvFx1nES5Tvcfn7HxyiWPVnjYBALrXKLCQJt4kNPMStw9vx9dnCtq1b8PrUNejlhdfWHXh5H2X74dv4h6bwOFNK8R9Wo4AQZ0NXHEHWuamcGFuLQY2qU812LLWmnmWMYBNR8ip5EMZD7m2yjo/j/CRjZnQ2x2nQErpvesimB0qyZe9/+P/hyVJHIru/iSNTOtOzvg0GNV3pOcuP7feziFSBXP3+O0s52UgjO9TrtTgbx5h6OY/L2WLW1z88J+IJXyUC/yjZ0EpTKb62gNvLLZjaryn1us+i2eIbrA8tIqGid4kqHmXifp7sm8Awx37UqT2DZn2PsioohUiFRh9Z85+aHX08Qo0MjawYqaSQ/PxccnJzyMn5cyU3N5f8/EIkEinF8vIblt5d958aqNjuZ4uABiUKWRFlhXkUF+chKcgh78+uwaw8crILySssorhUhkL5WqTPj0RDIA9CmO/Se+sJWdGYOfY/YtCiA5UHeNLLJ5LLmTqkFSQbAnlXxx3i4eYebHIxYpiTA12m++B6PAX/JChTCVeBELxLhrIkn5KsFDKFPDC5EjLLyg3F1e8x6HzZbTkaSTj59zZya003Jjs40tBgJPXa72eq90OC0ouR6M1NK3Tu5ckVtoTgI5nk39/G5ekOzK5dia7GPek89QSzrxVxQ8J7gpBVqEbcFBH4yhH4B8mGBnVZJCmHB3Niag0mu5jTauBS2nhHsy1STqrsJfK6gnBkDzbzYPsIXGyGUavuHFr8fpQ1V1PJUP4zCpSXvRO3RAREBN6NQHk4cFJOk+Q3lE1Dq9DYrDb/btafptP92RSmJEWQVugrUKFVJpJ/az17Z7SiV8s6NLbuTcflAawNKeJR6fMU80WoJFFk3/cneM9StnmswePQFfbeL+BGjpZCuSBxfL1HQlydcjWjQGh0klCyr6/g/BwH5rf+CYua9lRq4Y7j6rvseighoey1yKZvVFfegF6NpcpB8nAndxa3ZbV5dT3Z6Dr9NEtCyrivECKeCseW9+mNbr1er/hbROArReCfIxtaKfKs+4TvHsX+EdWZ3KUhXUe6MexoCsdiVORUfN3JvY3k+nIC1vSnW9c+1O69Dsf19/GOUFL4Puutr3TS1sZ+6gAAIABJREFUxGGJCHxZCMhBEkrB7VUELO9If7uqVDVuRI1uCxnpm8jxR1kk5RYhl6RRGnea0O2zmOnckaZ1O9KwyyJc9zzmeIqcVP2ghcd1JtLk4zzeOhLP1sZ0qmWDbSc3Bnk9wSdKTWaFe4f+Oa9VopGXIC2WUFhYQGlSGIXXPLm1vgszu1bD1LAqVW36YzvvJCtDpNzP1VD61vuKQBg0aFWCq3ExMqE+SSFlxTGEn16F7yBLZtf8Bctq7bEfuptpfomcjCoiJ7+A0pJSimRqpGpQv5EM7suaTbG3IgKfgsA/RDZUoEyl5Kk/p+f3Y55lXXq3cKDr7H3MuVxAUJaOIiEKsP6jQBZ/moQjo/CbbY/LwJE0nHyQnvvjORmvem90v+c1iN8iAiIC/xwCgtoDTQay1PNEHp7K6qHmdLD8DUPLVjTot5wBszxZstaLzR4r2bjYlZn9+tDNfhS2HVfRc8FJtgfn8KhES7kZl0A2YimJ2sbtRe2Z8et/YfD//SffmQ2l6eJbrLyrIkn23M5CIAdSdEVPyX5yllsnd7B78wY2r17I0qmjmPB7d3p364ht75H0X7qT9QGRXM9Fn9327Z70QkTUfMoyHhAbcpKAY97s3bIBH6/5LBzViT5mNbD8f/9Nzf+oTq1m/bEZvpxR81ezdtNuPHxvsi0whfNRRWSVqV919/3npkZsWUTgb0PgHyIbUpBHUPTIh/0TXBhp2JLOLUYwxOM828KlPJFBuRZFuLEUIHmwnbvuTngNNaLv4Mk4Lg9g4vkcrqcp+Dj97N+Gp9iQiMAfREArWFE+S+r13NX7D1bxmR9enqZAhUaeQu6jQ9z06s+GoSZ0tanDz0bNqNvIAQtLW1pYWtLMwgorSxecBrozwuMGW68lcT9PRYHmeVA7QeESTWnUDq679WSCYWUa/esHKrccRYtVwax9oNaTjXK1jA6duhBd2kXiTs5l18xODGhrja1lG4xbDqJxzwUMmOvNiqMBnA+LIza3lFyVEKbvXR8FWnUcxVG+XN05Dbfhnelnb0nbVqY0bVCLmr/8zPf/+R2//Md/8kMVA341boqJRWOaOfbGcsh6Oq6+wcJL2UTmqd4blfRdrYv7RQS+ZAT+IbJRDHLhhnGCC6umsKjHFCYNWY/74cvcLFaSVZ5XUe8nD0kU3FxM4OyGzG/3G736j2fw9ntseKQmTKIV3xC+5NX3zfddjU4r0Uf/LCqV6lWHQiTc96Ti+LIREzxnZDloIrYTtWcMHqPbYmfTkEaNTBFie5g0bISxqQN23ZcwfN1VdoTlkaBPdfhy2OXEJQ1Z2lnu+s5h2ZC2jHXqRb/RXow/GMORJB3Zgs2G/hQdOqUEbfIJkvwmsX9Ka/q2MaNZvU4Yt1mG46IA3C4nEy0vE0xOXzbyli1BHaNDik4dgSJmPzfWu7K4Qys6mxjR2NSUhuaNaNSoMY0bPyuNGtHI3BRz80Y0sG6HaZ+ZOK04x9ygYsILNCLZeAvG4q6vG4F/hGzoBLmFJgtVfgSJQVcIPhBI4Ikwbkbmk6bUIsQOKr/hqkEXQdyZ2Zwaasoqy1q49BvHyD2P8ImFRKnuvT7wX/fUiaP78hHIAeltClKucTc2gQtJKu7mayh+q73Alz9aYQQ6rRrK4siJvcydS7vx9XHHc6MHHh4eeGzwxH3LHnYcvMyZu6lEFmr17t6v0gCBSJSiKY2jKPYKUZcOcOrwIY6evkPgoxxiinWUaSqQDW0p2sJwJI/P8ujMTg7v8mCTpzcr9l9n+81M7mYokb1dZ/IWwNV6NUpJWiQJNy9yba83e1euZKO7O+s9t+O5zQefndtflO1bvfDYsAF3L29WH7qG160MLqWryZZ9xYTyLaiJu0QEBAT+EbKhF4jqFOhUpcgLJJRmSZDkSpFIy0MRC+YaepdSbREoQnnsN5Wt3Rsxuk5DOrgsYppfLKeyIFOjP0qcyU9BQIh/IM9FU5qBRFJAdpGcfCFg0h96rRZk28WUFaWSkRbL0+honjx5wpPHj3kcHknE00SS03PJlav17snPHwHv7q4Qna0EZX4aOUlRxESHldcn1FmhhMckEZmcQ3xeCQXq8mwY767zQ/9oQV2AIieGnJhHxD59Snh4+LP2Huu/o+JSSc2XUSQY972zumfGg2opsrJ0CrISSI+PIy6mvL7HFfr/5EkEEREhRIceJtJvHqf2r8Dj1A3W3VdwIVND4fuTf7yzB1/OH0qUCglFhRnkZiaTmirkYkkhJTWVlPQs0rPyyS9RIHtht/X6yDSglaGTF6KSZJObm01OngRJiVJ/zsslLNAUtf4+oy7JozQ3g+yMZFLS00jIlpBWpKJU9Xrd7/stzLEapUyKTFKIJDODzIREUpKTSU7LIDUji6zMjBclIz1dn18mJTWdxKwiUorU5AsRUAXN2fuaEf8TEfgKEfiHyMbHIKlAp0lGl3ueO5unMc/GCcfKnXAeuovVVzMJlQnWHB9+fH1MS9/iMbrSFKQxp8kJ3kPwzetceJzJ7cxyt8GPe9ETHtKFUBRGTLAvB73XsmjhQubOncOcObOZNXcB85e747n3LGcjcoiSwgcTpuvk6ArukX51G1d2LsHLrby+2XOEOl+WeUu3MH/LOdwvRHE1XUHhOx9KHzGzqjzUKWdJPrOK8+tnsmbFYubNn8fs2eXjmDN3HkvX+eBzLowbyXKy3kk4NOjURagLY0iPOs2VE9vZ5r6GFcuXMn/evFf6P2fOPObNncLCiS4s6tGYUYN7M3DtcWZclb0kG+LT6CMmTzxEREBE4EtB4DMmG6VoFQ+QhW/j1MSpDKs7Eos6c+ky/xJ7nxaSjJAJViQbH7/QhKeXFp1Wg1pRRGHUaaL2jyBgkROrV61mrt8TtkdqiS/Wfpw+WV2CrjAMRfgOTq4dQt+2ltSobYCRUX2MjIwwrFcbYxMzrDqPxXX7bXZHSwlT6FC/k8moUZcmUBCyiYDlrXDrakLPJpbUr18fQyMj/Xd9IyN93UYG9tS2mUqz8cdYdCaJ0Dy5Pm/Mx2Px7EhVKaqMm6SfGMPZyRZMd6iHVVMjjBsYYagfhyH1jQwwt2pL53HuLPKLIjBdRY5gV/HGu6kCFMmoEs/y5NhCFozpgoWFOfXqGWBgaKjvtzAWAR/hu56BIXVqVsW42r9oatOeTvMOs+BqCXdyNZS8fDX/w0MSTxAREBEQEfgcEfh8yYYmF23OCaRXp7JufGcsG/WnbuMNdFx5iyOJReR/jmh+1n0qQ6uKRfI0mLtnfdizbADzXGoxtE0V7AZNpqPHLZbflhJZrH1vCu/yYElqtMVPKA525+FKJxb2NqFli8bUbuKAtWMnHOwdaWNpSCuzXzBr0hzzgR709rzP9ns5JElfrV9veCfPRZ5+k4SgjRxcNogZvczobFUPy2aW5fU5tcPJyRmnNm1wtLWheUNzqldtyW9Gw+g0agduR0O4EpdPpuDk9FExDNQgT0Uef5HYUys4OLMrk7pa0N6uGa2cOuHg1JY2Tm1xdmhNhxZ1sWxSFyunHnSYtJ0RB2I5HZFPapnimcfU80mX642eldF7CN48ghGOjfnl31X48ad6GDdpSisHO5ydnGnTxulFcXRwoI2jI70mLmLB0VBOxis/nuw9b1b8FhEQERAR+AIQ+HzJhiofdeppck+NYeWkLpi2HcUP3ffQeXMEp1Okn/Ym+wVMyF/XRUGS8SxqIkp06nhK4k4R6r2CNYPb0LdFZVoY/Iu6NWti2G0iHTbcZM09FTGCZOOdInxBkiQ4JaeS8/ggV1b0wbOtIX0dW9Fq0Fy6LvVnlY8vu/d4cdRjDNsmWNPXtjG1TPpi1tWdCVvu4J+gIqWCe6EQg0GdFUza5UWcXObMqB5W2Dl1x7HvdIbO38wqn4PsOeiLr+8hfH3343fQg+2zezGuZSNaVGpKXePB2I72YeahcC7FS5FoP0LapcpDEXecFP/RnFxgxYCe7WneYxztpqxn8dbD7DpwiKNHDnFs/2aOrRvKmpF2uNg1xdyyLU0HLmbq4QhOJ6pIUwqGzM/BkoE8CmWkDxcX92NgMysqVW7NzzYjGbRoGx67j3Lw0FGOHjmKr68vhw4dwu/IUY4ePcaJq/e4FZerJxqFKtHo+a+7BsSaRAREBD4XBD5fsqEuRpV5i8yLi9i1eip9pqzGZsE5pp1MJSRHifJzQfAz7YcQ6VCnKkZblEhW9n2ehp/hjv9GfOaMYpKdIU61/wuDX3/i39/Xo3bHGXTbfBfPJ5BQokX1ztwSGn3SL/KE4EyTWd/Dgl4Ghli3GUPvtdfxeqQmPDufvIIUFEnnSDs1jc39m9O8kgk1q/XGfsg+pl+REJSvQ/LsGa2jBNnTwzzc2J01HapiZ2JGvQ7z6LD8OpuvZxOdk09BcRHFxSWUlEpQSIVw1u4EznZiahMDav/Yip9bLsBuURAb7hSQ9UGjYQXa/AfkXJxL0GwT5nf+CVPngZhMPIqrfyLBKRJyi4qRlRWjKEpGGn+CqANTcevVmOY1fqKmmTU288+y8FoxIfnPQ1ELi+AZ2YjaxYUlgxlm2Y16Bq4YDt/LpttZRBWoKS6RIpfJKC4pprS0VL8t/C4TDGiVOuQaHSpRNfiZXlFit0QERAT+DAKfL9nQytEIqaajTxF69QTHTlzB93Q4QTF5ZEmFW7L4eR8COo0STVEs6ihvrvqvZIOHG/OXrWSe22JWTu7H9I7NaV+vFgY/VqFum9l08ghj02Pt+8mGkKq7IJKy24u4vdSWGfaG1DVuiUmvzcw/lshThWBH8/yTgyx+H3cWtGSMwS8Y/t+mVG6yFHvvp2yKkBMn+DcLNiS6TCRh27k6w5m5tavQ/HtLavXxovuBBH3iree1vfKdE0SW/xgOD22Es5ENP7SYjOn08yy5WkiqWrCnePMjrBf9o1ybjiLBj8ebe7Kx/c90rG9Aw67L6bolCp8Y9BmEX54tnJVD6eOdnJ1tzxCzf1PL2JQqAzfSfU88R+KFJGLPV+JLsnHLcwqutiNpWGsBdhPPcDihWFT7vQRV3BIREBH4BhH4fMmGoHvXqtAopUjlUoqkMoqlSmQqTQXR9Tc4Yx85ZJ2qBHXWHWR3luK/fhwDx82gxeQdTD7wAL/Ak1xwH4OXbX0GVzLEwXYCLmtuseFDkg2NFFXaWeJ9u3HI9TeGtDfht66LsF8RzOaHJaSUK26e9bAYdfENUk7NYF/HBnT40Yjv6gyj/qzzjD6Xz00hcpuQfusZ2Qia7sy8ulWwr2mN+ZA9DPPP5KL+mLcMuPAOmRdm4zfTiV5du/FLDzdauV3H+24BOe+RbAgqIJ0ujpJH2zk915Expj/gWLcFbaYeZk5gHjfyqUAeytvVoUCXdp4Yn+5sdvkOhxbmVHJZiY17GJseyCl8obaRgSIKZdQugubNwqXJaH42mkfrCafZESYh9d0+s28ZoLhLREBEQETg60Lg8yUbXxfOf/9oNEIK7VjKIg5x89BGVngeYMKBUHyjEogueETs+cWc6N0A18rGtG3pSu/V1z9MNlRFaBJ8ebzJis1DKtG7hxNmw/Yz7FAqZ9I0+mBsLweqRlMWT2HoRm7OaMyEplWoYdyRyiP30/NACueTynU1aoqQhu/k/vI2rLb6Cec69THpsY6e3okcFtjLGx8diqTjxOwczO6BlnRq05W6g7bTaWsU+6PkFL/T20WQbJSiVT3QJwQ7OtmKIQ1+xKGuDb8vPMa2sEIi1UI68OeSiucN6yAnhNxz47gwszYj2hnwW7vpmMy6wpKg/Apqm5eSjeurpzPMegz16i3EYdJZDsZLRcnGczjFbxEBEYFvEgGRbHy1065DpypDXpBIZsxjwiKSuJNSTIoyFZk6jNTLizja25gxlevj3EogGzc+SDa0ilzKnuwidHlT1vavhkv/3jhPO8v8gEJCCwUgX31Q66QFSMN3EeHZgpU9K9Hc0pZfBmyh4/Zo/GIV+uiQatRok8+Q4juUI6OMGW7bkGY959Bu1VXW38giLScfSWEhkkKJPviYJD+RxEvruDatKx72dnRtPwTneWeZeiaXS2kVbSjenFgdgkfOfQpur+CYqxVDa/+AbQ0bXGYcZkNoPo+E/IBvkA3QSR5TdGMut1c2ZGb3GlS3G4eB6xlmX8ggUaNPM/aKzcbV9WMYad2PejWm0mjEEbYFJxFXWESJpJBCYSwSCZKiEoqlCqQaEOJKvYrcm30X94gIiAiICHzJCIhk40uevU/ou0ZXAsW3iNs/BW/7+oz59VWyEf9OA1EdKlkq6Tc3cWVGc1Z0rUm//i64uAWw8nYxD4uEzrz2yFQVo3q6j9jdbdg8vDptHayo6rKWth5h7I2Qoj9FOK0sibLHe4ncNxqf+f0YMX02/RZsZLr7HnbsPcKRo8fw9/fH39+PU0d8OLJiGjv6jcKt03QmLfRk6ckITj2VkVb6TsvWZ0gp0eliKX68lZNj7Bj23Xc0+6E5JgN2MdQvnTMZUPQ211lZGJJbs7i2uAGTu9Sgmv04jCacYdaFTCI0umfGynJQROvVKOfm9aO7uS3/+WtXvnNcxNCFPuzYd5STx/05duwYJ06c4NS5AC7dieJBppJURbmPzydMp3iKiICIgIjAF4GASDa+iGn6qzopuIWWQfFt4g5Mwec1suHxBCJLtCje+sxWoS6LIiNgCUd7mzPDpDYu9n3ptTyAlXfeTzZidjmyeVh1nO0FsrEOZ48wDkZI9ZIN/cjUZWiKEylLvkZq8G5u+i5ky+KxjOjfB1vb1rSytaV1a1ta2zlg36Y37XosYNSUbWzwPsGZ0Ic8Ts4ls0RJ2Wtc503UhMRn6RRGHuTS9M7M/O3ftP7v3/jZeirNl9xi9V0FiW+eBGWh5Jyegt9II3q1qkz1ln1pMHofU08mEKF9TjZUII9DGenN9bUDGWBlzr//96/8+J+VqN3AgqYtW2Nv15rWrYVii327nvRyXckyv0hOJSv17sBvkLW39UXcJyIgIiAi8AUiIJKNL3DSPr3LFcnGVHwc3pRsxJS8K4KoFHXZPTIuL+RwdzPG1TDA2WIIPZcJZKOIB++RbJSTjWrPJBvr9PYVh2KVFWKlaEBXilaWTF5iEA/8l7Fr3gCGd3XE2NyMBqblWUFNGzbB3MQZqw7T6T17J8uPXiEoJp2EAjkSleBr8qGP4P1SgCovkGjfyXj3MKXvb1WpVLUzVZwW0m35UbZeDeNa6H3uhYYQIpSQO1w7tZOLq3uwecBvODavzS/WwzCdeJx5F7KIk2mf5UsR9CEpqFOPEn54PkuHdqa1uSkW9Y2p38CkfAymZpiYNMTIsBZ16hlSr3knmo/ayhjfaE7EK8hRg0qMHvqhSRT/FxEQEfgCERDJxhc4aZ/e5Q+TjXfH2SgnG5kBizjay4xR1etia/47vZYFsOpO0fvVKLsc2TikOvatbfSSDZcd4fjFy5E8H4iQVKskDklCILcDD+LtuZg5M6YyfOx0hkyZxvgpU5g6ZRJTJ4xnxpCxTBw2ilFjpzJ+gQdrDwXiH5bNo3zNR+RIERJpyUH5lKLI/QRvGcXaThY4VGtC9arW1LXuSsdhUxnpOoHx4yfiOmEmEybNY8ygEczs05RJ3X7GopUZ3zvNpMm8a6y8WUK6TPvM1VYL2nx0JffIeniaS/s9cXdbxMJFi5gxYwZTpkxh8uTJTJwwlilD2zKovSktmpryY9OeNBixg+l+0VzNVJKpervr7nOoxG8RAREBEYEvEQGRbHyJs/bJff4zZEOJujSC9EuLONLTnFE1qmHbqBs9lgWw4nYxD/TM4TU9xnObjV2OrBtUkxbWtvzmso5+XsEcfyp5QTZ0ZamUPtnPo73jWDN9DL0nLcB57iFcvcO4GZvI0/h44uOiSYwKJfX6UW54jMCjjw39W9hi3Wk8gzYE4nW3gDCJML73fwT7T62yBEVBLHmP/HiwfRhr2zelbfWa1KxUjXp1a1O3riB5MKGukR1GDXthYeaEcxMj2tpUxrB9c37stwrrtQ/wuCej4IXrqyA1ESK1SlGW5JOfk0lSSgoJCQkkJiYSHx9PbGwM8bFhFIRu5cGO/iztb0r9erX4vkkPWk/fz+rrWdyU6vQZct8/CvFfEQERARGBLwsBkWx8WfP1J3v7Z8hGGYriECKOzMO3mznDK1ejUe1u2MwLYmaghODct3TtGdkQ1CibhlanjZ21XrLRfsND9kWU6cmGYPGgSr1Emt84Tk+wZqRTH6xG7qaHdyx7IuTIVXJ0WjUajRaN4M4rTyT3tgcX5jkzyaoBDev2wtjFkwFb7nMovFgf9+KtJicVuycwEp0UVWksuY/8OL92JYt+/50BnZ1w6dWLXr166b+79RqIY/eJDOk7kGH2Delk/G8aNW9MjSGeOO+IY/sTDVJVRXqjrxidTotWK/RX80pR63+rQJtA0eNtBC1vz2iLn6lXrw51uy/4/9s786Corj2PT73ZXk3qTcq4b4lBDBqVrRtRBIMGjUhMjGRc4/qMxt2XRBMNL7IYHm4xQZ7IorjGHUPc992oETcSFBEFZWm6aZqmG+imu+9n6jaC6IA61pup7tS5VV19uX3vud/z+f1xv5z7O7/D8OQ7bM2V0D77fVD93oh9QUAQEAQcnoAwGw4fon+kwKebDTlB9GajORuVmMvTuZMWxpYh7kxo1p7ObQbT4ZNtTEor5kRRA+mNstnIkmej9CduYjsGBPrSOjSG4LgMtmZV2xNEJXSoL6/n7MJ3iQ10Zbx/KIPCDvLlMT3nNQ313Ux13hHu75rJlum9Gdh5IO3cZqKctJ3www/IscpluOStvgloqB35lEqqDfcpupnBb+dOcf7Yfg4fPlz3OXLkMEcP7WV/ciRJY/2Y7dacPp0CcZ+UwOhtd9mRC5UvlGNhxVJ0kjubp7B6SGtCvNvz2jvT8Fx4logzBh5UPNMuNdIhcVgQEAQEAcckIMyGY8bl/0hVfbPxl/+RICqbjUx51dcGn3UWrBVZqE9Fkzbei+mvt8a9QxBNxiYRujGXPfdqEyUfSZfMekyZ68hcHcDKCW0ZNLAvLuMSGbnxHgfy5JuYkWw55BxeyvaxvfjCpS0j/Uby51XpJGVJ5JgaMQzGm1gyVnAtbgiTevXl1eYj6TQwjunbMkk3y6W7/jebrEMucF5zr5oRCRtWO4NqkO6gObOCtMn9mPWaKwGdhjFg7lYWHiuwmyF5ldkX2Wy6DNSHwzgwtTPTglx4I3gi7T/dx4y9Gu6UN1Rw/UXuIq4RBAQBQcAxCAiz4Rhx+H9SIZuNCig/T/bmTx9Nfe0zg2FLztiLet2V62w08vy0mQox3kjm50h/ovo2o49nD5qPTSDo+xtsumGoty5KTXdsVVr06fFciPJi2ah2hI4aid9fTzHvSBkXNfJNypDMF8lKm0dKaDcmt2hFsPt4pq75jR+KsJc/bxCMlI01J54b8cOYGuDP623H0CX478zceJ1zFRJ6+0XyirdyQmjNKw2bfb/WUjTYagMHDViNp8n5cR7LB/flrSb+ePh9ypT48+zKLCffKFFd32zYS+zLuRvyfWXWT7lfWQalJ8I5+pmSWQNdeDNkIi7zDvOXg1qyhdloIBbikCAgCDgzAWE2nDl6L6BdkixguU7Ojvkkv+XGlJadCe4/j+HfXiI2Q6JIXuK8sXZtRmyaA+RvH0rCpI706+1Dq+C59Ak/yqr0Eoofu86KxXgL1fFFpM7w5fNB3Rgy9hNC42+w8lolWfaF2AxI5gvc2j2XlKHd+LhpC97uOIT3vt5P9CU96fIQRf2HeW37ZRdRnQwn7bMgRrfzpFPbGbiP3s2cvfe5Vi1XErFiNRmo0BWjUeeRmy9XItWhM5iotDylf7XtyzbBUoK14CRFB+ezdubbjHozGO/2n9Nz4hYWH7rPVa3lMXMlr+NTbSyjXJWPVl1MSXklZRZ5Yboa01HXdO1O8VkKfpxM0uR2hPi+jkvILLy+uUDY6Uru6Rtxe7XXim9BQBAQBJyMgDAbThawf4zc26iPLiR1WFemterCuwP/yui4G6zKkscanrLZzNh06VT+HM6xGD8mDmhLE9e+tBm6jBk7s0iXy33XXa7Hpj7Ab2vGETZAST/vIAImxDB9j4YfVTaK7I6mEsmaTeGpJeya5ct0t5cIfKUzXf2jGbHsCjuyKxp4JWIFVRq3V40ipncnur3sx8vKMHrNP8a3ZzUU2qzY0KEvTOe3Axs4EhdBcvImVu9NJ/VGCZllNqoadVMPxUtapPwj5MkmaJw7g31ccPMYjvcH65mSlMHBXCOaJ9qwVpWhz/mZnP1xHNq8il2HTnPwjp6MypqXNHVY7Ds6qm5v4fzS95gd8CfcOnehdWgk/VZn8f11C4UVwmw8zkv8JQgIAs5OQJgNZ4/gU/XLT0QT1dV6KgyllJVoKSkoojT3BFc2TyducAfGNe+IX+/JBH+9j6gTaq4WaSgs0aEuLUdTXonBbKMuB1KyYDXkIt1NJWvTGJaMaINLu3b8p2Ik/RfuJv5SKZfz1BSo7lP64Cz3zqxgx4LBvOfRFzfvT+g3dxcrLhq4LL/Jsb9ksCBJOiqzdnJp9QhiBrfh/abN6PjyUBTvxfPZD+mcyy3mgaoYtaoYVXEBxUXXuXv4G1I/7sOk11xp7/oBrccmMmzdr+zOMlIpyXbnDsXX1rMvYiwLArwYPCCUdz5NZMbOe+y5b0FffwVWyYrNZKDKWEqZroSiIhXqrONk7wln17xAxni3oFPn7rgO+ZLQ2IuszdBzz1RbW+MRfFt5HiUXVnMuuh/RY3rz8awvmJZ8ktjzhdy6r0KrVqGS+6AqoqTgJNdSv2DlBC+COremtXIQXrNTmLOvkD1FNspEysYjsGJPEBAEfhcEhNn4XYSxoU7IeQPyyEE+2sJz/HrhJ45u28KO2JX8sOIrwj7qQ3DbfyfwT81p9Zo3LsEzCf1qPeFrNhC/ZS+Z5OHHAAAHb0lEQVQpey+y/ZdcLhdVY6ybiinnI+hAdw3VsW/5cX4QH/Vri4ePEo/3Z/P+vA3MXbqB+PgYNq2cy6qvpzBzzHD8A6bg/1ECs9dd40R2CQUmS90IiL2EVekNNOdWciTqQ+b5dmNAszfp6haK76ho5i1dz8rVySQlJpKUuIqUhHCiPhnM5MA+DOkVyoAxXzE89meWXjTwix6qJXn11csUnYhk08c9CXypBa/8aytavTWHd+MyWZtlRVs7/CLZkMxlmAp+Ie9qGsf3byIpMYGU5fNZMWcYM4cGEjIoiKAPpzEhJpW4Sxoum3k42vLE6ENZJtoTYeyf2ZIZXv+CorsnHUPm0H9WEotjk1ibnEBCYiIJCQmsX/4FMVMCGNGvA2/6B+M+IYbZKec4mK3jtlRb/ryhmIpjgoAgIAg4JwFhNpwzbs+h2opk1WIruUL+yThSI8cxZ1Bv3vF0Q+nRBde2bWj1h3+j5R/+SNN//g+avNyBlh186OreHY+g4fjMSua/Nt5hXZYFtUn+V1seJZENjBmsRioKLnPn4GL2hfVnYv9XcXN14ZVXfXH16oW30huFlwL37v3wUkxi2GebCU+9xe5bBgpMViqlx/MmLDY91vJMSq5vZ/93Uwl724UQ12Z0d+tCJ69eeCp74KNUolQq8FF60dXHH98hM/gwbBsLdt5kT2Y5N7U2SkyyGTJA1S8UHo9gw5970OePTWnyT13pNDCKSVtz2P3Aas+lkAFKNjOWUnlmSxLpa8cRPakn/QMV9FCG4BEwhcBREXy5ZA3r9p/g1O0C7pRL6J/QXhsIsz6PwpNxHJvTnRnKl/Bq2YTmTd/glXY+dPToiaeP3AcflEolvm+0wKtLezz7Dqb/7ASmrrvKzhs6ezVSQyPt195HfAsCgoAg4IwEhNlwxqg9l2Ybkk2LZDhP/uk1pH01ns8Du9PXV4G3QomXp4Ienkr8ff3w8/TGx0OJt5cv3p6eeASPwGN6AiGrb5J0w4i68tHU0Nr5FTZTCVX3j6E5spCN4UMZGRJAN/eedmOgUCjw9AlEGTSJd2dsYPmBHE4Xmsk31axf8sSYADa7kbEgVxItvpzCiej3WTHanbEDPPFS9sBLIT+kfVAolCgUPvgPGs0H81NY8NM9DuWZKa4Ciw2sNtlsGEHKQpeZwpnvxhEREshHIcMZJY/aHCnmXJGFitrXKDYLFv09zL8mkh4/nm9G9aFvQE8UfkPxHLGcD1ZcYNvlfHJLy6m0Wp+6FLzNmI/22nbOfT+Z+AlBTHnbh35KBQqvXngofPGyG42HfejuRq+AIIZMXUTY1qvsyS4n72FuxxOpIM8VaXGSICAICAKOTkCYDUeP0Avrk0chjEiWLHQ557m2cw3bvlnAkpjFRC2KJjo6mmXLlhEbG8vy5ctZumQxS2L+xqKoRUTGJvD1hqMsP5TLqdwKys1P2gNZVDWYCqD4JLfPbGbnmu9YvCiKyIgIoiIjCF/0LVErd5JwOJsLRWa0DTXxZN8kK+gy0F1az9WdMWz5e017C8MjCI+IIEJuOyqKFas2kXwwgwM5JlRyKYy6dh6OvKDFpE2n8NI2LmyJJ237Jn44foW9tyrI01mprs2JkKfFmksx558i91gK+1YtZ/HfYlgYHcfCDWdZfcXIzYqaMZ26WzS2U12KSXWFu+dTubojkZ/il7FqWTRLF8cQFRlJeLisP5IomW9kFItXJLIm9Qwnsssoeq4ZMo3dWBwXBAQBQcDxCQiz4fgxemGF9loP8r/8coJouQaVWoNGo6Hk4Ufe16jVaDTqumP234pVaEpK0ZabMFsambr5UJVkraLaUIqppBCDKo/8gnzUajmZs5T7qnKKdRVUmKzYHjmCp/bH/oLFasBYrqVIVWxvT25T/hQWFth1qnUVaCusGC1gbWBqrGSxIVWbqDYZ0RuMqMuqKDFa7LknVotcf6NWgmxOqrBWV1JdUUaFrobDg0IdhTqT/XWLubGpq7VN1Pu2r41i1lJt0KDXalCra1jLuh/kP6jTX6JRo9bq7Zoq5fDYa3LUiarXotgVBAQBQeD3QUCYjd9HHJ/RC/mh+rC4lfyqwfZoX66YWf8j/1b7u2xWnr3VFM/Cfp21XlsSVptEbTGtZ7dT/wxZr1SvrUca7drk3+p7hvqX1u7L0h8W15LPbfx8+4mPFwCz667nSWrbfK5vm5wM8hjvBvk+Tx+e637iJEFAEBAEHJ+AMBuOHyOhUBAQBAQBQUAQcGoCwmw4dfiEeEFAEBAEBAFBwPEJCLPh+DESCgUBQUAQEAQEAacmIMyGU4dPiBcEBAFBQBAQBByfgDAbjh8joVAQEAQEAUFAEHBqAsJsOHX4hHhBQBAQBAQBQcDxCQiz4fgxEgoFAUFAEBAEBAGnJiDMhlOHT4gXBAQBQUAQEAQcn4AwG44fI6FQEBAEBAFBQBBwagLCbDh1+IR4QUAQEAQEAUHA8QkIs+H4MRIKBQFBQBAQBAQBpyYgzIZTh0+IFwQEAUFAEBAEHJ+AMBuOHyOhUBAQBAQBQUAQcGoC/w0j3Cf2BIDzHQAAAABJRU5ErkJggg==)"
      ]
    },
    {
      "cell_type": "markdown",
      "metadata": {
        "id": "W8XHYXEC2qX6"
      },
      "source": [
        "![image.png](data:image/png;base64,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)"
      ]
    },
    {
      "cell_type": "code",
      "execution_count": 12,
      "metadata": {
        "colab": {
          "base_uri": "https://localhost:8080/"
        },
        "id": "5Up1ShFiKj64",
        "outputId": "2f6e0f5a-7c49-4ff9-86be-306d1cfcb35b"
      },
      "outputs": [
        {
          "name": "stdout",
          "output_type": "stream",
          "text": [
            "efekt:  0.27428763056260635\n",
            "moc testu:  1.0\n"
          ]
        },
        {
          "name": "stderr",
          "output_type": "stream",
          "text": [
            "C:\\Users\\j.mazur\\AppData\\Local\\Temp\\ipykernel_33844\\3276200456.py:3: FutureWarning: Series.__getitem__ treating keys as positions is deprecated. In a future version, integer keys will always be treated as labels (consistent with DataFrame behavior). To access a value by position, use `ser.iloc[pos]`\n",
            "  eta_kw = anova_table['sum_sq'][0]/(anova_table['sum_sq'][0]+anova_table['sum_sq'][1])\n"
          ]
        }
      ],
      "source": [
        "# wielkość efektu wyznaczona na podstawie wartości z tabeli ANOVA\n",
        "\n",
        "eta_kw = anova_table['sum_sq'][0]/(anova_table['sum_sq'][0]+anova_table['sum_sq'][1])\n",
        "print('efekt: ', eta_kw)\n",
        "\n",
        "power = FTestAnovaPower().power(effect_size = eta_kw, nobs = 6000, alpha=0.05, k_groups=6)\n",
        "print('moc testu: ', power)"
      ]
    },
    {
      "cell_type": "markdown",
      "metadata": {
        "id": "EPX7y7-6Aiaj"
      },
      "source": [
        "Drugą wielkością siły efektu dla jednoczynnikowej ANOVY jest współczynnik f^2 D Cohena. Wielkość ta jest zależna od wartości η^2. W Pythonie możemy wykorzystać gotową funckję, która umożliwia nam wyznaczenie tej wielkości:\n",
        "\n",
        "**effectsize_oneway**\n",
        "\n",
        "https://www.statsmodels.org/dev/generated/statsmodels.stats.oneway.effectsize_oneway.html#statsmodels.stats.oneway.effectsize_oneway\n",
        "\n",
        "na podstawie siły efektu wyliczyć można również moc:\n",
        "\n",
        "**FTestAnovaPower().power()**\n",
        "\n",
        "https://www.statsmodels.org/dev/generated/statsmodels.stats.power.FTestAnovaPower.power.html#statsmodels.stats.power.FTestAnovaPower.power\n"
      ]
    },
    {
      "cell_type": "markdown",
      "metadata": {
        "id": "sQBSXoYH2lOn"
      },
      "source": [
        "![image.png](data:image/png;base64,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)"
      ]
    },
    {
      "cell_type": "code",
      "execution_count": 13,
      "metadata": {
        "id": "HIZbzA3_KK7Q"
      },
      "outputs": [],
      "source": [
        "# Przygotowanie danych do wyznaczenia siły efektu f^2\n",
        "\n",
        "# liczba próbek\n",
        "k = [len(mat)] * 6\n",
        "\n",
        "# średnie\n",
        "m1 = np.mean(mat)\n",
        "m2 = np.mean(ang)\n",
        "m3 = np.mean(fiz)\n",
        "m4 = np.mean(geo)\n",
        "m5 = np.mean(bio)\n",
        "m6 = np.mean(chem)\n",
        "\n",
        "# odchylenie standardowe\n",
        "v1 = np.var(mat)\n",
        "v2 = np.var(ang)\n",
        "v3 = np.var(fiz)\n",
        "v4 = np.var(geo)\n",
        "v5 = np.var(bio)\n",
        "v6 = np.var(chem)\n",
        "\n",
        "assumption = pd.DataFrame({'means':[m1, m2, m3, m4, m5, m6], 'variances': [v1, v2, v3, v4, v5, v6], 'n': k})\n"
      ]
    },
    {
      "cell_type": "code",
      "execution_count": 14,
      "metadata": {
        "colab": {
          "base_uri": "https://localhost:8080/"
        },
        "id": "_SE6XsCkccjk",
        "outputId": "8fe15d8a-366d-4194-dd25-b26f58e781f7"
      },
      "outputs": [
        {
          "name": "stdout",
          "output_type": "stream",
          "text": [
            "wielkość efektu:  0.37795639445336693\n",
            "moc testu:  1.0\n"
          ]
        }
      ],
      "source": [
        "# wyznaczenie wielkości efektu f^2\n",
        "\n",
        "effect = effectsize_oneway(means = assumption.means,\n",
        "                  vars_ = assumption.variances,\n",
        "                  nobs = assumption.n,\n",
        "                  use_var = 'equal')        #  use_var = 'equal' dla ANOVY i 'unequal' dla testu Welcha\n",
        "\n",
        "print('wielkość efektu: ',effect)\n",
        "\n",
        "# moc testu\n",
        "\n",
        "power = FTestAnovaPower().power(effect_size = effect**(1/2), nobs = 6000, alpha=0.05, k_groups=6)\n",
        "print('moc testu: ', power)"
      ]
    },
    {
      "cell_type": "code",
      "execution_count": 15,
      "metadata": {
        "colab": {
          "base_uri": "https://localhost:8080/"
        },
        "id": "az2AZrt8-QAw",
        "outputId": "827d29f3-2ccd-412a-fb5e-709729c75751"
      },
      "outputs": [
        {
          "data": {
            "text/plain": [
              "0.3779563944531454"
            ]
          },
          "execution_count": 15,
          "metadata": {},
          "output_type": "execute_result"
        }
      ],
      "source": [
        "# Sprawdzenie analityczne\n",
        "f_kw = eta_kw/(1-eta_kw)\n",
        "f_kw"
      ]
    },
    {
      "cell_type": "markdown",
      "metadata": {
        "id": "0vyVI980_P_7"
      },
      "source": [
        "Siła efektu f^2 wyznaczona analitycznie nie różni się od siły efektu wyznaczonej przy pomocy funkcji."
      ]
    },
    {
      "cell_type": "markdown",
      "metadata": {
        "id": "ptrp9ZgDMsBy"
      },
      "source": [
        "**Proszę określić czy siła efektu dla testu ANOVA jest mała, przeciętna czy duża ? Jaka jest moc ?**"
      ]
    },
    {
      "cell_type": "markdown",
      "metadata": {
        "id": "aG_IwhSZ9X-E"
      },
      "source": [
        "**ODP:**"
      ]
    },
    {
      "cell_type": "markdown",
      "metadata": {
        "id": "5qoKpn7xTYwS"
      },
      "source": [
        "## **WELCH**\n",
        "\n",
        "Proszę uzupełnić hipotezy i przeprowadzić analizę."
      ]
    },
    {
      "cell_type": "markdown",
      "metadata": {
        "id": "JJThV4bCHE4r"
      },
      "source": [
        "**H0:**\n",
        "\n",
        "**H1:**"
      ]
    },
    {
      "cell_type": "code",
      "execution_count": 16,
      "metadata": {
        "colab": {
          "base_uri": "https://localhost:8080/",
          "height": 81
        },
        "id": "QUllbfsXQj1Z",
        "outputId": "87a367e8-1864-4083-88c8-551f309a2bf0"
      },
      "outputs": [
        {
          "data": {
            "text/html": [
              "<div>\n",
              "<style scoped>\n",
              "    .dataframe tbody tr th:only-of-type {\n",
              "        vertical-align: middle;\n",
              "    }\n",
              "\n",
              "    .dataframe tbody tr th {\n",
              "        vertical-align: top;\n",
              "    }\n",
              "\n",
              "    .dataframe thead th {\n",
              "        text-align: right;\n",
              "    }\n",
              "</style>\n",
              "<table border=\"1\" class=\"dataframe\">\n",
              "  <thead>\n",
              "    <tr style=\"text-align: right;\">\n",
              "      <th></th>\n",
              "      <th>Source</th>\n",
              "      <th>ddof1</th>\n",
              "      <th>ddof2</th>\n",
              "      <th>F</th>\n",
              "      <th>p-unc</th>\n",
              "      <th>np2</th>\n",
              "    </tr>\n",
              "  </thead>\n",
              "  <tbody>\n",
              "    <tr>\n",
              "      <th>0</th>\n",
              "      <td>group</td>\n",
              "      <td>5</td>\n",
              "      <td>2796.110971</td>\n",
              "      <td>500.064261</td>\n",
              "      <td>0.0</td>\n",
              "      <td>0.274288</td>\n",
              "    </tr>\n",
              "  </tbody>\n",
              "</table>\n",
              "</div>"
            ],
            "text/plain": [
              "  Source  ddof1        ddof2           F  p-unc       np2\n",
              "0  group      5  2796.110971  500.064261    0.0  0.274288"
            ]
          },
          "execution_count": 16,
          "metadata": {},
          "output_type": "execute_result"
        }
      ],
      "source": [
        "pg.welch_anova(dv='score', between='group', data=df1)"
      ]
    },
    {
      "cell_type": "markdown",
      "metadata": {
        "id": "jGullVdVHC-H"
      },
      "source": [
        "**ODP:**"
      ]
    },
    {
      "cell_type": "markdown",
      "metadata": {
        "id": "8yTVNZ-4FufT"
      },
      "source": [
        "**Test POST-HOC**"
      ]
    },
    {
      "cell_type": "code",
      "execution_count": 17,
      "metadata": {
        "colab": {
          "base_uri": "https://localhost:8080/",
          "height": 519
        },
        "id": "dCSOMSt3FwlX",
        "outputId": "8dda1843-ad51-4e1c-a204-0aa3a195b0c6"
      },
      "outputs": [
        {
          "data": {
            "text/html": [
              "<div>\n",
              "<style scoped>\n",
              "    .dataframe tbody tr th:only-of-type {\n",
              "        vertical-align: middle;\n",
              "    }\n",
              "\n",
              "    .dataframe tbody tr th {\n",
              "        vertical-align: top;\n",
              "    }\n",
              "\n",
              "    .dataframe thead th {\n",
              "        text-align: right;\n",
              "    }\n",
              "</style>\n",
              "<table border=\"1\" class=\"dataframe\">\n",
              "  <thead>\n",
              "    <tr style=\"text-align: right;\">\n",
              "      <th></th>\n",
              "      <th>A</th>\n",
              "      <th>B</th>\n",
              "      <th>mean(A)</th>\n",
              "      <th>mean(B)</th>\n",
              "      <th>diff</th>\n",
              "      <th>se</th>\n",
              "      <th>T</th>\n",
              "      <th>df</th>\n",
              "      <th>pval</th>\n",
              "      <th>hedges</th>\n",
              "    </tr>\n",
              "  </thead>\n",
              "  <tbody>\n",
              "    <tr>\n",
              "      <th>0</th>\n",
              "      <td>Angielski</td>\n",
              "      <td>Biologia</td>\n",
              "      <td>3.991928</td>\n",
              "      <td>3.929225</td>\n",
              "      <td>0.062703</td>\n",
              "      <td>0.004314</td>\n",
              "      <td>14.534669</td>\n",
              "      <td>1997.723206</td>\n",
              "      <td>0.000000e+00</td>\n",
              "      <td>0.649766</td>\n",
              "    </tr>\n",
              "    <tr>\n",
              "      <th>1</th>\n",
              "      <td>Angielski</td>\n",
              "      <td>Chemia</td>\n",
              "      <td>3.991928</td>\n",
              "      <td>3.966483</td>\n",
              "      <td>0.025445</td>\n",
              "      <td>0.004307</td>\n",
              "      <td>5.907208</td>\n",
              "      <td>1997.846961</td>\n",
              "      <td>6.106562e-08</td>\n",
              "      <td>0.264079</td>\n",
              "    </tr>\n",
              "    <tr>\n",
              "      <th>2</th>\n",
              "      <td>Angielski</td>\n",
              "      <td>Fizyka</td>\n",
              "      <td>3.991928</td>\n",
              "      <td>3.948728</td>\n",
              "      <td>0.043200</td>\n",
              "      <td>0.004288</td>\n",
              "      <td>10.074163</td>\n",
              "      <td>1997.999937</td>\n",
              "      <td>7.623902e-13</td>\n",
              "      <td>0.450361</td>\n",
              "    </tr>\n",
              "    <tr>\n",
              "      <th>3</th>\n",
              "      <td>Angielski</td>\n",
              "      <td>Geografia</td>\n",
              "      <td>3.991928</td>\n",
              "      <td>4.091381</td>\n",
              "      <td>-0.099454</td>\n",
              "      <td>0.004103</td>\n",
              "      <td>-24.237510</td>\n",
              "      <td>1981.110093</td>\n",
              "      <td>5.604406e-13</td>\n",
              "      <td>-1.083527</td>\n",
              "    </tr>\n",
              "    <tr>\n",
              "      <th>4</th>\n",
              "      <td>Angielski</td>\n",
              "      <td>Matematyka</td>\n",
              "      <td>3.991928</td>\n",
              "      <td>3.909841</td>\n",
              "      <td>0.082087</td>\n",
              "      <td>0.004446</td>\n",
              "      <td>18.461414</td>\n",
              "      <td>1988.326434</td>\n",
              "      <td>7.120970e-13</td>\n",
              "      <td>0.825310</td>\n",
              "    </tr>\n",
              "    <tr>\n",
              "      <th>5</th>\n",
              "      <td>Biologia</td>\n",
              "      <td>Chemia</td>\n",
              "      <td>3.929225</td>\n",
              "      <td>3.966483</td>\n",
              "      <td>-0.037258</td>\n",
              "      <td>0.004333</td>\n",
              "      <td>-8.599028</td>\n",
              "      <td>1997.981790</td>\n",
              "      <td>1.014411e-12</td>\n",
              "      <td>-0.384416</td>\n",
              "    </tr>\n",
              "    <tr>\n",
              "      <th>6</th>\n",
              "      <td>Biologia</td>\n",
              "      <td>Fizyka</td>\n",
              "      <td>3.929225</td>\n",
              "      <td>3.948728</td>\n",
              "      <td>-0.019503</td>\n",
              "      <td>0.004314</td>\n",
              "      <td>-4.521262</td>\n",
              "      <td>1997.714769</td>\n",
              "      <td>9.502565e-05</td>\n",
              "      <td>-0.202121</td>\n",
              "    </tr>\n",
              "    <tr>\n",
              "      <th>7</th>\n",
              "      <td>Biologia</td>\n",
              "      <td>Geografia</td>\n",
              "      <td>3.929225</td>\n",
              "      <td>4.091381</td>\n",
              "      <td>-0.162156</td>\n",
              "      <td>0.004130</td>\n",
              "      <td>-39.263982</td>\n",
              "      <td>1976.624360</td>\n",
              "      <td>0.000000e+00</td>\n",
              "      <td>-1.755279</td>\n",
              "    </tr>\n",
              "    <tr>\n",
              "      <th>8</th>\n",
              "      <td>Biologia</td>\n",
              "      <td>Matematyka</td>\n",
              "      <td>3.929225</td>\n",
              "      <td>3.909841</td>\n",
              "      <td>0.019384</td>\n",
              "      <td>0.004471</td>\n",
              "      <td>4.335614</td>\n",
              "      <td>1991.294918</td>\n",
              "      <td>2.208016e-04</td>\n",
              "      <td>0.193822</td>\n",
              "    </tr>\n",
              "    <tr>\n",
              "      <th>9</th>\n",
              "      <td>Chemia</td>\n",
              "      <td>Fizyka</td>\n",
              "      <td>3.966483</td>\n",
              "      <td>3.948728</td>\n",
              "      <td>0.017755</td>\n",
              "      <td>0.004307</td>\n",
              "      <td>4.122242</td>\n",
              "      <td>1997.840670</td>\n",
              "      <td>5.572286e-04</td>\n",
              "      <td>0.184283</td>\n",
              "    </tr>\n",
              "    <tr>\n",
              "      <th>10</th>\n",
              "      <td>Chemia</td>\n",
              "      <td>Geografia</td>\n",
              "      <td>3.966483</td>\n",
              "      <td>4.091381</td>\n",
              "      <td>-0.124898</td>\n",
              "      <td>0.004123</td>\n",
              "      <td>-30.292878</td>\n",
              "      <td>1977.822576</td>\n",
              "      <td>6.452616e-13</td>\n",
              "      <td>-1.354230</td>\n",
              "    </tr>\n",
              "    <tr>\n",
              "      <th>11</th>\n",
              "      <td>Chemia</td>\n",
              "      <td>Matematyka</td>\n",
              "      <td>3.966483</td>\n",
              "      <td>3.909841</td>\n",
              "      <td>0.056642</td>\n",
              "      <td>0.004465</td>\n",
              "      <td>12.686851</td>\n",
              "      <td>1990.584329</td>\n",
              "      <td>0.000000e+00</td>\n",
              "      <td>0.567160</td>\n",
              "    </tr>\n",
              "    <tr>\n",
              "      <th>12</th>\n",
              "      <td>Fizyka</td>\n",
              "      <td>Geografia</td>\n",
              "      <td>3.948728</td>\n",
              "      <td>4.091381</td>\n",
              "      <td>-0.142653</td>\n",
              "      <td>0.004103</td>\n",
              "      <td>-34.768942</td>\n",
              "      <td>1981.174088</td>\n",
              "      <td>2.482459e-13</td>\n",
              "      <td>-1.554331</td>\n",
              "    </tr>\n",
              "    <tr>\n",
              "      <th>13</th>\n",
              "      <td>Fizyka</td>\n",
              "      <td>Matematyka</td>\n",
              "      <td>3.948728</td>\n",
              "      <td>3.909841</td>\n",
              "      <td>0.038888</td>\n",
              "      <td>0.004446</td>\n",
              "      <td>8.746531</td>\n",
              "      <td>1988.277453</td>\n",
              "      <td>0.000000e+00</td>\n",
              "      <td>0.391010</td>\n",
              "    </tr>\n",
              "    <tr>\n",
              "      <th>14</th>\n",
              "      <td>Geografia</td>\n",
              "      <td>Matematyka</td>\n",
              "      <td>4.091381</td>\n",
              "      <td>3.909841</td>\n",
              "      <td>0.181541</td>\n",
              "      <td>0.004268</td>\n",
              "      <td>42.535091</td>\n",
              "      <td>1947.489551</td>\n",
              "      <td>1.719735e-13</td>\n",
              "      <td>1.901513</td>\n",
              "    </tr>\n",
              "  </tbody>\n",
              "</table>\n",
              "</div>"
            ],
            "text/plain": [
              "            A           B   mean(A)   mean(B)      diff        se          T  \\\n",
              "0   Angielski    Biologia  3.991928  3.929225  0.062703  0.004314  14.534669   \n",
              "1   Angielski      Chemia  3.991928  3.966483  0.025445  0.004307   5.907208   \n",
              "2   Angielski      Fizyka  3.991928  3.948728  0.043200  0.004288  10.074163   \n",
              "3   Angielski   Geografia  3.991928  4.091381 -0.099454  0.004103 -24.237510   \n",
              "4   Angielski  Matematyka  3.991928  3.909841  0.082087  0.004446  18.461414   \n",
              "5    Biologia      Chemia  3.929225  3.966483 -0.037258  0.004333  -8.599028   \n",
              "6    Biologia      Fizyka  3.929225  3.948728 -0.019503  0.004314  -4.521262   \n",
              "7    Biologia   Geografia  3.929225  4.091381 -0.162156  0.004130 -39.263982   \n",
              "8    Biologia  Matematyka  3.929225  3.909841  0.019384  0.004471   4.335614   \n",
              "9      Chemia      Fizyka  3.966483  3.948728  0.017755  0.004307   4.122242   \n",
              "10     Chemia   Geografia  3.966483  4.091381 -0.124898  0.004123 -30.292878   \n",
              "11     Chemia  Matematyka  3.966483  3.909841  0.056642  0.004465  12.686851   \n",
              "12     Fizyka   Geografia  3.948728  4.091381 -0.142653  0.004103 -34.768942   \n",
              "13     Fizyka  Matematyka  3.948728  3.909841  0.038888  0.004446   8.746531   \n",
              "14  Geografia  Matematyka  4.091381  3.909841  0.181541  0.004268  42.535091   \n",
              "\n",
              "             df          pval    hedges  \n",
              "0   1997.723206  0.000000e+00  0.649766  \n",
              "1   1997.846961  6.106562e-08  0.264079  \n",
              "2   1997.999937  7.623902e-13  0.450361  \n",
              "3   1981.110093  5.604406e-13 -1.083527  \n",
              "4   1988.326434  7.120970e-13  0.825310  \n",
              "5   1997.981790  1.014411e-12 -0.384416  \n",
              "6   1997.714769  9.502565e-05 -0.202121  \n",
              "7   1976.624360  0.000000e+00 -1.755279  \n",
              "8   1991.294918  2.208016e-04  0.193822  \n",
              "9   1997.840670  5.572286e-04  0.184283  \n",
              "10  1977.822576  6.452616e-13 -1.354230  \n",
              "11  1990.584329  0.000000e+00  0.567160  \n",
              "12  1981.174088  2.482459e-13 -1.554331  \n",
              "13  1988.277453  0.000000e+00  0.391010  \n",
              "14  1947.489551  1.719735e-13  1.901513  "
            ]
          },
          "execution_count": 17,
          "metadata": {},
          "output_type": "execute_result"
        }
      ],
      "source": [
        "pg.pairwise_gameshowell(dv='score', between='group', data=df1)"
      ]
    },
    {
      "cell_type": "markdown",
      "metadata": {
        "id": "tJlDbtw4GZII"
      },
      "source": [
        "**Która średnia istotnie różni sie od pozostałych? Czy jest to tylko jedna srednia czy jest ich wiecej?**"
      ]
    },
    {
      "cell_type": "markdown",
      "metadata": {
        "id": "4RX8SlPHGaEa"
      },
      "source": [
        "**ODP:**"
      ]
    },
    {
      "cell_type": "markdown",
      "metadata": {
        "id": "lwlGgqImJMX6"
      },
      "source": [
        "**Siła efektu**\n",
        "\n",
        "Siłę efektu η^2 możemy odczytać bezpośrednio z wyników zawartych w tabeli."
      ]
    },
    {
      "cell_type": "markdown",
      "metadata": {
        "id": "Z8TUQMYfH42g"
      },
      "source": [
        "![eta.jpg](data:image/jpeg;base64,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)"
      ]
    },
    {
      "cell_type": "markdown",
      "metadata": {
        "id": "aM_HGXeiHX9z"
      },
      "source": [
        "**ODP**: Wartość eta-kwadrat wynosi: ....."
      ]
    },
    {
      "cell_type": "code",
      "execution_count": 18,
      "metadata": {
        "colab": {
          "base_uri": "https://localhost:8080/"
        },
        "id": "rEMtcDzkUhvE",
        "outputId": "2408ef72-903e-40ec-afad-29ccadf3318b"
      },
      "outputs": [
        {
          "name": "stdout",
          "output_type": "stream",
          "text": [
            "wielkość efektu:  0.4175351809727454\n",
            "moc testu:  1.0\n"
          ]
        }
      ],
      "source": [
        "# wyznaczenie wielkości efektu f^2\n",
        "\n",
        "effect = effectsize_oneway(means = assumption.means,\n",
        "                  vars_ = assumption.variances,\n",
        "                  nobs = assumption.n,\n",
        "                  use_var = 'unequal')        #  use_var = 'equal' dla ANOVY i 'unequal' dla testu Welcha\n",
        "\n",
        "print('wielkość efektu: ',effect)\n",
        "\n",
        "# moc testu\n",
        "\n",
        "power = FTestAnovaPower().power(effect_size = effect, nobs = 6000, alpha=0.05, k_groups=6)\n",
        "print('moc testu: ', power)"
      ]
    },
    {
      "cell_type": "markdown",
      "metadata": {
        "id": "8D7wr2htHll4"
      },
      "source": [
        "**UWAGA !**\n",
        "\n",
        "Trzeba pamiętać o tym, że w przypadku testu Welcha wielkość efektu f^2 jest zawyżona (stąd różnica między wartością otrzymaną z funckji a wynikiem obliczeń analitycznych)."
      ]
    },
    {
      "cell_type": "code",
      "execution_count": 19,
      "metadata": {
        "colab": {
          "base_uri": "https://localhost:8080/"
        },
        "id": "lj54cjA9H7zq",
        "outputId": "4fddf74e-de08-41c0-b2e4-d89425051cc9"
      },
      "outputs": [
        {
          "data": {
            "text/plain": [
              "0.3779563944531454"
            ]
          },
          "execution_count": 19,
          "metadata": {},
          "output_type": "execute_result"
        }
      ],
      "source": [
        "# Sprawdzenie analityczne\n",
        "f_kw = eta_kw/(1-eta_kw)\n",
        "f_kw"
      ]
    },
    {
      "cell_type": "markdown",
      "metadata": {
        "id": "SgnFAfk3GvTU"
      },
      "source": [
        "**Proszę określić czy siła efektu dla testu Welcha jest mała, przeciętna czy duża ? Jaka jest moc ?**"
      ]
    },
    {
      "cell_type": "markdown",
      "metadata": {
        "id": "2Y78LHkTJYhD"
      },
      "source": [
        "**ODP:**"
      ]
    },
    {
      "cell_type": "markdown",
      "metadata": {
        "id": "GqXwTXhXN1dQ"
      },
      "source": [
        "**Na podstawie siły efektu proszę skomentować wyniki obu testów. Czy otrzymane wyniki różnią się od siebie?**"
      ]
    },
    {
      "cell_type": "markdown",
      "metadata": {
        "id": "WGfeq6KrQQPQ"
      },
      "source": [
        "**KOMENTARZ:**"
      ]
    },
    {
      "cell_type": "markdown",
      "metadata": {
        "id": "Su5CsqwATHyU"
      },
      "source": [
        "## **ZADANIE**\n",
        "\n",
        "Proszę przekształcić dane tak aby spełniały kryteria normalności rozkładu (normalność należy sprawdzić). Natępnie proszę sprawdzić jednorodność wariancji, przeprowadzić test: ANOVĘ lub Welcha (zgodnie z założeniami), wyznaczyć siłę efektu oraz moc i skomentować wyniki (odnosząc się do wyników przed normalizacją)."
      ]
    },
    {
      "cell_type": "code",
      "execution_count": 31,
      "metadata": {
        "id": "T_CsL6keShZX"
      },
      "outputs": [
        {
          "ename": "NameError",
          "evalue": "name 'l_Area' is not defined",
          "output_type": "error",
          "traceback": [
            "\u001b[1;31m---------------------------------------------------------------------------\u001b[0m",
            "\u001b[1;31mNameError\u001b[0m                                 Traceback (most recent call last)",
            "\u001b[1;32mc:\\Users\\j.mazur\\Documents\\statystyka\\Lab_1_statystyka_wielowymiarowa_zad_2.ipynb Cell 62\u001b[0m line \u001b[0;36m2\n\u001b[0;32m      <a href='vscode-notebook-cell:/c%3A/Users/j.mazur/Documents/statystyka/Lab_1_statystyka_wielowymiarowa_zad_2.ipynb#Y120sZmlsZQ%3D%3D?line=0'>1</a>\u001b[0m \u001b[39m# Rozwiązanie - proszę pamiętać o Hipotezach\u001b[39;00m\n\u001b[1;32m----> <a href='vscode-notebook-cell:/c%3A/Users/j.mazur/Documents/statystyka/Lab_1_statystyka_wielowymiarowa_zad_2.ipynb#Y120sZmlsZQ%3D%3D?line=1'>2</a>\u001b[0m l_Area_t_odw \u001b[39m=\u001b[39m \u001b[39m1\u001b[39m\u001b[39m/\u001b[39ml_Area\n\u001b[0;32m      <a href='vscode-notebook-cell:/c%3A/Users/j.mazur/Documents/statystyka/Lab_1_statystyka_wielowymiarowa_zad_2.ipynb#Y120sZmlsZQ%3D%3D?line=2'>3</a>\u001b[0m \u001b[39mprint\u001b[39m(\u001b[39m'\u001b[39m\u001b[39mTransformacja odwrotna\u001b[39m\u001b[39m'\u001b[39m)\n\u001b[0;32m      <a href='vscode-notebook-cell:/c%3A/Users/j.mazur/Documents/statystyka/Lab_1_statystyka_wielowymiarowa_zad_2.ipynb#Y120sZmlsZQ%3D%3D?line=3'>4</a>\u001b[0m \u001b[39mprint\u001b[39m(stats\u001b[39m.\u001b[39mnormaltest(l_Area_t_odw))\n",
            "\u001b[1;31mNameError\u001b[0m: name 'l_Area' is not defined"
          ]
        }
      ],
      "source": [
        "# Rozwiązanie - proszę pamiętać o Hipotezach\n",
        "l_Area_t_odw = 1/l_Area\n",
        "print('Transformacja odwrotna')\n",
        "print(stats.normaltest(l_Area_t_odw))\n",
        "\n",
        "# Transformacja pierwiastkowa\n",
        "\n",
        "l_Area_t_pierw = np.sqrt(l_Area)\n",
        "print('Transformacja pierwiastkowa')\n",
        "print(stats.normaltest(l_Area_t_pierw))\n",
        "\n",
        "# Transformacja logarytmiczna\n",
        "\n",
        "l_Area_t_log = np.log(l_Area)\n",
        "print('Transformacja logarytmiczna')\n",
        "print(stats.normaltest(l_Area_t_log))\n",
        "\n",
        "# Transformacja wykładnicza\n",
        "\n",
        "# sprawdzamy dla jakiego wykładnika, wartość p jest największa\n",
        "\n",
        "p_val = []\n",
        "lam = []\n",
        "for i in range(1,20):\n",
        "  l_Area_t_wykl = l_Area**i\n",
        "  stat, p = stats.normaltest(l_Area_t_wykl)\n",
        "  p_val.append(p)\n",
        "  lam.append(i)\n",
        "\n",
        "print('Transformacja wykładnicza')\n",
        "max_p = max(p_val)\n",
        "index = p_val.index(max_p) + 1\n",
        "print('wartosc_p',max_p, ' dla wykładnika:', index)\n",
        "\n",
        "# Transformacja Boxa-Coxa\n",
        "\n",
        "l_Area_t_bc,lm = boxcox(l_Area)\n",
        "print('Transformacja Boxa-Coxa')\n",
        "print(stats.normaltest(l_Area_t_bc))\n",
        "\n",
        "# transformacja Yeo-Johnsona\n",
        "\n",
        "l_Area_t_yj,lm = yeojohnson(l_Area)\n",
        "print('Transformacja Yeo-Johnsona')\n",
        "print(stats.normaltest(l_Area_t_yj))\n"
      ]
    },
    {
      "cell_type": "code",
      "execution_count": 28,
      "metadata": {},
      "outputs": [
        {
          "data": {
            "text/html": [
              "<div>\n",
              "<style scoped>\n",
              "    .dataframe tbody tr th:only-of-type {\n",
              "        vertical-align: middle;\n",
              "    }\n",
              "\n",
              "    .dataframe tbody tr th {\n",
              "        vertical-align: top;\n",
              "    }\n",
              "\n",
              "    .dataframe thead th {\n",
              "        text-align: right;\n",
              "    }\n",
              "</style>\n",
              "<table border=\"1\" class=\"dataframe\">\n",
              "  <thead>\n",
              "    <tr style=\"text-align: right;\">\n",
              "      <th></th>\n",
              "      <th>W</th>\n",
              "      <th>pval</th>\n",
              "      <th>normal</th>\n",
              "    </tr>\n",
              "    <tr>\n",
              "      <th>group</th>\n",
              "      <th></th>\n",
              "      <th></th>\n",
              "      <th></th>\n",
              "    </tr>\n",
              "  </thead>\n",
              "  <tbody>\n",
              "    <tr>\n",
              "      <th>age</th>\n",
              "      <td>0.925238</td>\n",
              "      <td>1.245865e-31</td>\n",
              "      <td>False</td>\n",
              "    </tr>\n",
              "    <tr>\n",
              "      <th>1st Flr SF</th>\n",
              "      <td>0.949702</td>\n",
              "      <td>1.061927e-26</td>\n",
              "      <td>False</td>\n",
              "    </tr>\n",
              "    <tr>\n",
              "      <th>Lot Frontage</th>\n",
              "      <td>0.937174</td>\n",
              "      <td>2.059339e-29</td>\n",
              "      <td>False</td>\n",
              "    </tr>\n",
              "    <tr>\n",
              "      <th>Lot Area</th>\n",
              "      <td>0.482896</td>\n",
              "      <td>0.000000e+00</td>\n",
              "      <td>False</td>\n",
              "    </tr>\n",
              "  </tbody>\n",
              "</table>\n",
              "</div>"
            ],
            "text/plain": [
              "                     W          pval  normal\n",
              "group                                       \n",
              "age           0.925238  1.245865e-31   False\n",
              "1st Flr SF    0.949702  1.061927e-26   False\n",
              "Lot Frontage  0.937174  2.059339e-29   False\n",
              "Lot Area      0.482896  0.000000e+00   False"
            ]
          },
          "execution_count": 28,
          "metadata": {},
          "output_type": "execute_result"
        }
      ],
      "source": [
        "\n",
        "# transformacja + sprawdzenie normalności\n",
        "pg.normality(df1, group = 'group', dv = 'score')\n"
      ]
    },
    {
      "cell_type": "code",
      "execution_count": 29,
      "metadata": {},
      "outputs": [
        {
          "data": {
            "text/html": [
              "<div>\n",
              "<style scoped>\n",
              "    .dataframe tbody tr th:only-of-type {\n",
              "        vertical-align: middle;\n",
              "    }\n",
              "\n",
              "    .dataframe tbody tr th {\n",
              "        vertical-align: top;\n",
              "    }\n",
              "\n",
              "    .dataframe thead th {\n",
              "        text-align: right;\n",
              "    }\n",
              "</style>\n",
              "<table border=\"1\" class=\"dataframe\">\n",
              "  <thead>\n",
              "    <tr style=\"text-align: right;\">\n",
              "      <th></th>\n",
              "      <th>T</th>\n",
              "      <th>pval</th>\n",
              "      <th>equal_var</th>\n",
              "    </tr>\n",
              "  </thead>\n",
              "  <tbody>\n",
              "    <tr>\n",
              "      <th>bartlett</th>\n",
              "      <td>48345.411714</td>\n",
              "      <td>0.0</td>\n",
              "      <td>False</td>\n",
              "    </tr>\n",
              "  </tbody>\n",
              "</table>\n",
              "</div>"
            ],
            "text/plain": [
              "                     T  pval  equal_var\n",
              "bartlett  48345.411714   0.0      False"
            ]
          },
          "execution_count": 29,
          "metadata": {},
          "output_type": "execute_result"
        }
      ],
      "source": [
        "\n",
        "# sprawdzenie jednorodności wariancji\n",
        "pg.homoscedasticity(df1, group='group', dv='score', method = 'bartlett')\n"
      ]
    },
    {
      "cell_type": "code",
      "execution_count": 30,
      "metadata": {},
      "outputs": [
        {
          "data": {
            "image/png": "[encoded data removed]",
            "text/plain": [
              "<Figure size 640x480 with 1 Axes>"
            ]
          },
          "metadata": {},
          "output_type": "display_data"
        },
        {
          "name": "stdout",
          "output_type": "stream",
          "text": [
            "Statystyka f: stat=453.094, wartość: p=0.000000\n"
          ]
        },
        {
          "data": {
            "text/html": [
              "<div>\n",
              "<style scoped>\n",
              "    .dataframe tbody tr th:only-of-type {\n",
              "        vertical-align: middle;\n",
              "    }\n",
              "\n",
              "    .dataframe tbody tr th {\n",
              "        vertical-align: top;\n",
              "    }\n",
              "\n",
              "    .dataframe thead th {\n",
              "        text-align: right;\n",
              "    }\n",
              "</style>\n",
              "<table border=\"1\" class=\"dataframe\">\n",
              "  <thead>\n",
              "    <tr style=\"text-align: right;\">\n",
              "      <th></th>\n",
              "      <th>sum_sq</th>\n",
              "      <th>df</th>\n",
              "      <th>F</th>\n",
              "      <th>PR(&gt;F)</th>\n",
              "    </tr>\n",
              "  </thead>\n",
              "  <tbody>\n",
              "    <tr>\n",
              "      <th>C(group)</th>\n",
              "      <td>1.437400e+11</td>\n",
              "      <td>3.0</td>\n",
              "      <td>4507.091074</td>\n",
              "      <td>0.0</td>\n",
              "    </tr>\n",
              "    <tr>\n",
              "      <th>Residual</th>\n",
              "      <td>9.261430e+10</td>\n",
              "      <td>8712.0</td>\n",
              "      <td>NaN</td>\n",
              "      <td>NaN</td>\n",
              "    </tr>\n",
              "  </tbody>\n",
              "</table>\n",
              "</div>"
            ],
            "text/plain": [
              "                sum_sq      df            F  PR(>F)\n",
              "C(group)  1.437400e+11     3.0  4507.091074     0.0\n",
              "Residual  9.261430e+10  8712.0          NaN     NaN"
            ]
          },
          "execution_count": 30,
          "metadata": {},
          "output_type": "execute_result"
        }
      ],
      "source": [
        "\n",
        "# ANOVA lub test Welcha... + test POST-HOC + siła efektu\n",
        "# wykres typu boxplot\n",
        "ax = sns.boxplot(x = 'group', y = 'score', data=df1)\n",
        "plt.show()\n",
        "\n",
        "# Dwa sposoby na przeprowadzenie ANOVY\n",
        "\n",
        "# stats funkcje f_oneway pobierają grupy jako dane wejściowe i zwracają wartość ANOVA F i p\n",
        "\n",
        "fvalue, pvalue = stats.f_oneway(mat, ang, fiz, geo, bio, chem)\n",
        "\n",
        "print('Statystyka f: stat=%.3f, wartość: p=%3f' %(fvalue, pvalue))\n",
        "\n",
        "# Tabela ANOVA\n",
        "# Ordinary Least Squares (OLS) model\n",
        "model = ols('score ~ C(group)', data=df1).fit()\n",
        "anova_table = sm.stats.anova_lm(model, typ=2)\n",
        "anova_table\n",
        "# Komentarz\n",
        "\n"
      ]
    },
    {
      "cell_type": "markdown",
      "metadata": {
        "id": "Z4nPF2rMvOC-"
      },
      "source": [
        "#**Prawidłowa analiza z wykorzystaniem testu Kruskala-Wallisa**\n",
        "\n",
        "Proszę uzupełnić hipotezy i skomentować wyniki."
      ]
    },
    {
      "cell_type": "markdown",
      "metadata": {
        "id": "jEEUCWpwLgxf"
      },
      "source": [
        "**H0:**\n",
        "\n",
        "**H1:**"
      ]
    },
    {
      "cell_type": "code",
      "execution_count": 20,
      "metadata": {
        "colab": {
          "base_uri": "https://localhost:8080/",
          "height": 81
        },
        "id": "I31JCyBqvdtN",
        "outputId": "693f5470-e9a5-4d53-a214-648b20c191e0"
      },
      "outputs": [
        {
          "data": {
            "text/html": [
              "<div>\n",
              "<style scoped>\n",
              "    .dataframe tbody tr th:only-of-type {\n",
              "        vertical-align: middle;\n",
              "    }\n",
              "\n",
              "    .dataframe tbody tr th {\n",
              "        vertical-align: top;\n",
              "    }\n",
              "\n",
              "    .dataframe thead th {\n",
              "        text-align: right;\n",
              "    }\n",
              "</style>\n",
              "<table border=\"1\" class=\"dataframe\">\n",
              "  <thead>\n",
              "    <tr style=\"text-align: right;\">\n",
              "      <th></th>\n",
              "      <th>Source</th>\n",
              "      <th>ddof1</th>\n",
              "      <th>H</th>\n",
              "      <th>p-unc</th>\n",
              "    </tr>\n",
              "  </thead>\n",
              "  <tbody>\n",
              "    <tr>\n",
              "      <th>Kruskal</th>\n",
              "      <td>group</td>\n",
              "      <td>5</td>\n",
              "      <td>1623.353869</td>\n",
              "      <td>0.0</td>\n",
              "    </tr>\n",
              "  </tbody>\n",
              "</table>\n",
              "</div>"
            ],
            "text/plain": [
              "        Source  ddof1            H  p-unc\n",
              "Kruskal  group      5  1623.353869    0.0"
            ]
          },
          "execution_count": 20,
          "metadata": {},
          "output_type": "execute_result"
        }
      ],
      "source": [
        "kruskal(data=df1, dv='score', between='group')"
      ]
    },
    {
      "cell_type": "markdown",
      "metadata": {
        "id": "KUL_dlDAMm4N"
      },
      "source": [
        "**ODP:**"
      ]
    },
    {
      "cell_type": "markdown",
      "metadata": {
        "id": "9eDIOQysM02s"
      },
      "source": [
        "**Test POST-HOC**"
      ]
    },
    {
      "cell_type": "code",
      "execution_count": null,
      "metadata": {
        "colab": {
          "base_uri": "https://localhost:8080/",
          "height": 237
        },
        "id": "eH1cZOF8NAqW",
        "outputId": "cf79f4eb-8894-4471-f42b-008c63d808bb"
      },
      "outputs": [
        {
          "data": {
            "text/html": [
              "\n",
              "  <div id=\"df-c9f67ad2-9320-4b98-b5ef-9b1276c2c5ec\" class=\"colab-df-container\">\n",
              "    <div>\n",
              "<style scoped>\n",
              "    .dataframe tbody tr th:only-of-type {\n",
              "        vertical-align: middle;\n",
              "    }\n",
              "\n",
              "    .dataframe tbody tr th {\n",
              "        vertical-align: top;\n",
              "    }\n",
              "\n",
              "    .dataframe thead th {\n",
              "        text-align: right;\n",
              "    }\n",
              "</style>\n",
              "<table border=\"1\" class=\"dataframe\">\n",
              "  <thead>\n",
              "    <tr style=\"text-align: right;\">\n",
              "      <th></th>\n",
              "      <th>1</th>\n",
              "      <th>2</th>\n",
              "      <th>3</th>\n",
              "      <th>4</th>\n",
              "      <th>5</th>\n",
              "      <th>6</th>\n",
              "    </tr>\n",
              "  </thead>\n",
              "  <tbody>\n",
              "    <tr>\n",
              "      <th>1</th>\n",
              "      <td>1.000000e+00</td>\n",
              "      <td>2.236753e-62</td>\n",
              "      <td>3.180965e-13</td>\n",
              "      <td>6.048289e-274</td>\n",
              "      <td>9.083277e-04</td>\n",
              "      <td>7.215061e-29</td>\n",
              "    </tr>\n",
              "    <tr>\n",
              "      <th>2</th>\n",
              "      <td>2.236753e-62</td>\n",
              "      <td>1.000000e+00</td>\n",
              "      <td>9.400645e-20</td>\n",
              "      <td>1.820018e-76</td>\n",
              "      <td>1.663278e-40</td>\n",
              "      <td>1.777054e-07</td>\n",
              "    </tr>\n",
              "    <tr>\n",
              "      <th>3</th>\n",
              "      <td>3.180965e-13</td>\n",
              "      <td>9.400645e-20</td>\n",
              "      <td>1.000000e+00</td>\n",
              "      <td>1.124016e-170</td>\n",
              "      <td>8.633417e-05</td>\n",
              "      <td>2.537232e-04</td>\n",
              "    </tr>\n",
              "    <tr>\n",
              "      <th>4</th>\n",
              "      <td>6.048289e-274</td>\n",
              "      <td>1.820018e-76</td>\n",
              "      <td>1.124016e-170</td>\n",
              "      <td>1.000000e+00</td>\n",
              "      <td>2.925056e-225</td>\n",
              "      <td>2.482699e-127</td>\n",
              "    </tr>\n",
              "    <tr>\n",
              "      <th>5</th>\n",
              "      <td>9.083277e-04</td>\n",
              "      <td>1.663278e-40</td>\n",
              "      <td>8.633417e-05</td>\n",
              "      <td>2.925056e-225</td>\n",
              "      <td>1.000000e+00</td>\n",
              "      <td>6.586789e-15</td>\n",
              "    </tr>\n",
              "    <tr>\n",
              "      <th>6</th>\n",
              "      <td>7.215061e-29</td>\n",
              "      <td>1.777054e-07</td>\n",
              "      <td>2.537232e-04</td>\n",
              "      <td>2.482699e-127</td>\n",
              "      <td>6.586789e-15</td>\n",
              "      <td>1.000000e+00</td>\n",
              "    </tr>\n",
              "  </tbody>\n",
              "</table>\n",
              "</div>\n",
              "    <div class=\"colab-df-buttons\">\n",
              "\n",
              "  <div class=\"colab-df-container\">\n",
              "    <button class=\"colab-df-convert\" onclick=\"convertToInteractive('df-c9f67ad2-9320-4b98-b5ef-9b1276c2c5ec')\"\n",
              "            title=\"Convert this dataframe to an interactive table.\"\n",
              "            style=\"display:none;\">\n",
              "\n",
              "  <svg xmlns=\"http://www.w3.org/2000/svg\" height=\"24px\" viewBox=\"0 -960 960 960\">\n",
              "    <path d=\"M120-120v-720h720v720H120Zm60-500h600v-160H180v160Zm220 220h160v-160H400v160Zm0 220h160v-160H400v160ZM180-400h160v-160H180v160Zm440 0h160v-160H620v160ZM180-180h160v-160H180v160Zm440 0h160v-160H620v160Z\"/>\n",
              "  </svg>\n",
              "    </button>\n",
              "\n",
              "  <style>\n",
              "    .colab-df-container {\n",
              "      display:flex;\n",
              "      gap: 12px;\n",
              "    }\n",
              "\n",
              "    .colab-df-convert {\n",
              "      background-color: #E8F0FE;\n",
              "      border: none;\n",
              "      border-radius: 50%;\n",
              "      cursor: pointer;\n",
              "      display: none;\n",
              "      fill: #1967D2;\n",
              "      height: 32px;\n",
              "      padding: 0 0 0 0;\n",
              "      width: 32px;\n",
              "    }\n",
              "\n",
              "    .colab-df-convert:hover {\n",
              "      background-color: #E2EBFA;\n",
              "      box-shadow: 0px 1px 2px rgba(60, 64, 67, 0.3), 0px 1px 3px 1px rgba(60, 64, 67, 0.15);\n",
              "      fill: #174EA6;\n",
              "    }\n",
              "\n",
              "    .colab-df-buttons div {\n",
              "      margin-bottom: 4px;\n",
              "    }\n",
              "\n",
              "    [theme=dark] .colab-df-convert {\n",
              "      background-color: #3B4455;\n",
              "      fill: #D2E3FC;\n",
              "    }\n",
              "\n",
              "    [theme=dark] .colab-df-convert:hover {\n",
              "      background-color: #434B5C;\n",
              "      box-shadow: 0px 1px 3px 1px rgba(0, 0, 0, 0.15);\n",
              "      filter: drop-shadow(0px 1px 2px rgba(0, 0, 0, 0.3));\n",
              "      fill: #FFFFFF;\n",
              "    }\n",
              "  </style>\n",
              "\n",
              "    <script>\n",
              "      const buttonEl =\n",
              "        document.querySelector('#df-c9f67ad2-9320-4b98-b5ef-9b1276c2c5ec button.colab-df-convert');\n",
              "      buttonEl.style.display =\n",
              "        google.colab.kernel.accessAllowed ? 'block' : 'none';\n",
              "\n",
              "      async function convertToInteractive(key) {\n",
              "        const element = document.querySelector('#df-c9f67ad2-9320-4b98-b5ef-9b1276c2c5ec');\n",
              "        const dataTable =\n",
              "          await google.colab.kernel.invokeFunction('convertToInteractive',\n",
              "                                                    [key], {});\n",
              "        if (!dataTable) return;\n",
              "\n",
              "        const docLinkHtml = 'Like what you see? Visit the ' +\n",
              "          '<a target=\"_blank\" href=https://colab.research.google.com/notebooks/data_table.ipynb>data table notebook</a>'\n",
              "          + ' to learn more about interactive tables.';\n",
              "        element.innerHTML = '';\n",
              "        dataTable['output_type'] = 'display_data';\n",
              "        await google.colab.output.renderOutput(dataTable, element);\n",
              "        const docLink = document.createElement('div');\n",
              "        docLink.innerHTML = docLinkHtml;\n",
              "        element.appendChild(docLink);\n",
              "      }\n",
              "    </script>\n",
              "  </div>\n",
              "\n",
              "\n",
              "<div id=\"df-a07e7a5d-6cf2-4723-a8eb-47b5e793a8f7\">\n",
              "  <button class=\"colab-df-quickchart\" onclick=\"quickchart('df-a07e7a5d-6cf2-4723-a8eb-47b5e793a8f7')\"\n",
              "            title=\"Suggest charts.\"\n",
              "            style=\"display:none;\">\n",
              "\n",
              "<svg xmlns=\"http://www.w3.org/2000/svg\" height=\"24px\"viewBox=\"0 0 24 24\"\n",
              "     width=\"24px\">\n",
              "    <g>\n",
              "        <path d=\"M19 3H5c-1.1 0-2 .9-2 2v14c0 1.1.9 2 2 2h14c1.1 0 2-.9 2-2V5c0-1.1-.9-2-2-2zM9 17H7v-7h2v7zm4 0h-2V7h2v10zm4 0h-2v-4h2v4z\"/>\n",
              "    </g>\n",
              "</svg>\n",
              "  </button>\n",
              "\n",
              "<style>\n",
              "  .colab-df-quickchart {\n",
              "      --bg-color: #E8F0FE;\n",
              "      --fill-color: #1967D2;\n",
              "      --hover-bg-color: #E2EBFA;\n",
              "      --hover-fill-color: #174EA6;\n",
              "      --disabled-fill-color: #AAA;\n",
              "      --disabled-bg-color: #DDD;\n",
              "  }\n",
              "\n",
              "  [theme=dark] .colab-df-quickchart {\n",
              "      --bg-color: #3B4455;\n",
              "      --fill-color: #D2E3FC;\n",
              "      --hover-bg-color: #434B5C;\n",
              "      --hover-fill-color: #FFFFFF;\n",
              "      --disabled-bg-color: #3B4455;\n",
              "      --disabled-fill-color: #666;\n",
              "  }\n",
              "\n",
              "  .colab-df-quickchart {\n",
              "    background-color: var(--bg-color);\n",
              "    border: none;\n",
              "    border-radius: 50%;\n",
              "    cursor: pointer;\n",
              "    display: none;\n",
              "    fill: var(--fill-color);\n",
              "    height: 32px;\n",
              "    padding: 0;\n",
              "    width: 32px;\n",
              "  }\n",
              "\n",
              "  .colab-df-quickchart:hover {\n",
              "    background-color: var(--hover-bg-color);\n",
              "    box-shadow: 0 1px 2px rgba(60, 64, 67, 0.3), 0 1px 3px 1px rgba(60, 64, 67, 0.15);\n",
              "    fill: var(--button-hover-fill-color);\n",
              "  }\n",
              "\n",
              "  .colab-df-quickchart-complete:disabled,\n",
              "  .colab-df-quickchart-complete:disabled:hover {\n",
              "    background-color: var(--disabled-bg-color);\n",
              "    fill: var(--disabled-fill-color);\n",
              "    box-shadow: none;\n",
              "  }\n",
              "\n",
              "  .colab-df-spinner {\n",
              "    border: 2px solid var(--fill-color);\n",
              "    border-color: transparent;\n",
              "    border-bottom-color: var(--fill-color);\n",
              "    animation:\n",
              "      spin 1s steps(1) infinite;\n",
              "  }\n",
              "\n",
              "  @keyframes spin {\n",
              "    0% {\n",
              "      border-color: transparent;\n",
              "      border-bottom-color: var(--fill-color);\n",
              "      border-left-color: var(--fill-color);\n",
              "    }\n",
              "    20% {\n",
              "      border-color: transparent;\n",
              "      border-left-color: var(--fill-color);\n",
              "      border-top-color: var(--fill-color);\n",
              "    }\n",
              "    30% {\n",
              "      border-color: transparent;\n",
              "      border-left-color: var(--fill-color);\n",
              "      border-top-color: var(--fill-color);\n",
              "      border-right-color: var(--fill-color);\n",
              "    }\n",
              "    40% {\n",
              "      border-color: transparent;\n",
              "      border-right-color: var(--fill-color);\n",
              "      border-top-color: var(--fill-color);\n",
              "    }\n",
              "    60% {\n",
              "      border-color: transparent;\n",
              "      border-right-color: var(--fill-color);\n",
              "    }\n",
              "    80% {\n",
              "      border-color: transparent;\n",
              "      border-right-color: var(--fill-color);\n",
              "      border-bottom-color: var(--fill-color);\n",
              "    }\n",
              "    90% {\n",
              "      border-color: transparent;\n",
              "      border-bottom-color: var(--fill-color);\n",
              "    }\n",
              "  }\n",
              "</style>\n",
              "\n",
              "  <script>\n",
              "    async function quickchart(key) {\n",
              "      const quickchartButtonEl =\n",
              "        document.querySelector('#' + key + ' button');\n",
              "      quickchartButtonEl.disabled = true;  // To prevent multiple clicks.\n",
              "      quickchartButtonEl.classList.add('colab-df-spinner');\n",
              "      try {\n",
              "        const charts = await google.colab.kernel.invokeFunction(\n",
              "            'suggestCharts', [key], {});\n",
              "      } catch (error) {\n",
              "        console.error('Error during call to suggestCharts:', error);\n",
              "      }\n",
              "      quickchartButtonEl.classList.remove('colab-df-spinner');\n",
              "      quickchartButtonEl.classList.add('colab-df-quickchart-complete');\n",
              "    }\n",
              "    (() => {\n",
              "      let quickchartButtonEl =\n",
              "        document.querySelector('#df-a07e7a5d-6cf2-4723-a8eb-47b5e793a8f7 button');\n",
              "      quickchartButtonEl.style.display =\n",
              "        google.colab.kernel.accessAllowed ? 'block' : 'none';\n",
              "    })();\n",
              "  </script>\n",
              "</div>\n",
              "    </div>\n",
              "  </div>\n"
            ],
            "text/plain": [
              "               1             2              3              4              5  \\\n",
              "1   1.000000e+00  2.236753e-62   3.180965e-13  6.048289e-274   9.083277e-04   \n",
              "2   2.236753e-62  1.000000e+00   9.400645e-20   1.820018e-76   1.663278e-40   \n",
              "3   3.180965e-13  9.400645e-20   1.000000e+00  1.124016e-170   8.633417e-05   \n",
              "4  6.048289e-274  1.820018e-76  1.124016e-170   1.000000e+00  2.925056e-225   \n",
              "5   9.083277e-04  1.663278e-40   8.633417e-05  2.925056e-225   1.000000e+00   \n",
              "6   7.215061e-29  1.777054e-07   2.537232e-04  2.482699e-127   6.586789e-15   \n",
              "\n",
              "               6  \n",
              "1   7.215061e-29  \n",
              "2   1.777054e-07  \n",
              "3   2.537232e-04  \n",
              "4  2.482699e-127  \n",
              "5   6.586789e-15  \n",
              "6   1.000000e+00  "
            ]
          },
          "execution_count": 24,
          "metadata": {},
          "output_type": "execute_result"
        }
      ],
      "source": [
        "x = [mat, ang, fiz, geo, bio, chem]\n",
        "sp.posthoc_dunn(x, p_adjust = 'holm')"
      ]
    },
    {
      "cell_type": "markdown",
      "metadata": {
        "id": "MWPIIzBrOK8X"
      },
      "source": [
        "**Która średnia istotnie różni sie od pozostałych? Czy jest to tylko jedna srednia czy jest ich wiecej?**"
      ]
    },
    {
      "cell_type": "markdown",
      "metadata": {
        "id": "RjbEr4J_OP82"
      },
      "source": [
        "**ODP:**"
      ]
    },
    {
      "cell_type": "markdown",
      "metadata": {
        "id": "qg0GEKTwATzp"
      },
      "source": [
        "**Siła efektu:**\n",
        "\n",
        "Siłę efektu η^2 możemy obliczyć ze wzoru:"
      ]
    },
    {
      "cell_type": "markdown",
      "metadata": {
        "id": "j5H59vV-AQxA"
      },
      "source": [
        "![image.png](data:image/png;base64,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)"
      ]
    },
    {
      "cell_type": "markdown",
      "metadata": {
        "id": "C86CV9PWOaF9"
      },
      "source": [
        "H - statystyka Kruskalla-Wallisa\n",
        "\n",
        "n - liczba próbek"
      ]
    },
    {
      "cell_type": "code",
      "execution_count": null,
      "metadata": {
        "colab": {
          "base_uri": "https://localhost:8080/"
        },
        "id": "LCapzY9y-zgb",
        "outputId": "9125a6f4-17ff-4fce-be7b-7ed62feb9db9"
      },
      "outputs": [
        {
          "data": {
            "text/plain": [
              "0.2706040788464744"
            ]
          },
          "execution_count": 25,
          "metadata": {},
          "output_type": "execute_result"
        }
      ],
      "source": [
        "eta_kw =1623.353869/(6000 - 1)\n",
        "eta_kw"
      ]
    },
    {
      "cell_type": "markdown",
      "metadata": {
        "id": "tEQLZWTEOp4U"
      },
      "source": [
        "**Proszę określić czy siła efektu dla testu Kruskala-Wallisa jest mała, przeciętna czy duża ?**"
      ]
    },
    {
      "cell_type": "markdown",
      "metadata": {
        "id": "ghL16PMtL-y6"
      },
      "source": [
        "**ODP:**"
      ]
    },
    {
      "cell_type": "markdown",
      "metadata": {
        "id": "p-ksKjCHQxKy"
      },
      "source": [
        "**Czy w przypadku dużej ilości prób założenie o normalności rozkładów musi być spełnione? Na co należy zwrócić szczególną uwagę podczas takiej analizy? Czy wyniki testów POST-HOC są takie same w każdym przypadku ?**"
      ]
    },
    {
      "cell_type": "markdown",
      "metadata": {
        "id": "Z_mwl5fpQwOA"
      },
      "source": [
        "**KOMENTARZ:**"
      ]
    }
  ],
  "metadata": {
    "colab": {
      "provenance": []
    },
    "kernelspec": {
      "display_name": "Python 3",
      "name": "python3"
    },
    "language_info": {
      "codemirror_mode": {
        "name": "ipython",
        "version": 3
      },
      "file_extension": ".py",
      "mimetype": "text/x-python",
      "name": "python",
      "nbconvert_exporter": "python",
      "pygments_lexer": "ipython3",
      "version": "3.11.5"
    }
  },
  "nbformat": 4,
  "nbformat_minor": 0
}
